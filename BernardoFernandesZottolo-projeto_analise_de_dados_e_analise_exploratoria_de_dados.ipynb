{
 "cells": [
  {
   "cell_type": "markdown",
   "metadata": {},
   "source": [
    "## Importando as bibliotecas"
   ]
  },
  {
   "cell_type": "code",
   "execution_count": 1,
   "metadata": {},
   "outputs": [],
   "source": [
    "import pandas as pd\n",
    "import numpy as np\n",
    "import matplotlib.pyplot as plt\n",
    "import seaborn as sns\n",
    "import plotly.express as px"
   ]
  },
  {
   "cell_type": "markdown",
   "metadata": {},
   "source": [
    "## Importando o dataset e o transformando em DataFrame do Pandas"
   ]
  },
  {
   "cell_type": "code",
   "execution_count": 2,
   "metadata": {},
   "outputs": [],
   "source": [
    "url = 'https://raw.githubusercontent.com/justmarkham/DAT8/master/data/chipotle.tsv'\n",
    "chipo = pd.read_table(url)"
   ]
  },
  {
   "cell_type": "markdown",
   "metadata": {},
   "source": [
    "## Analisando informações gerais"
   ]
  },
  {
   "cell_type": "code",
   "execution_count": 3,
   "metadata": {},
   "outputs": [
    {
     "data": {
      "text/html": [
       "<div>\n",
       "<style scoped>\n",
       "    .dataframe tbody tr th:only-of-type {\n",
       "        vertical-align: middle;\n",
       "    }\n",
       "\n",
       "    .dataframe tbody tr th {\n",
       "        vertical-align: top;\n",
       "    }\n",
       "\n",
       "    .dataframe thead th {\n",
       "        text-align: right;\n",
       "    }\n",
       "</style>\n",
       "<table border=\"1\" class=\"dataframe\">\n",
       "  <thead>\n",
       "    <tr style=\"text-align: right;\">\n",
       "      <th></th>\n",
       "      <th>order_id</th>\n",
       "      <th>quantity</th>\n",
       "      <th>item_name</th>\n",
       "      <th>choice_description</th>\n",
       "      <th>item_price</th>\n",
       "    </tr>\n",
       "  </thead>\n",
       "  <tbody>\n",
       "    <tr>\n",
       "      <th>0</th>\n",
       "      <td>1</td>\n",
       "      <td>1</td>\n",
       "      <td>Chips and Fresh Tomato Salsa</td>\n",
       "      <td>NaN</td>\n",
       "      <td>$2.39</td>\n",
       "    </tr>\n",
       "    <tr>\n",
       "      <th>1</th>\n",
       "      <td>1</td>\n",
       "      <td>1</td>\n",
       "      <td>Izze</td>\n",
       "      <td>[Clementine]</td>\n",
       "      <td>$3.39</td>\n",
       "    </tr>\n",
       "    <tr>\n",
       "      <th>2</th>\n",
       "      <td>1</td>\n",
       "      <td>1</td>\n",
       "      <td>Nantucket Nectar</td>\n",
       "      <td>[Apple]</td>\n",
       "      <td>$3.39</td>\n",
       "    </tr>\n",
       "    <tr>\n",
       "      <th>3</th>\n",
       "      <td>1</td>\n",
       "      <td>1</td>\n",
       "      <td>Chips and Tomatillo-Green Chili Salsa</td>\n",
       "      <td>NaN</td>\n",
       "      <td>$2.39</td>\n",
       "    </tr>\n",
       "    <tr>\n",
       "      <th>4</th>\n",
       "      <td>2</td>\n",
       "      <td>2</td>\n",
       "      <td>Chicken Bowl</td>\n",
       "      <td>[Tomatillo-Red Chili Salsa (Hot), [Black Beans...</td>\n",
       "      <td>$16.98</td>\n",
       "    </tr>\n",
       "  </tbody>\n",
       "</table>\n",
       "</div>"
      ],
      "text/plain": [
       "   order_id  quantity                              item_name  \\\n",
       "0         1         1           Chips and Fresh Tomato Salsa   \n",
       "1         1         1                                   Izze   \n",
       "2         1         1                       Nantucket Nectar   \n",
       "3         1         1  Chips and Tomatillo-Green Chili Salsa   \n",
       "4         2         2                           Chicken Bowl   \n",
       "\n",
       "                                  choice_description item_price  \n",
       "0                                                NaN     $2.39   \n",
       "1                                       [Clementine]     $3.39   \n",
       "2                                            [Apple]     $3.39   \n",
       "3                                                NaN     $2.39   \n",
       "4  [Tomatillo-Red Chili Salsa (Hot), [Black Beans...    $16.98   "
      ]
     },
     "execution_count": 3,
     "metadata": {},
     "output_type": "execute_result"
    }
   ],
   "source": [
    "chipo.head()"
   ]
  },
  {
   "cell_type": "code",
   "execution_count": 4,
   "metadata": {},
   "outputs": [
    {
     "data": {
      "text/html": [
       "<div>\n",
       "<style scoped>\n",
       "    .dataframe tbody tr th:only-of-type {\n",
       "        vertical-align: middle;\n",
       "    }\n",
       "\n",
       "    .dataframe tbody tr th {\n",
       "        vertical-align: top;\n",
       "    }\n",
       "\n",
       "    .dataframe thead th {\n",
       "        text-align: right;\n",
       "    }\n",
       "</style>\n",
       "<table border=\"1\" class=\"dataframe\">\n",
       "  <thead>\n",
       "    <tr style=\"text-align: right;\">\n",
       "      <th></th>\n",
       "      <th>order_id</th>\n",
       "      <th>quantity</th>\n",
       "    </tr>\n",
       "  </thead>\n",
       "  <tbody>\n",
       "    <tr>\n",
       "      <th>count</th>\n",
       "      <td>4622.000000</td>\n",
       "      <td>4622.000000</td>\n",
       "    </tr>\n",
       "    <tr>\n",
       "      <th>mean</th>\n",
       "      <td>927.254868</td>\n",
       "      <td>1.075725</td>\n",
       "    </tr>\n",
       "    <tr>\n",
       "      <th>std</th>\n",
       "      <td>528.890796</td>\n",
       "      <td>0.410186</td>\n",
       "    </tr>\n",
       "    <tr>\n",
       "      <th>min</th>\n",
       "      <td>1.000000</td>\n",
       "      <td>1.000000</td>\n",
       "    </tr>\n",
       "    <tr>\n",
       "      <th>25%</th>\n",
       "      <td>477.250000</td>\n",
       "      <td>1.000000</td>\n",
       "    </tr>\n",
       "    <tr>\n",
       "      <th>50%</th>\n",
       "      <td>926.000000</td>\n",
       "      <td>1.000000</td>\n",
       "    </tr>\n",
       "    <tr>\n",
       "      <th>75%</th>\n",
       "      <td>1393.000000</td>\n",
       "      <td>1.000000</td>\n",
       "    </tr>\n",
       "    <tr>\n",
       "      <th>max</th>\n",
       "      <td>1834.000000</td>\n",
       "      <td>15.000000</td>\n",
       "    </tr>\n",
       "  </tbody>\n",
       "</table>\n",
       "</div>"
      ],
      "text/plain": [
       "          order_id     quantity\n",
       "count  4622.000000  4622.000000\n",
       "mean    927.254868     1.075725\n",
       "std     528.890796     0.410186\n",
       "min       1.000000     1.000000\n",
       "25%     477.250000     1.000000\n",
       "50%     926.000000     1.000000\n",
       "75%    1393.000000     1.000000\n",
       "max    1834.000000    15.000000"
      ]
     },
     "execution_count": 4,
     "metadata": {},
     "output_type": "execute_result"
    }
   ],
   "source": [
    "chipo.describe()"
   ]
  },
  {
   "cell_type": "code",
   "execution_count": 5,
   "metadata": {},
   "outputs": [
    {
     "name": "stdout",
     "output_type": "stream",
     "text": [
      "<class 'pandas.core.frame.DataFrame'>\n",
      "RangeIndex: 4622 entries, 0 to 4621\n",
      "Data columns (total 5 columns):\n",
      " #   Column              Non-Null Count  Dtype \n",
      "---  ------              --------------  ----- \n",
      " 0   order_id            4622 non-null   int64 \n",
      " 1   quantity            4622 non-null   int64 \n",
      " 2   item_name           4622 non-null   object\n",
      " 3   choice_description  3376 non-null   object\n",
      " 4   item_price          4622 non-null   object\n",
      "dtypes: int64(2), object(3)\n",
      "memory usage: 180.7+ KB\n"
     ]
    }
   ],
   "source": [
    "chipo.info()"
   ]
  },
  {
   "cell_type": "code",
   "execution_count": 6,
   "metadata": {},
   "outputs": [
    {
     "data": {
      "text/html": [
       "<div>\n",
       "<style scoped>\n",
       "    .dataframe tbody tr th:only-of-type {\n",
       "        vertical-align: middle;\n",
       "    }\n",
       "\n",
       "    .dataframe tbody tr th {\n",
       "        vertical-align: top;\n",
       "    }\n",
       "\n",
       "    .dataframe thead th {\n",
       "        text-align: right;\n",
       "    }\n",
       "</style>\n",
       "<table border=\"1\" class=\"dataframe\">\n",
       "  <thead>\n",
       "    <tr style=\"text-align: right;\">\n",
       "      <th></th>\n",
       "      <th>order_id</th>\n",
       "      <th>quantity</th>\n",
       "      <th>item_name</th>\n",
       "      <th>choice_description</th>\n",
       "      <th>item_price</th>\n",
       "    </tr>\n",
       "  </thead>\n",
       "  <tbody>\n",
       "    <tr>\n",
       "      <th>0</th>\n",
       "      <td>1</td>\n",
       "      <td>1</td>\n",
       "      <td>Chips and Fresh Tomato Salsa</td>\n",
       "      <td>NaN</td>\n",
       "      <td>$2.39</td>\n",
       "    </tr>\n",
       "    <tr>\n",
       "      <th>1</th>\n",
       "      <td>1</td>\n",
       "      <td>1</td>\n",
       "      <td>Izze</td>\n",
       "      <td>[Clementine]</td>\n",
       "      <td>$3.39</td>\n",
       "    </tr>\n",
       "    <tr>\n",
       "      <th>2</th>\n",
       "      <td>1</td>\n",
       "      <td>1</td>\n",
       "      <td>Nantucket Nectar</td>\n",
       "      <td>[Apple]</td>\n",
       "      <td>$3.39</td>\n",
       "    </tr>\n",
       "    <tr>\n",
       "      <th>3</th>\n",
       "      <td>1</td>\n",
       "      <td>1</td>\n",
       "      <td>Chips and Tomatillo-Green Chili Salsa</td>\n",
       "      <td>NaN</td>\n",
       "      <td>$2.39</td>\n",
       "    </tr>\n",
       "    <tr>\n",
       "      <th>4</th>\n",
       "      <td>2</td>\n",
       "      <td>2</td>\n",
       "      <td>Chicken Bowl</td>\n",
       "      <td>[Tomatillo-Red Chili Salsa (Hot), [Black Beans...</td>\n",
       "      <td>$16.98</td>\n",
       "    </tr>\n",
       "  </tbody>\n",
       "</table>\n",
       "</div>"
      ],
      "text/plain": [
       "   order_id  quantity                              item_name  \\\n",
       "0         1         1           Chips and Fresh Tomato Salsa   \n",
       "1         1         1                                   Izze   \n",
       "2         1         1                       Nantucket Nectar   \n",
       "3         1         1  Chips and Tomatillo-Green Chili Salsa   \n",
       "4         2         2                           Chicken Bowl   \n",
       "\n",
       "                                  choice_description item_price  \n",
       "0                                                NaN     $2.39   \n",
       "1                                       [Clementine]     $3.39   \n",
       "2                                            [Apple]     $3.39   \n",
       "3                                                NaN     $2.39   \n",
       "4  [Tomatillo-Red Chili Salsa (Hot), [Black Beans...    $16.98   "
      ]
     },
     "execution_count": 6,
     "metadata": {},
     "output_type": "execute_result"
    }
   ],
   "source": [
    "chipo.head()"
   ]
  },
  {
   "cell_type": "markdown",
   "metadata": {},
   "source": [
    "#### Já é possível observar que a coluna item_price teria que ser transformada em uma varável numérica para podermos trabalhar com ela."
   ]
  },
  {
   "cell_type": "markdown",
   "metadata": {},
   "source": [
    "Verificar se a quantidade afeta o valor da compra"
   ]
  },
  {
   "cell_type": "markdown",
   "metadata": {},
   "source": [
    "Verificando os itens que tem mais de uma quantidade"
   ]
  },
  {
   "cell_type": "code",
   "execution_count": 7,
   "metadata": {},
   "outputs": [],
   "source": [
    "chipo_aux = chipo.copy() # Fazendo uma cópia do DataFrame"
   ]
  },
  {
   "cell_type": "code",
   "execution_count": 8,
   "metadata": {},
   "outputs": [
    {
     "data": {
      "text/html": [
       "<div>\n",
       "<style scoped>\n",
       "    .dataframe tbody tr th:only-of-type {\n",
       "        vertical-align: middle;\n",
       "    }\n",
       "\n",
       "    .dataframe tbody tr th {\n",
       "        vertical-align: top;\n",
       "    }\n",
       "\n",
       "    .dataframe thead th {\n",
       "        text-align: right;\n",
       "    }\n",
       "</style>\n",
       "<table border=\"1\" class=\"dataframe\">\n",
       "  <thead>\n",
       "    <tr style=\"text-align: right;\">\n",
       "      <th></th>\n",
       "      <th>item_name</th>\n",
       "      <th>choice_description</th>\n",
       "    </tr>\n",
       "  </thead>\n",
       "  <tbody>\n",
       "    <tr>\n",
       "      <th>0</th>\n",
       "      <td>Chicken Bowl</td>\n",
       "      <td>[Tomatillo-Red Chili Salsa (Hot), [Black Beans...</td>\n",
       "    </tr>\n",
       "    <tr>\n",
       "      <th>1</th>\n",
       "      <td>Canned Soda</td>\n",
       "      <td>[Sprite]</td>\n",
       "    </tr>\n",
       "    <tr>\n",
       "      <th>2</th>\n",
       "      <td>Canned Soda</td>\n",
       "      <td>[Mountain Dew]</td>\n",
       "    </tr>\n",
       "    <tr>\n",
       "      <th>3</th>\n",
       "      <td>Chicken Salad Bowl</td>\n",
       "      <td>[Tomatillo Green Chili Salsa, [Sour Cream, Che...</td>\n",
       "    </tr>\n",
       "    <tr>\n",
       "      <th>4</th>\n",
       "      <td>Steak Burrito</td>\n",
       "      <td>[Tomatillo-Red Chili Salsa (Hot), [Rice, Chees...</td>\n",
       "    </tr>\n",
       "    <tr>\n",
       "      <th>...</th>\n",
       "      <td>...</td>\n",
       "      <td>...</td>\n",
       "    </tr>\n",
       "    <tr>\n",
       "      <th>116</th>\n",
       "      <td>Steak Soft Tacos</td>\n",
       "      <td>[Fresh Tomato Salsa, [Cheese, Lettuce]]</td>\n",
       "    </tr>\n",
       "    <tr>\n",
       "      <th>117</th>\n",
       "      <td>Chicken Bowl</td>\n",
       "      <td>[Fresh Tomato Salsa, [Rice, Fajita Vegetables,...</td>\n",
       "    </tr>\n",
       "    <tr>\n",
       "      <th>118</th>\n",
       "      <td>Steak Bowl</td>\n",
       "      <td>[Fresh Tomato Salsa, [Rice, Pinto Beans, Sour ...</td>\n",
       "    </tr>\n",
       "    <tr>\n",
       "      <th>119</th>\n",
       "      <td>Chicken Bowl</td>\n",
       "      <td>[Fresh Tomato Salsa, [Rice, Pinto Beans, Chees...</td>\n",
       "    </tr>\n",
       "    <tr>\n",
       "      <th>120</th>\n",
       "      <td>Chicken Salad Bowl</td>\n",
       "      <td>[Fresh Tomato Salsa, [Fajita Vegetables, Pinto...</td>\n",
       "    </tr>\n",
       "  </tbody>\n",
       "</table>\n",
       "<p>121 rows × 2 columns</p>\n",
       "</div>"
      ],
      "text/plain": [
       "              item_name                                 choice_description\n",
       "0          Chicken Bowl  [Tomatillo-Red Chili Salsa (Hot), [Black Beans...\n",
       "1           Canned Soda                                           [Sprite]\n",
       "2           Canned Soda                                     [Mountain Dew]\n",
       "3    Chicken Salad Bowl  [Tomatillo Green Chili Salsa, [Sour Cream, Che...\n",
       "4         Steak Burrito  [Tomatillo-Red Chili Salsa (Hot), [Rice, Chees...\n",
       "..                  ...                                                ...\n",
       "116    Steak Soft Tacos            [Fresh Tomato Salsa, [Cheese, Lettuce]]\n",
       "117        Chicken Bowl  [Fresh Tomato Salsa, [Rice, Fajita Vegetables,...\n",
       "118          Steak Bowl  [Fresh Tomato Salsa, [Rice, Pinto Beans, Sour ...\n",
       "119        Chicken Bowl  [Fresh Tomato Salsa, [Rice, Pinto Beans, Chees...\n",
       "120  Chicken Salad Bowl  [Fresh Tomato Salsa, [Fajita Vegetables, Pinto...\n",
       "\n",
       "[121 rows x 2 columns]"
      ]
     },
     "execution_count": 8,
     "metadata": {},
     "output_type": "execute_result"
    }
   ],
   "source": [
    "aux = chipo[chipo['quantity']>1][['item_name', 'choice_description']].reset_index(drop=True)\n",
    "aux = pd.DataFrame(aux)\n",
    "aux = aux.drop_duplicates().reset_index(drop=True)\n",
    "aux"
   ]
  },
  {
   "cell_type": "code",
   "execution_count": 9,
   "metadata": {},
   "outputs": [
    {
     "data": {
      "text/html": [
       "<div>\n",
       "<style scoped>\n",
       "    .dataframe tbody tr th:only-of-type {\n",
       "        vertical-align: middle;\n",
       "    }\n",
       "\n",
       "    .dataframe tbody tr th {\n",
       "        vertical-align: top;\n",
       "    }\n",
       "\n",
       "    .dataframe thead th {\n",
       "        text-align: right;\n",
       "    }\n",
       "</style>\n",
       "<table border=\"1\" class=\"dataframe\">\n",
       "  <thead>\n",
       "    <tr style=\"text-align: right;\">\n",
       "      <th></th>\n",
       "      <th>item_name</th>\n",
       "      <th>choice_description</th>\n",
       "    </tr>\n",
       "  </thead>\n",
       "  <tbody>\n",
       "    <tr>\n",
       "      <th>0</th>\n",
       "      <td>Chips and Fresh Tomato Salsa</td>\n",
       "      <td>NaN</td>\n",
       "    </tr>\n",
       "    <tr>\n",
       "      <th>1</th>\n",
       "      <td>Izze</td>\n",
       "      <td>[Clementine]</td>\n",
       "    </tr>\n",
       "    <tr>\n",
       "      <th>2</th>\n",
       "      <td>Nantucket Nectar</td>\n",
       "      <td>[Apple]</td>\n",
       "    </tr>\n",
       "    <tr>\n",
       "      <th>3</th>\n",
       "      <td>Chips and Tomatillo-Green Chili Salsa</td>\n",
       "      <td>NaN</td>\n",
       "    </tr>\n",
       "    <tr>\n",
       "      <th>4</th>\n",
       "      <td>Chicken Bowl</td>\n",
       "      <td>[Tomatillo-Red Chili Salsa (Hot), [Black Beans...</td>\n",
       "    </tr>\n",
       "    <tr>\n",
       "      <th>...</th>\n",
       "      <td>...</td>\n",
       "      <td>...</td>\n",
       "    </tr>\n",
       "    <tr>\n",
       "      <th>4617</th>\n",
       "      <td>Steak Burrito</td>\n",
       "      <td>[Fresh Tomato Salsa, [Rice, Black Beans, Sour ...</td>\n",
       "    </tr>\n",
       "    <tr>\n",
       "      <th>4618</th>\n",
       "      <td>Steak Burrito</td>\n",
       "      <td>[Fresh Tomato Salsa, [Rice, Sour Cream, Cheese...</td>\n",
       "    </tr>\n",
       "    <tr>\n",
       "      <th>4619</th>\n",
       "      <td>Chicken Salad Bowl</td>\n",
       "      <td>[Fresh Tomato Salsa, [Fajita Vegetables, Pinto...</td>\n",
       "    </tr>\n",
       "    <tr>\n",
       "      <th>4620</th>\n",
       "      <td>Chicken Salad Bowl</td>\n",
       "      <td>[Fresh Tomato Salsa, [Fajita Vegetables, Lettu...</td>\n",
       "    </tr>\n",
       "    <tr>\n",
       "      <th>4621</th>\n",
       "      <td>Chicken Salad Bowl</td>\n",
       "      <td>[Fresh Tomato Salsa, [Fajita Vegetables, Pinto...</td>\n",
       "    </tr>\n",
       "  </tbody>\n",
       "</table>\n",
       "<p>4622 rows × 2 columns</p>\n",
       "</div>"
      ],
      "text/plain": [
       "                                  item_name  \\\n",
       "0              Chips and Fresh Tomato Salsa   \n",
       "1                                      Izze   \n",
       "2                          Nantucket Nectar   \n",
       "3     Chips and Tomatillo-Green Chili Salsa   \n",
       "4                              Chicken Bowl   \n",
       "...                                     ...   \n",
       "4617                          Steak Burrito   \n",
       "4618                          Steak Burrito   \n",
       "4619                     Chicken Salad Bowl   \n",
       "4620                     Chicken Salad Bowl   \n",
       "4621                     Chicken Salad Bowl   \n",
       "\n",
       "                                     choice_description  \n",
       "0                                                   NaN  \n",
       "1                                          [Clementine]  \n",
       "2                                               [Apple]  \n",
       "3                                                   NaN  \n",
       "4     [Tomatillo-Red Chili Salsa (Hot), [Black Beans...  \n",
       "...                                                 ...  \n",
       "4617  [Fresh Tomato Salsa, [Rice, Black Beans, Sour ...  \n",
       "4618  [Fresh Tomato Salsa, [Rice, Sour Cream, Cheese...  \n",
       "4619  [Fresh Tomato Salsa, [Fajita Vegetables, Pinto...  \n",
       "4620  [Fresh Tomato Salsa, [Fajita Vegetables, Lettu...  \n",
       "4621  [Fresh Tomato Salsa, [Fajita Vegetables, Pinto...  \n",
       "\n",
       "[4622 rows x 2 columns]"
      ]
     },
     "execution_count": 9,
     "metadata": {},
     "output_type": "execute_result"
    }
   ],
   "source": [
    "chipo_aux[['item_name','choice_description']]"
   ]
  },
  {
   "cell_type": "code",
   "execution_count": 10,
   "metadata": {},
   "outputs": [
    {
     "data": {
      "text/html": [
       "<div>\n",
       "<style scoped>\n",
       "    .dataframe tbody tr th:only-of-type {\n",
       "        vertical-align: middle;\n",
       "    }\n",
       "\n",
       "    .dataframe tbody tr th {\n",
       "        vertical-align: top;\n",
       "    }\n",
       "\n",
       "    .dataframe thead th {\n",
       "        text-align: right;\n",
       "    }\n",
       "</style>\n",
       "<table border=\"1\" class=\"dataframe\">\n",
       "  <thead>\n",
       "    <tr style=\"text-align: right;\">\n",
       "      <th></th>\n",
       "      <th>order_id</th>\n",
       "      <th>quantity</th>\n",
       "      <th>item_name</th>\n",
       "      <th>choice_description</th>\n",
       "      <th>item_price</th>\n",
       "    </tr>\n",
       "  </thead>\n",
       "  <tbody>\n",
       "    <tr>\n",
       "      <th>0</th>\n",
       "      <td>1</td>\n",
       "      <td>1</td>\n",
       "      <td>Chips and Fresh Tomato Salsa</td>\n",
       "      <td>NaN</td>\n",
       "      <td>$2.39</td>\n",
       "    </tr>\n",
       "    <tr>\n",
       "      <th>3</th>\n",
       "      <td>1</td>\n",
       "      <td>1</td>\n",
       "      <td>Chips and Tomatillo-Green Chili Salsa</td>\n",
       "      <td>NaN</td>\n",
       "      <td>$2.39</td>\n",
       "    </tr>\n",
       "    <tr>\n",
       "      <th>4</th>\n",
       "      <td>2</td>\n",
       "      <td>2</td>\n",
       "      <td>Chicken Bowl</td>\n",
       "      <td>[Tomatillo-Red Chili Salsa (Hot), [Black Beans...</td>\n",
       "      <td>$16.98</td>\n",
       "    </tr>\n",
       "    <tr>\n",
       "      <th>6</th>\n",
       "      <td>3</td>\n",
       "      <td>1</td>\n",
       "      <td>Side of Chips</td>\n",
       "      <td>NaN</td>\n",
       "      <td>$1.69</td>\n",
       "    </tr>\n",
       "    <tr>\n",
       "      <th>10</th>\n",
       "      <td>5</td>\n",
       "      <td>1</td>\n",
       "      <td>Chips and Guacamole</td>\n",
       "      <td>NaN</td>\n",
       "      <td>$4.45</td>\n",
       "    </tr>\n",
       "  </tbody>\n",
       "</table>\n",
       "</div>"
      ],
      "text/plain": [
       "    order_id  quantity                              item_name  \\\n",
       "0          1         1           Chips and Fresh Tomato Salsa   \n",
       "3          1         1  Chips and Tomatillo-Green Chili Salsa   \n",
       "4          2         2                           Chicken Bowl   \n",
       "6          3         1                          Side of Chips   \n",
       "10         5         1                    Chips and Guacamole   \n",
       "\n",
       "                                   choice_description item_price  \n",
       "0                                                 NaN     $2.39   \n",
       "3                                                 NaN     $2.39   \n",
       "4   [Tomatillo-Red Chili Salsa (Hot), [Black Beans...    $16.98   \n",
       "6                                                 NaN     $1.69   \n",
       "10                                                NaN     $4.45   "
      ]
     },
     "execution_count": 10,
     "metadata": {},
     "output_type": "execute_result"
    }
   ],
   "source": [
    "chipo_aux = chipo_aux[(chipo_aux['item_name'].isin(aux['item_name'])) & (chipo_aux['choice_description'].isin(aux['choice_description']))] \n",
    "# Tabela só com os que tem pelo menos um pedido com mais de uma quantidade\n",
    "chipo_aux.head()"
   ]
  },
  {
   "cell_type": "code",
   "execution_count": 11,
   "metadata": {},
   "outputs": [
    {
     "data": {
      "text/html": [
       "<div>\n",
       "<style scoped>\n",
       "    .dataframe tbody tr th:only-of-type {\n",
       "        vertical-align: middle;\n",
       "    }\n",
       "\n",
       "    .dataframe tbody tr th {\n",
       "        vertical-align: top;\n",
       "    }\n",
       "\n",
       "    .dataframe thead th {\n",
       "        text-align: right;\n",
       "    }\n",
       "</style>\n",
       "<table border=\"1\" class=\"dataframe\">\n",
       "  <thead>\n",
       "    <tr style=\"text-align: right;\">\n",
       "      <th>quantity</th>\n",
       "      <th>item_name</th>\n",
       "      <th>choice_description</th>\n",
       "      <th>1</th>\n",
       "      <th>2</th>\n",
       "      <th>3</th>\n",
       "      <th>4</th>\n",
       "    </tr>\n",
       "  </thead>\n",
       "  <tbody>\n",
       "    <tr>\n",
       "      <th>0</th>\n",
       "      <td>6 Pack Soft Drink</td>\n",
       "      <td>[Coke]</td>\n",
       "      <td>21.0</td>\n",
       "      <td>NaN</td>\n",
       "      <td>NaN</td>\n",
       "      <td>NaN</td>\n",
       "    </tr>\n",
       "    <tr>\n",
       "      <th>1</th>\n",
       "      <td>6 Pack Soft Drink</td>\n",
       "      <td>[Diet Coke]</td>\n",
       "      <td>23.0</td>\n",
       "      <td>1.0</td>\n",
       "      <td>NaN</td>\n",
       "      <td>NaN</td>\n",
       "    </tr>\n",
       "    <tr>\n",
       "      <th>2</th>\n",
       "      <td>6 Pack Soft Drink</td>\n",
       "      <td>[Lemonade]</td>\n",
       "      <td>2.0</td>\n",
       "      <td>NaN</td>\n",
       "      <td>NaN</td>\n",
       "      <td>NaN</td>\n",
       "    </tr>\n",
       "    <tr>\n",
       "      <th>3</th>\n",
       "      <td>6 Pack Soft Drink</td>\n",
       "      <td>[Sprite]</td>\n",
       "      <td>5.0</td>\n",
       "      <td>NaN</td>\n",
       "      <td>NaN</td>\n",
       "      <td>NaN</td>\n",
       "    </tr>\n",
       "    <tr>\n",
       "      <th>4</th>\n",
       "      <td>Barbacoa Crispy Tacos</td>\n",
       "      <td>[Fresh Tomato Salsa, [Rice, Cheese, Sour Cream]]</td>\n",
       "      <td>1.0</td>\n",
       "      <td>NaN</td>\n",
       "      <td>NaN</td>\n",
       "      <td>NaN</td>\n",
       "    </tr>\n",
       "  </tbody>\n",
       "</table>\n",
       "</div>"
      ],
      "text/plain": [
       "quantity              item_name  \\\n",
       "0             6 Pack Soft Drink   \n",
       "1             6 Pack Soft Drink   \n",
       "2             6 Pack Soft Drink   \n",
       "3             6 Pack Soft Drink   \n",
       "4         Barbacoa Crispy Tacos   \n",
       "\n",
       "quantity                                choice_description     1    2   3   4  \n",
       "0                                                   [Coke]  21.0  NaN NaN NaN  \n",
       "1                                              [Diet Coke]  23.0  1.0 NaN NaN  \n",
       "2                                               [Lemonade]   2.0  NaN NaN NaN  \n",
       "3                                                 [Sprite]   5.0  NaN NaN NaN  \n",
       "4         [Fresh Tomato Salsa, [Rice, Cheese, Sour Cream]]   1.0  NaN NaN NaN  "
      ]
     },
     "execution_count": 11,
     "metadata": {},
     "output_type": "execute_result"
    }
   ],
   "source": [
    "chipo_aux = chipo_aux.pivot_table(values='order_id', index=['item_name', 'choice_description'], aggfunc='count', columns='quantity').reset_index()\n",
    "# Criando tabela para conseguir verificar quais elementos são possíveis de verificar se há relação entre a quantidade e o preço\n",
    "chipo_aux.head()"
   ]
  },
  {
   "cell_type": "code",
   "execution_count": 12,
   "metadata": {},
   "outputs": [],
   "source": [
    "chipo_aux['contagem_aux'] = chipo_aux[range(1,5)].count(axis=1)\n",
    "chipo_aux = chipo_aux.iloc[:,[0,1,-1]]\n",
    "chipo_aux = chipo_aux[chipo_aux['contagem_aux'] > 1].reset_index(drop=True)\n",
    "# Criando uma coluna para ver quais tem valores para 'quantity' diferentes para poder verificar a  relação entre quantidade e preço"
   ]
  },
  {
   "cell_type": "code",
   "execution_count": 13,
   "metadata": {},
   "outputs": [
    {
     "name": "stdout",
     "output_type": "stream",
     "text": [
      "6 Pack Soft Drink\n",
      "[Diet Coke]\n",
      "\n",
      "quantity\n",
      "item_name             6 Pack Soft Drink\n",
      "choice_description          [Diet Coke]\n",
      "contagem_aux                          2\n",
      "Name: 0, dtype: object\n"
     ]
    }
   ],
   "source": [
    "aux = chipo_aux.loc[0,:]\n",
    "print(aux[0])\n",
    "print(aux[1])\n",
    "print()\n",
    "print(aux)"
   ]
  },
  {
   "cell_type": "code",
   "execution_count": 14,
   "metadata": {},
   "outputs": [],
   "source": [
    "chipo_aux = chipo.copy()"
   ]
  },
  {
   "cell_type": "code",
   "execution_count": 15,
   "metadata": {},
   "outputs": [],
   "source": [
    "chipo_aux['item_price'] = (chipo_aux['item_price'].str.strip('$')).astype('float64') # Transformando a coluna 'item_price' em float"
   ]
  },
  {
   "cell_type": "code",
   "execution_count": 16,
   "metadata": {},
   "outputs": [
    {
     "name": "stdout",
     "output_type": "stream",
     "text": [
      "1\n"
     ]
    }
   ],
   "source": [
    "chipo_aux = chipo_aux[(chipo_aux['item_name'] == aux[0]) & (chipo_aux['choice_description'] == aux[1])]\n",
    "chipo_aux.loc[:,'item_price'] = chipo_aux['item_price']/chipo_aux['quantity']\n",
    "print(len(chipo_aux['item_price'].unique()))"
   ]
  },
  {
   "cell_type": "code",
   "execution_count": 17,
   "metadata": {},
   "outputs": [
    {
     "name": "stdout",
     "output_type": "stream",
     "text": [
      "[6.49]\n",
      "1\n"
     ]
    }
   ],
   "source": [
    "print(chipo_aux['item_price'].unique())\n",
    "print(len(chipo_aux['item_price'].unique()))"
   ]
  },
  {
   "cell_type": "markdown",
   "metadata": {},
   "source": [
    "#### Quando todos os valores foram divididos pela quantidade do pedido, os preços foram iguais, logo é possível concluir que o preço do pedido é relacionado com a quantidade"
   ]
  },
  {
   "cell_type": "markdown",
   "metadata": {},
   "source": [
    "Verificando quantas vezes cada item da coluna 'item_name' estão associados com quantos itens da coluna 'choice_description'"
   ]
  },
  {
   "cell_type": "code",
   "execution_count": 18,
   "metadata": {},
   "outputs": [
    {
     "data": {
      "text/html": [
       "<div>\n",
       "<style scoped>\n",
       "    .dataframe tbody tr th:only-of-type {\n",
       "        vertical-align: middle;\n",
       "    }\n",
       "\n",
       "    .dataframe tbody tr th {\n",
       "        vertical-align: top;\n",
       "    }\n",
       "\n",
       "    .dataframe thead th {\n",
       "        text-align: right;\n",
       "    }\n",
       "</style>\n",
       "<table border=\"1\" class=\"dataframe\">\n",
       "  <thead>\n",
       "    <tr style=\"text-align: right;\">\n",
       "      <th>item_name</th>\n",
       "      <th>choice_description</th>\n",
       "      <th>6 Pack Soft Drink</th>\n",
       "      <th>Barbacoa Bowl</th>\n",
       "      <th>Barbacoa Burrito</th>\n",
       "      <th>Barbacoa Crispy Tacos</th>\n",
       "      <th>Barbacoa Salad Bowl</th>\n",
       "      <th>Barbacoa Soft Tacos</th>\n",
       "      <th>Bowl</th>\n",
       "      <th>Burrito</th>\n",
       "      <th>Canned Soda</th>\n",
       "      <th>...</th>\n",
       "      <th>Steak Crispy Tacos</th>\n",
       "      <th>Steak Salad</th>\n",
       "      <th>Steak Salad Bowl</th>\n",
       "      <th>Steak Soft Tacos</th>\n",
       "      <th>Veggie Bowl</th>\n",
       "      <th>Veggie Burrito</th>\n",
       "      <th>Veggie Crispy Tacos</th>\n",
       "      <th>Veggie Salad</th>\n",
       "      <th>Veggie Salad Bowl</th>\n",
       "      <th>Veggie Soft Tacos</th>\n",
       "    </tr>\n",
       "  </thead>\n",
       "  <tbody>\n",
       "    <tr>\n",
       "      <th>0</th>\n",
       "      <td>[Adobo-Marinated and Grilled Chicken, Pinto Be...</td>\n",
       "      <td>NaN</td>\n",
       "      <td>NaN</td>\n",
       "      <td>NaN</td>\n",
       "      <td>NaN</td>\n",
       "      <td>NaN</td>\n",
       "      <td>NaN</td>\n",
       "      <td>NaN</td>\n",
       "      <td>1.0</td>\n",
       "      <td>NaN</td>\n",
       "      <td>...</td>\n",
       "      <td>NaN</td>\n",
       "      <td>NaN</td>\n",
       "      <td>NaN</td>\n",
       "      <td>NaN</td>\n",
       "      <td>NaN</td>\n",
       "      <td>NaN</td>\n",
       "      <td>NaN</td>\n",
       "      <td>NaN</td>\n",
       "      <td>NaN</td>\n",
       "      <td>NaN</td>\n",
       "    </tr>\n",
       "    <tr>\n",
       "      <th>1</th>\n",
       "      <td>[Adobo-Marinated and Grilled Chicken, [Sour Cr...</td>\n",
       "      <td>NaN</td>\n",
       "      <td>NaN</td>\n",
       "      <td>NaN</td>\n",
       "      <td>NaN</td>\n",
       "      <td>NaN</td>\n",
       "      <td>NaN</td>\n",
       "      <td>NaN</td>\n",
       "      <td>1.0</td>\n",
       "      <td>NaN</td>\n",
       "      <td>...</td>\n",
       "      <td>NaN</td>\n",
       "      <td>NaN</td>\n",
       "      <td>NaN</td>\n",
       "      <td>NaN</td>\n",
       "      <td>NaN</td>\n",
       "      <td>NaN</td>\n",
       "      <td>NaN</td>\n",
       "      <td>NaN</td>\n",
       "      <td>NaN</td>\n",
       "      <td>NaN</td>\n",
       "    </tr>\n",
       "    <tr>\n",
       "      <th>2</th>\n",
       "      <td>[Adobo-Marinated and Grilled Chicken]</td>\n",
       "      <td>NaN</td>\n",
       "      <td>NaN</td>\n",
       "      <td>NaN</td>\n",
       "      <td>NaN</td>\n",
       "      <td>NaN</td>\n",
       "      <td>NaN</td>\n",
       "      <td>NaN</td>\n",
       "      <td>NaN</td>\n",
       "      <td>NaN</td>\n",
       "      <td>...</td>\n",
       "      <td>NaN</td>\n",
       "      <td>NaN</td>\n",
       "      <td>NaN</td>\n",
       "      <td>NaN</td>\n",
       "      <td>NaN</td>\n",
       "      <td>NaN</td>\n",
       "      <td>NaN</td>\n",
       "      <td>NaN</td>\n",
       "      <td>NaN</td>\n",
       "      <td>NaN</td>\n",
       "    </tr>\n",
       "    <tr>\n",
       "      <th>3</th>\n",
       "      <td>[Adobo-Marinated and Grilled Steak, [Sour Crea...</td>\n",
       "      <td>NaN</td>\n",
       "      <td>NaN</td>\n",
       "      <td>NaN</td>\n",
       "      <td>NaN</td>\n",
       "      <td>NaN</td>\n",
       "      <td>NaN</td>\n",
       "      <td>1.0</td>\n",
       "      <td>NaN</td>\n",
       "      <td>NaN</td>\n",
       "      <td>...</td>\n",
       "      <td>NaN</td>\n",
       "      <td>NaN</td>\n",
       "      <td>NaN</td>\n",
       "      <td>NaN</td>\n",
       "      <td>NaN</td>\n",
       "      <td>NaN</td>\n",
       "      <td>NaN</td>\n",
       "      <td>NaN</td>\n",
       "      <td>NaN</td>\n",
       "      <td>NaN</td>\n",
       "    </tr>\n",
       "    <tr>\n",
       "      <th>4</th>\n",
       "      <td>[Adobo-Marinated and Grilled Steak]</td>\n",
       "      <td>NaN</td>\n",
       "      <td>NaN</td>\n",
       "      <td>NaN</td>\n",
       "      <td>NaN</td>\n",
       "      <td>NaN</td>\n",
       "      <td>NaN</td>\n",
       "      <td>NaN</td>\n",
       "      <td>NaN</td>\n",
       "      <td>NaN</td>\n",
       "      <td>...</td>\n",
       "      <td>NaN</td>\n",
       "      <td>NaN</td>\n",
       "      <td>NaN</td>\n",
       "      <td>NaN</td>\n",
       "      <td>NaN</td>\n",
       "      <td>NaN</td>\n",
       "      <td>NaN</td>\n",
       "      <td>NaN</td>\n",
       "      <td>NaN</td>\n",
       "      <td>NaN</td>\n",
       "    </tr>\n",
       "  </tbody>\n",
       "</table>\n",
       "<p>5 rows × 39 columns</p>\n",
       "</div>"
      ],
      "text/plain": [
       "item_name                                 choice_description  \\\n",
       "0          [Adobo-Marinated and Grilled Chicken, Pinto Be...   \n",
       "1          [Adobo-Marinated and Grilled Chicken, [Sour Cr...   \n",
       "2                      [Adobo-Marinated and Grilled Chicken]   \n",
       "3          [Adobo-Marinated and Grilled Steak, [Sour Crea...   \n",
       "4                        [Adobo-Marinated and Grilled Steak]   \n",
       "\n",
       "item_name  6 Pack Soft Drink  Barbacoa Bowl  Barbacoa Burrito  \\\n",
       "0                        NaN            NaN               NaN   \n",
       "1                        NaN            NaN               NaN   \n",
       "2                        NaN            NaN               NaN   \n",
       "3                        NaN            NaN               NaN   \n",
       "4                        NaN            NaN               NaN   \n",
       "\n",
       "item_name  Barbacoa Crispy Tacos  Barbacoa Salad Bowl  Barbacoa Soft Tacos  \\\n",
       "0                            NaN                  NaN                  NaN   \n",
       "1                            NaN                  NaN                  NaN   \n",
       "2                            NaN                  NaN                  NaN   \n",
       "3                            NaN                  NaN                  NaN   \n",
       "4                            NaN                  NaN                  NaN   \n",
       "\n",
       "item_name  Bowl  Burrito  Canned Soda  ...  Steak Crispy Tacos  Steak Salad  \\\n",
       "0           NaN      1.0          NaN  ...                 NaN          NaN   \n",
       "1           NaN      1.0          NaN  ...                 NaN          NaN   \n",
       "2           NaN      NaN          NaN  ...                 NaN          NaN   \n",
       "3           1.0      NaN          NaN  ...                 NaN          NaN   \n",
       "4           NaN      NaN          NaN  ...                 NaN          NaN   \n",
       "\n",
       "item_name  Steak Salad Bowl  Steak Soft Tacos  Veggie Bowl  Veggie Burrito  \\\n",
       "0                       NaN               NaN          NaN             NaN   \n",
       "1                       NaN               NaN          NaN             NaN   \n",
       "2                       NaN               NaN          NaN             NaN   \n",
       "3                       NaN               NaN          NaN             NaN   \n",
       "4                       NaN               NaN          NaN             NaN   \n",
       "\n",
       "item_name  Veggie Crispy Tacos  Veggie Salad  Veggie Salad Bowl  \\\n",
       "0                          NaN           NaN                NaN   \n",
       "1                          NaN           NaN                NaN   \n",
       "2                          NaN           NaN                NaN   \n",
       "3                          NaN           NaN                NaN   \n",
       "4                          NaN           NaN                NaN   \n",
       "\n",
       "item_name  Veggie Soft Tacos  \n",
       "0                        NaN  \n",
       "1                        NaN  \n",
       "2                        NaN  \n",
       "3                        NaN  \n",
       "4                        NaN  \n",
       "\n",
       "[5 rows x 39 columns]"
      ]
     },
     "execution_count": 18,
     "metadata": {},
     "output_type": "execute_result"
    }
   ],
   "source": [
    "aux1 = chipo.pivot_table(index='choice_description', values='item_price', columns='item_name', aggfunc='count').reset_index()\n",
    "aux1.head()"
   ]
  },
  {
   "cell_type": "markdown",
   "metadata": {},
   "source": [
    "Criando uma coluna que tenha a contagem de quantos elementos de 'item_price' se repetem para a 'choice_description'"
   ]
  },
  {
   "cell_type": "code",
   "execution_count": 19,
   "metadata": {},
   "outputs": [],
   "source": [
    "aux1['contagem'] = aux1.count(axis=1) - 1"
   ]
  },
  {
   "cell_type": "code",
   "execution_count": 20,
   "metadata": {},
   "outputs": [],
   "source": [
    "aux1 = aux1[['choice_description', 'contagem']]"
   ]
  },
  {
   "cell_type": "code",
   "execution_count": 21,
   "metadata": {},
   "outputs": [
    {
     "data": {
      "text/html": [
       "<div>\n",
       "<style scoped>\n",
       "    .dataframe tbody tr th:only-of-type {\n",
       "        vertical-align: middle;\n",
       "    }\n",
       "\n",
       "    .dataframe tbody tr th {\n",
       "        vertical-align: top;\n",
       "    }\n",
       "\n",
       "    .dataframe thead th {\n",
       "        text-align: right;\n",
       "    }\n",
       "</style>\n",
       "<table border=\"1\" class=\"dataframe\">\n",
       "  <thead>\n",
       "    <tr style=\"text-align: right;\">\n",
       "      <th>item_name</th>\n",
       "      <th>choice_description</th>\n",
       "      <th>contagem</th>\n",
       "    </tr>\n",
       "  </thead>\n",
       "  <tbody>\n",
       "    <tr>\n",
       "      <th>0</th>\n",
       "      <td>[Adobo-Marinated and Grilled Chicken, Pinto Be...</td>\n",
       "      <td>1</td>\n",
       "    </tr>\n",
       "    <tr>\n",
       "      <th>1</th>\n",
       "      <td>[Adobo-Marinated and Grilled Chicken, [Sour Cr...</td>\n",
       "      <td>1</td>\n",
       "    </tr>\n",
       "    <tr>\n",
       "      <th>2</th>\n",
       "      <td>[Adobo-Marinated and Grilled Chicken]</td>\n",
       "      <td>1</td>\n",
       "    </tr>\n",
       "    <tr>\n",
       "      <th>3</th>\n",
       "      <td>[Adobo-Marinated and Grilled Steak, [Sour Crea...</td>\n",
       "      <td>1</td>\n",
       "    </tr>\n",
       "    <tr>\n",
       "      <th>4</th>\n",
       "      <td>[Adobo-Marinated and Grilled Steak]</td>\n",
       "      <td>1</td>\n",
       "    </tr>\n",
       "  </tbody>\n",
       "</table>\n",
       "</div>"
      ],
      "text/plain": [
       "item_name                                 choice_description  contagem\n",
       "0          [Adobo-Marinated and Grilled Chicken, Pinto Be...         1\n",
       "1          [Adobo-Marinated and Grilled Chicken, [Sour Cr...         1\n",
       "2                      [Adobo-Marinated and Grilled Chicken]         1\n",
       "3          [Adobo-Marinated and Grilled Steak, [Sour Crea...         1\n",
       "4                        [Adobo-Marinated and Grilled Steak]         1"
      ]
     },
     "execution_count": 21,
     "metadata": {},
     "output_type": "execute_result"
    }
   ],
   "source": [
    "aux1.head()"
   ]
  },
  {
   "cell_type": "code",
   "execution_count": 22,
   "metadata": {},
   "outputs": [
    {
     "data": {
      "text/html": [
       "<div>\n",
       "<style scoped>\n",
       "    .dataframe tbody tr th:only-of-type {\n",
       "        vertical-align: middle;\n",
       "    }\n",
       "\n",
       "    .dataframe tbody tr th {\n",
       "        vertical-align: top;\n",
       "    }\n",
       "\n",
       "    .dataframe thead th {\n",
       "        text-align: right;\n",
       "    }\n",
       "</style>\n",
       "<table border=\"1\" class=\"dataframe\">\n",
       "  <thead>\n",
       "    <tr style=\"text-align: right;\">\n",
       "      <th>item_name</th>\n",
       "      <th>choice_description</th>\n",
       "      <th>contagem</th>\n",
       "    </tr>\n",
       "  </thead>\n",
       "  <tbody>\n",
       "    <tr>\n",
       "      <th>14</th>\n",
       "      <td>[Coke]</td>\n",
       "      <td>2</td>\n",
       "    </tr>\n",
       "    <tr>\n",
       "      <th>15</th>\n",
       "      <td>[Diet Coke]</td>\n",
       "      <td>3</td>\n",
       "    </tr>\n",
       "    <tr>\n",
       "      <th>19</th>\n",
       "      <td>[Fresh Tomato (Mild), [Black Beans, Rice, Sour...</td>\n",
       "      <td>2</td>\n",
       "    </tr>\n",
       "    <tr>\n",
       "      <th>31</th>\n",
       "      <td>[Fresh Tomato (Mild), [Lettuce, Black Beans, R...</td>\n",
       "      <td>2</td>\n",
       "    </tr>\n",
       "    <tr>\n",
       "      <th>42</th>\n",
       "      <td>[Fresh Tomato Salsa (Mild), Black Beans]</td>\n",
       "      <td>2</td>\n",
       "    </tr>\n",
       "    <tr>\n",
       "      <th>...</th>\n",
       "      <td>...</td>\n",
       "      <td>...</td>\n",
       "    </tr>\n",
       "    <tr>\n",
       "      <th>1015</th>\n",
       "      <td>[[Tomatillo-Green Chili Salsa (Medium), Roaste...</td>\n",
       "      <td>2</td>\n",
       "    </tr>\n",
       "    <tr>\n",
       "      <th>1020</th>\n",
       "      <td>[[Tomatillo-Green Chili Salsa (Medium), Roaste...</td>\n",
       "      <td>2</td>\n",
       "    </tr>\n",
       "    <tr>\n",
       "      <th>1023</th>\n",
       "      <td>[[Tomatillo-Green Chili Salsa (Medium), Roaste...</td>\n",
       "      <td>2</td>\n",
       "    </tr>\n",
       "    <tr>\n",
       "      <th>1024</th>\n",
       "      <td>[[Tomatillo-Green Chili Salsa (Medium), Roaste...</td>\n",
       "      <td>2</td>\n",
       "    </tr>\n",
       "    <tr>\n",
       "      <th>1038</th>\n",
       "      <td>[[Tomatillo-Red Chili Salsa (Hot), Tomatillo-G...</td>\n",
       "      <td>2</td>\n",
       "    </tr>\n",
       "  </tbody>\n",
       "</table>\n",
       "<p>376 rows × 2 columns</p>\n",
       "</div>"
      ],
      "text/plain": [
       "item_name                                 choice_description  contagem\n",
       "14                                                    [Coke]         2\n",
       "15                                               [Diet Coke]         3\n",
       "19         [Fresh Tomato (Mild), [Black Beans, Rice, Sour...         2\n",
       "31         [Fresh Tomato (Mild), [Lettuce, Black Beans, R...         2\n",
       "42                  [Fresh Tomato Salsa (Mild), Black Beans]         2\n",
       "...                                                      ...       ...\n",
       "1015       [[Tomatillo-Green Chili Salsa (Medium), Roaste...         2\n",
       "1020       [[Tomatillo-Green Chili Salsa (Medium), Roaste...         2\n",
       "1023       [[Tomatillo-Green Chili Salsa (Medium), Roaste...         2\n",
       "1024       [[Tomatillo-Green Chili Salsa (Medium), Roaste...         2\n",
       "1038       [[Tomatillo-Red Chili Salsa (Hot), Tomatillo-G...         2\n",
       "\n",
       "[376 rows x 2 columns]"
      ]
     },
     "execution_count": 22,
     "metadata": {},
     "output_type": "execute_result"
    }
   ],
   "source": [
    "aux1[aux1['contagem'] > 1]"
   ]
  },
  {
   "cell_type": "markdown",
   "metadata": {},
   "source": [
    "#### Com a tabela acima é possível observar, que existem descrições que são iguais para mais de um tipo de item, logo é possível chegar a conclusão que para analisar quantas possibilidades diferente podem existir de pedidos, é necessário observar as duas colunas juntamente"
   ]
  },
  {
   "cell_type": "markdown",
   "metadata": {},
   "source": [
    "## Tratando das colunas"
   ]
  },
  {
   "cell_type": "code",
   "execution_count": 23,
   "metadata": {},
   "outputs": [],
   "source": [
    "chipo_aux = chipo.copy() # Fazendo uma cópia da célula"
   ]
  },
  {
   "cell_type": "markdown",
   "metadata": {},
   "source": [
    "### Criando uma célulda que tenha a coluna 'item_name' e a coluna 'choice_description' juntas"
   ]
  },
  {
   "cell_type": "code",
   "execution_count": 24,
   "metadata": {},
   "outputs": [],
   "source": [
    "chipo_aux.loc[chipo_aux['choice_description'].isna()==False, 'name_description'] = chipo_aux['item_name'] + chipo_aux['choice_description']\n",
    "chipo_aux.loc[chipo_aux['choice_description'].isna(), 'name_description'] = chipo_aux['item_name']"
   ]
  },
  {
   "cell_type": "code",
   "execution_count": 25,
   "metadata": {},
   "outputs": [
    {
     "data": {
      "text/html": [
       "<div>\n",
       "<style scoped>\n",
       "    .dataframe tbody tr th:only-of-type {\n",
       "        vertical-align: middle;\n",
       "    }\n",
       "\n",
       "    .dataframe tbody tr th {\n",
       "        vertical-align: top;\n",
       "    }\n",
       "\n",
       "    .dataframe thead th {\n",
       "        text-align: right;\n",
       "    }\n",
       "</style>\n",
       "<table border=\"1\" class=\"dataframe\">\n",
       "  <thead>\n",
       "    <tr style=\"text-align: right;\">\n",
       "      <th></th>\n",
       "      <th>order_id</th>\n",
       "      <th>quantity</th>\n",
       "      <th>item_name</th>\n",
       "      <th>choice_description</th>\n",
       "      <th>item_price</th>\n",
       "      <th>name_description</th>\n",
       "    </tr>\n",
       "  </thead>\n",
       "  <tbody>\n",
       "    <tr>\n",
       "      <th>0</th>\n",
       "      <td>1</td>\n",
       "      <td>1</td>\n",
       "      <td>Chips and Fresh Tomato Salsa</td>\n",
       "      <td>NaN</td>\n",
       "      <td>$2.39</td>\n",
       "      <td>Chips and Fresh Tomato Salsa</td>\n",
       "    </tr>\n",
       "    <tr>\n",
       "      <th>1</th>\n",
       "      <td>1</td>\n",
       "      <td>1</td>\n",
       "      <td>Izze</td>\n",
       "      <td>[Clementine]</td>\n",
       "      <td>$3.39</td>\n",
       "      <td>Izze[Clementine]</td>\n",
       "    </tr>\n",
       "    <tr>\n",
       "      <th>2</th>\n",
       "      <td>1</td>\n",
       "      <td>1</td>\n",
       "      <td>Nantucket Nectar</td>\n",
       "      <td>[Apple]</td>\n",
       "      <td>$3.39</td>\n",
       "      <td>Nantucket Nectar[Apple]</td>\n",
       "    </tr>\n",
       "    <tr>\n",
       "      <th>3</th>\n",
       "      <td>1</td>\n",
       "      <td>1</td>\n",
       "      <td>Chips and Tomatillo-Green Chili Salsa</td>\n",
       "      <td>NaN</td>\n",
       "      <td>$2.39</td>\n",
       "      <td>Chips and Tomatillo-Green Chili Salsa</td>\n",
       "    </tr>\n",
       "    <tr>\n",
       "      <th>4</th>\n",
       "      <td>2</td>\n",
       "      <td>2</td>\n",
       "      <td>Chicken Bowl</td>\n",
       "      <td>[Tomatillo-Red Chili Salsa (Hot), [Black Beans...</td>\n",
       "      <td>$16.98</td>\n",
       "      <td>Chicken Bowl[Tomatillo-Red Chili Salsa (Hot), ...</td>\n",
       "    </tr>\n",
       "  </tbody>\n",
       "</table>\n",
       "</div>"
      ],
      "text/plain": [
       "   order_id  quantity                              item_name  \\\n",
       "0         1         1           Chips and Fresh Tomato Salsa   \n",
       "1         1         1                                   Izze   \n",
       "2         1         1                       Nantucket Nectar   \n",
       "3         1         1  Chips and Tomatillo-Green Chili Salsa   \n",
       "4         2         2                           Chicken Bowl   \n",
       "\n",
       "                                  choice_description item_price  \\\n",
       "0                                                NaN     $2.39    \n",
       "1                                       [Clementine]     $3.39    \n",
       "2                                            [Apple]     $3.39    \n",
       "3                                                NaN     $2.39    \n",
       "4  [Tomatillo-Red Chili Salsa (Hot), [Black Beans...    $16.98    \n",
       "\n",
       "                                    name_description  \n",
       "0                       Chips and Fresh Tomato Salsa  \n",
       "1                                   Izze[Clementine]  \n",
       "2                            Nantucket Nectar[Apple]  \n",
       "3              Chips and Tomatillo-Green Chili Salsa  \n",
       "4  Chicken Bowl[Tomatillo-Red Chili Salsa (Hot), ...  "
      ]
     },
     "execution_count": 25,
     "metadata": {},
     "output_type": "execute_result"
    }
   ],
   "source": [
    "chipo_aux.head()"
   ]
  },
  {
   "cell_type": "markdown",
   "metadata": {},
   "source": [
    "### Tratando do tipo da coluna de preço"
   ]
  },
  {
   "cell_type": "code",
   "execution_count": 26,
   "metadata": {},
   "outputs": [],
   "source": [
    "chipo_aux['order_price'] = chipo_aux['item_price'].str.split('$', expand=True)[1].astype('float64')\n",
    "chipo_aux.drop(columns='item_price', inplace=True)"
   ]
  },
  {
   "cell_type": "code",
   "execution_count": 27,
   "metadata": {},
   "outputs": [
    {
     "data": {
      "text/html": [
       "<div>\n",
       "<style scoped>\n",
       "    .dataframe tbody tr th:only-of-type {\n",
       "        vertical-align: middle;\n",
       "    }\n",
       "\n",
       "    .dataframe tbody tr th {\n",
       "        vertical-align: top;\n",
       "    }\n",
       "\n",
       "    .dataframe thead th {\n",
       "        text-align: right;\n",
       "    }\n",
       "</style>\n",
       "<table border=\"1\" class=\"dataframe\">\n",
       "  <thead>\n",
       "    <tr style=\"text-align: right;\">\n",
       "      <th></th>\n",
       "      <th>order_id</th>\n",
       "      <th>quantity</th>\n",
       "      <th>item_name</th>\n",
       "      <th>choice_description</th>\n",
       "      <th>name_description</th>\n",
       "      <th>order_price</th>\n",
       "    </tr>\n",
       "  </thead>\n",
       "  <tbody>\n",
       "    <tr>\n",
       "      <th>0</th>\n",
       "      <td>1</td>\n",
       "      <td>1</td>\n",
       "      <td>Chips and Fresh Tomato Salsa</td>\n",
       "      <td>NaN</td>\n",
       "      <td>Chips and Fresh Tomato Salsa</td>\n",
       "      <td>2.39</td>\n",
       "    </tr>\n",
       "    <tr>\n",
       "      <th>1</th>\n",
       "      <td>1</td>\n",
       "      <td>1</td>\n",
       "      <td>Izze</td>\n",
       "      <td>[Clementine]</td>\n",
       "      <td>Izze[Clementine]</td>\n",
       "      <td>3.39</td>\n",
       "    </tr>\n",
       "    <tr>\n",
       "      <th>2</th>\n",
       "      <td>1</td>\n",
       "      <td>1</td>\n",
       "      <td>Nantucket Nectar</td>\n",
       "      <td>[Apple]</td>\n",
       "      <td>Nantucket Nectar[Apple]</td>\n",
       "      <td>3.39</td>\n",
       "    </tr>\n",
       "    <tr>\n",
       "      <th>3</th>\n",
       "      <td>1</td>\n",
       "      <td>1</td>\n",
       "      <td>Chips and Tomatillo-Green Chili Salsa</td>\n",
       "      <td>NaN</td>\n",
       "      <td>Chips and Tomatillo-Green Chili Salsa</td>\n",
       "      <td>2.39</td>\n",
       "    </tr>\n",
       "    <tr>\n",
       "      <th>4</th>\n",
       "      <td>2</td>\n",
       "      <td>2</td>\n",
       "      <td>Chicken Bowl</td>\n",
       "      <td>[Tomatillo-Red Chili Salsa (Hot), [Black Beans...</td>\n",
       "      <td>Chicken Bowl[Tomatillo-Red Chili Salsa (Hot), ...</td>\n",
       "      <td>16.98</td>\n",
       "    </tr>\n",
       "  </tbody>\n",
       "</table>\n",
       "</div>"
      ],
      "text/plain": [
       "   order_id  quantity                              item_name  \\\n",
       "0         1         1           Chips and Fresh Tomato Salsa   \n",
       "1         1         1                                   Izze   \n",
       "2         1         1                       Nantucket Nectar   \n",
       "3         1         1  Chips and Tomatillo-Green Chili Salsa   \n",
       "4         2         2                           Chicken Bowl   \n",
       "\n",
       "                                  choice_description  \\\n",
       "0                                                NaN   \n",
       "1                                       [Clementine]   \n",
       "2                                            [Apple]   \n",
       "3                                                NaN   \n",
       "4  [Tomatillo-Red Chili Salsa (Hot), [Black Beans...   \n",
       "\n",
       "                                    name_description  order_price  \n",
       "0                       Chips and Fresh Tomato Salsa         2.39  \n",
       "1                                   Izze[Clementine]         3.39  \n",
       "2                            Nantucket Nectar[Apple]         3.39  \n",
       "3              Chips and Tomatillo-Green Chili Salsa         2.39  \n",
       "4  Chicken Bowl[Tomatillo-Red Chili Salsa (Hot), ...        16.98  "
      ]
     },
     "execution_count": 27,
     "metadata": {},
     "output_type": "execute_result"
    }
   ],
   "source": [
    "chipo_aux.head()"
   ]
  },
  {
   "cell_type": "markdown",
   "metadata": {},
   "source": [
    "### Criando uma coluna com o preço unitário dos itens"
   ]
  },
  {
   "cell_type": "code",
   "execution_count": 28,
   "metadata": {},
   "outputs": [],
   "source": [
    "chipo_aux.loc[:,'unit_price'] = (chipo_aux['order_price']/chipo_aux['quantity']).round(2)\n"
   ]
  },
  {
   "cell_type": "code",
   "execution_count": 29,
   "metadata": {},
   "outputs": [
    {
     "data": {
      "text/html": [
       "<div>\n",
       "<style scoped>\n",
       "    .dataframe tbody tr th:only-of-type {\n",
       "        vertical-align: middle;\n",
       "    }\n",
       "\n",
       "    .dataframe tbody tr th {\n",
       "        vertical-align: top;\n",
       "    }\n",
       "\n",
       "    .dataframe thead th {\n",
       "        text-align: right;\n",
       "    }\n",
       "</style>\n",
       "<table border=\"1\" class=\"dataframe\">\n",
       "  <thead>\n",
       "    <tr style=\"text-align: right;\">\n",
       "      <th></th>\n",
       "      <th>order_id</th>\n",
       "      <th>quantity</th>\n",
       "      <th>item_name</th>\n",
       "      <th>choice_description</th>\n",
       "      <th>name_description</th>\n",
       "      <th>order_price</th>\n",
       "      <th>unit_price</th>\n",
       "    </tr>\n",
       "  </thead>\n",
       "  <tbody>\n",
       "    <tr>\n",
       "      <th>0</th>\n",
       "      <td>1</td>\n",
       "      <td>1</td>\n",
       "      <td>Chips and Fresh Tomato Salsa</td>\n",
       "      <td>NaN</td>\n",
       "      <td>Chips and Fresh Tomato Salsa</td>\n",
       "      <td>2.39</td>\n",
       "      <td>2.39</td>\n",
       "    </tr>\n",
       "    <tr>\n",
       "      <th>1</th>\n",
       "      <td>1</td>\n",
       "      <td>1</td>\n",
       "      <td>Izze</td>\n",
       "      <td>[Clementine]</td>\n",
       "      <td>Izze[Clementine]</td>\n",
       "      <td>3.39</td>\n",
       "      <td>3.39</td>\n",
       "    </tr>\n",
       "    <tr>\n",
       "      <th>2</th>\n",
       "      <td>1</td>\n",
       "      <td>1</td>\n",
       "      <td>Nantucket Nectar</td>\n",
       "      <td>[Apple]</td>\n",
       "      <td>Nantucket Nectar[Apple]</td>\n",
       "      <td>3.39</td>\n",
       "      <td>3.39</td>\n",
       "    </tr>\n",
       "    <tr>\n",
       "      <th>3</th>\n",
       "      <td>1</td>\n",
       "      <td>1</td>\n",
       "      <td>Chips and Tomatillo-Green Chili Salsa</td>\n",
       "      <td>NaN</td>\n",
       "      <td>Chips and Tomatillo-Green Chili Salsa</td>\n",
       "      <td>2.39</td>\n",
       "      <td>2.39</td>\n",
       "    </tr>\n",
       "    <tr>\n",
       "      <th>4</th>\n",
       "      <td>2</td>\n",
       "      <td>2</td>\n",
       "      <td>Chicken Bowl</td>\n",
       "      <td>[Tomatillo-Red Chili Salsa (Hot), [Black Beans...</td>\n",
       "      <td>Chicken Bowl[Tomatillo-Red Chili Salsa (Hot), ...</td>\n",
       "      <td>16.98</td>\n",
       "      <td>8.49</td>\n",
       "    </tr>\n",
       "  </tbody>\n",
       "</table>\n",
       "</div>"
      ],
      "text/plain": [
       "   order_id  quantity                              item_name  \\\n",
       "0         1         1           Chips and Fresh Tomato Salsa   \n",
       "1         1         1                                   Izze   \n",
       "2         1         1                       Nantucket Nectar   \n",
       "3         1         1  Chips and Tomatillo-Green Chili Salsa   \n",
       "4         2         2                           Chicken Bowl   \n",
       "\n",
       "                                  choice_description  \\\n",
       "0                                                NaN   \n",
       "1                                       [Clementine]   \n",
       "2                                            [Apple]   \n",
       "3                                                NaN   \n",
       "4  [Tomatillo-Red Chili Salsa (Hot), [Black Beans...   \n",
       "\n",
       "                                    name_description  order_price  unit_price  \n",
       "0                       Chips and Fresh Tomato Salsa         2.39        2.39  \n",
       "1                                   Izze[Clementine]         3.39        3.39  \n",
       "2                            Nantucket Nectar[Apple]         3.39        3.39  \n",
       "3              Chips and Tomatillo-Green Chili Salsa         2.39        2.39  \n",
       "4  Chicken Bowl[Tomatillo-Red Chili Salsa (Hot), ...        16.98        8.49  "
      ]
     },
     "execution_count": 29,
     "metadata": {},
     "output_type": "execute_result"
    }
   ],
   "source": [
    "chipo_aux.head()"
   ]
  },
  {
   "cell_type": "markdown",
   "metadata": {},
   "source": [
    "#### Salvando o que já foi feito"
   ]
  },
  {
   "cell_type": "code",
   "execution_count": 30,
   "metadata": {},
   "outputs": [],
   "source": [
    "chipo = chipo_aux.copy()"
   ]
  },
  {
   "cell_type": "markdown",
   "metadata": {},
   "source": [
    "### Verificando se existe mais de um preço para o mesmo produto"
   ]
  },
  {
   "cell_type": "code",
   "execution_count": 31,
   "metadata": {},
   "outputs": [],
   "source": [
    "chipo_aux = chipo[['name_description','unit_price']]"
   ]
  },
  {
   "cell_type": "code",
   "execution_count": 32,
   "metadata": {},
   "outputs": [
    {
     "data": {
      "text/html": [
       "<div>\n",
       "<style scoped>\n",
       "    .dataframe tbody tr th:only-of-type {\n",
       "        vertical-align: middle;\n",
       "    }\n",
       "\n",
       "    .dataframe tbody tr th {\n",
       "        vertical-align: top;\n",
       "    }\n",
       "\n",
       "    .dataframe thead th {\n",
       "        text-align: right;\n",
       "    }\n",
       "</style>\n",
       "<table border=\"1\" class=\"dataframe\">\n",
       "  <thead>\n",
       "    <tr style=\"text-align: right;\">\n",
       "      <th></th>\n",
       "      <th>name_description</th>\n",
       "      <th>unit_price</th>\n",
       "    </tr>\n",
       "  </thead>\n",
       "  <tbody>\n",
       "    <tr>\n",
       "      <th>0</th>\n",
       "      <td>Chips and Fresh Tomato Salsa</td>\n",
       "      <td>2.39</td>\n",
       "    </tr>\n",
       "    <tr>\n",
       "      <th>1</th>\n",
       "      <td>Izze[Clementine]</td>\n",
       "      <td>3.39</td>\n",
       "    </tr>\n",
       "    <tr>\n",
       "      <th>2</th>\n",
       "      <td>Nantucket Nectar[Apple]</td>\n",
       "      <td>3.39</td>\n",
       "    </tr>\n",
       "    <tr>\n",
       "      <th>3</th>\n",
       "      <td>Chips and Tomatillo-Green Chili Salsa</td>\n",
       "      <td>2.39</td>\n",
       "    </tr>\n",
       "    <tr>\n",
       "      <th>4</th>\n",
       "      <td>Chicken Bowl[Tomatillo-Red Chili Salsa (Hot), ...</td>\n",
       "      <td>8.49</td>\n",
       "    </tr>\n",
       "  </tbody>\n",
       "</table>\n",
       "</div>"
      ],
      "text/plain": [
       "                                    name_description  unit_price\n",
       "0                       Chips and Fresh Tomato Salsa        2.39\n",
       "1                                   Izze[Clementine]        3.39\n",
       "2                            Nantucket Nectar[Apple]        3.39\n",
       "3              Chips and Tomatillo-Green Chili Salsa        2.39\n",
       "4  Chicken Bowl[Tomatillo-Red Chili Salsa (Hot), ...        8.49"
      ]
     },
     "execution_count": 32,
     "metadata": {},
     "output_type": "execute_result"
    }
   ],
   "source": [
    "chipo_aux.head()"
   ]
  },
  {
   "cell_type": "code",
   "execution_count": 33,
   "metadata": {},
   "outputs": [],
   "source": [
    "chipo_aux = chipo_aux.drop_duplicates()"
   ]
  },
  {
   "cell_type": "code",
   "execution_count": 34,
   "metadata": {},
   "outputs": [
    {
     "name": "stdout",
     "output_type": "stream",
     "text": [
      "<class 'pandas.core.frame.DataFrame'>\n",
      "Int64Index: 1879 entries, 0 to 4612\n",
      "Data columns (total 2 columns):\n",
      " #   Column            Non-Null Count  Dtype  \n",
      "---  ------            --------------  -----  \n",
      " 0   name_description  1879 non-null   object \n",
      " 1   unit_price        1879 non-null   float64\n",
      "dtypes: float64(1), object(1)\n",
      "memory usage: 44.0+ KB\n"
     ]
    }
   ],
   "source": [
    "chipo_aux.info()"
   ]
  },
  {
   "cell_type": "markdown",
   "metadata": {},
   "source": [
    "#### Criando uma tabela com os itens duplicados que tem preços diferentes"
   ]
  },
  {
   "cell_type": "code",
   "execution_count": 35,
   "metadata": {},
   "outputs": [
    {
     "data": {
      "text/html": [
       "<div>\n",
       "<style scoped>\n",
       "    .dataframe tbody tr th:only-of-type {\n",
       "        vertical-align: middle;\n",
       "    }\n",
       "\n",
       "    .dataframe tbody tr th {\n",
       "        vertical-align: top;\n",
       "    }\n",
       "\n",
       "    .dataframe thead th {\n",
       "        text-align: right;\n",
       "    }\n",
       "</style>\n",
       "<table border=\"1\" class=\"dataframe\">\n",
       "  <thead>\n",
       "    <tr style=\"text-align: right;\">\n",
       "      <th></th>\n",
       "      <th>name_description</th>\n",
       "      <th>unit_price</th>\n",
       "    </tr>\n",
       "  </thead>\n",
       "  <tbody>\n",
       "    <tr>\n",
       "      <th>49</th>\n",
       "      <td>Chips and Guacamole</td>\n",
       "      <td>3.99</td>\n",
       "    </tr>\n",
       "    <tr>\n",
       "      <th>89</th>\n",
       "      <td>Chips and Fresh Tomato Salsa</td>\n",
       "      <td>2.95</td>\n",
       "    </tr>\n",
       "    <tr>\n",
       "      <th>329</th>\n",
       "      <td>Bottled Water</td>\n",
       "      <td>1.50</td>\n",
       "    </tr>\n",
       "    <tr>\n",
       "      <th>676</th>\n",
       "      <td>Chips and Guacamole</td>\n",
       "      <td>4.00</td>\n",
       "    </tr>\n",
       "    <tr>\n",
       "      <th>730</th>\n",
       "      <td>Chips and Fresh Tomato Salsa</td>\n",
       "      <td>2.29</td>\n",
       "    </tr>\n",
       "    <tr>\n",
       "      <th>927</th>\n",
       "      <td>Chips and Guacamole</td>\n",
       "      <td>3.89</td>\n",
       "    </tr>\n",
       "    <tr>\n",
       "      <th>4237</th>\n",
       "      <td>Chips and Guacamole</td>\n",
       "      <td>4.25</td>\n",
       "    </tr>\n",
       "    <tr>\n",
       "      <th>4509</th>\n",
       "      <td>Chips</td>\n",
       "      <td>1.99</td>\n",
       "    </tr>\n",
       "  </tbody>\n",
       "</table>\n",
       "</div>"
      ],
      "text/plain": [
       "                  name_description  unit_price\n",
       "49             Chips and Guacamole        3.99\n",
       "89    Chips and Fresh Tomato Salsa        2.95\n",
       "329                  Bottled Water        1.50\n",
       "676            Chips and Guacamole        4.00\n",
       "730   Chips and Fresh Tomato Salsa        2.29\n",
       "927            Chips and Guacamole        3.89\n",
       "4237           Chips and Guacamole        4.25\n",
       "4509                         Chips        1.99"
      ]
     },
     "execution_count": 35,
     "metadata": {},
     "output_type": "execute_result"
    }
   ],
   "source": [
    "diferent_prices = chipo_aux[chipo_aux['name_description'].duplicated() == True]\n",
    "diferent_prices\n"
   ]
  },
  {
   "cell_type": "code",
   "execution_count": 36,
   "metadata": {},
   "outputs": [
    {
     "data": {
      "text/html": [
       "<div>\n",
       "<style scoped>\n",
       "    .dataframe tbody tr th:only-of-type {\n",
       "        vertical-align: middle;\n",
       "    }\n",
       "\n",
       "    .dataframe tbody tr th {\n",
       "        vertical-align: top;\n",
       "    }\n",
       "\n",
       "    .dataframe thead th {\n",
       "        text-align: right;\n",
       "    }\n",
       "</style>\n",
       "<table border=\"1\" class=\"dataframe\">\n",
       "  <thead>\n",
       "    <tr style=\"text-align: right;\">\n",
       "      <th></th>\n",
       "      <th>name_description</th>\n",
       "      <th>unit_price</th>\n",
       "    </tr>\n",
       "  </thead>\n",
       "  <tbody>\n",
       "    <tr>\n",
       "      <th>0</th>\n",
       "      <td>Chips and Fresh Tomato Salsa</td>\n",
       "      <td>2.39</td>\n",
       "    </tr>\n",
       "    <tr>\n",
       "      <th>10</th>\n",
       "      <td>Chips and Guacamole</td>\n",
       "      <td>4.45</td>\n",
       "    </tr>\n",
       "    <tr>\n",
       "      <th>34</th>\n",
       "      <td>Bottled Water</td>\n",
       "      <td>1.09</td>\n",
       "    </tr>\n",
       "    <tr>\n",
       "      <th>40</th>\n",
       "      <td>Chips</td>\n",
       "      <td>2.15</td>\n",
       "    </tr>\n",
       "    <tr>\n",
       "      <th>49</th>\n",
       "      <td>Chips and Guacamole</td>\n",
       "      <td>3.99</td>\n",
       "    </tr>\n",
       "    <tr>\n",
       "      <th>89</th>\n",
       "      <td>Chips and Fresh Tomato Salsa</td>\n",
       "      <td>2.95</td>\n",
       "    </tr>\n",
       "    <tr>\n",
       "      <th>329</th>\n",
       "      <td>Bottled Water</td>\n",
       "      <td>1.50</td>\n",
       "    </tr>\n",
       "    <tr>\n",
       "      <th>676</th>\n",
       "      <td>Chips and Guacamole</td>\n",
       "      <td>4.00</td>\n",
       "    </tr>\n",
       "    <tr>\n",
       "      <th>730</th>\n",
       "      <td>Chips and Fresh Tomato Salsa</td>\n",
       "      <td>2.29</td>\n",
       "    </tr>\n",
       "    <tr>\n",
       "      <th>927</th>\n",
       "      <td>Chips and Guacamole</td>\n",
       "      <td>3.89</td>\n",
       "    </tr>\n",
       "    <tr>\n",
       "      <th>4237</th>\n",
       "      <td>Chips and Guacamole</td>\n",
       "      <td>4.25</td>\n",
       "    </tr>\n",
       "    <tr>\n",
       "      <th>4509</th>\n",
       "      <td>Chips</td>\n",
       "      <td>1.99</td>\n",
       "    </tr>\n",
       "  </tbody>\n",
       "</table>\n",
       "</div>"
      ],
      "text/plain": [
       "                  name_description  unit_price\n",
       "0     Chips and Fresh Tomato Salsa        2.39\n",
       "10             Chips and Guacamole        4.45\n",
       "34                   Bottled Water        1.09\n",
       "40                           Chips        2.15\n",
       "49             Chips and Guacamole        3.99\n",
       "89    Chips and Fresh Tomato Salsa        2.95\n",
       "329                  Bottled Water        1.50\n",
       "676            Chips and Guacamole        4.00\n",
       "730   Chips and Fresh Tomato Salsa        2.29\n",
       "927            Chips and Guacamole        3.89\n",
       "4237           Chips and Guacamole        4.25\n",
       "4509                         Chips        1.99"
      ]
     },
     "execution_count": 36,
     "metadata": {},
     "output_type": "execute_result"
    }
   ],
   "source": [
    "chipo_aux.loc[chipo_aux['name_description'].isin(diferent_prices['name_description'])]"
   ]
  },
  {
   "cell_type": "markdown",
   "metadata": {},
   "source": [
    "#### Verificando mais informações sobre esses itens com variação de preço"
   ]
  },
  {
   "cell_type": "code",
   "execution_count": 37,
   "metadata": {},
   "outputs": [
    {
     "data": {
      "text/html": [
       "<div>\n",
       "<style scoped>\n",
       "    .dataframe tbody tr th:only-of-type {\n",
       "        vertical-align: middle;\n",
       "    }\n",
       "\n",
       "    .dataframe tbody tr th {\n",
       "        vertical-align: top;\n",
       "    }\n",
       "\n",
       "    .dataframe thead tr th {\n",
       "        text-align: left;\n",
       "    }\n",
       "\n",
       "    .dataframe thead tr:last-of-type th {\n",
       "        text-align: right;\n",
       "    }\n",
       "</style>\n",
       "<table border=\"1\" class=\"dataframe\">\n",
       "  <thead>\n",
       "    <tr>\n",
       "      <th></th>\n",
       "      <th>mean</th>\n",
       "      <th>std</th>\n",
       "      <th>min</th>\n",
       "      <th>max</th>\n",
       "    </tr>\n",
       "    <tr>\n",
       "      <th></th>\n",
       "      <th>unit_price</th>\n",
       "      <th>unit_price</th>\n",
       "      <th>unit_price</th>\n",
       "      <th>unit_price</th>\n",
       "    </tr>\n",
       "    <tr>\n",
       "      <th>name_description</th>\n",
       "      <th></th>\n",
       "      <th></th>\n",
       "      <th></th>\n",
       "      <th></th>\n",
       "    </tr>\n",
       "  </thead>\n",
       "  <tbody>\n",
       "    <tr>\n",
       "      <th>Bottled Water</th>\n",
       "      <td>1.30</td>\n",
       "      <td>0.29</td>\n",
       "      <td>1.09</td>\n",
       "      <td>1.50</td>\n",
       "    </tr>\n",
       "    <tr>\n",
       "      <th>Chips</th>\n",
       "      <td>2.07</td>\n",
       "      <td>0.11</td>\n",
       "      <td>1.99</td>\n",
       "      <td>2.15</td>\n",
       "    </tr>\n",
       "    <tr>\n",
       "      <th>Chips and Fresh Tomato Salsa</th>\n",
       "      <td>2.54</td>\n",
       "      <td>0.36</td>\n",
       "      <td>2.29</td>\n",
       "      <td>2.95</td>\n",
       "    </tr>\n",
       "    <tr>\n",
       "      <th>Chips and Guacamole</th>\n",
       "      <td>4.12</td>\n",
       "      <td>0.23</td>\n",
       "      <td>3.89</td>\n",
       "      <td>4.45</td>\n",
       "    </tr>\n",
       "  </tbody>\n",
       "</table>\n",
       "</div>"
      ],
      "text/plain": [
       "                                   mean        std        min        max\n",
       "                             unit_price unit_price unit_price unit_price\n",
       "name_description                                                        \n",
       "Bottled Water                      1.30       0.29       1.09       1.50\n",
       "Chips                              2.07       0.11       1.99       2.15\n",
       "Chips and Fresh Tomato Salsa       2.54       0.36       2.29       2.95\n",
       "Chips and Guacamole                4.12       0.23       3.89       4.45"
      ]
     },
     "execution_count": 37,
     "metadata": {},
     "output_type": "execute_result"
    }
   ],
   "source": [
    "aux2 = (chipo_aux.loc[chipo_aux['name_description'].isin(diferent_prices['name_description'])].pivot_table(index='name_description', values='unit_price', aggfunc=['mean','std','min', 'max']))\n",
    "aux2[['mean','std']] = aux2[['mean','std']].round(2)\n",
    "aux2"
   ]
  },
  {
   "cell_type": "code",
   "execution_count": 38,
   "metadata": {},
   "outputs": [
    {
     "data": {
      "text/plain": [
       "Index(['Bottled Water', 'Chips', 'Chips and Fresh Tomato Salsa',\n",
       "       'Chips and Guacamole'],\n",
       "      dtype='object', name='name_description')"
      ]
     },
     "execution_count": 38,
     "metadata": {},
     "output_type": "execute_result"
    }
   ],
   "source": [
    "aux2.index"
   ]
  },
  {
   "cell_type": "code",
   "execution_count": 39,
   "metadata": {},
   "outputs": [
    {
     "data": {
      "text/html": [
       "<div>\n",
       "<style scoped>\n",
       "    .dataframe tbody tr th:only-of-type {\n",
       "        vertical-align: middle;\n",
       "    }\n",
       "\n",
       "    .dataframe tbody tr th {\n",
       "        vertical-align: top;\n",
       "    }\n",
       "\n",
       "    .dataframe thead th {\n",
       "        text-align: right;\n",
       "    }\n",
       "</style>\n",
       "<table border=\"1\" class=\"dataframe\">\n",
       "  <thead>\n",
       "    <tr style=\"text-align: right;\">\n",
       "      <th>unit_price</th>\n",
       "      <th>1.09</th>\n",
       "      <th>1.50</th>\n",
       "      <th>1.99</th>\n",
       "      <th>2.15</th>\n",
       "      <th>2.29</th>\n",
       "      <th>2.39</th>\n",
       "      <th>2.95</th>\n",
       "      <th>3.89</th>\n",
       "      <th>3.99</th>\n",
       "      <th>4.00</th>\n",
       "      <th>4.25</th>\n",
       "      <th>4.45</th>\n",
       "    </tr>\n",
       "    <tr>\n",
       "      <th>name_description</th>\n",
       "      <th></th>\n",
       "      <th></th>\n",
       "      <th></th>\n",
       "      <th></th>\n",
       "      <th></th>\n",
       "      <th></th>\n",
       "      <th></th>\n",
       "      <th></th>\n",
       "      <th></th>\n",
       "      <th></th>\n",
       "      <th></th>\n",
       "      <th></th>\n",
       "    </tr>\n",
       "  </thead>\n",
       "  <tbody>\n",
       "    <tr>\n",
       "      <th>Bottled Water</th>\n",
       "      <td>27.0</td>\n",
       "      <td>135.0</td>\n",
       "      <td>NaN</td>\n",
       "      <td>NaN</td>\n",
       "      <td>NaN</td>\n",
       "      <td>NaN</td>\n",
       "      <td>NaN</td>\n",
       "      <td>NaN</td>\n",
       "      <td>NaN</td>\n",
       "      <td>NaN</td>\n",
       "      <td>NaN</td>\n",
       "      <td>NaN</td>\n",
       "    </tr>\n",
       "    <tr>\n",
       "      <th>Chips</th>\n",
       "      <td>NaN</td>\n",
       "      <td>NaN</td>\n",
       "      <td>1.0</td>\n",
       "      <td>210.0</td>\n",
       "      <td>NaN</td>\n",
       "      <td>NaN</td>\n",
       "      <td>NaN</td>\n",
       "      <td>NaN</td>\n",
       "      <td>NaN</td>\n",
       "      <td>NaN</td>\n",
       "      <td>NaN</td>\n",
       "      <td>NaN</td>\n",
       "    </tr>\n",
       "    <tr>\n",
       "      <th>Chips and Fresh Tomato Salsa</th>\n",
       "      <td>NaN</td>\n",
       "      <td>NaN</td>\n",
       "      <td>NaN</td>\n",
       "      <td>NaN</td>\n",
       "      <td>3.0</td>\n",
       "      <td>36.0</td>\n",
       "      <td>71.0</td>\n",
       "      <td>NaN</td>\n",
       "      <td>NaN</td>\n",
       "      <td>NaN</td>\n",
       "      <td>NaN</td>\n",
       "      <td>NaN</td>\n",
       "    </tr>\n",
       "    <tr>\n",
       "      <th>Chips and Guacamole</th>\n",
       "      <td>NaN</td>\n",
       "      <td>NaN</td>\n",
       "      <td>NaN</td>\n",
       "      <td>NaN</td>\n",
       "      <td>NaN</td>\n",
       "      <td>NaN</td>\n",
       "      <td>NaN</td>\n",
       "      <td>6.0</td>\n",
       "      <td>99.0</td>\n",
       "      <td>2.0</td>\n",
       "      <td>1.0</td>\n",
       "      <td>371.0</td>\n",
       "    </tr>\n",
       "  </tbody>\n",
       "</table>\n",
       "</div>"
      ],
      "text/plain": [
       "unit_price                    1.09   1.50  1.99   2.15  2.29  2.39  2.95  \\\n",
       "name_description                                                           \n",
       "Bottled Water                 27.0  135.0   NaN    NaN   NaN   NaN   NaN   \n",
       "Chips                          NaN    NaN   1.0  210.0   NaN   NaN   NaN   \n",
       "Chips and Fresh Tomato Salsa   NaN    NaN   NaN    NaN   3.0  36.0  71.0   \n",
       "Chips and Guacamole            NaN    NaN   NaN    NaN   NaN   NaN   NaN   \n",
       "\n",
       "unit_price                    3.89  3.99  4.00  4.25   4.45  \n",
       "name_description                                             \n",
       "Bottled Water                  NaN   NaN   NaN   NaN    NaN  \n",
       "Chips                          NaN   NaN   NaN   NaN    NaN  \n",
       "Chips and Fresh Tomato Salsa   NaN   NaN   NaN   NaN    NaN  \n",
       "Chips and Guacamole            6.0  99.0   2.0   1.0  371.0  "
      ]
     },
     "execution_count": 39,
     "metadata": {},
     "output_type": "execute_result"
    }
   ],
   "source": [
    "price_variation = chipo[chipo['name_description'].isin(aux2.index)].sort_values(['name_description', 'unit_price'])\n",
    "price_variation.pivot_table(index='name_description', values='order_price', columns='unit_price', aggfunc='count')"
   ]
  },
  {
   "cell_type": "markdown",
   "metadata": {},
   "source": [
    "## Questionário"
   ]
  },
  {
   "cell_type": "markdown",
   "metadata": {},
   "source": [
    "### a) Importe os dados em notebook e atribua à variável chipo."
   ]
  },
  {
   "cell_type": "code",
   "execution_count": 40,
   "metadata": {},
   "outputs": [
    {
     "data": {
      "text/html": [
       "<div>\n",
       "<style scoped>\n",
       "    .dataframe tbody tr th:only-of-type {\n",
       "        vertical-align: middle;\n",
       "    }\n",
       "\n",
       "    .dataframe tbody tr th {\n",
       "        vertical-align: top;\n",
       "    }\n",
       "\n",
       "    .dataframe thead th {\n",
       "        text-align: right;\n",
       "    }\n",
       "</style>\n",
       "<table border=\"1\" class=\"dataframe\">\n",
       "  <thead>\n",
       "    <tr style=\"text-align: right;\">\n",
       "      <th></th>\n",
       "      <th>order_id</th>\n",
       "      <th>quantity</th>\n",
       "      <th>item_name</th>\n",
       "      <th>choice_description</th>\n",
       "      <th>name_description</th>\n",
       "      <th>order_price</th>\n",
       "      <th>unit_price</th>\n",
       "    </tr>\n",
       "  </thead>\n",
       "  <tbody>\n",
       "    <tr>\n",
       "      <th>0</th>\n",
       "      <td>1</td>\n",
       "      <td>1</td>\n",
       "      <td>Chips and Fresh Tomato Salsa</td>\n",
       "      <td>NaN</td>\n",
       "      <td>Chips and Fresh Tomato Salsa</td>\n",
       "      <td>2.39</td>\n",
       "      <td>2.39</td>\n",
       "    </tr>\n",
       "    <tr>\n",
       "      <th>1</th>\n",
       "      <td>1</td>\n",
       "      <td>1</td>\n",
       "      <td>Izze</td>\n",
       "      <td>[Clementine]</td>\n",
       "      <td>Izze[Clementine]</td>\n",
       "      <td>3.39</td>\n",
       "      <td>3.39</td>\n",
       "    </tr>\n",
       "    <tr>\n",
       "      <th>2</th>\n",
       "      <td>1</td>\n",
       "      <td>1</td>\n",
       "      <td>Nantucket Nectar</td>\n",
       "      <td>[Apple]</td>\n",
       "      <td>Nantucket Nectar[Apple]</td>\n",
       "      <td>3.39</td>\n",
       "      <td>3.39</td>\n",
       "    </tr>\n",
       "    <tr>\n",
       "      <th>3</th>\n",
       "      <td>1</td>\n",
       "      <td>1</td>\n",
       "      <td>Chips and Tomatillo-Green Chili Salsa</td>\n",
       "      <td>NaN</td>\n",
       "      <td>Chips and Tomatillo-Green Chili Salsa</td>\n",
       "      <td>2.39</td>\n",
       "      <td>2.39</td>\n",
       "    </tr>\n",
       "    <tr>\n",
       "      <th>4</th>\n",
       "      <td>2</td>\n",
       "      <td>2</td>\n",
       "      <td>Chicken Bowl</td>\n",
       "      <td>[Tomatillo-Red Chili Salsa (Hot), [Black Beans...</td>\n",
       "      <td>Chicken Bowl[Tomatillo-Red Chili Salsa (Hot), ...</td>\n",
       "      <td>16.98</td>\n",
       "      <td>8.49</td>\n",
       "    </tr>\n",
       "  </tbody>\n",
       "</table>\n",
       "</div>"
      ],
      "text/plain": [
       "   order_id  quantity                              item_name  \\\n",
       "0         1         1           Chips and Fresh Tomato Salsa   \n",
       "1         1         1                                   Izze   \n",
       "2         1         1                       Nantucket Nectar   \n",
       "3         1         1  Chips and Tomatillo-Green Chili Salsa   \n",
       "4         2         2                           Chicken Bowl   \n",
       "\n",
       "                                  choice_description  \\\n",
       "0                                                NaN   \n",
       "1                                       [Clementine]   \n",
       "2                                            [Apple]   \n",
       "3                                                NaN   \n",
       "4  [Tomatillo-Red Chili Salsa (Hot), [Black Beans...   \n",
       "\n",
       "                                    name_description  order_price  unit_price  \n",
       "0                       Chips and Fresh Tomato Salsa         2.39        2.39  \n",
       "1                                   Izze[Clementine]         3.39        3.39  \n",
       "2                            Nantucket Nectar[Apple]         3.39        3.39  \n",
       "3              Chips and Tomatillo-Green Chili Salsa         2.39        2.39  \n",
       "4  Chicken Bowl[Tomatillo-Red Chili Salsa (Hot), ...        16.98        8.49  "
      ]
     },
     "execution_count": 40,
     "metadata": {},
     "output_type": "execute_result"
    }
   ],
   "source": [
    "chipo.head()"
   ]
  },
  {
   "cell_type": "markdown",
   "metadata": {},
   "source": [
    "### b) Selecione e mostre as 10 primeiras entradas."
   ]
  },
  {
   "cell_type": "code",
   "execution_count": 41,
   "metadata": {},
   "outputs": [
    {
     "data": {
      "text/html": [
       "<div>\n",
       "<style scoped>\n",
       "    .dataframe tbody tr th:only-of-type {\n",
       "        vertical-align: middle;\n",
       "    }\n",
       "\n",
       "    .dataframe tbody tr th {\n",
       "        vertical-align: top;\n",
       "    }\n",
       "\n",
       "    .dataframe thead th {\n",
       "        text-align: right;\n",
       "    }\n",
       "</style>\n",
       "<table border=\"1\" class=\"dataframe\">\n",
       "  <thead>\n",
       "    <tr style=\"text-align: right;\">\n",
       "      <th></th>\n",
       "      <th>order_id</th>\n",
       "      <th>quantity</th>\n",
       "      <th>item_name</th>\n",
       "      <th>choice_description</th>\n",
       "      <th>name_description</th>\n",
       "      <th>order_price</th>\n",
       "      <th>unit_price</th>\n",
       "    </tr>\n",
       "  </thead>\n",
       "  <tbody>\n",
       "    <tr>\n",
       "      <th>0</th>\n",
       "      <td>1</td>\n",
       "      <td>1</td>\n",
       "      <td>Chips and Fresh Tomato Salsa</td>\n",
       "      <td>NaN</td>\n",
       "      <td>Chips and Fresh Tomato Salsa</td>\n",
       "      <td>2.39</td>\n",
       "      <td>2.39</td>\n",
       "    </tr>\n",
       "    <tr>\n",
       "      <th>1</th>\n",
       "      <td>1</td>\n",
       "      <td>1</td>\n",
       "      <td>Izze</td>\n",
       "      <td>[Clementine]</td>\n",
       "      <td>Izze[Clementine]</td>\n",
       "      <td>3.39</td>\n",
       "      <td>3.39</td>\n",
       "    </tr>\n",
       "    <tr>\n",
       "      <th>2</th>\n",
       "      <td>1</td>\n",
       "      <td>1</td>\n",
       "      <td>Nantucket Nectar</td>\n",
       "      <td>[Apple]</td>\n",
       "      <td>Nantucket Nectar[Apple]</td>\n",
       "      <td>3.39</td>\n",
       "      <td>3.39</td>\n",
       "    </tr>\n",
       "    <tr>\n",
       "      <th>3</th>\n",
       "      <td>1</td>\n",
       "      <td>1</td>\n",
       "      <td>Chips and Tomatillo-Green Chili Salsa</td>\n",
       "      <td>NaN</td>\n",
       "      <td>Chips and Tomatillo-Green Chili Salsa</td>\n",
       "      <td>2.39</td>\n",
       "      <td>2.39</td>\n",
       "    </tr>\n",
       "    <tr>\n",
       "      <th>4</th>\n",
       "      <td>2</td>\n",
       "      <td>2</td>\n",
       "      <td>Chicken Bowl</td>\n",
       "      <td>[Tomatillo-Red Chili Salsa (Hot), [Black Beans...</td>\n",
       "      <td>Chicken Bowl[Tomatillo-Red Chili Salsa (Hot), ...</td>\n",
       "      <td>16.98</td>\n",
       "      <td>8.49</td>\n",
       "    </tr>\n",
       "    <tr>\n",
       "      <th>5</th>\n",
       "      <td>3</td>\n",
       "      <td>1</td>\n",
       "      <td>Chicken Bowl</td>\n",
       "      <td>[Fresh Tomato Salsa (Mild), [Rice, Cheese, Sou...</td>\n",
       "      <td>Chicken Bowl[Fresh Tomato Salsa (Mild), [Rice,...</td>\n",
       "      <td>10.98</td>\n",
       "      <td>10.98</td>\n",
       "    </tr>\n",
       "    <tr>\n",
       "      <th>6</th>\n",
       "      <td>3</td>\n",
       "      <td>1</td>\n",
       "      <td>Side of Chips</td>\n",
       "      <td>NaN</td>\n",
       "      <td>Side of Chips</td>\n",
       "      <td>1.69</td>\n",
       "      <td>1.69</td>\n",
       "    </tr>\n",
       "    <tr>\n",
       "      <th>7</th>\n",
       "      <td>4</td>\n",
       "      <td>1</td>\n",
       "      <td>Steak Burrito</td>\n",
       "      <td>[Tomatillo Red Chili Salsa, [Fajita Vegetables...</td>\n",
       "      <td>Steak Burrito[Tomatillo Red Chili Salsa, [Faji...</td>\n",
       "      <td>11.75</td>\n",
       "      <td>11.75</td>\n",
       "    </tr>\n",
       "    <tr>\n",
       "      <th>8</th>\n",
       "      <td>4</td>\n",
       "      <td>1</td>\n",
       "      <td>Steak Soft Tacos</td>\n",
       "      <td>[Tomatillo Green Chili Salsa, [Pinto Beans, Ch...</td>\n",
       "      <td>Steak Soft Tacos[Tomatillo Green Chili Salsa, ...</td>\n",
       "      <td>9.25</td>\n",
       "      <td>9.25</td>\n",
       "    </tr>\n",
       "    <tr>\n",
       "      <th>9</th>\n",
       "      <td>5</td>\n",
       "      <td>1</td>\n",
       "      <td>Steak Burrito</td>\n",
       "      <td>[Fresh Tomato Salsa, [Rice, Black Beans, Pinto...</td>\n",
       "      <td>Steak Burrito[Fresh Tomato Salsa, [Rice, Black...</td>\n",
       "      <td>9.25</td>\n",
       "      <td>9.25</td>\n",
       "    </tr>\n",
       "  </tbody>\n",
       "</table>\n",
       "</div>"
      ],
      "text/plain": [
       "   order_id  quantity                              item_name  \\\n",
       "0         1         1           Chips and Fresh Tomato Salsa   \n",
       "1         1         1                                   Izze   \n",
       "2         1         1                       Nantucket Nectar   \n",
       "3         1         1  Chips and Tomatillo-Green Chili Salsa   \n",
       "4         2         2                           Chicken Bowl   \n",
       "5         3         1                           Chicken Bowl   \n",
       "6         3         1                          Side of Chips   \n",
       "7         4         1                          Steak Burrito   \n",
       "8         4         1                       Steak Soft Tacos   \n",
       "9         5         1                          Steak Burrito   \n",
       "\n",
       "                                  choice_description  \\\n",
       "0                                                NaN   \n",
       "1                                       [Clementine]   \n",
       "2                                            [Apple]   \n",
       "3                                                NaN   \n",
       "4  [Tomatillo-Red Chili Salsa (Hot), [Black Beans...   \n",
       "5  [Fresh Tomato Salsa (Mild), [Rice, Cheese, Sou...   \n",
       "6                                                NaN   \n",
       "7  [Tomatillo Red Chili Salsa, [Fajita Vegetables...   \n",
       "8  [Tomatillo Green Chili Salsa, [Pinto Beans, Ch...   \n",
       "9  [Fresh Tomato Salsa, [Rice, Black Beans, Pinto...   \n",
       "\n",
       "                                    name_description  order_price  unit_price  \n",
       "0                       Chips and Fresh Tomato Salsa         2.39        2.39  \n",
       "1                                   Izze[Clementine]         3.39        3.39  \n",
       "2                            Nantucket Nectar[Apple]         3.39        3.39  \n",
       "3              Chips and Tomatillo-Green Chili Salsa         2.39        2.39  \n",
       "4  Chicken Bowl[Tomatillo-Red Chili Salsa (Hot), ...        16.98        8.49  \n",
       "5  Chicken Bowl[Fresh Tomato Salsa (Mild), [Rice,...        10.98       10.98  \n",
       "6                                      Side of Chips         1.69        1.69  \n",
       "7  Steak Burrito[Tomatillo Red Chili Salsa, [Faji...        11.75       11.75  \n",
       "8  Steak Soft Tacos[Tomatillo Green Chili Salsa, ...         9.25        9.25  \n",
       "9  Steak Burrito[Fresh Tomato Salsa, [Rice, Black...         9.25        9.25  "
      ]
     },
     "execution_count": 41,
     "metadata": {},
     "output_type": "execute_result"
    }
   ],
   "source": [
    "chipo.head(10)"
   ]
  },
  {
   "cell_type": "markdown",
   "metadata": {},
   "source": [
    "### c) Quantas observações estão presentes neste DataSet?"
   ]
  },
  {
   "cell_type": "code",
   "execution_count": 42,
   "metadata": {},
   "outputs": [
    {
     "data": {
      "text/plain": [
       "4622"
      ]
     },
     "execution_count": 42,
     "metadata": {},
     "output_type": "execute_result"
    }
   ],
   "source": [
    "len(chipo)"
   ]
  },
  {
   "cell_type": "markdown",
   "metadata": {},
   "source": [
    "### d) Qual o número de colunas neste DataSet?"
   ]
  },
  {
   "cell_type": "code",
   "execution_count": 43,
   "metadata": {},
   "outputs": [
    {
     "data": {
      "text/plain": [
       "7"
      ]
     },
     "execution_count": 43,
     "metadata": {},
     "output_type": "execute_result"
    }
   ],
   "source": [
    "len(chipo.columns)"
   ]
  },
  {
   "cell_type": "markdown",
   "metadata": {},
   "source": [
    "### e) Qual o nome de todas as colunas deste DataSet?"
   ]
  },
  {
   "cell_type": "code",
   "execution_count": 44,
   "metadata": {},
   "outputs": [
    {
     "name": "stdout",
     "output_type": "stream",
     "text": [
      "order_id\n",
      "quantity\n",
      "item_name\n",
      "choice_description\n",
      "name_description\n",
      "order_price\n",
      "unit_price\n"
     ]
    }
   ],
   "source": [
    "for column in chipo.columns:\n",
    "    print(column)"
   ]
  },
  {
   "cell_type": "markdown",
   "metadata": {},
   "source": [
    "### f) Qual o produto mais pedido? Quantas vezes ele foi pedido?"
   ]
  },
  {
   "cell_type": "code",
   "execution_count": 45,
   "metadata": {},
   "outputs": [
    {
     "data": {
      "text/html": [
       "<div>\n",
       "<style scoped>\n",
       "    .dataframe tbody tr th:only-of-type {\n",
       "        vertical-align: middle;\n",
       "    }\n",
       "\n",
       "    .dataframe tbody tr th {\n",
       "        vertical-align: top;\n",
       "    }\n",
       "\n",
       "    .dataframe thead th {\n",
       "        text-align: right;\n",
       "    }\n",
       "</style>\n",
       "<table border=\"1\" class=\"dataframe\">\n",
       "  <thead>\n",
       "    <tr style=\"text-align: right;\">\n",
       "      <th></th>\n",
       "      <th>item_name</th>\n",
       "      <th>quantity</th>\n",
       "    </tr>\n",
       "  </thead>\n",
       "  <tbody>\n",
       "    <tr>\n",
       "      <th>17</th>\n",
       "      <td>Chicken Bowl</td>\n",
       "      <td>761</td>\n",
       "    </tr>\n",
       "  </tbody>\n",
       "</table>\n",
       "</div>"
      ],
      "text/plain": [
       "       item_name  quantity\n",
       "17  Chicken Bowl       761"
      ]
     },
     "execution_count": 45,
     "metadata": {},
     "output_type": "execute_result"
    }
   ],
   "source": [
    "chipo.pivot_table(index='item_name', values='quantity', aggfunc='sum').reset_index().sort_values('quantity', ascending=False).head(1)"
   ]
  },
  {
   "cell_type": "markdown",
   "metadata": {},
   "source": [
    "### g) Qual foi o pedido mais pedido dentro da coluna choice_description?"
   ]
  },
  {
   "cell_type": "code",
   "execution_count": 46,
   "metadata": {},
   "outputs": [
    {
     "data": {
      "text/html": [
       "<div>\n",
       "<style scoped>\n",
       "    .dataframe tbody tr th:only-of-type {\n",
       "        vertical-align: middle;\n",
       "    }\n",
       "\n",
       "    .dataframe tbody tr th {\n",
       "        vertical-align: top;\n",
       "    }\n",
       "\n",
       "    .dataframe thead th {\n",
       "        text-align: right;\n",
       "    }\n",
       "</style>\n",
       "<table border=\"1\" class=\"dataframe\">\n",
       "  <thead>\n",
       "    <tr style=\"text-align: right;\">\n",
       "      <th></th>\n",
       "      <th>choice_description</th>\n",
       "      <th>quantity</th>\n",
       "    </tr>\n",
       "  </thead>\n",
       "  <tbody>\n",
       "    <tr>\n",
       "      <th>15</th>\n",
       "      <td>[Diet Coke]</td>\n",
       "      <td>159</td>\n",
       "    </tr>\n",
       "  </tbody>\n",
       "</table>\n",
       "</div>"
      ],
      "text/plain": [
       "   choice_description  quantity\n",
       "15        [Diet Coke]       159"
      ]
     },
     "execution_count": 46,
     "metadata": {},
     "output_type": "execute_result"
    }
   ],
   "source": [
    "chipo.pivot_table(index='choice_description', values='quantity', aggfunc='sum').reset_index().sort_values('quantity', ascending=False).head(1)"
   ]
  },
  {
   "cell_type": "markdown",
   "metadata": {},
   "source": [
    "### h) Quantos itens foram pedidos no total?"
   ]
  },
  {
   "cell_type": "code",
   "execution_count": 47,
   "metadata": {},
   "outputs": [
    {
     "data": {
      "text/plain": [
       "50"
      ]
     },
     "execution_count": 47,
     "metadata": {},
     "output_type": "execute_result"
    }
   ],
   "source": [
    "len(chipo['item_name'].unique())"
   ]
  },
  {
   "cell_type": "markdown",
   "metadata": {},
   "source": [
    "### i) Qual foi o valor recebido para o período representado nessa base de dados?"
   ]
  },
  {
   "cell_type": "code",
   "execution_count": 48,
   "metadata": {},
   "outputs": [
    {
     "data": {
      "text/plain": [
       "34500.16"
      ]
     },
     "execution_count": 48,
     "metadata": {},
     "output_type": "execute_result"
    }
   ],
   "source": [
    "chipo['order_price'].sum()"
   ]
  },
  {
   "cell_type": "markdown",
   "metadata": {},
   "source": [
    "### j) Qual a média do valor recebido por pedido?"
   ]
  },
  {
   "cell_type": "code",
   "execution_count": 49,
   "metadata": {},
   "outputs": [
    {
     "data": {
      "text/plain": [
       "18.81"
      ]
     },
     "execution_count": 49,
     "metadata": {},
     "output_type": "execute_result"
    }
   ],
   "source": [
    "chipo.pivot_table(index='order_id', values='order_price', aggfunc='sum')['order_price'].mean().round(2)"
   ]
  },
  {
   "cell_type": "markdown",
   "metadata": {},
   "source": [
    "### k) Quantos itens diferentes estão esgotados?"
   ]
  },
  {
   "cell_type": "markdown",
   "metadata": {},
   "source": [
    "### l) Quantos produtos custam mais de $10?\n"
   ]
  },
  {
   "cell_type": "code",
   "execution_count": 50,
   "metadata": {},
   "outputs": [
    {
     "data": {
      "text/plain": [
       "1172"
      ]
     },
     "execution_count": 50,
     "metadata": {},
     "output_type": "execute_result"
    }
   ],
   "source": [
    "len(chipo.loc[:, ['name_description', 'unit_price']][chipo['unit_price'] < 10].drop_duplicates())"
   ]
  },
  {
   "cell_type": "markdown",
   "metadata": {},
   "source": [
    "### m) Qual o preço para cada um deles?"
   ]
  },
  {
   "cell_type": "code",
   "execution_count": 51,
   "metadata": {},
   "outputs": [
    {
     "data": {
      "text/html": [
       "<div>\n",
       "<style scoped>\n",
       "    .dataframe tbody tr th:only-of-type {\n",
       "        vertical-align: middle;\n",
       "    }\n",
       "\n",
       "    .dataframe tbody tr th {\n",
       "        vertical-align: top;\n",
       "    }\n",
       "\n",
       "    .dataframe thead th {\n",
       "        text-align: right;\n",
       "    }\n",
       "</style>\n",
       "<table border=\"1\" class=\"dataframe\">\n",
       "  <thead>\n",
       "    <tr style=\"text-align: right;\">\n",
       "      <th></th>\n",
       "      <th>name_description</th>\n",
       "      <th>unit_price</th>\n",
       "    </tr>\n",
       "  </thead>\n",
       "  <tbody>\n",
       "    <tr>\n",
       "      <th>0</th>\n",
       "      <td>Chips and Fresh Tomato Salsa</td>\n",
       "      <td>2.39</td>\n",
       "    </tr>\n",
       "    <tr>\n",
       "      <th>1</th>\n",
       "      <td>Izze[Clementine]</td>\n",
       "      <td>3.39</td>\n",
       "    </tr>\n",
       "    <tr>\n",
       "      <th>2</th>\n",
       "      <td>Nantucket Nectar[Apple]</td>\n",
       "      <td>3.39</td>\n",
       "    </tr>\n",
       "    <tr>\n",
       "      <th>3</th>\n",
       "      <td>Chips and Tomatillo-Green Chili Salsa</td>\n",
       "      <td>2.39</td>\n",
       "    </tr>\n",
       "    <tr>\n",
       "      <th>4</th>\n",
       "      <td>Chicken Bowl[Tomatillo-Red Chili Salsa (Hot), ...</td>\n",
       "      <td>8.49</td>\n",
       "    </tr>\n",
       "    <tr>\n",
       "      <th>...</th>\n",
       "      <td>...</td>\n",
       "      <td>...</td>\n",
       "    </tr>\n",
       "    <tr>\n",
       "      <th>4573</th>\n",
       "      <td>Veggie Salad Bowl[Fresh Tomato Salsa, [Fajita ...</td>\n",
       "      <td>8.75</td>\n",
       "    </tr>\n",
       "    <tr>\n",
       "      <th>4595</th>\n",
       "      <td>Chicken Bowl[Tomatillo Green Chili Salsa, [Ric...</td>\n",
       "      <td>8.75</td>\n",
       "    </tr>\n",
       "    <tr>\n",
       "      <th>4599</th>\n",
       "      <td>Chicken Bowl[Roasted Chili Corn Salsa, [Cheese...</td>\n",
       "      <td>8.75</td>\n",
       "    </tr>\n",
       "    <tr>\n",
       "      <th>4602</th>\n",
       "      <td>Barbacoa Burrito[Tomatillo Green Chili Salsa]</td>\n",
       "      <td>9.25</td>\n",
       "    </tr>\n",
       "    <tr>\n",
       "      <th>4612</th>\n",
       "      <td>Carnitas Bowl[Fresh Tomato Salsa, [Fajita Vege...</td>\n",
       "      <td>9.25</td>\n",
       "    </tr>\n",
       "  </tbody>\n",
       "</table>\n",
       "<p>1172 rows × 2 columns</p>\n",
       "</div>"
      ],
      "text/plain": [
       "                                       name_description  unit_price\n",
       "0                          Chips and Fresh Tomato Salsa        2.39\n",
       "1                                      Izze[Clementine]        3.39\n",
       "2                               Nantucket Nectar[Apple]        3.39\n",
       "3                 Chips and Tomatillo-Green Chili Salsa        2.39\n",
       "4     Chicken Bowl[Tomatillo-Red Chili Salsa (Hot), ...        8.49\n",
       "...                                                 ...         ...\n",
       "4573  Veggie Salad Bowl[Fresh Tomato Salsa, [Fajita ...        8.75\n",
       "4595  Chicken Bowl[Tomatillo Green Chili Salsa, [Ric...        8.75\n",
       "4599  Chicken Bowl[Roasted Chili Corn Salsa, [Cheese...        8.75\n",
       "4602      Barbacoa Burrito[Tomatillo Green Chili Salsa]        9.25\n",
       "4612  Carnitas Bowl[Fresh Tomato Salsa, [Fajita Vege...        9.25\n",
       "\n",
       "[1172 rows x 2 columns]"
      ]
     },
     "execution_count": 51,
     "metadata": {},
     "output_type": "execute_result"
    }
   ],
   "source": [
    "chipo.loc[:, ['name_description', 'unit_price']][chipo['unit_price'] < 10].drop_duplicates()"
   ]
  },
  {
   "cell_type": "markdown",
   "metadata": {},
   "source": [
    "n) Ordene os itens que custam mais de $10 por ordem alfabética."
   ]
  },
  {
   "cell_type": "code",
   "execution_count": 52,
   "metadata": {},
   "outputs": [
    {
     "data": {
      "text/html": [
       "<div>\n",
       "<style scoped>\n",
       "    .dataframe tbody tr th:only-of-type {\n",
       "        vertical-align: middle;\n",
       "    }\n",
       "\n",
       "    .dataframe tbody tr th {\n",
       "        vertical-align: top;\n",
       "    }\n",
       "\n",
       "    .dataframe thead th {\n",
       "        text-align: right;\n",
       "    }\n",
       "</style>\n",
       "<table border=\"1\" class=\"dataframe\">\n",
       "  <thead>\n",
       "    <tr style=\"text-align: right;\">\n",
       "      <th></th>\n",
       "      <th>name_description</th>\n",
       "      <th>unit_price</th>\n",
       "    </tr>\n",
       "  </thead>\n",
       "  <tbody>\n",
       "    <tr>\n",
       "      <th>357</th>\n",
       "      <td>6 Pack Soft Drink[Coke]</td>\n",
       "      <td>6.49</td>\n",
       "    </tr>\n",
       "    <tr>\n",
       "      <th>341</th>\n",
       "      <td>6 Pack Soft Drink[Diet Coke]</td>\n",
       "      <td>6.49</td>\n",
       "    </tr>\n",
       "    <tr>\n",
       "      <th>3141</th>\n",
       "      <td>6 Pack Soft Drink[Lemonade]</td>\n",
       "      <td>6.49</td>\n",
       "    </tr>\n",
       "    <tr>\n",
       "      <th>721</th>\n",
       "      <td>6 Pack Soft Drink[Nestea]</td>\n",
       "      <td>6.49</td>\n",
       "    </tr>\n",
       "    <tr>\n",
       "      <th>298</th>\n",
       "      <td>6 Pack Soft Drink[Sprite]</td>\n",
       "      <td>6.49</td>\n",
       "    </tr>\n",
       "    <tr>\n",
       "      <th>...</th>\n",
       "      <td>...</td>\n",
       "      <td>...</td>\n",
       "    </tr>\n",
       "    <tr>\n",
       "      <th>3889</th>\n",
       "      <td>Veggie Soft Tacos[Fresh Tomato Salsa (Mild), [...</td>\n",
       "      <td>8.49</td>\n",
       "    </tr>\n",
       "    <tr>\n",
       "      <th>1395</th>\n",
       "      <td>Veggie Soft Tacos[Fresh Tomato Salsa (Mild), [...</td>\n",
       "      <td>8.49</td>\n",
       "    </tr>\n",
       "    <tr>\n",
       "      <th>781</th>\n",
       "      <td>Veggie Soft Tacos[Fresh Tomato Salsa, [Black B...</td>\n",
       "      <td>8.75</td>\n",
       "    </tr>\n",
       "    <tr>\n",
       "      <th>2851</th>\n",
       "      <td>Veggie Soft Tacos[Roasted Chili Corn Salsa (Me...</td>\n",
       "      <td>8.49</td>\n",
       "    </tr>\n",
       "    <tr>\n",
       "      <th>2384</th>\n",
       "      <td>Veggie Soft Tacos[Roasted Chili Corn Salsa, [F...</td>\n",
       "      <td>8.75</td>\n",
       "    </tr>\n",
       "  </tbody>\n",
       "</table>\n",
       "<p>1172 rows × 2 columns</p>\n",
       "</div>"
      ],
      "text/plain": [
       "                                       name_description  unit_price\n",
       "357                             6 Pack Soft Drink[Coke]        6.49\n",
       "341                        6 Pack Soft Drink[Diet Coke]        6.49\n",
       "3141                        6 Pack Soft Drink[Lemonade]        6.49\n",
       "721                           6 Pack Soft Drink[Nestea]        6.49\n",
       "298                           6 Pack Soft Drink[Sprite]        6.49\n",
       "...                                                 ...         ...\n",
       "3889  Veggie Soft Tacos[Fresh Tomato Salsa (Mild), [...        8.49\n",
       "1395  Veggie Soft Tacos[Fresh Tomato Salsa (Mild), [...        8.49\n",
       "781   Veggie Soft Tacos[Fresh Tomato Salsa, [Black B...        8.75\n",
       "2851  Veggie Soft Tacos[Roasted Chili Corn Salsa (Me...        8.49\n",
       "2384  Veggie Soft Tacos[Roasted Chili Corn Salsa, [F...        8.75\n",
       "\n",
       "[1172 rows x 2 columns]"
      ]
     },
     "execution_count": 52,
     "metadata": {},
     "output_type": "execute_result"
    }
   ],
   "source": [
    "chipo.loc[:, ['name_description', 'unit_price']][chipo['unit_price'] < 10].drop_duplicates().sort_values(['name_description','unit_price'])"
   ]
  },
  {
   "cell_type": "markdown",
   "metadata": {},
   "source": [
    "### o) Quantas vezes o item mais caro foi pedido?"
   ]
  },
  {
   "cell_type": "code",
   "execution_count": 53,
   "metadata": {},
   "outputs": [
    {
     "data": {
      "text/plain": [
       "array(['Steak Salad Bowl', 'Carnitas Salad Bowl', 'Barbacoa Salad Bowl'],\n",
       "      dtype=object)"
      ]
     },
     "execution_count": 53,
     "metadata": {},
     "output_type": "execute_result"
    }
   ],
   "source": [
    "most_expensives = chipo[chipo['unit_price'] == chipo['unit_price'].max()]['item_name'].unique()\n",
    "most_expensives"
   ]
  },
  {
   "cell_type": "code",
   "execution_count": 54,
   "metadata": {},
   "outputs": [
    {
     "data": {
      "text/html": [
       "<div>\n",
       "<style scoped>\n",
       "    .dataframe tbody tr th:only-of-type {\n",
       "        vertical-align: middle;\n",
       "    }\n",
       "\n",
       "    .dataframe tbody tr th {\n",
       "        vertical-align: top;\n",
       "    }\n",
       "\n",
       "    .dataframe thead th {\n",
       "        text-align: right;\n",
       "    }\n",
       "</style>\n",
       "<table border=\"1\" class=\"dataframe\">\n",
       "  <thead>\n",
       "    <tr style=\"text-align: right;\">\n",
       "      <th></th>\n",
       "      <th>quantity</th>\n",
       "    </tr>\n",
       "    <tr>\n",
       "      <th>item_name</th>\n",
       "      <th></th>\n",
       "    </tr>\n",
       "  </thead>\n",
       "  <tbody>\n",
       "    <tr>\n",
       "      <th>Steak Salad Bowl</th>\n",
       "      <td>31</td>\n",
       "    </tr>\n",
       "    <tr>\n",
       "      <th>Barbacoa Salad Bowl</th>\n",
       "      <td>10</td>\n",
       "    </tr>\n",
       "    <tr>\n",
       "      <th>Carnitas Salad Bowl</th>\n",
       "      <td>6</td>\n",
       "    </tr>\n",
       "  </tbody>\n",
       "</table>\n",
       "</div>"
      ],
      "text/plain": [
       "                     quantity\n",
       "item_name                    \n",
       "Steak Salad Bowl           31\n",
       "Barbacoa Salad Bowl        10\n",
       "Carnitas Salad Bowl         6"
      ]
     },
     "execution_count": 54,
     "metadata": {},
     "output_type": "execute_result"
    }
   ],
   "source": [
    "chipo[chipo['item_name'].isin(most_expensives)].pivot_table(index='item_name', values='quantity', aggfunc='sum').sort_values('quantity', ascending=False)"
   ]
  },
  {
   "cell_type": "markdown",
   "metadata": {},
   "source": [
    "### p) Quantas vezes uma Veggie Salad Bowl foi pedida?"
   ]
  },
  {
   "cell_type": "code",
   "execution_count": 55,
   "metadata": {},
   "outputs": [
    {
     "data": {
      "text/plain": [
       "18"
      ]
     },
     "execution_count": 55,
     "metadata": {},
     "output_type": "execute_result"
    }
   ],
   "source": [
    "chipo[chipo['item_name'] == 'Veggie Salad Bowl']['quantity'].sum()"
   ]
  },
  {
   "cell_type": "markdown",
   "metadata": {},
   "source": [
    "### q) Crie um histograma com os 5 produtos mais pedidos."
   ]
  },
  {
   "cell_type": "code",
   "execution_count": 56,
   "metadata": {},
   "outputs": [
    {
     "data": {
      "text/html": [
       "<div>\n",
       "<style scoped>\n",
       "    .dataframe tbody tr th:only-of-type {\n",
       "        vertical-align: middle;\n",
       "    }\n",
       "\n",
       "    .dataframe tbody tr th {\n",
       "        vertical-align: top;\n",
       "    }\n",
       "\n",
       "    .dataframe thead th {\n",
       "        text-align: right;\n",
       "    }\n",
       "</style>\n",
       "<table border=\"1\" class=\"dataframe\">\n",
       "  <thead>\n",
       "    <tr style=\"text-align: right;\">\n",
       "      <th></th>\n",
       "      <th>name_description</th>\n",
       "      <th>quantity</th>\n",
       "    </tr>\n",
       "  </thead>\n",
       "  <tbody>\n",
       "    <tr>\n",
       "      <th>0</th>\n",
       "      <td>Chips and Guacamole</td>\n",
       "      <td>506</td>\n",
       "    </tr>\n",
       "    <tr>\n",
       "      <th>1</th>\n",
       "      <td>Chips</td>\n",
       "      <td>230</td>\n",
       "    </tr>\n",
       "    <tr>\n",
       "      <th>2</th>\n",
       "      <td>Bottled Water</td>\n",
       "      <td>211</td>\n",
       "    </tr>\n",
       "    <tr>\n",
       "      <th>3</th>\n",
       "      <td>Chips and Fresh Tomato Salsa</td>\n",
       "      <td>130</td>\n",
       "    </tr>\n",
       "    <tr>\n",
       "      <th>4</th>\n",
       "      <td>Canned Soft Drink[Coke]</td>\n",
       "      <td>122</td>\n",
       "    </tr>\n",
       "  </tbody>\n",
       "</table>\n",
       "</div>"
      ],
      "text/plain": [
       "               name_description  quantity\n",
       "0           Chips and Guacamole       506\n",
       "1                         Chips       230\n",
       "2                 Bottled Water       211\n",
       "3  Chips and Fresh Tomato Salsa       130\n",
       "4       Canned Soft Drink[Coke]       122"
      ]
     },
     "execution_count": 56,
     "metadata": {},
     "output_type": "execute_result"
    }
   ],
   "source": [
    "most_ordered = chipo.loc[:, ['quantity', 'name_description']].pivot_table(index='name_description', values='quantity', aggfunc='sum').sort_values('quantity', ascending=False).head().reset_index()\n",
    "most_ordered"
   ]
  },
  {
   "cell_type": "markdown",
   "metadata": {},
   "source": [
    "# Não faz sentido plotar esse gráfico com o histograma e sim com o gráfico de barras"
   ]
  },
  {
   "cell_type": "code",
   "execution_count": 57,
   "metadata": {},
   "outputs": [
    {
     "data": {
      "application/vnd.plotly.v1+json": {
       "config": {
        "plotlyServerURL": "https://plot.ly"
       },
       "data": [
        {
         "alignmentgroup": "True",
         "hovertemplate": "Produto: %{x}<br>Quantidade: %{y}",
         "legendgroup": "",
         "marker": {
          "color": "#636efa",
          "pattern": {
           "shape": ""
          }
         },
         "name": "",
         "offsetgroup": "",
         "orientation": "v",
         "showlegend": false,
         "textposition": "auto",
         "type": "bar",
         "x": [
          "Chips and Guacamole",
          "Chips",
          "Bottled Water",
          "Chips and Fresh Tomato Salsa",
          "Canned Soft Drink[Coke]"
         ],
         "xaxis": "x",
         "y": [
          506,
          230,
          211,
          130,
          122
         ],
         "yaxis": "y"
        }
       ],
       "layout": {
        "barmode": "relative",
        "font": {
         "color": "gray",
         "family": "Courier New",
         "size": 18
        },
        "height": 600,
        "legend": {
         "tracegroupgap": 0
        },
        "margin": {
         "t": 60
        },
        "template": {
         "data": {
          "bar": [
           {
            "error_x": {
             "color": "#2a3f5f"
            },
            "error_y": {
             "color": "#2a3f5f"
            },
            "marker": {
             "line": {
              "color": "#E5ECF6",
              "width": 0.5
             },
             "pattern": {
              "fillmode": "overlay",
              "size": 10,
              "solidity": 0.2
             }
            },
            "type": "bar"
           }
          ],
          "barpolar": [
           {
            "marker": {
             "line": {
              "color": "#E5ECF6",
              "width": 0.5
             },
             "pattern": {
              "fillmode": "overlay",
              "size": 10,
              "solidity": 0.2
             }
            },
            "type": "barpolar"
           }
          ],
          "carpet": [
           {
            "aaxis": {
             "endlinecolor": "#2a3f5f",
             "gridcolor": "white",
             "linecolor": "white",
             "minorgridcolor": "white",
             "startlinecolor": "#2a3f5f"
            },
            "baxis": {
             "endlinecolor": "#2a3f5f",
             "gridcolor": "white",
             "linecolor": "white",
             "minorgridcolor": "white",
             "startlinecolor": "#2a3f5f"
            },
            "type": "carpet"
           }
          ],
          "choropleth": [
           {
            "colorbar": {
             "outlinewidth": 0,
             "ticks": ""
            },
            "type": "choropleth"
           }
          ],
          "contour": [
           {
            "colorbar": {
             "outlinewidth": 0,
             "ticks": ""
            },
            "colorscale": [
             [
              0,
              "#0d0887"
             ],
             [
              0.1111111111111111,
              "#46039f"
             ],
             [
              0.2222222222222222,
              "#7201a8"
             ],
             [
              0.3333333333333333,
              "#9c179e"
             ],
             [
              0.4444444444444444,
              "#bd3786"
             ],
             [
              0.5555555555555556,
              "#d8576b"
             ],
             [
              0.6666666666666666,
              "#ed7953"
             ],
             [
              0.7777777777777778,
              "#fb9f3a"
             ],
             [
              0.8888888888888888,
              "#fdca26"
             ],
             [
              1,
              "#f0f921"
             ]
            ],
            "type": "contour"
           }
          ],
          "contourcarpet": [
           {
            "colorbar": {
             "outlinewidth": 0,
             "ticks": ""
            },
            "type": "contourcarpet"
           }
          ],
          "heatmap": [
           {
            "colorbar": {
             "outlinewidth": 0,
             "ticks": ""
            },
            "colorscale": [
             [
              0,
              "#0d0887"
             ],
             [
              0.1111111111111111,
              "#46039f"
             ],
             [
              0.2222222222222222,
              "#7201a8"
             ],
             [
              0.3333333333333333,
              "#9c179e"
             ],
             [
              0.4444444444444444,
              "#bd3786"
             ],
             [
              0.5555555555555556,
              "#d8576b"
             ],
             [
              0.6666666666666666,
              "#ed7953"
             ],
             [
              0.7777777777777778,
              "#fb9f3a"
             ],
             [
              0.8888888888888888,
              "#fdca26"
             ],
             [
              1,
              "#f0f921"
             ]
            ],
            "type": "heatmap"
           }
          ],
          "heatmapgl": [
           {
            "colorbar": {
             "outlinewidth": 0,
             "ticks": ""
            },
            "colorscale": [
             [
              0,
              "#0d0887"
             ],
             [
              0.1111111111111111,
              "#46039f"
             ],
             [
              0.2222222222222222,
              "#7201a8"
             ],
             [
              0.3333333333333333,
              "#9c179e"
             ],
             [
              0.4444444444444444,
              "#bd3786"
             ],
             [
              0.5555555555555556,
              "#d8576b"
             ],
             [
              0.6666666666666666,
              "#ed7953"
             ],
             [
              0.7777777777777778,
              "#fb9f3a"
             ],
             [
              0.8888888888888888,
              "#fdca26"
             ],
             [
              1,
              "#f0f921"
             ]
            ],
            "type": "heatmapgl"
           }
          ],
          "histogram": [
           {
            "marker": {
             "pattern": {
              "fillmode": "overlay",
              "size": 10,
              "solidity": 0.2
             }
            },
            "type": "histogram"
           }
          ],
          "histogram2d": [
           {
            "colorbar": {
             "outlinewidth": 0,
             "ticks": ""
            },
            "colorscale": [
             [
              0,
              "#0d0887"
             ],
             [
              0.1111111111111111,
              "#46039f"
             ],
             [
              0.2222222222222222,
              "#7201a8"
             ],
             [
              0.3333333333333333,
              "#9c179e"
             ],
             [
              0.4444444444444444,
              "#bd3786"
             ],
             [
              0.5555555555555556,
              "#d8576b"
             ],
             [
              0.6666666666666666,
              "#ed7953"
             ],
             [
              0.7777777777777778,
              "#fb9f3a"
             ],
             [
              0.8888888888888888,
              "#fdca26"
             ],
             [
              1,
              "#f0f921"
             ]
            ],
            "type": "histogram2d"
           }
          ],
          "histogram2dcontour": [
           {
            "colorbar": {
             "outlinewidth": 0,
             "ticks": ""
            },
            "colorscale": [
             [
              0,
              "#0d0887"
             ],
             [
              0.1111111111111111,
              "#46039f"
             ],
             [
              0.2222222222222222,
              "#7201a8"
             ],
             [
              0.3333333333333333,
              "#9c179e"
             ],
             [
              0.4444444444444444,
              "#bd3786"
             ],
             [
              0.5555555555555556,
              "#d8576b"
             ],
             [
              0.6666666666666666,
              "#ed7953"
             ],
             [
              0.7777777777777778,
              "#fb9f3a"
             ],
             [
              0.8888888888888888,
              "#fdca26"
             ],
             [
              1,
              "#f0f921"
             ]
            ],
            "type": "histogram2dcontour"
           }
          ],
          "mesh3d": [
           {
            "colorbar": {
             "outlinewidth": 0,
             "ticks": ""
            },
            "type": "mesh3d"
           }
          ],
          "parcoords": [
           {
            "line": {
             "colorbar": {
              "outlinewidth": 0,
              "ticks": ""
             }
            },
            "type": "parcoords"
           }
          ],
          "pie": [
           {
            "automargin": true,
            "type": "pie"
           }
          ],
          "scatter": [
           {
            "fillpattern": {
             "fillmode": "overlay",
             "size": 10,
             "solidity": 0.2
            },
            "type": "scatter"
           }
          ],
          "scatter3d": [
           {
            "line": {
             "colorbar": {
              "outlinewidth": 0,
              "ticks": ""
             }
            },
            "marker": {
             "colorbar": {
              "outlinewidth": 0,
              "ticks": ""
             }
            },
            "type": "scatter3d"
           }
          ],
          "scattercarpet": [
           {
            "marker": {
             "colorbar": {
              "outlinewidth": 0,
              "ticks": ""
             }
            },
            "type": "scattercarpet"
           }
          ],
          "scattergeo": [
           {
            "marker": {
             "colorbar": {
              "outlinewidth": 0,
              "ticks": ""
             }
            },
            "type": "scattergeo"
           }
          ],
          "scattergl": [
           {
            "marker": {
             "colorbar": {
              "outlinewidth": 0,
              "ticks": ""
             }
            },
            "type": "scattergl"
           }
          ],
          "scattermapbox": [
           {
            "marker": {
             "colorbar": {
              "outlinewidth": 0,
              "ticks": ""
             }
            },
            "type": "scattermapbox"
           }
          ],
          "scatterpolar": [
           {
            "marker": {
             "colorbar": {
              "outlinewidth": 0,
              "ticks": ""
             }
            },
            "type": "scatterpolar"
           }
          ],
          "scatterpolargl": [
           {
            "marker": {
             "colorbar": {
              "outlinewidth": 0,
              "ticks": ""
             }
            },
            "type": "scatterpolargl"
           }
          ],
          "scatterternary": [
           {
            "marker": {
             "colorbar": {
              "outlinewidth": 0,
              "ticks": ""
             }
            },
            "type": "scatterternary"
           }
          ],
          "surface": [
           {
            "colorbar": {
             "outlinewidth": 0,
             "ticks": ""
            },
            "colorscale": [
             [
              0,
              "#0d0887"
             ],
             [
              0.1111111111111111,
              "#46039f"
             ],
             [
              0.2222222222222222,
              "#7201a8"
             ],
             [
              0.3333333333333333,
              "#9c179e"
             ],
             [
              0.4444444444444444,
              "#bd3786"
             ],
             [
              0.5555555555555556,
              "#d8576b"
             ],
             [
              0.6666666666666666,
              "#ed7953"
             ],
             [
              0.7777777777777778,
              "#fb9f3a"
             ],
             [
              0.8888888888888888,
              "#fdca26"
             ],
             [
              1,
              "#f0f921"
             ]
            ],
            "type": "surface"
           }
          ],
          "table": [
           {
            "cells": {
             "fill": {
              "color": "#EBF0F8"
             },
             "line": {
              "color": "white"
             }
            },
            "header": {
             "fill": {
              "color": "#C8D4E3"
             },
             "line": {
              "color": "white"
             }
            },
            "type": "table"
           }
          ]
         },
         "layout": {
          "annotationdefaults": {
           "arrowcolor": "#2a3f5f",
           "arrowhead": 0,
           "arrowwidth": 1
          },
          "autotypenumbers": "strict",
          "coloraxis": {
           "colorbar": {
            "outlinewidth": 0,
            "ticks": ""
           }
          },
          "colorscale": {
           "diverging": [
            [
             0,
             "#8e0152"
            ],
            [
             0.1,
             "#c51b7d"
            ],
            [
             0.2,
             "#de77ae"
            ],
            [
             0.3,
             "#f1b6da"
            ],
            [
             0.4,
             "#fde0ef"
            ],
            [
             0.5,
             "#f7f7f7"
            ],
            [
             0.6,
             "#e6f5d0"
            ],
            [
             0.7,
             "#b8e186"
            ],
            [
             0.8,
             "#7fbc41"
            ],
            [
             0.9,
             "#4d9221"
            ],
            [
             1,
             "#276419"
            ]
           ],
           "sequential": [
            [
             0,
             "#0d0887"
            ],
            [
             0.1111111111111111,
             "#46039f"
            ],
            [
             0.2222222222222222,
             "#7201a8"
            ],
            [
             0.3333333333333333,
             "#9c179e"
            ],
            [
             0.4444444444444444,
             "#bd3786"
            ],
            [
             0.5555555555555556,
             "#d8576b"
            ],
            [
             0.6666666666666666,
             "#ed7953"
            ],
            [
             0.7777777777777778,
             "#fb9f3a"
            ],
            [
             0.8888888888888888,
             "#fdca26"
            ],
            [
             1,
             "#f0f921"
            ]
           ],
           "sequentialminus": [
            [
             0,
             "#0d0887"
            ],
            [
             0.1111111111111111,
             "#46039f"
            ],
            [
             0.2222222222222222,
             "#7201a8"
            ],
            [
             0.3333333333333333,
             "#9c179e"
            ],
            [
             0.4444444444444444,
             "#bd3786"
            ],
            [
             0.5555555555555556,
             "#d8576b"
            ],
            [
             0.6666666666666666,
             "#ed7953"
            ],
            [
             0.7777777777777778,
             "#fb9f3a"
            ],
            [
             0.8888888888888888,
             "#fdca26"
            ],
            [
             1,
             "#f0f921"
            ]
           ]
          },
          "colorway": [
           "#636efa",
           "#EF553B",
           "#00cc96",
           "#ab63fa",
           "#FFA15A",
           "#19d3f3",
           "#FF6692",
           "#B6E880",
           "#FF97FF",
           "#FECB52"
          ],
          "font": {
           "color": "#2a3f5f"
          },
          "geo": {
           "bgcolor": "white",
           "lakecolor": "white",
           "landcolor": "#E5ECF6",
           "showlakes": true,
           "showland": true,
           "subunitcolor": "white"
          },
          "hoverlabel": {
           "align": "left"
          },
          "hovermode": "closest",
          "mapbox": {
           "style": "light"
          },
          "paper_bgcolor": "white",
          "plot_bgcolor": "#E5ECF6",
          "polar": {
           "angularaxis": {
            "gridcolor": "white",
            "linecolor": "white",
            "ticks": ""
           },
           "bgcolor": "#E5ECF6",
           "radialaxis": {
            "gridcolor": "white",
            "linecolor": "white",
            "ticks": ""
           }
          },
          "scene": {
           "xaxis": {
            "backgroundcolor": "#E5ECF6",
            "gridcolor": "white",
            "gridwidth": 2,
            "linecolor": "white",
            "showbackground": true,
            "ticks": "",
            "zerolinecolor": "white"
           },
           "yaxis": {
            "backgroundcolor": "#E5ECF6",
            "gridcolor": "white",
            "gridwidth": 2,
            "linecolor": "white",
            "showbackground": true,
            "ticks": "",
            "zerolinecolor": "white"
           },
           "zaxis": {
            "backgroundcolor": "#E5ECF6",
            "gridcolor": "white",
            "gridwidth": 2,
            "linecolor": "white",
            "showbackground": true,
            "ticks": "",
            "zerolinecolor": "white"
           }
          },
          "shapedefaults": {
           "line": {
            "color": "#2a3f5f"
           }
          },
          "ternary": {
           "aaxis": {
            "gridcolor": "white",
            "linecolor": "white",
            "ticks": ""
           },
           "baxis": {
            "gridcolor": "white",
            "linecolor": "white",
            "ticks": ""
           },
           "bgcolor": "#E5ECF6",
           "caxis": {
            "gridcolor": "white",
            "linecolor": "white",
            "ticks": ""
           }
          },
          "title": {
           "x": 0.05
          },
          "xaxis": {
           "automargin": true,
           "gridcolor": "white",
           "linecolor": "white",
           "ticks": "",
           "title": {
            "standoff": 15
           },
           "zerolinecolor": "white",
           "zerolinewidth": 2
          },
          "yaxis": {
           "automargin": true,
           "gridcolor": "white",
           "linecolor": "white",
           "ticks": "",
           "title": {
            "standoff": 15
           },
           "zerolinecolor": "white",
           "zerolinewidth": 2
          }
         }
        },
        "title": {
         "font": {
          "size": 30
         },
         "text": "5 produtos mais pedidos"
        },
        "xaxis": {
         "anchor": "y",
         "domain": [
          0,
          1
         ],
         "title": {
          "text": "Produtos"
         }
        },
        "yaxis": {
         "anchor": "x",
         "domain": [
          0,
          1
         ],
         "title": {
          "text": "Quantity"
         }
        }
       }
      }
     },
     "metadata": {},
     "output_type": "display_data"
    }
   ],
   "source": [
    "fig = px.bar(most_ordered, x='name_description', y='quantity')\n",
    "\n",
    "fig.update_layout(\n",
    "    title='5 produtos mais pedidos', \n",
    "    yaxis_title='Quantity',\n",
    "    xaxis_title='Produtos',\n",
    "    font={'color':'gray', 'size':18, 'family':'Courier New'},\n",
    "    title_font={'size':30},\n",
    "    height=600\n",
    ")\n",
    "\n",
    "fig.update_traces(\n",
    "    hovertemplate='Produto: %{x}<br>Quantidade: %{y}',  # Personalize os nomes das colunas aqui\n",
    ")\n",
    "\n",
    "fig.show()"
   ]
  },
  {
   "cell_type": "markdown",
   "metadata": {},
   "source": [
    "### r) Crie um gráfico de espalhamento onde em um eixo está o número de vezes que um pedido foi realizado e no outro eixo está o preço do produto.\n"
   ]
  },
  {
   "cell_type": "code",
   "execution_count": 58,
   "metadata": {},
   "outputs": [
    {
     "data": {
      "text/html": [
       "<div>\n",
       "<style scoped>\n",
       "    .dataframe tbody tr th:only-of-type {\n",
       "        vertical-align: middle;\n",
       "    }\n",
       "\n",
       "    .dataframe tbody tr th {\n",
       "        vertical-align: top;\n",
       "    }\n",
       "\n",
       "    .dataframe thead th {\n",
       "        text-align: right;\n",
       "    }\n",
       "</style>\n",
       "<table border=\"1\" class=\"dataframe\">\n",
       "  <thead>\n",
       "    <tr style=\"text-align: right;\">\n",
       "      <th></th>\n",
       "      <th>name_description</th>\n",
       "      <th>unit_price</th>\n",
       "      <th>quantity</th>\n",
       "    </tr>\n",
       "  </thead>\n",
       "  <tbody>\n",
       "    <tr>\n",
       "      <th>1204</th>\n",
       "      <td>Chips and Guacamole</td>\n",
       "      <td>4.45</td>\n",
       "      <td>396</td>\n",
       "    </tr>\n",
       "    <tr>\n",
       "      <th>1196</th>\n",
       "      <td>Chips</td>\n",
       "      <td>2.15</td>\n",
       "      <td>229</td>\n",
       "    </tr>\n",
       "    <tr>\n",
       "      <th>163</th>\n",
       "      <td>Bottled Water</td>\n",
       "      <td>1.50</td>\n",
       "      <td>177</td>\n",
       "    </tr>\n",
       "    <tr>\n",
       "      <th>178</th>\n",
       "      <td>Canned Soft Drink[Coke]</td>\n",
       "      <td>1.25</td>\n",
       "      <td>122</td>\n",
       "    </tr>\n",
       "    <tr>\n",
       "      <th>179</th>\n",
       "      <td>Canned Soft Drink[Diet Coke]</td>\n",
       "      <td>1.25</td>\n",
       "      <td>115</td>\n",
       "    </tr>\n",
       "    <tr>\n",
       "      <th>...</th>\n",
       "      <td>...</td>\n",
       "      <td>...</td>\n",
       "      <td>...</td>\n",
       "    </tr>\n",
       "    <tr>\n",
       "      <th>966</th>\n",
       "      <td>Chicken Burrito[[Fresh Tomato Salsa (Mild), Ro...</td>\n",
       "      <td>8.49</td>\n",
       "      <td>1</td>\n",
       "    </tr>\n",
       "    <tr>\n",
       "      <th>965</th>\n",
       "      <td>Chicken Burrito[[Fresh Tomato Salsa (Mild), Ro...</td>\n",
       "      <td>8.49</td>\n",
       "      <td>1</td>\n",
       "    </tr>\n",
       "    <tr>\n",
       "      <th>964</th>\n",
       "      <td>Chicken Burrito[[Fresh Tomato Salsa (Mild), Ro...</td>\n",
       "      <td>8.49</td>\n",
       "      <td>1</td>\n",
       "    </tr>\n",
       "    <tr>\n",
       "      <th>963</th>\n",
       "      <td>Chicken Burrito[[Fresh Tomato Salsa (Mild), Ro...</td>\n",
       "      <td>8.49</td>\n",
       "      <td>1</td>\n",
       "    </tr>\n",
       "    <tr>\n",
       "      <th>1878</th>\n",
       "      <td>Veggie Soft Tacos[Tomatillo Red Chili Salsa, [...</td>\n",
       "      <td>11.25</td>\n",
       "      <td>1</td>\n",
       "    </tr>\n",
       "  </tbody>\n",
       "</table>\n",
       "<p>1879 rows × 3 columns</p>\n",
       "</div>"
      ],
      "text/plain": [
       "                                       name_description  unit_price  quantity\n",
       "1204                                Chips and Guacamole        4.45       396\n",
       "1196                                              Chips        2.15       229\n",
       "163                                       Bottled Water        1.50       177\n",
       "178                             Canned Soft Drink[Coke]        1.25       122\n",
       "179                        Canned Soft Drink[Diet Coke]        1.25       115\n",
       "...                                                 ...         ...       ...\n",
       "966   Chicken Burrito[[Fresh Tomato Salsa (Mild), Ro...        8.49         1\n",
       "965   Chicken Burrito[[Fresh Tomato Salsa (Mild), Ro...        8.49         1\n",
       "964   Chicken Burrito[[Fresh Tomato Salsa (Mild), Ro...        8.49         1\n",
       "963   Chicken Burrito[[Fresh Tomato Salsa (Mild), Ro...        8.49         1\n",
       "1878  Veggie Soft Tacos[Tomatillo Red Chili Salsa, [...       11.25         1\n",
       "\n",
       "[1879 rows x 3 columns]"
      ]
     },
     "execution_count": 58,
     "metadata": {},
     "output_type": "execute_result"
    }
   ],
   "source": [
    "table_aux = chipo.pivot_table(index=['name_description','unit_price'], values='quantity', aggfunc='sum').reset_index().sort_values('quantity', ascending=False)\n",
    "table_aux"
   ]
  },
  {
   "cell_type": "code",
   "execution_count": 61,
   "metadata": {},
   "outputs": [
    {
     "data": {
      "application/vnd.plotly.v1+json": {
       "config": {
        "plotlyServerURL": "https://plot.ly"
       },
       "data": [
        {
         "customdata": [
          [
           "Chips and Guacamole"
          ],
          [
           "Chips"
          ],
          [
           "Bottled Water"
          ],
          [
           "Canned Soft Drink[Coke]"
          ],
          [
           "Canned Soft Drink[Diet Coke]"
          ],
          [
           "Side of Chips"
          ],
          [
           "Chips and Guacamole"
          ],
          [
           "Chips and Fresh Tomato Salsa"
          ],
          [
           "Canned Soft Drink[Sprite]"
          ],
          [
           "Chips and Tomatillo Red Chili Salsa"
          ],
          [
           "Chips and Tomatillo Green Chili Salsa"
          ],
          [
           "Chips and Fresh Tomato Salsa"
          ],
          [
           "Canned Soft Drink[Lemonade]"
          ],
          [
           "Bottled Water"
          ],
          [
           "Chips and Tomatillo-Green Chili Salsa"
          ],
          [
           "Canned Soda[Coca Cola]"
          ],
          [
           "Chips and Tomatillo-Red Chili Salsa"
          ],
          [
           "6 Pack Soft Drink[Diet Coke]"
          ],
          [
           "Chips and Roasted Chili Corn Salsa"
          ],
          [
           "Canned Soda[Sprite]"
          ],
          [
           "Chicken Burrito[Fresh Tomato Salsa, [Rice, Black Beans, Cheese, Sour Cream, Lettuce]]"
          ],
          [
           "6 Pack Soft Drink[Coke]"
          ],
          [
           "Canned Soda[Dr. Pepper]"
          ],
          [
           "Chicken Burrito[Fresh Tomato Salsa, [Rice, Black Beans, Cheese, Sour Cream]]"
          ],
          [
           "Canned Soda[Diet Coke]"
          ],
          [
           "Chips and Roasted Chili-Corn Salsa"
          ],
          [
           "Canned Soda[Mountain Dew]"
          ],
          [
           "Canned Soft Drink[Nestea]"
          ],
          [
           "Chicken Bowl[Fresh Tomato Salsa, [Fajita Vegetables, Rice]]"
          ],
          [
           "Chicken Bowl[Fresh Tomato Salsa, [Rice, Black Beans, Cheese, Sour Cream, Lettuce]]"
          ],
          [
           "Chicken Burrito[Fresh Tomato Salsa, Rice]"
          ],
          [
           "Chicken Bowl[Fresh Tomato Salsa, [Fajita Vegetables, Rice, Lettuce]]"
          ],
          [
           "Chicken Bowl[Fresh Tomato Salsa, [Rice, Black Beans, Cheese, Sour Cream, Guacamole, Lettuce]]"
          ],
          [
           "Canned Soda[Diet Dr. Pepper]"
          ],
          [
           "Chicken Bowl[Fresh Tomato Salsa, [Rice, Cheese, Sour Cream, Lettuce]]"
          ],
          [
           "Chicken Bowl[Fresh Tomato Salsa, [Rice, Cheese, Lettuce]]"
          ],
          [
           "Chicken Bowl[Fresh Tomato Salsa, [Rice, Black Beans, Cheese]]"
          ],
          [
           "Steak Burrito[Fresh Tomato Salsa (Mild), [Pinto Beans, Rice, Cheese, Sour Cream]]"
          ],
          [
           "Chicken Bowl[Fresh Tomato Salsa, [Rice, Black Beans, Cheese, Sour Cream]]"
          ],
          [
           "Chicken Burrito[Fresh Tomato Salsa, [Rice, Black Beans, Cheese, Sour Cream, Guacamole, Lettuce]]"
          ],
          [
           "Chicken Bowl[Tomatillo Green Chili Salsa, [Rice, Pinto Beans, Sour Cream, Lettuce]]"
          ],
          [
           "Veggie Burrito[Fresh Tomato Salsa (Mild), [Pinto Beans, Rice, Cheese, Sour Cream]]"
          ],
          [
           "Chicken Burrito[Fresh Tomato Salsa, [Rice, Black Beans, Cheese, Lettuce]]"
          ],
          [
           "Chicken Bowl[Roasted Chili Corn Salsa, [Rice, Black Beans, Cheese, Sour Cream, Lettuce]]"
          ],
          [
           "Chicken Burrito[Tomatillo Red Chili Salsa, [Rice, Black Beans, Cheese]]"
          ],
          [
           "Chicken Bowl[[Roasted Chili Corn Salsa (Medium), Fresh Tomato Salsa (Mild)], [Rice, Fajita Veggies]]"
          ],
          [
           "Chicken Salad Bowl[Tomatillo Green Chili Salsa, [Black Beans, Cheese, Guacamole]]"
          ],
          [
           "Chicken Burrito[Fresh Tomato Salsa, [Rice, Cheese, Sour Cream, Lettuce]]"
          ],
          [
           "Chicken Bowl[Fresh Tomato Salsa, [Rice, Cheese, Sour Cream]]"
          ],
          [
           "Chicken Bowl[Fresh Tomato Salsa, [Fajita Vegetables, Rice, Black Beans, Cheese, Sour Cream, Lettuce]]"
          ],
          [
           "Chicken Bowl[Fresh Tomato Salsa, [Fajita Vegetables, Rice, Cheese, Sour Cream, Guacamole, Lettuce]]"
          ],
          [
           "Nantucket Nectar[Peach Orange]"
          ],
          [
           "Nantucket Nectar[Pineapple Orange Banana]"
          ],
          [
           "Chicken Bowl[Tomatillo-Red Chili Salsa (Hot), [Black Beans, Rice, Cheese, Lettuce]]"
          ],
          [
           "Barbacoa Burrito[Tomatillo Red Chili Salsa, [Rice, Cheese, Lettuce]]"
          ],
          [
           "Izze[Blackberry]"
          ],
          [
           "Chicken Bowl[Fresh Tomato Salsa, [Rice, Fajita Vegetables]]"
          ],
          [
           "Chicken Bowl[Fresh Tomato Salsa, [Rice, Black Beans, Cheese, Sour Cream, Guacamole]]"
          ],
          [
           "Chicken Burrito[Fresh Tomato Salsa (Mild), [Black Beans, Rice, Cheese, Sour Cream, Lettuce]]"
          ],
          [
           "Chicken Soft Tacos[Roasted Chili Corn Salsa, [Rice, Cheese]]"
          ],
          [
           "Izze[Clementine]"
          ],
          [
           "Chicken Bowl[Tomatillo Red Chili Salsa, [Rice, Black Beans, Cheese, Sour Cream, Lettuce]]"
          ],
          [
           "Chicken Bowl[Fresh Tomato Salsa, [Rice, Black Beans, Cheese, Guacamole, Lettuce]]"
          ],
          [
           "Steak Soft Tacos[Fresh Tomato Salsa, [Cheese, Lettuce]]"
          ],
          [
           "Chicken Burrito[Fresh Tomato Salsa, [Rice, Cheese, Lettuce]]"
          ],
          [
           "Chicken Bowl[Fresh Tomato Salsa, [Fajita Vegetables, Rice, Black Beans, Cheese, Guacamole, Lettuce]]"
          ],
          [
           "Chicken Bowl[Roasted Chili Corn Salsa, [Rice, Black Beans, Sour Cream, Cheese, Guacamole]]"
          ],
          [
           "Carnitas Soft Tacos[Tomatillo Red Chili Salsa, [Rice, Cheese, Sour Cream, Lettuce]]"
          ],
          [
           "Chicken Burrito[Tomatillo-Green Chili Salsa (Medium), [Pinto Beans, Rice, Cheese, Sour Cream]]"
          ],
          [
           "Chicken Bowl[[Fresh Tomato Salsa (Mild), Tomatillo-Red Chili Salsa (Hot)], [Black Beans, Rice, Cheese, Sour Cream]]"
          ],
          [
           "Chicken Burrito[Fresh Tomato Salsa, [Rice, Black Beans, Cheese, Guacamole, Lettuce]]"
          ],
          [
           "Chicken Bowl[Fresh Tomato Salsa, [Fajita Vegetables, Rice, Black Beans, Cheese, Sour Cream, Guacamole, Lettuce]]"
          ],
          [
           "Chicken Bowl[Tomatillo Red Chili Salsa, [Rice, Black Beans, Sour Cream, Cheese, Lettuce]]"
          ],
          [
           "Barbacoa Soft Tacos[Tomatillo Red Chili Salsa, [Rice, Pinto Beans, Cheese, Sour Cream]]"
          ],
          [
           "Steak Burrito[Tomatillo Green Chili Salsa, [Fajita Vegetables, Rice, Cheese, Sour Cream, Lettuce]]"
          ],
          [
           "Chips and Guacamole"
          ],
          [
           "Steak Bowl[Fresh Tomato Salsa, [Rice, Black Beans, Cheese, Sour Cream, Guacamole]]"
          ],
          [
           "Steak Burrito[Fresh Tomato Salsa, [Rice, Black Beans, Cheese, Sour Cream]]"
          ],
          [
           "Veggie Burrito[Fresh Tomato Salsa, [Rice, Pinto Beans, Cheese]]"
          ],
          [
           "Nantucket Nectar[Apple]"
          ],
          [
           "Chicken Burrito[Fresh Tomato Salsa, [Fajita Vegetables, Rice, Black Beans, Cheese, Sour Cream, Lettuce]]"
          ],
          [
           "Steak Burrito[Roasted Chili Corn Salsa (Medium), [Rice, Fajita Veggies, Cheese, Sour Cream, Lettuce]]"
          ],
          [
           "Chicken Burrito[Fresh Tomato Salsa, [Rice, Cheese, Sour Cream]]"
          ],
          [
           "Steak Burrito[Fresh Tomato Salsa, [Rice, Black Beans, Cheese, Sour Cream, Guacamole, Lettuce]]"
          ],
          [
           "Steak Burrito[Fresh Tomato (Mild), [Lettuce, Guacamole, Rice, Cheese]]"
          ],
          [
           "Steak Bowl[Roasted Chili Corn Salsa, [Rice, Pinto Beans, Sour Cream, Cheese, Guacamole]]"
          ],
          [
           "Steak Soft Tacos[Fresh Tomato Salsa, [Cheese, Sour Cream]]"
          ],
          [
           "Chicken Burrito[Roasted Chili Corn Salsa (Medium), [Black Beans, Rice, Cheese, Sour Cream]]"
          ],
          [
           "Chicken Burrito[Fresh Tomato Salsa, [Rice, Black Beans, Cheese]]"
          ],
          [
           "Chicken Bowl[Fresh Tomato Salsa (Mild), [Black Beans, Rice, Fajita Veggies, Cheese, Sour Cream, Lettuce]]"
          ],
          [
           "Barbacoa Bowl[Tomatillo Red Chili Salsa, [Rice, Cheese, Lettuce]]"
          ],
          [
           "Chicken Burrito[Tomatillo Red Chili Salsa, [Rice, Cheese, Sour Cream]]"
          ],
          [
           "Chicken Burrito[Tomatillo Red Chili Salsa, [Rice, Pinto Beans, Cheese]]"
          ],
          [
           "Chicken Burrito[Tomatillo Red Chili Salsa, [Rice, Pinto Beans, Sour Cream, Guacamole, Lettuce]]"
          ],
          [
           "Chicken Burrito[Tomatillo-Red Chili Salsa (Hot), [Black Beans, Rice, Cheese]]"
          ],
          [
           "Veggie Burrito[Fresh Tomato Salsa, [Fajita Vegetables, Rice, Black Beans, Cheese, Sour Cream, Guacamole]]"
          ],
          [
           "Nantucket Nectar[Pomegranate Cherry]"
          ],
          [
           "Chicken Salad Bowl[Fresh Tomato Salsa, [Black Beans, Cheese, Guacamole]]"
          ],
          [
           "Chicken Salad Bowl[Fresh Tomato Salsa, [Fajita Vegetables, Black Beans, Cheese, Sour Cream, Guacamole, Lettuce]]"
          ],
          [
           "Chicken Bowl[Roasted Chili Corn Salsa, [Rice, Black Beans, Cheese, Guacamole]]"
          ],
          [
           "6 Pack Soft Drink[Sprite]"
          ],
          [
           "Chicken Bowl[Roasted Chili Corn Salsa, [Fajita Vegetables, Rice, Cheese, Sour Cream, Lettuce]]"
          ],
          [
           "Chicken Salad Bowl[Fresh Tomato Salsa, [Fajita Vegetables, Pinto Beans, Lettuce]]"
          ],
          [
           "Carnitas Bowl[Roasted Chili Corn Salsa, [Fajita Vegetables, Rice, Black Beans, Cheese, Sour Cream, Guacamole, Lettuce]]"
          ],
          [
           "Chicken Soft Tacos[Roasted Chili Corn Salsa, [Rice, Cheese, Lettuce, Guacamole]]"
          ],
          [
           "Steak Bowl[Fresh Tomato Salsa (Mild), [Rice, Cheese, Sour Cream, Lettuce]]"
          ],
          [
           "Chicken Soft Tacos[Fresh Tomato Salsa, [Cheese, Sour Cream, Lettuce]]"
          ],
          [
           "Steak Burrito[Fresh Tomato Salsa, [Rice, Sour Cream, Guacamole, Lettuce]]"
          ],
          [
           "Chicken Burrito[Fresh Tomato Salsa, [Fajita Vegetables, Rice]]"
          ],
          [
           "Veggie Bowl[Fresh Tomato Salsa, [Fajita Vegetables, Rice, Cheese, Sour Cream, Guacamole, Lettuce]]"
          ],
          [
           "Chicken Bowl[Fresh Tomato Salsa, [Rice, Cheese, Sour Cream, Guacamole]]"
          ],
          [
           "Chicken Burrito[Fresh Tomato Salsa, [Fajita Vegetables, Rice, Black Beans, Cheese, Lettuce]]"
          ],
          [
           "Chicken Bowl[Fresh Tomato Salsa, [Fajita Vegetables, Rice, Sour Cream, Lettuce]]"
          ],
          [
           "Chicken Bowl[[Fresh Tomato Salsa (Mild), Roasted Chili Corn Salsa (Medium)], [Rice, Fajita Veggies]]"
          ],
          [
           "Steak Burrito[Tomatillo-Red Chili Salsa (Hot), [Rice, Cheese, Sour Cream, Lettuce]]"
          ],
          [
           "Steak Burrito[Roasted Chili Corn Salsa (Medium), [Rice, Black Beans, Sour Cream]]"
          ],
          [
           "Chicken Bowl[Fresh Tomato Salsa, [Rice, Black Beans, Cheese, Lettuce]]"
          ],
          [
           "Chicken Bowl[Fresh Tomato Salsa, [Fajita Vegetables, Rice, Pinto Beans, Cheese, Sour Cream, Guacamole, Lettuce]]"
          ],
          [
           "Steak Burrito[[Roasted Chili Corn Salsa (Medium), Tomatillo-Red Chili Salsa (Hot)], [Black Beans, Rice, Cheese, Sour Cream, Lettuce]]"
          ],
          [
           "Chicken Bowl[Tomatillo Red Chili Salsa, [Rice, Black Beans, Cheese, Sour Cream, Guacamole, Lettuce]]"
          ],
          [
           "Steak Crispy Tacos[Roasted Chili Corn Salsa, [Fajita Vegetables, Sour Cream, Cheese, Lettuce, Guacamole]]"
          ],
          [
           "Chicken Bowl[Tomatillo-Red Chili Salsa (Hot), [Pinto Beans, Rice, Fajita Veggies, Cheese, Sour Cream, Guacamole]]"
          ],
          [
           "Steak Bowl[Fresh Tomato Salsa, [Rice, Black Beans, Cheese]]"
          ],
          [
           "Chicken Bowl[Fresh Tomato Salsa, [Rice, Pinto Beans, Cheese, Lettuce]]"
          ],
          [
           "Steak Burrito[Tomatillo Green Chili Salsa, [Fajita Vegetables, Rice, Cheese, Sour Cream, Guacamole, Lettuce]]"
          ],
          [
           "Carnitas Burrito[Fresh Tomato Salsa, [Rice, Pinto Beans, Sour Cream, Cheese]]"
          ],
          [
           "Barbacoa Soft Tacos[Tomatillo Red Chili Salsa, [Rice, Cheese, Sour Cream, Lettuce]]"
          ],
          [
           "Chicken Salad Bowl[Fresh Tomato Salsa, Fajita Vegetables]"
          ],
          [
           "Chicken Bowl[Fresh Tomato Salsa, [Rice, Fajita Vegetables, Sour Cream, Cheese, Guacamole]]"
          ],
          [
           "Steak Burrito[Roasted Chili Corn Salsa, [Rice, Pinto Beans, Cheese, Sour Cream, Guacamole]]"
          ],
          [
           "Chicken Burrito[Tomatillo-Red Chili Salsa (Hot), [Black Beans, Rice, Cheese, Sour Cream, Guacamole]]"
          ],
          [
           "Steak Burrito[Fresh Tomato Salsa, [Rice, Black Beans, Cheese]]"
          ],
          [
           "Chicken Bowl[Fresh Tomato Salsa, [Rice, Pinto Beans, Sour Cream, Cheese, Lettuce]]"
          ],
          [
           "Chicken Bowl[Roasted Chili Corn Salsa, [Rice, Pinto Beans, Cheese, Sour Cream, Lettuce]]"
          ],
          [
           "Steak Burrito[Tomatillo Red Chili Salsa, [Rice, Black Beans, Cheese]]"
          ],
          [
           "Chicken Burrito[Tomatillo Green Chili Salsa, [Rice, Pinto Beans, Cheese, Lettuce]]"
          ],
          [
           "Izze[Grapefruit]"
          ],
          [
           "Veggie Burrito[[Fresh Tomato Salsa (Mild), Roasted Chili Corn Salsa (Medium), Tomatillo-Red Chili Salsa (Hot)], [Black Beans, Rice, Fajita Veggies, Lettuce]]"
          ],
          [
           "Chicken Bowl[Roasted Chili Corn Salsa, [Rice, Black Beans, Cheese, Sour Cream, Guacamole, Lettuce]]"
          ],
          [
           "Veggie Bowl[Fresh Tomato Salsa (Mild), [Pinto Beans, Rice, Cheese, Sour Cream]]"
          ],
          [
           "Steak Burrito[[Lettuce, Fajita Veggies, Rice]]"
          ],
          [
           "Chicken Salad Bowl[Fresh Tomato Salsa, [Fajita Vegetables, Lettuce]]"
          ],
          [
           "Chicken Bowl[Roasted Chili Corn Salsa, [Fajita Vegetables, Rice, Pinto Beans, Cheese, Sour Cream, Lettuce]]"
          ],
          [
           "Chicken Soft Tacos[Fresh Tomato Salsa (Mild), [Pinto Beans, Rice, Cheese, Sour Cream]]"
          ],
          [
           "Steak Bowl[Fresh Tomato Salsa, [Rice, Pinto Beans, Cheese, Sour Cream, Lettuce]]"
          ],
          [
           "Chicken Bowl[Tomatillo Green Chili Salsa, [Rice, Cheese, Sour Cream, Lettuce]]"
          ],
          [
           "Steak Burrito[Fresh Tomato Salsa, [Rice, Pinto Beans, Cheese, Sour Cream]]"
          ],
          [
           "Chicken Burrito[Fresh Tomato Salsa]"
          ],
          [
           "Barbacoa Burrito[Tomatillo-Green Chili Salsa (Medium), [Rice, Cheese, Sour Cream, Lettuce]]"
          ],
          [
           "Chicken Burrito[Roasted Chili Corn Salsa (Medium), [Rice, Fajita Veggies, Cheese, Sour Cream, Lettuce]]"
          ],
          [
           "Steak Burrito[Fresh Tomato Salsa, [Rice, Pinto Beans, Cheese, Sour Cream, Guacamole, Lettuce]]"
          ],
          [
           "Chicken Bowl[Tomatillo Green Chili Salsa, [Rice, Sour Cream, Cheese, Guacamole]]"
          ],
          [
           "Chicken Burrito[Fresh Tomato Salsa, [Fajita Vegetables, Rice, Black Beans, Cheese, Sour Cream, Guacamole, Lettuce]]"
          ],
          [
           "Chicken Bowl[[Fresh Tomato Salsa (Mild), Roasted Chili Corn Salsa (Medium)], [Black Beans, Rice, Cheese, Sour Cream, Lettuce]]"
          ],
          [
           "Chicken Burrito[Fresh Tomato Salsa, [Rice, Cheese, Sour Cream, Guacamole]]"
          ],
          [
           "Chicken Bowl[Fresh Tomato Salsa, Cheese]"
          ],
          [
           "Chicken Bowl[Tomatillo-Red Chili Salsa (Hot), [Rice, Cheese, Sour Cream, Lettuce]]"
          ],
          [
           "Chicken Bowl[Roasted Chili Corn Salsa, [Rice, Black Beans, Cheese]]"
          ],
          [
           "Chicken Bowl[[Fresh Tomato Salsa (Mild), Tomatillo-Green Chili Salsa (Medium), Roasted Chili Corn Salsa (Medium)], [Black Beans, Rice, Fajita Veggies, Cheese, Guacamole, Lettuce]]"
          ],
          [
           "Chicken Burrito[Fresh Tomato Salsa, [Rice, Black Beans]]"
          ],
          [
           "Chicken Bowl[Tomatillo-Red Chili Salsa (Hot), [Rice, Black Beans, Cheese, Lettuce]]"
          ],
          [
           "Chicken Bowl[Tomatillo Red Chili Salsa, [Fajita Vegetables, Rice, Black Beans, Cheese, Sour Cream]]"
          ],
          [
           "Chicken Bowl[Roasted Chili Corn Salsa (Medium), [Black Beans, Rice, Fajita Veggies, Cheese, Sour Cream]]"
          ],
          [
           "Chicken Bowl[Fresh Tomato Salsa (Mild), [Black Beans, Rice, Cheese]]"
          ],
          [
           "Chicken Bowl[Roasted Chili Corn Salsa, [Rice, Black Beans, Sour Cream, Guacamole]]"
          ],
          [
           "Chicken Burrito[Tomatillo Green Chili Salsa, [Rice, Black Beans, Cheese, Sour Cream]]"
          ],
          [
           "Chicken Bowl[Fresh Tomato Salsa]"
          ],
          [
           "Carnitas Bowl[Tomatillo-Red Chili Salsa (Hot), [Black Beans, Rice, Fajita Veggies, Cheese, Sour Cream, Lettuce]]"
          ],
          [
           "Chicken Soft Tacos[Fresh Tomato Salsa, [Cheese, Lettuce]]"
          ],
          [
           "Chicken Bowl[Fresh Tomato Salsa, [Rice, Black Beans, Sour Cream, Cheese]]"
          ],
          [
           "Chicken Bowl[Tomatillo Red Chili Salsa, [Rice, Cheese, Lettuce]]"
          ],
          [
           "Chicken Soft Tacos[Fresh Tomato Salsa, [Rice, Cheese, Sour Cream]]"
          ],
          [
           "Chicken Salad[Fresh Tomato Salsa (Mild), Black Beans]"
          ],
          [
           "Chicken Bowl[Fresh Tomato Salsa, [Rice, Black Beans, Guacamole, Lettuce]]"
          ],
          [
           "Chicken Burrito[Fresh Tomato Salsa, [Rice, Black Beans, Cheese, Sour Cream, Guacamole]]"
          ],
          [
           "Chicken Burrito[Fresh Tomato Salsa, [Rice, Black Beans, Sour Cream, Cheese, Lettuce]]"
          ],
          [
           "Chicken Salad Bowl[Fresh Tomato Salsa, [Rice, Fajita Vegetables, Pinto Beans, Black Beans, Lettuce, Guacamole]]"
          ],
          [
           "Chicken Burrito[Fresh Tomato Salsa, [Fajita Vegetables, Rice, Sour Cream, Lettuce]]"
          ],
          [
           "Chicken Bowl[Fresh Tomato Salsa, [Rice, Black Beans, Sour Cream]]"
          ],
          [
           "Chicken Salad Bowl[Fresh Tomato Salsa, [Fajita Vegetables, Pinto Beans, Guacamole, Lettuce]]"
          ],
          [
           "Chicken Bowl[Tomatillo Red Chili Salsa, [Fajita Vegetables, Rice, Black Beans, Cheese, Sour Cream, Guacamole, Lettuce]]"
          ],
          [
           "Chicken Burrito[Fresh Tomato Salsa, [Fajita Vegetables, Rice, Black Beans, Cheese]]"
          ],
          [
           "Chicken Bowl[Fresh Tomato Salsa (Mild), [Black Beans, Rice, Fajita Veggies, Cheese]]"
          ],
          [
           "Chicken Burrito[Fresh Tomato Salsa, [Rice, Pinto Beans, Cheese, Sour Cream, Lettuce]]"
          ],
          [
           "Chicken Burrito[Tomatillo Green Chili Salsa, [Rice, Black Beans, Cheese, Sour Cream, Lettuce]]"
          ],
          [
           "Chicken Burrito[Fresh Tomato Salsa (Mild), [Pinto Beans, Rice, Cheese, Sour Cream, Lettuce]]"
          ],
          [
           "Chicken Bowl[[Roasted Chili Corn Salsa (Medium), Tomatillo-Red Chili Salsa (Hot), Fresh Tomato Salsa (Mild)], [Rice, Pinto Beans, Fajita Veggies, Cheese, Sour Cream, Lettuce]]"
          ],
          [
           "Chicken Burrito[Roasted Chili Corn Salsa, [Rice, Black Beans, Cheese, Sour Cream, Lettuce]]"
          ],
          [
           "Chicken Burrito[Roasted Chili Corn Salsa, [Rice, Black Beans, Cheese]]"
          ],
          [
           "Chicken Burrito[Fresh Tomato Salsa (Mild), [Black Beans, Rice, Sour Cream, Guacamole]]"
          ],
          [
           "Chicken Burrito[Roasted Chili Corn Salsa, [Rice, Black Beans, Sour Cream, Cheese, Lettuce]]"
          ],
          [
           "Chicken Burrito[Roasted Chili Corn Salsa, [Rice, Black Beans]]"
          ],
          [
           "Chicken Bowl[Fresh Tomato Salsa, [Fajita Vegetables, Rice, Black Beans, Guacamole, Lettuce]]"
          ],
          [
           "Chicken Bowl[Roasted Chili Corn Salsa, [Rice, Cheese, Lettuce]]"
          ],
          [
           "Chicken Burrito[Tomatillo Red Chili Salsa, [Rice, Cheese, Lettuce]]"
          ],
          [
           "Chicken Burrito[Roasted Chili Corn Salsa, [Rice, Cheese, Sour Cream, Lettuce]]"
          ],
          [
           "Chicken Burrito[Tomatillo Red Chili Salsa, [Rice, Black Beans, Sour Cream, Cheese, Lettuce]]"
          ],
          [
           "Chicken Bowl[Fresh Tomato Salsa, [Fajita Vegetables, Rice, Black Beans, Cheese]]"
          ],
          [
           "Chicken Burrito[Tomatillo Red Chili Salsa, [Rice, Black Beans, Cheese, Sour Cream]]"
          ],
          [
           "Chicken Burrito[Tomatillo Red Chili Salsa, [Rice, Black Beans, Cheese, Sour Cream, Lettuce]]"
          ],
          [
           "Chicken Burrito[Roasted Chili Corn Salsa, [Rice, Black Beans, Cheese, Lettuce, Guacamole]]"
          ],
          [
           "Chicken Bowl[Tomatillo Green Chili Salsa, [Rice, Black Beans, Sour Cream, Lettuce]]"
          ],
          [
           "Chicken Bowl[Fresh Tomato Salsa, [Fajita Vegetables, Rice, Cheese, Sour Cream, Guacamole]]"
          ],
          [
           "Chicken Burrito[Roasted Chili Corn Salsa, [Fajita Vegetables, Rice, Sour Cream, Guacamole, Lettuce]]"
          ],
          [
           "Chicken Burrito[Tomatillo-Red Chili Salsa (Hot), [Black Beans, Rice, Cheese, Sour Cream, Lettuce]]"
          ],
          [
           "Chicken Bowl[Fresh Tomato Salsa, [Fajita Vegetables, Rice, Cheese, Sour Cream, Lettuce]]"
          ],
          [
           "Chicken Burrito[Roasted Chili Corn Salsa (Medium), [Rice, Fajita Veggies, Cheese]]"
          ],
          [
           "Carnitas Burrito[Fresh Tomato Salsa, [Rice, Pinto Beans, Cheese, Sour Cream]]"
          ],
          [
           "Chicken Bowl[Fresh Tomato Salsa, [Fajita Vegetables, Rice, Guacamole, Lettuce]]"
          ],
          [
           "Carnitas Soft Tacos[Roasted Chili Corn Salsa, [Cheese, Lettuce]]"
          ],
          [
           "Chicken Burrito[Fresh Tomato Salsa (Mild), [Rice, Cheese, Sour Cream, Lettuce]]"
          ],
          [
           "Chicken Bowl[Tomatillo Green Chili Salsa, [Rice, Black Beans, Cheese]]"
          ],
          [
           "Carnitas Soft Tacos[Roasted Chili Corn Salsa, [Rice, Cheese, Sour Cream, Lettuce]]"
          ],
          [
           "Chicken Bowl[Fresh Tomato Salsa, [Rice, Pinto Beans, Cheese, Sour Cream, Lettuce]]"
          ],
          [
           "Chicken Burrito[Fresh Tomato Salsa, [Rice, Sour Cream, Cheese, Lettuce, Guacamole]]"
          ],
          [
           "Chicken Bowl[[Fresh Tomato Salsa (Mild), Tomatillo-Red Chili Salsa (Hot)], [Black Beans, Rice, Cheese, Sour Cream, Guacamole]]"
          ],
          [
           "Chicken Burrito[Fresh Tomato Salsa, [Rice, Pinto Beans, Cheese, Sour Cream]]"
          ],
          [
           "Chicken Burrito[Fresh Tomato Salsa, [Rice, Sour Cream, Cheese, Guacamole]]"
          ],
          [
           "Chicken Bowl[Roasted Chili Corn Salsa, [Fajita Vegetables, Rice, Black Beans, Cheese, Sour Cream, Guacamole, Lettuce]]"
          ],
          [
           "Chicken Soft Tacos[Fresh Tomato Salsa, [Sour Cream, Cheese, Guacamole]]"
          ],
          [
           "Steak Bowl[Fresh Tomato Salsa, Rice]"
          ],
          [
           "Bowl[Braised Carnitas, Pinto Beans, [Sour Cream, Cheese, Cilantro-Lime Rice]]"
          ],
          [
           "Steak Bowl[Fresh Tomato Salsa, [Rice, Black Beans, Cheese, Sour Cream, Lettuce]]"
          ],
          [
           "Steak Bowl[Roasted Chili Corn Salsa, [Rice, Black Beans, Cheese, Sour Cream, Guacamole, Lettuce]]"
          ],
          [
           "Steak Bowl[Tomatillo Green Chili (Medium), [Rice, Black Beans, Sour Cream, Cheese]]"
          ],
          [
           "Steak Bowl[Tomatillo Green Chili Salsa, [Rice, Cheese, Sour Cream, Guacamole, Lettuce]]"
          ],
          [
           "Steak Bowl[Tomatillo Red Chili Salsa, [Rice, Black Beans, Cheese, Sour Cream, Lettuce]]"
          ],
          [
           "Steak Bowl[Tomatillo Red Chili Salsa, [Rice, Black Beans, Cheese]]"
          ],
          [
           "Steak Burrito[Fresh Tomato Salsa, [Fajita Vegetables, Rice, Black Beans, Cheese, Lettuce]]"
          ],
          [
           "Steak Burrito[Fresh Tomato Salsa, [Pinto Beans, Cheese, Sour Cream]]"
          ],
          [
           "Steak Burrito[Fresh Tomato Salsa, [Rice, Cheese, Sour Cream]]"
          ],
          [
           "Steak Burrito[Fresh Tomato Salsa, [Rice, Pinto Beans, Cheese, Guacamole, Lettuce]]"
          ],
          [
           "Steak Burrito[Roasted Chili Corn Salsa, [Rice, Pinto Beans, Cheese, Lettuce]]"
          ],
          [
           "Steak Burrito[Tomatillo Green Chili Salsa, [Rice, Fajita Vegetables, Sour Cream, Cheese, Lettuce]]"
          ],
          [
           "Steak Burrito[Tomatillo Green Chili Salsa, [Rice, Sour Cream, Guacamole, Lettuce]]"
          ],
          [
           "Steak Burrito[Tomatillo Red Chili Salsa, [Rice, Black Beans, Cheese, Sour Cream, Guacamole, Lettuce]]"
          ],
          [
           "Steak Burrito[Tomatillo Red Chili Salsa, [Rice, Black Beans, Cheese, Sour Cream, Lettuce]]"
          ],
          [
           "Steak Burrito[[Fresh Tomato Salsa (Mild), Roasted Chili Corn Salsa (Medium), Tomatillo-Red Chili Salsa (Hot)], [Black Beans, Rice, Sour Cream]]"
          ],
          [
           "Steak Crispy Tacos[Tomatillo-Red Chili Salsa (Hot), [Pinto Beans, Cheese, Sour Cream, Lettuce]]"
          ],
          [
           "Veggie Bowl[Fresh Tomato Salsa, [Fajita Vegetables, Rice, Black Beans, Cheese, Sour Cream]]"
          ],
          [
           "Veggie Bowl[Fresh Tomato Salsa, [Rice, Black Beans, Cheese, Sour Cream, Guacamole, Lettuce]]"
          ],
          [
           "Veggie Bowl[Fresh Tomato Salsa, [Rice, Black Beans, Cheese, Sour Cream, Lettuce]]"
          ],
          [
           "Veggie Bowl[Roasted Chili Corn Salsa, [Fajita Vegetables, Rice, Black Beans, Cheese, Lettuce]]"
          ],
          [
           "Veggie Bowl[Roasted Chili Corn Salsa, [Fajita Vegetables, Rice, Black Beans, Guacamole]]"
          ],
          [
           "Veggie Bowl[Tomatillo Red Chili Salsa, [Rice, Black Beans, Cheese, Sour Cream, Guacamole, Lettuce]]"
          ],
          [
           "Veggie Burrito[Fresh Tomato Salsa (Mild), [Cheese, Rice, Pinto Beans, Sour Cream]]"
          ],
          [
           "Veggie Burrito[Fresh Tomato Salsa, [Fajita Vegetables, Rice, Black Beans, Cheese, Guacamole, Lettuce]]"
          ],
          [
           "Veggie Burrito[Roasted Chili Corn Salsa, [Rice, Black Beans, Cheese, Sour Cream, Guacamole, Lettuce]]"
          ],
          [
           "Veggie Burrito[Tomatillo Red Chili Salsa, [Fajita Vegetables, Rice, Pinto Beans, Cheese, Lettuce]]"
          ],
          [
           "Veggie Burrito[[Tomatillo-Green Chili Salsa (Medium), Roasted Chili Corn Salsa (Medium), Tomatillo-Red Chili Salsa (Hot)], [Black Beans, Rice, Fajita Veggies, Lettuce]]"
          ],
          [
           "Steak Bowl[Fresh Tomato Salsa, [Rice, Black Beans, Cheese, Sour Cream, Guacamole, Lettuce]]"
          ],
          [
           "Steak Burrito[Fresh Tomato Salsa, [Rice, Black Beans, Cheese, Sour Cream, Guacamole]]"
          ],
          [
           "Chicken Soft Tacos[Tomatillo Red Chili Salsa, [Fajita Vegetables, Black Beans, Cheese, Guacamole, Lettuce]]"
          ],
          [
           "Chicken Soft Tacos[Roasted Chili Corn Salsa, [Fajita Vegetables, Rice, Cheese, Sour Cream, Lettuce]]"
          ],
          [
           "Carnitas Bowl[Fresh Tomato Salsa, [Rice, Fajita Vegetables, Black Beans, Cheese, Lettuce, Guacamole]]"
          ],
          [
           "Chips and Fresh Tomato Salsa"
          ],
          [
           "Chicken Soft Tacos[Fresh Tomato Salsa, [Sour Cream, Lettuce]]"
          ],
          [
           "Steak Burrito[Tomatillo-Red Chili Salsa (Hot), [Rice, Fajita Veggies, Cheese]]"
          ],
          [
           "Steak Burrito[Tomatillo-Red Chili Salsa (Hot), [Rice, Cheese, Sour Cream]]"
          ],
          [
           "Chicken Bowl[Tomatillo-Red Chili Salsa (Hot), [Rice, Fajita Veggies, Cheese, Sour Cream, Lettuce]]"
          ],
          [
           "Chicken Bowl[Tomatillo-Red Chili Salsa (Hot), [Rice, Fajita Veggies, Pinto Beans, Sour Cream, Cheese, Guacamole]]"
          ],
          [
           "Chicken Bowl[Tomatillo-Red Chili Salsa (Hot), [Rice, Pinto Beans, Fajita Veggies, Cheese, Sour Cream, Guacamole]]"
          ],
          [
           "Chicken Salad Bowl[Fresh Tomato Salsa, Lettuce]"
          ],
          [
           "Chicken Salad Bowl[Tomatillo Green Chili Salsa, [Sour Cream, Cheese, Guacamole]]"
          ],
          [
           "Chicken Bowl[White Rice]"
          ],
          [
           "Steak Burrito[Tomatillo-Green Chili Salsa (Medium), [Rice, Fajita Veggies, Cheese, Sour Cream, Lettuce]]"
          ],
          [
           "Chicken Bowl[[Fresh Tomato Salsa (Mild), Roasted Chili Corn Salsa (Medium)], [Fajita Veggies, Rice]]"
          ],
          [
           "Steak Burrito[Tomatillo-Green Chili Salsa (Medium), [Rice, Cheese, Sour Cream, Lettuce]]"
          ],
          [
           "Chicken Bowl[Tomatillo-Red Chili Salsa (Hot), [Sour Cream, Cheese, Fajita Veggies, Guacamole, Rice, Pinto Beans]]"
          ],
          [
           "Steak Burrito[[Fresh Tomato Salsa (Mild), Roasted Chili Corn Salsa (Medium)], [Black Beans, Rice, Cheese, Lettuce]]"
          ],
          [
           "Chicken Bowl[Tomatillo-Red Chili Salsa (Hot), [Pinto Beans, Rice, Fajita Veggies, Cheese, Sour Cream]]"
          ],
          [
           "Steak Burrito[Tomatillo Red Chili Salsa, [Rice, Pinto Beans, Cheese, Lettuce]]"
          ],
          [
           "Steak Burrito[[Fresh Tomato Salsa (Mild), Tomatillo-Red Chili Salsa (Hot)], [Rice, Cheese, Sour Cream]]"
          ],
          [
           "Steak Burrito[[Roasted Chili Corn Salsa (Medium), Tomatillo-Green Chili Salsa (Medium)], [Rice, Black Beans, Sour Cream]]"
          ],
          [
           "Steak Burrito[[Tomatillo-Green Chili Salsa (Medium), Roasted Chili Corn Salsa (Medium), Tomatillo-Red Chili Salsa (Hot)], [Black Beans, Rice, Cheese, Sour Cream, Guacamole, Lettuce]]"
          ],
          [
           "Steak Burrito[[Tomatillo-Green Chili Salsa (Medium), Tomatillo-Red Chili Salsa (Hot)], [Black Beans, Rice, Fajita Veggies, Sour Cream]]"
          ],
          [
           "Steak Crispy Tacos[Fresh Tomato Salsa, [Rice, Cheese, Sour Cream, Lettuce]]"
          ],
          [
           "Steak Crispy Tacos[Tomatillo Green Chili Salsa, [Cheese, Sour Cream, Guacamole]]"
          ],
          [
           "Chicken Salad Bowl[Tomatillo Red Chili Salsa, [Fajita Vegetables, Black Beans, Guacamole, Lettuce]]"
          ],
          [
           "Chicken Bowl[Tomatillo-Red Chili Salsa (Hot), [Pinto Beans, Cheese, Sour Cream, Rice, Fajita Veggies, Guacamole]]"
          ],
          [
           "Chicken Bowl[Tomatillo-Red Chili Salsa (Hot), [Cheese, Sour Cream, Fajita Veggies, Pinto Beans, Rice]]"
          ],
          [
           "Steak Burrito[Tomatillo Red Chili Salsa]"
          ],
          [
           "Chicken Bowl[[Fresh Tomato Salsa (Mild), Tomatillo-Green Chili Salsa (Medium)], [Rice, Fajita Veggies, Cheese, Sour Cream, Lettuce]]"
          ],
          [
           "Steak Burrito[Tomatillo Red Chili Salsa, [Rice, Fajita Vegetables, Cheese, Lettuce, Guacamole]]"
          ],
          [
           "Steak Salad Bowl[Fresh Tomato Salsa, [Fajita Vegetables, Lettuce]]"
          ],
          [
           "Steak Burrito[Roasted Chili Corn Salsa (Medium), [Rice, Black Beans, Fajita Veggies, Sour Cream]]"
          ],
          [
           "Steak Burrito[Roasted Chili Corn Salsa, [Black Beans, Cheese, Lettuce]]"
          ],
          [
           "Chicken Burrito[Fresh Tomato Salsa (Mild), [Rice, Cheese, Lettuce]]"
          ],
          [
           "Steak Burrito[Roasted Chili Corn Salsa, [Cheese, Black Beans, Lettuce]]"
          ],
          [
           "Steak Burrito[Roasted Chili Corn Salsa, [Fajita Vegetables, Rice, Black Beans, Cheese]]"
          ],
          [
           "Steak Burrito[Roasted Chili Corn Salsa, [Fajita Vegetables, Rice, Cheese, Lettuce]]"
          ],
          [
           "Steak Burrito[Roasted Chili Corn Salsa, [Fajita Vegetables, Rice, Cheese, Sour Cream, Guacamole, Lettuce]]"
          ],
          [
           "Chicken Salad Bowl[Fresh Tomato Salsa, [Rice, Guacamole]]"
          ],
          [
           "Chicken Burrito[Fresh Tomato Salsa (Mild), [Cheese, Lettuce]]"
          ],
          [
           "Steak Burrito[Roasted Chili Corn Salsa, [Rice, Pinto Beans, Sour Cream, Cheese, Guacamole]]"
          ],
          [
           "Chicken Burrito[Fresh Tomato Salsa (Mild), [Black Beans, Rice, Fajita Veggies, Cheese]]"
          ],
          [
           "Chicken Burrito[Fresh Tomato Salsa (Mild), [Black Beans, Rice, Fajita Veggies, Cheese, Sour Cream, Lettuce]]"
          ],
          [
           "Steak Burrito[Roasted Chili Corn Salsa, [Rice, Pinto Beans, Sour Cream, Cheese, Lettuce]]"
          ],
          [
           "Chicken Bowl[[Roasted Chili Corn Salsa (Medium), Tomatillo-Red Chili Salsa (Hot)], [Black Beans, Rice, Fajita Veggies, Guacamole, Lettuce]]"
          ],
          [
           "Steak Burrito[Tomatillo Green Chili Salsa, [Rice, Black Beans, Cheese, Sour Cream, Lettuce]]"
          ],
          [
           "Steak Burrito[Tomatillo Green Chili Salsa, [Rice, Cheese, Guacamole, Lettuce]]"
          ],
          [
           "Steak Burrito[Tomatillo Green Chili Salsa, [Rice, Cheese, Guacamole]]"
          ],
          [
           "Chicken Salad Bowl[Fresh Tomato Salsa]"
          ],
          [
           "Chicken Salad Bowl[Roasted Chili Corn Salsa, [Black Beans, Sour Cream, Cheese, Lettuce]]"
          ],
          [
           "Steak Burrito[Tomatillo Red Chili Salsa, [Cheese, Black Beans, Rice, Lettuce, Sour Cream]]"
          ],
          [
           "Steak Burrito[Tomatillo Red Chili Salsa, [Fajita Vegetables, Rice, Black Beans, Cheese, Sour Cream, Guacamole, Lettuce]]"
          ],
          [
           "Steak Burrito[Tomatillo Red Chili Salsa, [Rice, Black Beans, Cheese, Lettuce, Sour Cream]]"
          ],
          [
           "Chicken Bowl[[Roasted Chili Corn Salsa (Medium), Fresh Tomato Salsa (Mild)], [Rice, Black Beans, Fajita Veggies, Guacamole]]"
          ],
          [
           "Chicken Soft Tacos[Tomatillo Red Chili Salsa, [Rice, Cheese]]"
          ],
          [
           "Chicken Salad Bowl[Tomatillo Green Chili Salsa, [Black Beans, Sour Cream, Cheese, Lettuce, Guacamole]]"
          ],
          [
           "Chicken Bowl[Tomatillo-Red Chili Salsa (Hot), [Black Beans, Rice, Cheese, Sour Cream]]"
          ],
          [
           "Chicken Bowl[Tomatillo-Green Chili Salsa (Medium), Black Beans]"
          ],
          [
           "Chicken Bowl[Tomatillo-Green Chili Salsa (Medium), [Black Beans, Rice, Fajita Veggies, Cheese, Sour Cream, Guacamole, Lettuce]]"
          ],
          [
           "Chicken Bowl[Roasted Chili Corn Salsa, [Rice, Cheese, Sour Cream, Lettuce]]"
          ],
          [
           "Chicken Bowl[Tomatillo Green Chili Salsa, [Rice, Black Beans, Cheese, Sour Cream]]"
          ],
          [
           "Veggie Burrito[Fresh Tomato Salsa (Mild), [Pinto Beans, Rice, Sour Cream, Cheese]]"
          ],
          [
           "Chicken Bowl[Tomatillo Green Chili Salsa, [Rice, Black Beans, Cheese, Sour Cream, Guacamole, Lettuce]]"
          ],
          [
           "Chicken Soft Tacos[Fresh Tomato Salsa, Rice]"
          ],
          [
           "Chicken Bowl[Tomatillo Green Chili Salsa, [Fajita Vegetables, Rice, Black Beans, Cheese, Lettuce]]"
          ],
          [
           "Chicken Bowl[Roasted Chili Corn Salsa, [Rice, Pinto Beans, Sour Cream, Cheese, Guacamole]]"
          ],
          [
           "Veggie Burrito[Fresh Tomato Salsa, [Fajita Vegetables, Rice, Black Beans, Cheese, Sour Cream, Guacamole, Lettuce]]"
          ],
          [
           "Veggie Burrito[Fresh Tomato Salsa, [Fajita Vegetables, Rice, Black Beans, Guacamole, Lettuce]]"
          ],
          [
           "Chicken Bowl[Roasted Chili Corn Salsa, [Rice, Pinto Beans, Cheese, Sour Cream, Guacamole, Lettuce]]"
          ],
          [
           "Chicken Bowl[Roasted Chili Corn Salsa, [Rice, Fajita Vegetables, Cheese, Lettuce]]"
          ],
          [
           "Chicken Bowl[Roasted Chili Corn Salsa, [Rice, Fajita Vegetables, Black Beans, Sour Cream, Cheese, Lettuce]]"
          ],
          [
           "Veggie Burrito[Fresh Tomato Salsa, [Rice, Fajita Vegetables, Black Beans, Lettuce, Guacamole]]"
          ],
          [
           "Chicken Bowl[Tomatillo Green Chili Salsa, [Rice, Black Beans, Guacamole, Lettuce]]"
          ],
          [
           "Veggie Burrito[Roasted Chili Corn Salsa, [Fajita Vegetables, Rice, Black Beans, Cheese, Sour Cream, Guacamole, Lettuce]]"
          ],
          [
           "Chicken Soft Tacos[Fresh Tomato Salsa, Sour Cream]"
          ],
          [
           "Veggie Burrito[Tomatillo Red Chili Salsa, [Fajita Vegetables, Rice, Black Beans, Cheese, Guacamole, Lettuce]]"
          ],
          [
           "Chicken Bowl[Roasted Chili Corn Salsa, [Rice, Black Beans, Guacamole]]"
          ],
          [
           "Veggie Salad Bowl[Fresh Tomato Salsa, [Fajita Vegetables, Rice, Black Beans, Cheese, Guacamole, Lettuce]]"
          ],
          [
           "Veggie Salad Bowl[Tomatillo Red Chili Salsa, [Fajita Vegetables, Rice, Black Beans, Cheese, Guacamole]]"
          ],
          [
           "Chicken Bowl[Roasted Chili Corn Salsa, [Rice, Black Beans, Cheese, Lettuce, Guacamole]]"
          ],
          [
           "Veggie Salad[[Fresh Tomato Salsa (Mild), Roasted Chili Corn Salsa (Medium), Tomatillo-Red Chili Salsa (Hot)], [Black Beans, Rice, Fajita Veggies, Lettuce]]"
          ],
          [
           "Veggie Salad[[Tomatillo-Green Chili Salsa (Medium), Roasted Chili Corn Salsa (Medium), Tomatillo-Red Chili Salsa (Hot)], [Black Beans, Rice, Fajita Veggies, Lettuce]]"
          ],
          [
           "Veggie Soft Tacos[Fresh Tomato Salsa (Mild), [Black Beans, Rice, Cheese, Lettuce]]"
          ],
          [
           "Chicken Bowl[Roasted Chili Corn Salsa, [Fajita Vegetables, Rice, Black Beans, Guacamole]]"
          ],
          [
           "Chicken Soft Tacos[Roasted Chili Corn Salsa, [Rice, Fajita Vegetables, Sour Cream, Cheese, Lettuce]]"
          ],
          [
           "Chicken Bowl[Tomatillo Green Chili Salsa, [Rice, Black Beans, Sour Cream, Cheese]]"
          ],
          [
           "Chicken Burrito[Fresh Tomato Salsa (Mild), [Rice, Fajita Veggies, Cheese, Sour Cream, Lettuce]]"
          ],
          [
           "Chicken Bowl[Tomatillo Red Chili Salsa, [Rice, Black Beans, Cheese, Lettuce, Guacamole]]"
          ],
          [
           "Chicken Bowl[Tomatillo Red Chili Salsa]"
          ],
          [
           "Chicken Bowl[Tomatillo Red Chili Salsa, [Rice, Cheese, Sour Cream, Lettuce]]"
          ],
          [
           "Steak Salad Bowl[Tomatillo Red Chili Salsa, [Black Beans, Cheese, Guacamole]]"
          ],
          [
           "Steak Salad Bowl[Tomatillo Red Chili Salsa, [Fajita Vegetables, Black Beans, Cheese, Guacamole, Lettuce]]"
          ],
          [
           "Steak Salad[Tomatillo-Red Chili Salsa (Hot), [Black Beans, Rice, Fajita Veggies, Cheese, Lettuce]]"
          ],
          [
           "Chicken Bowl[Tomatillo Red Chili Salsa, [Rice, Black Beans, Sour Cream, Cheese, Lettuce, Guacamole]]"
          ],
          [
           "Steak Soft Tacos[Fresh Tomato Salsa, [Sour Cream, Cheese, Lettuce, Guacamole]]"
          ],
          [
           "Chicken Bowl[Tomatillo Red Chili Salsa, [Rice, Black Beans, Pinto Beans, Cheese, Sour Cream, Lettuce]]"
          ],
          [
           "Steak Soft Tacos[Tomatillo-Green Chili Salsa (Medium), [Cheese, Sour Cream]]"
          ],
          [
           "Steak Soft Tacos[[Fresh Tomato Salsa (Mild), Tomatillo-Green Chili Salsa (Medium)], [Rice, Fajita Veggies, Cheese, Guacamole, Lettuce]]"
          ],
          [
           "Veggie Bowl[Fresh Tomato Salsa (Mild), [Black Beans, Rice, Fajita Veggies, Cheese, Lettuce]]"
          ],
          [
           "Veggie Bowl[Fresh Tomato Salsa (Mild), [Rice, Sour Cream, Cheese, Pinto Beans]]"
          ],
          [
           "Chicken Soft Tacos[Fresh Tomato Salsa (Mild), [Pinto Beans, Rice, Cheese, Sour Cream, Lettuce]]"
          ],
          [
           "Veggie Bowl[Fresh Tomato Salsa, [Fajita Vegetables, Rice, Guacamole]]"
          ],
          [
           "Chicken Soft Tacos[Tomatillo Red Chili Salsa, Cheese]"
          ],
          [
           "Chicken Soft Tacos[Fresh Tomato Salsa (Mild), [Cheese, Sour Cream, Lettuce]]"
          ],
          [
           "Chicken Bowl[Tomatillo Green Chili Salsa, [Sour Cream, Cheese, Guacamole]]"
          ],
          [
           "Chicken Soft Tacos[Fresh Tomato Salsa (Mild), [Cheese, Sour Cream]]"
          ],
          [
           "Chicken Soft Tacos[Fresh Tomato Salsa (Mild), [Pinto Beans, Rice, Cheese, Lettuce]]"
          ],
          [
           "Chicken Bowl[Tomatillo Green Chili Salsa, [Rice, Fajita Vegetables, Black Beans, Sour Cream, Cheese, Lettuce]]"
          ],
          [
           "Veggie Bowl[Roasted Chili Corn Salsa, [Rice, Black Beans, Cheese, Sour Cream, Guacamole, Lettuce]]"
          ],
          [
           "Chicken Bowl[Tomatillo Green Chili Salsa, [Rice, Cheese, Guacamole, Lettuce]]"
          ],
          [
           "Veggie Bowl[Roasted Chili Corn Salsa, [Rice, Black Beans, Cheese, Sour Cream, Guacamole]]"
          ],
          [
           "Veggie Bowl[Tomatillo Red Chili Salsa, [Fajita Vegetables, Rice, Black Beans, Cheese, Guacamole, Lettuce]]"
          ],
          [
           "Chicken Burrito[Fresh Tomato Salsa (Mild), [Rice, Fajita Veggies, Cheese, Sour Cream, Guacamole, Lettuce]]"
          ],
          [
           "Chicken Burrito[Fresh Tomato Salsa (Mild), [Rice, Fajita Veggies, Lettuce]]"
          ],
          [
           "Steak Bowl[Fresh Tomato (Mild), [Guacamole, Lettuce, Pinto Beans, Rice, Sour Cream, Cheese]]"
          ],
          [
           "Steak Burrito[Fresh Tomato Salsa, [Sour Cream, Lettuce, Cheese, Rice]]"
          ],
          [
           "Steak Bowl[Roasted Chili Corn Salsa (Medium), [Black Beans, Rice, Cheese]]"
          ],
          [
           "Steak Bowl[Roasted Chili Corn Salsa (Medium), [Black Beans, Rice, Fajita Veggies, Cheese, Sour Cream, Lettuce]]"
          ],
          [
           "Chicken Burrito[Tomatillo Red Chili Salsa, [Rice, Black Beans, Cheese, Sour Cream, Guacamole, Lettuce]]"
          ],
          [
           "Chicken Burrito[Tomatillo Red Chili Salsa, [Rice, Black Beans, Cheese, Lettuce]]"
          ],
          [
           "Chicken Burrito[Tomatillo Red Chili Salsa, [Rice, Black Beans, Cheese, Guacamole, Lettuce]]"
          ],
          [
           "Chicken Burrito[Tomatillo Red Chili Salsa, [Guacamole, Cheese]]"
          ],
          [
           "Chicken Burrito[Tomatillo Red Chili Salsa, [Fajita Vegetables, Rice, Black Beans, Cheese, Sour Cream, Guacamole, Lettuce]]"
          ],
          [
           "Chicken Burrito[Tomatillo Red Chili Salsa, [Cheese, Rice, Black Beans]]"
          ],
          [
           "Chicken Burrito[Tomatillo Red Chili Salsa, [Cheese, Black Beans, Rice]]"
          ],
          [
           "Chicken Burrito[Tomatillo Red Chili Salsa, Rice]"
          ],
          [
           "Chicken Burrito[Tomatillo Green Chili Salsa, [Rice, Pinto Beans, Sour Cream, Cheese, Lettuce]]"
          ],
          [
           "Chicken Burrito[Tomatillo Green Chili Salsa, [Rice, Pinto Beans, Cheese, Sour Cream, Guacamole, Lettuce]]"
          ],
          [
           "Steak Bowl[Roasted Chili Corn Salsa (Medium), [Rice, Black Beans, Sour Cream]]"
          ],
          [
           "Chicken Burrito[Tomatillo Green Chili Salsa, [Rice, Black Beans, Cheese]]"
          ],
          [
           "Steak Bowl[Roasted Chili Corn Salsa, [Fajita Vegetables, Rice, Black Beans, Cheese, Sour Cream, Guacamole, Lettuce]]"
          ],
          [
           "Steak Bowl[Roasted Chili Corn Salsa, [Fajita Vegetables, Rice, Black Beans, Cheese, Sour Cream, Lettuce]]"
          ],
          [
           "Chicken Burrito[Roasted Chili Corn Salsa, [Rice, Sour Cream, Cheese, Guacamole]]"
          ],
          [
           "Chicken Burrito[Roasted Chili Corn Salsa, [Rice, Pinto Beans, Cheese, Sour Cream, Guacamole]]"
          ],
          [
           "Steak Bowl[Roasted Chili Corn Salsa, [Rice, Black Beans, Cheese, Guacamole, Lettuce]]"
          ],
          [
           "Steak Bowl[Roasted Chili Corn Salsa, [Rice, Black Beans, Cheese, Lettuce]]"
          ],
          [
           "Chicken Salad Bowl[Fresh Tomato Salsa, [Fajita Vegetables, Cheese, Sour Cream]]"
          ],
          [
           "Chicken Burrito[Roasted Chili Corn Salsa, [Rice, Black Beans, Guacamole]]"
          ],
          [
           "Steak Bowl[Roasted Chili Corn Salsa, [Rice, Black Beans, Cheese, Sour Cream, Lettuce]]"
          ],
          [
           "Steak Bowl[Roasted Chili Corn Salsa, [Rice, Black Beans, Cheese, Sour Cream]]"
          ],
          [
           "Steak Bowl[Roasted Chili Corn Salsa, [Rice, Black Beans, Lettuce, Guacamole]]"
          ],
          [
           "Steak Bowl[Fresh Tomato Salsa, [Rice, Pinto Beans, Sour Cream, Cheese, Lettuce, Guacamole]]"
          ],
          [
           "Chicken Burrito[Tomatillo Red Chili Salsa, [Rice, Black Beans, Sour Cream, Cheese, Lettuce, Guacamole]]"
          ],
          [
           "Steak Bowl[Fresh Tomato Salsa, [Rice, Pinto Beans, Cheese]]"
          ],
          [
           "Chicken Burrito[Tomatillo-Red Chili Salsa (Hot), [Lettuce, Guacamole, Sour Cream, Cheese, Rice, Black Beans]]"
          ],
          [
           "Chicken Crispy Tacos[Tomatillo Red Chili Salsa]"
          ],
          [
           "Chicken Crispy Tacos[Tomatillo Red Chili Salsa, [Fajita Vegetables, Black Beans, Cheese, Guacamole, Lettuce]]"
          ],
          [
           "Chicken Crispy Tacos[Tomatillo Red Chili Salsa, [Cheese, Sour Cream, Lettuce]]"
          ],
          [
           "Chicken Crispy Tacos[Roasted Chili Corn Salsa, [Rice, Cheese, Guacamole]]"
          ],
          [
           "Chicken Crispy Tacos[Roasted Chili Corn Salsa, [Fajita Vegetables, Sour Cream, Cheese, Lettuce, Guacamole]]"
          ],
          [
           "Chicken Crispy Tacos[Roasted Chili Corn Salsa (Medium), [Cheese, Sour Cream, Lettuce]]"
          ],
          [
           "Chicken Crispy Tacos[Fresh Tomato Salsa (Mild), [Rice, Cheese, Sour Cream, Lettuce]]"
          ],
          [
           "Chicken Burrito[[Rice, Cheese]]"
          ],
          [
           "Chips and Guacamole"
          ],
          [
           "Chicken Burrito[[Lettuce, Rice]]"
          ],
          [
           "Steak Bowl[Fresh Tomato Salsa, [Fajita Vegetables, Rice, Black Beans, Cheese, Sour Cream, Lettuce]]"
          ],
          [
           "Steak Bowl[Fresh Tomato Salsa, [Fajita Vegetables, Sour Cream, Cheese, Lettuce, Guacamole]]"
          ],
          [
           "Steak Bowl[Fresh Tomato Salsa, [Rice, Cheese]]"
          ],
          [
           "Chicken Salad Bowl[Fresh Tomato Salsa, [Cheese, Lettuce]]"
          ],
          [
           "Chips and Guacamole"
          ],
          [
           "Chicken Burrito[Tomatillo-Red Chili Salsa (Hot), [Black Beans, Rice, Cheese, Sour Cream, Guacamole, Lettuce]]"
          ],
          [
           "Chicken Salad Bowl[Fresh Tomato Salsa, [Fajita Vegetables, Cheese, Sour Cream, Lettuce]]"
          ],
          [
           "Chicken Burrito[Tomatillo-Green Chili Salsa (Medium), [Rice, Cheese, Guacamole]]"
          ],
          [
           "Chicken Burrito[Tomatillo-Green Chili Salsa (Medium), [Pinto Beans, Rice, Fajita Veggies, Cheese, Sour Cream, Guacamole, Lettuce]]"
          ],
          [
           "Steak Bowl[Fresh Tomato Salsa, [Rice, Black Beans, Pinto Beans, Cheese, Sour Cream, Guacamole, Lettuce]]"
          ],
          [
           "Steak Bowl[Fresh Tomato Salsa, [Rice, Cheese, Lettuce]]"
          ],
          [
           "Steak Bowl[Fresh Tomato Salsa, [Rice, Cheese, Sour Cream, Guacamole]]"
          ],
          [
           "Chicken Burrito[Tomatillo Red Chili Salsa, [Rice, Cheese]]"
          ],
          [
           "Steak Bowl[Fresh Tomato Salsa, [Rice, Cheese, Sour Cream, Lettuce]]"
          ],
          [
           "Chicken Burrito[Roasted Chili Corn Salsa, [Guacamole, Lettuce, Rice, Fajita Vegetables, Sour Cream]]"
          ],
          [
           "Chicken Burrito[Roasted Chili Corn Salsa, [Fajita Vegetables, Rice]]"
          ],
          [
           "Steak Bowl[Roasted Chili Corn Salsa, [Rice, Pinto Beans, Cheese, Sour Cream, Guacamole]]"
          ],
          [
           "Chicken Burrito[Fresh Tomato Salsa, [Lettuce, Rice, Black Beans, Cheese]]"
          ],
          [
           "Chicken Salad Bowl[Fresh Tomato Salsa, [Fajita Vegetables, Sour Cream, Cheese, Lettuce]]"
          ],
          [
           "Steak Burrito[Fresh Tomato Salsa, [Fajita Vegetables, Rice, Black Beans, Cheese, Sour Cream]]"
          ],
          [
           "Steak Burrito[Fresh Tomato Salsa, [Fajita Vegetables, Rice, Cheese, Sour Cream, Lettuce]]"
          ],
          [
           "Steak Burrito[Fresh Tomato Salsa, [Fajita Vegetables, Rice, Pinto Beans, Cheese, Sour Cream, Lettuce]]"
          ],
          [
           "Steak Burrito[Fresh Tomato Salsa, [Lettuce, Sour Cream, Cheese, Fajita Vegetables, Pinto Beans, Rice]]"
          ],
          [
           "Steak Burrito[Fresh Tomato Salsa, [Pinto Beans, Cheese, Sour Cream, Guacamole]]"
          ],
          [
           "Chicken Salad Bowl[Fresh Tomato Salsa, [Pinto Beans, Cheese, Lettuce]]"
          ],
          [
           "Steak Burrito[Fresh Tomato Salsa, [Rice, Black Beans, Cheese, Lettuce]]"
          ],
          [
           "Chicken Soft Tacos[Fresh Tomato Salsa, [Fajita Vegetables, Cheese, Sour Cream]]"
          ],
          [
           "Chicken Burrito[Fresh Tomato Salsa, [Rice, Black Beans, Cheese, Guacamole]]"
          ],
          [
           "Steak Burrito[Fresh Tomato Salsa, [Rice, Black Beans, Pinto Beans, Cheese, Sour Cream, Lettuce]]"
          ],
          [
           "Steak Burrito[Fresh Tomato Salsa, [Rice, Black Beans, Sour Cream, Cheese, Lettuce, Guacamole]]"
          ],
          [
           "Steak Burrito[Fresh Tomato Salsa (Mild), [Pinto Beans, Cheese, Lettuce]]"
          ],
          [
           "Steak Burrito[Fresh Tomato Salsa, [Rice, Black Beans, Sour Cream, Cheese]]"
          ],
          [
           "Chicken Burrito[Fresh Tomato Salsa, [Fajita Vegetables, Rice, Pinto Beans, Cheese, Sour Cream]]"
          ],
          [
           "Chicken Burrito[Fresh Tomato Salsa, [Fajita Vegetables, Rice, Pinto Beans, Cheese, Guacamole, Lettuce]]"
          ],
          [
           "Chicken Burrito[Fresh Tomato Salsa, [Fajita Vegetables, Rice, Black Beans, Pinto Beans, Cheese, Sour Cream, Guacamole, Lettuce]]"
          ],
          [
           "Chicken Bowl[Roasted Chili Corn Salsa (Medium), [Rice, Fajita Veggies, Cheese, Sour Cream, Lettuce]]"
          ],
          [
           "Steak Burrito[Fresh Tomato Salsa, [Rice, Cheese]]"
          ],
          [
           "Chicken Soft Tacos[Tomatillo-Red Chili Salsa (Hot), Cheese]"
          ],
          [
           "Steak Burrito[Fresh Tomato Salsa, [Rice, Pinto Beans, Cheese, Sour Cream, Guacamole]]"
          ],
          [
           "Steak Burrito[Fresh Tomato Salsa, [Rice, Sour Cream, Cheese, Lettuce, Guacamole]]"
          ],
          [
           "Chicken Burrito[Fresh Tomato Salsa, [Cheese, Sour Cream, Lettuce]]"
          ],
          [
           "Chicken Burrito[Fresh Tomato Salsa, [Cheese, Rice, Black Beans, Lettuce]]"
          ],
          [
           "Chicken Burrito[Fresh Tomato Salsa, [Rice, Black Beans, Sour Cream, Lettuce]]"
          ],
          [
           "Chicken Burrito[Fresh Tomato Salsa, [Rice, Black Beans, Sour Cream]]"
          ],
          [
           "Chicken Burrito[Roasted Chili Corn Salsa, [Fajita Vegetables, Rice, Pinto Beans, Cheese, Sour Cream, Lettuce]]"
          ],
          [
           "Steak Bowl[Tomatillo Red Chili Salsa, [Rice, Cheese, Sour Cream, Guacamole, Lettuce]]"
          ],
          [
           "Chicken Burrito[Roasted Chili Corn Salsa, [Fajita Vegetables, Rice, Black Beans, Cheese, Sour Cream, Guacamole, Lettuce]]"
          ],
          [
           "Chicken Burrito[Roasted Chili Corn Salsa (Medium), [Sour Cream, Cheese, Black Beans, Rice]]"
          ],
          [
           "Steak Bowl[Tomatillo Green Chili Salsa, [Rice, Black Beans, Cheese, Sour Cream, Guacamole, Lettuce]]"
          ],
          [
           "Chicken Burrito[Roasted Chili Corn Salsa (Medium), [Rice, Cheese, Lettuce]]"
          ],
          [
           "Chicken Burrito[Roasted Chili Corn Salsa (Medium), [Black Beans, Rice, Fajita Veggies, Cheese, Sour Cream, Guacamole, Lettuce]]"
          ],
          [
           "Steak Bowl[Tomatillo Green Chili Salsa, [Rice, Pinto Beans, Cheese, Lettuce]]"
          ],
          [
           "Steak Bowl[Tomatillo Red Chili Salsa, [Fajita Vegetables, Rice, Black Beans, Cheese, Sour Cream, Guacamole, Lettuce]]"
          ],
          [
           "Chicken Burrito[Roasted Chili Corn Salsa (Medium), [Black Beans, Rice, Cheese, Sour Cream, Lettuce]]"
          ],
          [
           "Chicken Salad Bowl[Fresh Tomato Salsa, [Fajita Vegetables, Pinto Beans, Guacamole]]"
          ],
          [
           "Chicken Burrito[Fresh Tomato Salsa, [Sour Cream, Cheese, Pinto Beans, Rice]]"
          ],
          [
           "Chicken Soft Tacos[[Tomatillo-Green Chili Salsa (Medium), Fresh Tomato Salsa (Mild)], [Cheese, Sour Cream, Guacamole]]"
          ],
          [
           "Steak Bowl[Tomatillo Red Chili Salsa, [Rice, Cheese, Sour Cream, Lettuce]]"
          ],
          [
           "Steak Burrito[Fresh Tomato Salsa (Mild), [Black Beans, Rice, Fajita Veggies, Cheese]]"
          ],
          [
           "Steak Bowl[Tomatillo-Red Chili Salsa (Hot), [Black Beans, Rice, Cheese, Sour Cream, Lettuce]]"
          ],
          [
           "Chicken Burrito[Fresh Tomato Salsa, [Rice, Pinto Beans, Cheese, Sour Cream, Guacamole, Lettuce]]"
          ],
          [
           "Steak Bowl[Tomatillo-Red Chili Salsa (Hot), [Black Beans, Rice, Cheese, Sour Cream]]"
          ],
          [
           "Chicken Burrito[Fresh Tomato Salsa, [Rice, Pinto Beans, Cheese, Guacamole, Lettuce]]"
          ],
          [
           "Chicken Burrito[Fresh Tomato Salsa, [Rice, Guacamole, Cheese, Sour Cream]]"
          ],
          [
           "Chicken Burrito[Fresh Tomato Salsa, [Rice, Fajita Vegetables, Sour Cream, Cheese, Guacamole]]"
          ],
          [
           "Steak Bowl[[Fresh Tomato Salsa (Mild), Tomatillo-Green Chili Salsa (Medium), Roasted Chili Corn Salsa (Medium), Tomatillo-Red Chili Salsa (Hot)], [Black Beans, Rice, Fajita Veggies, Cheese, Sour Cream]]"
          ],
          [
           "Steak Bowl[[Roasted Chili Corn Salsa (Medium), Tomatillo-Red Chili Salsa (Hot), Fresh Tomato Salsa (Mild), Tomatillo-Green Chili Salsa (Medium)], [Rice, Black Beans, Fajita Veggies, Cheese, Sour Cream]]"
          ],
          [
           "Steak Bowl[[Roasted Chili Corn Salsa (Medium), Tomatillo-Red Chili Salsa (Hot)], [Rice, Cheese, Sour Cream, Guacamole]]"
          ],
          [
           "Chicken Burrito[Fresh Tomato Salsa, [Rice, Cheese, Sour Cream, Guacamole, Lettuce]]"
          ],
          [
           "Steak Burrito[Fresh Tomato Salsa (Mild), [Black Beans, Rice, Cheese, Sour Cream, Lettuce]]"
          ],
          [
           "Chicken Salad Bowl[Fresh Tomato Salsa, [Rice, Black Beans, Cheese, Sour Cream, Lettuce]]"
          ],
          [
           "Chicken Burrito[Tomatillo-Red Chili Salsa (Hot), [Black Beans, Fajita Veggies, Cheese, Sour Cream, Guacamole, Lettuce]]"
          ],
          [
           "Barbacoa Bowl[Fresh Tomato Salsa, [Rice, Black Beans, Cheese, Lettuce]]"
          ],
          [
           "Barbacoa Bowl[Fresh Tomato Salsa, [Fajita Vegetables, Rice, Cheese, Sour Cream]]"
          ],
          [
           "Barbacoa Bowl[Tomatillo Red Chili Salsa, [Fajita Vegetables, Rice, Black Beans, Pinto Beans, Cheese, Sour Cream, Guacamole, Lettuce]]"
          ],
          [
           "Chicken Bowl[Fresh Tomato Salsa, [Rice, Lettuce]]"
          ],
          [
           "Chicken Bowl[Fresh Tomato Salsa (Mild), [Rice, Cheese, Sour Cream, Guacamole, Lettuce]]"
          ],
          [
           "Carnitas Burrito[Tomatillo Green Chili Salsa, [Rice, Pinto Beans, Cheese, Sour Cream, Guacamole]]"
          ],
          [
           "Carnitas Burrito[Tomatillo Green Chili Salsa, [Rice, Pinto Beans, Sour Cream]]"
          ],
          [
           "Barbacoa Bowl[Fresh Tomato Salsa, [Rice, Black Beans, Cheese, Sour Cream, Guacamole, Lettuce]]"
          ],
          [
           "Chicken Bowl[Fresh Tomato Salsa, [Guacamole, Cheese, Sour Cream, Fajita Vegetables, Rice]]"
          ],
          [
           "Barbacoa Burrito[Fresh Tomato Salsa, [Rice, Pinto Beans, Cheese, Lettuce]]"
          ],
          [
           "Carnitas Soft Tacos[Fresh Tomato Salsa, [Cheese, Lettuce]]"
          ],
          [
           "Barbacoa Burrito[Tomatillo-Red Chili Salsa (Hot), [Rice, Cheese, Sour Cream, Lettuce]]"
          ],
          [
           "Chicken Bowl[Fresh Tomato Salsa, [Rice, Sour Cream, Guacamole]]"
          ],
          [
           "Chicken Bowl[Fresh Tomato Salsa, [Fajita Vegetables, Rice, Sour Cream, Guacamole, Lettuce]]"
          ],
          [
           "Barbacoa Burrito[Fresh Tomato Salsa, [Rice, Pinto Beans, Cheese, Sour Cream, Lettuce]]"
          ],
          [
           "Chicken Bowl[Fresh Tomato Salsa, [Sour Cream, Fajita Vegetables, Rice, Guacamole, Cheese]]"
          ],
          [
           "Carnitas Burrito[Tomatillo Red Chili Salsa, [Rice, Pinto Beans, Cheese, Sour Cream]]"
          ],
          [
           "Chicken Bowl[Fresh Tomato Salsa, [Sour Cream, Guacamole, Lettuce]]"
          ],
          [
           "Carnitas Burrito[Fresh Tomato (Mild), [Lettuce, Rice]]"
          ],
          [
           "Carnitas Burrito[Fresh Tomato Salsa (Mild), [Black Beans, Rice, Cheese, Sour Cream, Guacamole]]"
          ],
          [
           "Chicken Bowl[Fresh Tomato Salsa, [Guacamole, Sour Cream, Cheese, Rice, Fajita Vegetables]]"
          ],
          [
           "Chicken Bowl[Fresh Tomato Salsa (Mild), [Rice, Black Beans, Fajita Veggies, Cheese, Sour Cream, Lettuce]]"
          ],
          [
           "Barbacoa Bowl[Tomatillo-Red Chili Salsa (Hot), [Black Beans, Rice, Cheese, Sour Cream, Lettuce]]"
          ],
          [
           "Chicken Bowl[Fresh Tomato Salsa, [Rice, Black Beans, Pinto Beans, Cheese, Lettuce]]"
          ],
          [
           "Barbacoa Bowl[Roasted Chili Corn Salsa, [Rice, Black Beans, Cheese, Sour Cream, Lettuce]]"
          ],
          [
           "Barbacoa Burrito[Tomatillo Red Chili Salsa, [Rice, Black Beans, Cheese, Sour Cream]]"
          ],
          [
           "Chicken Bowl[Fresh Tomato Salsa, [Rice, Black Beans, Sour Cream, Guacamole, Lettuce]]"
          ],
          [
           "Barbacoa Bowl[Roasted Chili Corn Salsa, [Fajita Vegetables, Rice, Black Beans, Cheese, Sour Cream, Guacamole, Lettuce]]"
          ],
          [
           "Barbacoa Burrito[Tomatillo Green Chili Salsa]"
          ],
          [
           "Chicken Bowl[Fresh Tomato Salsa, [Rice, Cheese, Black Beans]]"
          ],
          [
           "Barbacoa Salad Bowl[Roasted Chili Corn Salsa]"
          ],
          [
           "Barbacoa Bowl[Roasted Chili Corn Salsa]"
          ],
          [
           "Chicken Bowl[Fresh Tomato Salsa, [Rice, Black Beans, Lettuce]]"
          ],
          [
           "Chicken Bowl[Fresh Tomato Salsa (Mild), [Rice, Black Beans, Fajita Veggies, Cheese, Guacamole, Lettuce]]"
          ],
          [
           "Carnitas Burrito[Fresh Tomato Salsa, [Rice, Pinto Beans, Cheese]]"
          ],
          [
           "Carnitas Soft Tacos[Roasted Chili Corn Salsa]"
          ],
          [
           "Chicken Bowl[Fresh Tomato Salsa (Mild), [Black Beans, Rice, Guacamole, Lettuce]]"
          ],
          [
           "Chicken Bowl[Fresh Tomato Salsa (Mild), [Black Beans, Rice, Sour Cream, Guacamole]]"
          ],
          [
           "Barbacoa Burrito[Tomatillo Green Chili Salsa, [Rice, Black Beans, Cheese, Lettuce]]"
          ],
          [
           "Chicken Bowl[Fresh Tomato Salsa, [Rice, Black Beans, Guacamole]]"
          ],
          [
           "Chicken Bowl[Fresh Tomato Salsa, [Rice, Fajita Vegetables, Black Beans, Sour Cream, Cheese, Lettuce, Guacamole]]"
          ],
          [
           "Carnitas Bowl[Tomatillo Green Chili Salsa, [Rice, Pinto Beans, Cheese, Guacamole, Lettuce]]"
          ],
          [
           "Chicken Bowl[Fresh Tomato Salsa, [Fajita Vegetables, Rice, Pinto Beans, Cheese, Guacamole, Lettuce]]"
          ],
          [
           "Barbacoa Burrito[Tomatillo Red Chili Salsa, [Rice, Cheese, Sour Cream, Lettuce]]"
          ],
          [
           "Carnitas Burrito[Fresh Tomato Salsa, [Fajita Vegetables, Rice, Black Beans, Cheese, Sour Cream, Lettuce]]"
          ],
          [
           "Barbacoa Bowl[Fresh Tomato Salsa (Mild), [Rice, Cheese, Sour Cream, Lettuce]]"
          ],
          [
           "Chicken Bowl[Roasted Chili Corn Salsa (Medium), [Rice, Cheese, Lettuce]]"
          ],
          [
           "Carnitas Bowl[Fresh Tomato Salsa, [Fajita Vegetables, Rice, Black Beans, Cheese, Guacamole, Lettuce]]"
          ],
          [
           "Chicken Bowl[Roasted Chili Corn Salsa (Medium), [Rice, Cheese]]"
          ],
          [
           "Carnitas Burrito[Fresh Tomato Salsa, [Fajita Vegetables, Rice, Black Beans, Cheese, Sour Cream, Guacamole, Lettuce]]"
          ],
          [
           "Carnitas Bowl[Fresh Tomato (Mild), [Guacamole, Sour Cream, Cheese]]"
          ],
          [
           "Barbacoa Bowl[Fresh Tomato Salsa (Mild), [Black Beans, Rice, Cheese, Sour Cream, Guacamole, Lettuce]]"
          ],
          [
           "Chicken Bowl[Fresh Tomato Salsa, [Fajita Vegetables, Rice, Black Beans, Sour Cream]]"
          ],
          [
           "Barbacoa Bowl[Tomatillo-Green Chili Salsa (Medium), [Black Beans, Rice, Cheese, Guacamole]]"
          ],
          [
           "6 Pack Soft Drink[Nestea]"
          ],
          [
           "Barbacoa Burrito[Roasted Chili Corn Salsa, [Fajita Vegetables, Rice, Black Beans, Sour Cream, Guacamole]]"
          ],
          [
           "Carnitas Bowl[Fresh Tomato Salsa, [Rice, Black Beans, Cheese, Guacamole, Lettuce]]"
          ],
          [
           "Barbacoa Bowl[Tomatillo Red Chili Salsa]"
          ],
          [
           "Chicken Bowl[Fresh Tomato Salsa, [Fajita Vegetables, Rice, Black Beans, Sour Cream, Lettuce]]"
          ],
          [
           "6 Pack Soft Drink[Lemonade]"
          ],
          [
           "Chicken Bowl[Fresh Tomato Salsa, [Fajita Vegetables, Rice, Cheese, Guacamole]]"
          ],
          [
           "Chicken Bowl[Fresh Tomato Salsa, [Fajita Vegetables, Rice, Black Beans, Sour Cream, Guacamole, Lettuce]]"
          ],
          [
           "Barbacoa Crispy Tacos[Fresh Tomato Salsa, [Sour Cream, Cheese, Rice]]"
          ],
          [
           "Chicken Bowl[Fresh Tomato Salsa, [Fajita Vegetables, Rice, Black Beans, Pinto Beans, Cheese, Sour Cream, Guacamole, Lettuce]]"
          ],
          [
           "Carnitas Crispy Tacos[Fresh Tomato Salsa (Mild), [Cheese, Lettuce]]"
          ],
          [
           "Barbacoa Burrito[Roasted Chili Corn Salsa (Medium), [Rice, Fajita Veggies, Cheese, Sour Cream, Lettuce]]"
          ],
          [
           "Chicken Bowl[Roasted Chili Corn Salsa (Medium), [Black Beans, Rice, Cheese, Sour Cream, Lettuce]]"
          ],
          [
           "Chicken Bowl[Fresh Tomato Salsa, [Black Beans, Cheese, Sour Cream]]"
          ],
          [
           "Barbacoa Bowl[Fresh Tomato Salsa, [Fajita Vegetables, Rice, Black Beans, Cheese, Guacamole, Lettuce]]"
          ],
          [
           "Steak Burrito[Brown Rice]"
          ],
          [
           "Steak Burrito[Fresh Tomato (Mild), [Black Beans, Guacamole, Rice, Sour Cream, Cheese]]"
          ],
          [
           "Barbacoa Burrito[Tomatillo Red Chili Salsa, [Rice, Fajita Vegetables, Sour Cream, Cheese, Lettuce, Guacamole]]"
          ],
          [
           "Barbacoa Burrito[[Roasted Chili Corn Salsa (Medium), Tomatillo-Red Chili Salsa (Hot)], [Black Beans, Rice, Cheese, Sour Cream]]"
          ],
          [
           "Barbacoa Burrito[Tomatillo-Red Chili Salsa (Hot), [Pinto Beans, Rice, Cheese, Sour Cream, Lettuce]]"
          ],
          [
           "Steak Burrito[Fresh Tomato (Mild), [Lettuce, Pinto Beans, Rice, Sour Cream, Cheese]]"
          ],
          [
           "Steak Burrito[Fresh Tomato Salsa, [Fajita Vegetables, Rice, Cheese, Lettuce]]"
          ],
          [
           "Barbacoa Burrito[Tomatillo Red Chili Salsa, [Rice, Cheese]]"
          ],
          [
           "Steak Burrito[Fresh Tomato (Mild), [Lettuce, Guacamole, Pinto Beans, Rice, Sour Cream, Cheese]]"
          ],
          [
           "Steak Burrito[Fresh Tomato Salsa, [Fajita Vegetables, Rice, Cheese]]"
          ],
          [
           "Steak Bowl[[Tomatillo-Red Chili Salsa (Hot), Fresh Tomato Salsa (Mild)], [Rice, Black Beans, Lettuce]]"
          ],
          [
           "Barbacoa Burrito[Tomatillo-Green Chili Salsa (Medium), [Rice, Cheese, Sour Cream]]"
          ],
          [
           "Steak Burrito[Fresh Tomato Salsa, [Guacamole, Lettuce, Sour Cream, Rice]]"
          ],
          [
           "Barbacoa Burrito[Tomatillo Red Chili Salsa, [Rice, Sour Cream, Cheese, Guacamole]]"
          ],
          [
           "Barbacoa Burrito[Tomatillo Red Chili Salsa, [Rice, Fajita Vegetables, Black Beans, Sour Cream, Cheese, Guacamole]]"
          ],
          [
           "Barbacoa Burrito[Tomatillo Red Chili Salsa, [Rice, Pinto Beans, Cheese, Sour Cream, Lettuce]]"
          ],
          [
           "Steak Burrito[Fresh Tomato Salsa, [Fajita Vegetables, Rice, Black Beans, Sour Cream, Guacamole, Lettuce]]"
          ],
          [
           "Barbacoa Burrito[Tomatillo Red Chili Salsa, [Rice, Fajita Vegetables, Pinto Beans, Sour Cream, Cheese]]"
          ],
          [
           "Steak Burrito[Fresh Tomato Salsa, [Rice, Black Beans, Cheese, Guacamole, Lettuce]]"
          ],
          [
           "Steak Burrito[Fresh Tomato Salsa, [Pinto Beans, Cheese, Sour Cream, Lettuce]]"
          ],
          [
           "Steak Burrito[Fresh Tomato Salsa, [Pinto Beans, Lettuce, Cheese, Rice]]"
          ],
          [
           "Steak Burrito[Fresh Tomato Salsa (Mild), Black Beans]"
          ],
          [
           "Steak Burrito[Fresh Tomato Salsa (Mild), [Pinto Beans, Black Beans, Rice, Fajita Veggies, Cheese, Sour Cream, Lettuce]]"
          ],
          [
           "Steak Burrito[Fresh Tomato Salsa, [Fajita Vegetables, Rice, Black Beans, Pinto Beans, Cheese, Sour Cream, Guacamole, Lettuce]]"
          ],
          [
           "Steak Burrito[Fresh Tomato Salsa (Mild), [Black Beans, Rice, Fajita Veggies, Cheese, Sour Cream, Lettuce]]"
          ],
          [
           "Steak Burrito[Fresh Tomato Salsa (Mild), [Pinto Beans, Cheese, Sour Cream]]"
          ],
          [
           "Steak Burrito[Fresh Tomato Salsa (Mild), [Pinto Beans, Rice, Cheese, Sour Cream, Lettuce]]"
          ],
          [
           "Steak Burrito[Fresh Tomato Salsa (Mild), [Cheese, Sour Cream, Lettuce]]"
          ],
          [
           "Steak Burrito[Fresh Tomato Salsa (Mild), [Cheese, Sour Cream, Guacamole, Lettuce]]"
          ],
          [
           "Barbacoa Burrito[Tomatillo-Red Chili Salsa (Hot), [Rice, Cheese, Sour Cream]]"
          ],
          [
           "Steak Burrito[Fresh Tomato Salsa (Mild), [Cheese, Rice, Pinto Beans, Sour Cream]]"
          ],
          [
           "Steak Burrito[Fresh Tomato Salsa (Mild), [Pinto Beans, Rice, Guacamole]]"
          ],
          [
           "Steak Burrito[Fresh Tomato Salsa (Mild), [Pinto Beans, Rice, Sour Cream]]"
          ],
          [
           "Steak Burrito[Fresh Tomato Salsa, [Rice, Black Beans, Cheese, Sour Cream, Lettuce]]"
          ],
          [
           "Steak Burrito[Fresh Tomato Salsa (Mild), [Rice, Black Beans, Cheese, Sour Cream, Guacamole, Lettuce]]"
          ],
          [
           "Steak Burrito[Fresh Tomato Salsa (Mild), [Black Beans, Rice, Guacamole, Lettuce]]"
          ],
          [
           "Steak Burrito[Fresh Tomato Salsa (Mild), [Rice, Black Beans, Sour Cream, Guacamole]]"
          ],
          [
           "Steak Burrito[Fresh Tomato Salsa (Mild), [Rice, Cheese, Sour Cream, Guacamole, Lettuce]]"
          ],
          [
           "Barbacoa Burrito[[Fresh Tomato Salsa (Mild), Tomatillo-Green Chili Salsa (Medium), Tomatillo-Red Chili Salsa (Hot)], [Rice, Cheese, Sour Cream, Lettuce]]"
          ],
          [
           "Steak Burrito[Fresh Tomato Salsa (Mild), [Rice, Cheese, Sour Cream, Lettuce]]"
          ],
          [
           "Steak Burrito[Fresh Tomato Salsa, [Fajita Vegetables, Rice, Black Beans, Guacamole, Lettuce]]"
          ],
          [
           "Steak Burrito[Fresh Tomato Salsa (Mild), [Rice, Fajita Veggies, Cheese, Guacamole]]"
          ],
          [
           "Steak Burrito[Fresh Tomato Salsa (Mild), [Rice, Fajita Veggies, Cheese, Lettuce]]"
          ],
          [
           "Steak Burrito[Fresh Tomato Salsa (Mild), [Rice, Fajita Veggies, Cheese, Sour Cream, Guacamole]]"
          ],
          [
           "Steak Burrito[Fresh Tomato Salsa (Mild), [Rice, Fajita Veggies, Cheese, Sour Cream, Lettuce]]"
          ],
          [
           "Steak Burrito[Fresh Tomato Salsa, [Black Beans, Cheese, Guacamole, Lettuce]]"
          ],
          [
           "Barbacoa Burrito[[Fresh Tomato Salsa (Mild), Tomatillo-Red Chili Salsa (Hot)], [Black Beans, Rice, Cheese, Sour Cream]]"
          ],
          [
           "Steak Burrito[Fresh Tomato Salsa, [Cheese, Black Beans, Rice]]"
          ],
          [
           "Steak Burrito[Fresh Tomato Salsa, [Cheese, Sour Cream, Guacamole, Lettuce]]"
          ],
          [
           "Steak Burrito[Fresh Tomato Salsa, [Fajita Vegetables, Cheese, Sour Cream, Guacamole, Lettuce]]"
          ],
          [
           "Steak Burrito[Fresh Tomato Salsa, [Fajita Vegetables, Rice, Black Beans, Cheese, Guacamole]]"
          ],
          [
           "Barbacoa Burrito[[Black Beans, Rice, Cheese]]"
          ],
          [
           "Steak Burrito[Fresh Tomato Salsa (Mild), [Black Beans, Rice, Cheese, Lettuce]]"
          ],
          [
           "Steak Burrito[Fresh Tomato Salsa, [Fajita Vegetables, Rice, Black Beans, Cheese, Sour Cream, Guacamole]]"
          ],
          [
           "Barbacoa Burrito[Tomatillo-Red Chili Salsa (Hot), [Rice, Cheese, Lettuce]]"
          ],
          [
           "Chicken Bowl[Roasted Chili Corn Salsa (Medium), [Rice, Fajita Veggies, Cheese]]"
          ],
          [
           "Steak Burrito[Fresh Tomato Salsa, [Rice, Fajita Vegetables, Pinto Beans, Cheese, Lettuce, Guacamole]]"
          ],
          [
           "Barbacoa Burrito[Tomatillo Red Chili Salsa, [Rice, Cheese, Sour Cream, Guacamole, Lettuce]]"
          ],
          [
           "Steak Burrito[Roasted Chili Corn Salsa, [Fajita Vegetables, Black Beans, Sour Cream, Lettuce, Guacamole]]"
          ],
          [
           "Steak Burrito[Roasted Chili Corn Salsa, [Fajita Vegetables, Rice, Pinto Beans, Cheese, Sour Cream]]"
          ],
          [
           "Steak Burrito[Roasted Chili Corn Salsa, [Fajita Vegetables, Rice, Cheese, Sour Cream, Lettuce]]"
          ],
          [
           "Barbacoa Burrito[Roasted Chili Corn Salsa, [Rice, Black Beans, Sour Cream, Cheese]]"
          ],
          [
           "Barbacoa Burrito[Roasted Chili Corn Salsa, [Rice, Cheese, Sour Cream, Lettuce]]"
          ],
          [
           "Steak Burrito[Roasted Chili Corn Salsa, [Fajita Vegetables, Rice, Black Beans, Pinto Beans, Cheese, Sour Cream, Guacamole, Lettuce]]"
          ],
          [
           "Barbacoa Burrito[Roasted Chili Corn Salsa, [Rice, Pinto Beans, Cheese, Guacamole, Lettuce]]"
          ],
          [
           "Steak Burrito[Roasted Chili Corn Salsa, [Fajita Vegetables, Rice, Black Beans, Cheese, Sour Cream, Guacamole, Lettuce]]"
          ],
          [
           "Steak Burrito[Roasted Chili Corn Salsa, [Fajita Vegetables, Rice, Black Beans, Cheese, Guacamole, Lettuce]]"
          ],
          [
           "Steak Burrito[Roasted Chili Corn Salsa, [Fajita Vegetables, Black Beans, Sour Cream, Guacamole, Lettuce]]"
          ],
          [
           "Steak Burrito[Roasted Chili Corn Salsa, [Lettuce, Black Beans, Cheese]]"
          ],
          [
           "Barbacoa Burrito[Roasted Chili Corn Salsa, [Rice, Pinto Beans, Cheese, Guacamole]]"
          ],
          [
           "Steak Burrito[Roasted Chili Corn Salsa, [Black Beans, Cheese, Sour Cream, Guacamole, Lettuce]]"
          ],
          [
           "Barbacoa Burrito[Roasted Chili Corn Salsa, [Rice, Pinto Beans, Cheese, Lettuce, Guacamole]]"
          ],
          [
           "Steak Burrito[Roasted Chili Corn Salsa (Medium), [Rice, Sour Cream, Lettuce]]"
          ],
          [
           "Steak Burrito[Roasted Chili Corn Salsa (Medium), [Rice, Pinto Beans, Lettuce]]"
          ],
          [
           "Steak Burrito[Roasted Chili Corn Salsa (Medium), [Rice, Pinto Beans, Cheese, Lettuce]]"
          ],
          [
           "Steak Burrito[Roasted Chili Corn Salsa (Medium), [Rice, Fajita Veggies, Sour Cream, Guacamole, Lettuce]]"
          ],
          [
           "Steak Burrito[Roasted Chili Corn Salsa (Medium), [Rice, Fajita Veggies, Cheese, Sour Cream]]"
          ],
          [
           "Steak Burrito[Roasted Chili Corn Salsa, [Fajita Vegetables, Sour Cream, Lettuce, Guacamole]]"
          ],
          [
           "Steak Burrito[Roasted Chili Corn Salsa, [Pinto Beans, Rice, Guacamole, Sour Cream, Cheese]]"
          ],
          [
           "Steak Burrito[Roasted Chili Corn Salsa (Medium), [Rice, Fajita Veggies, Cheese, Lettuce]]"
          ],
          [
           "Steak Burrito[Roasted Chili Corn Salsa, [Rice, Cheese]]"
          ],
          [
           "Steak Burrito[Roasted Chili Corn Salsa, [Rice, Pinto Beans, Cheese, Sour Cream, Lettuce]]"
          ],
          [
           "Barbacoa Burrito[Roasted Chili Corn Salsa, [Rice, Black Beans, Cheese, Sour Cream, Lettuce]]"
          ],
          [
           "Steak Burrito[Roasted Chili Corn Salsa, [Rice, Pinto Beans, Cheese, Sour Cream, Guacamole, Lettuce]]"
          ],
          [
           "Barbacoa Burrito[Roasted Chili Corn Salsa, [Rice, Black Beans, Cheese, Sour Cream]]"
          ],
          [
           "Steak Burrito[Roasted Chili Corn Salsa, [Rice, Fajita Vegetables, Sour Cream, Lettuce, Guacamole]]"
          ],
          [
           "Steak Burrito[Roasted Chili Corn Salsa, [Rice, Fajita Vegetables, Sour Cream, Cheese, Lettuce]]"
          ],
          [
           "Steak Burrito[Roasted Chili Corn Salsa, [Rice, Fajita Vegetables, Sour Cream, Cheese, Lettuce, Guacamole]]"
          ],
          [
           "Steak Burrito[Roasted Chili Corn Salsa, [Rice, Fajita Vegetables, Cheese, Lettuce, Guacamole]]"
          ],
          [
           "Steak Burrito[Roasted Chili Corn Salsa, [Rice, Cheese, Sour Cream, Lettuce]]"
          ],
          [
           "Steak Burrito[Roasted Chili Corn Salsa, [Rice, Black Beans, Cheese, Sour Cream, Guacamole, Lettuce]]"
          ],
          [
           "Steak Burrito[Roasted Chili Corn Salsa, [Rice, Cheese, Sour Cream, Guacamole, Lettuce]]"
          ],
          [
           "Steak Burrito[Roasted Chili Corn Salsa, [Rice, Cheese, Guacamole]]"
          ],
          [
           "Steak Burrito[Roasted Chili Corn Salsa, [Rice, Cheese, Guacamole, Lettuce]]"
          ],
          [
           "Steak Burrito[Roasted Chili Corn Salsa, [Rice, Black Beans, Sour Cream, Lettuce, Guacamole]]"
          ],
          [
           "Steak Burrito[Roasted Chili Corn Salsa, [Rice, Black Beans, Sour Cream, Cheese, Lettuce]]"
          ],
          [
           "Steak Burrito[Roasted Chili Corn Salsa, [Rice, Black Beans, Cheese]]"
          ],
          [
           "Steak Burrito[Roasted Chili Corn Salsa, [Rice, Black Beans, Cheese, Sour Cream]]"
          ],
          [
           "Steak Burrito[Roasted Chili Corn Salsa, [Rice, Black Beans, Cheese, Sour Cream, Lettuce]]"
          ],
          [
           "Barbacoa Burrito[Roasted Chili Corn Salsa, [Rice, Pinto Beans, Cheese, Sour Cream, Lettuce]]"
          ],
          [
           "Barbacoa Burrito[Roasted Chili Corn Salsa, [Rice, Pinto Beans, Cheese, Sour Cream]]"
          ],
          [
           "Barbacoa Burrito[Tomatillo Red Chili Salsa, [Rice, Cheese, Guacamole]]"
          ],
          [
           "Steak Burrito[Fresh Tomato Salsa, [Rice, Fajita Vegetables, Pinto Beans, Cheese, Guacamole]]"
          ],
          [
           "Steak Burrito[Fresh Tomato Salsa, [Rice, Pinto Beans, Guacamole, Lettuce]]"
          ],
          [
           "Steak Burrito[Fresh Tomato Salsa, [Rice, Pinto Beans, Cheese]]"
          ],
          [
           "Barbacoa Burrito[Tomatillo Green Chili Salsa, [Rice, Black Beans, Sour Cream, Cheese, Lettuce]]"
          ],
          [
           "Barbacoa Burrito[Tomatillo Green Chili Salsa, [Rice, Black Beans, Sour Cream, Cheese]]"
          ],
          [
           "Barbacoa Burrito[Tomatillo Green Chili Salsa, [Rice, Fajita Vegetables, Pinto Beans, Sour Cream, Cheese]]"
          ],
          [
           "Steak Burrito[Fresh Tomato Salsa, [Rice, Pinto Beans, Cheese, Lettuce]]"
          ],
          [
           "Barbacoa Burrito[Tomatillo Green Chili Salsa, [Rice, Pinto Beans, Cheese, Guacamole]]"
          ],
          [
           "Barbacoa Burrito[[Tomatillo-Green Chili Salsa (Medium), Tomatillo-Red Chili Salsa (Hot)], [Rice, Cheese, Sour Cream, Lettuce]]"
          ],
          [
           "Steak Burrito[Fresh Tomato Salsa, [Rice, Fajita Vegetables, Cheese, Lettuce]]"
          ],
          [
           "Steak Burrito[Fresh Tomato Salsa, [Rice, Sour Cream, Guacamole]]"
          ],
          [
           "Steak Burrito[Fresh Tomato Salsa, [Rice, Fajita Vegetables, Black Beans, Sour Cream, Cheese]]"
          ],
          [
           "Steak Burrito[Fresh Tomato Salsa, [Rice, Fajita Vegetables, Black Beans, Sour Cream, Cheese, Lettuce]]"
          ],
          [
           "Barbacoa Burrito[Tomatillo Red Chili Salsa, [Rice, Black Beans, Cheese, Guacamole]]"
          ],
          [
           "Steak Burrito[Fresh Tomato Salsa, [Rice, Cheese, Sour Cream, Guacamole]]"
          ],
          [
           "Steak Burrito[Fresh Tomato Salsa, [Rice, Cheese, Lettuce]]"
          ],
          [
           "Steak Burrito[Fresh Tomato Salsa, [Rice, Cheese, Lettuce, Pinto Beans]]"
          ],
          [
           "Steak Burrito[Fresh Tomato Salsa, [Rice, Cheese, Guacamole, Lettuce]]"
          ],
          [
           "Barbacoa Burrito[Tomatillo Red Chili Salsa, [Rice, Black Beans, Cheese, Sour Cream, Guacamole, Lettuce]]"
          ],
          [
           "Barbacoa Burrito[Tomatillo Green Chili Salsa, [Fajita Vegetables, Pinto Beans, Sour Cream, Cheese, Lettuce]]"
          ],
          [
           "Steak Burrito[Fresh Tomato Salsa, [Rice, Sour Cream, Lettuce, Guacamole]]"
          ],
          [
           "Steak Burrito[Roasted Chili Corn Salsa (Medium), [Rice, Black Beans, Sour Cream, Lettuce]]"
          ],
          [
           "Steak Burrito[Roasted Chili Corn Salsa (Medium), [Black Beans, Rice, Cheese]]"
          ],
          [
           "Steak Burrito[Roasted Chili Corn Salsa (Medium), [Rice, Black Beans, Sour Cream, Guacamole]]"
          ],
          [
           "Steak Burrito[Roasted Chili Corn Salsa (Medium), [Rice, Black Beans, Pinto Beans, Fajita Veggies, Lettuce]]"
          ],
          [
           "Barbacoa Burrito[Roasted Chili Corn Salsa, [Rice, Pinto Beans, Sour Cream, Cheese]]"
          ],
          [
           "Steak Burrito[Roasted Chili Corn Salsa (Medium), [Pinto Beans, Rice, Fajita Veggies, Cheese, Lettuce]]"
          ],
          [
           "Steak Burrito[Roasted Chili Corn Salsa (Medium), [Pinto Beans, Black Beans, Rice, Fajita Veggies, Lettuce]]"
          ],
          [
           "Steak Burrito[Roasted Chili Corn Salsa (Medium), [Fajita Veggies, Cheese, Lettuce, Sour Cream, Rice]]"
          ],
          [
           "Steak Burrito[Roasted Chili Corn Salsa (Medium), [Black Beans, Rice]]"
          ],
          [
           "Steak Burrito[Roasted Chili Corn Salsa (Medium), [Black Beans, Rice, Fajita Veggies, Cheese, Sour Cream]]"
          ],
          [
           "Steak Burrito[Roasted Chili Corn Salsa (Medium), [Black Beans, Rice, Cheese, Sour Cream, Lettuce]]"
          ],
          [
           "Steak Burrito[Fresh Tomato Salsa, [Rice, Sour Cream, Lettuce]]"
          ],
          [
           "Steak Burrito[Roasted Chili Corn Salsa (Medium), [Black Beans, Cheese, Sour Cream, Lettuce]]"
          ],
          [
           "Steak Burrito[Roasted Chili Corn Salsa (Medium), Rice]"
          ],
          [
           "Steak Burrito[Roasted Chili Corn Salsa (Medium), Lettuce]"
          ],
          [
           "Steak Burrito[Roasted Chili Corn (Medium), [Sour Cream, Cheese]]"
          ],
          [
           "Steak Burrito[Rice, Tomatillo-Red Chili Salsa (Hot)]"
          ],
          [
           "Steak Burrito[Fresh Tomato Salsa, [Sour Cream, Rice, Guacamole, Lettuce]]"
          ],
          [
           "Barbacoa Burrito[Roasted Chili Corn Salsa]"
          ],
          [
           "Steak Burrito[Fresh Tomato Salsa, [Sour Cream, Guacamole, Rice, Lettuce]]"
          ],
          [
           "Steak Bowl[[Tomatillo-Green Chili Salsa (Medium), Roasted Chili Corn Salsa (Medium)], [Rice, Cheese, Sour Cream, Guacamole, Lettuce]]"
          ],
          [
           "Barbacoa Crispy Tacos[Fresh Tomato Salsa, [Rice, Cheese, Sour Cream]]"
          ],
          [
           "Steak Bowl[[Roasted Chili Corn Salsa (Medium), Tomatillo-Red Chili Salsa (Hot)], [Rice, Cheese, Lettuce]]"
          ],
          [
           "Burrito[Adobo-Marinated and Grilled Chicken, [Sour Cream, Cheese, Cilantro-Lime Rice]]"
          ],
          [
           "Barbacoa Soft Tacos[Tomatillo-Red Chili Salsa (Hot), [Rice, Cheese, Guacamole]]"
          ],
          [
           "Steak Bowl[Fresh Tomato Salsa, [Rice, Black Beans, Cheese, Sour Cream]]"
          ],
          [
           "Barbacoa Soft Tacos[[Fresh Tomato Salsa (Mild), Roasted Chili Corn Salsa (Medium), Tomatillo-Red Chili Salsa (Hot)], [Pinto Beans, Cheese, Sour Cream, Lettuce]]"
          ],
          [
           "Bowl[Adobo-Marinated and Grilled Steak, [Sour Cream, Salsa, Cheese, Cilantro-Lime Rice, Guacamole]]"
          ],
          [
           "Burrito[Adobo-Marinated and Grilled Chicken, Pinto Beans, [Sour Cream, Salsa, Cheese, Cilantro-Lime Rice, Guacamole]]"
          ],
          [
           "Steak Bowl[Fresh Tomato Salsa, [Rice, Black Beans, Cheese, Lettuce]]"
          ],
          [
           "Steak Bowl[Fresh Tomato Salsa, [Rice, Black Beans, Cheese, Guacamole]]"
          ],
          [
           "Steak Bowl[Fresh Tomato Salsa, [Rice, Black Beans, Cheese, Guacamole, Lettuce]]"
          ],
          [
           "Steak Bowl[Fresh Tomato Salsa, [Fajita Vegetables, Rice, Pinto Beans, Cheese, Sour Cream]]"
          ],
          [
           "Steak Bowl[Fresh Tomato Salsa, [Fajita Vegetables, Rice, Black Beans, Cheese, Sour Cream, Guacamole, Lettuce]]"
          ],
          [
           "Steak Bowl[Fresh Tomato Salsa, [Fajita Vegetables, Rice, Pinto Beans, Cheese, Sour Cream, Lettuce]]"
          ],
          [
           "Steak Bowl[Fresh Tomato Salsa, [Fajita Vegetables, Rice, Pinto Beans, Cheese, Sour Cream, Guacamole, Lettuce]]"
          ],
          [
           "Steak Bowl[Fresh Tomato Salsa, [Fajita Vegetables, Rice, Guacamole]]"
          ],
          [
           "Steak Bowl[Fresh Tomato Salsa, [Fajita Vegetables, Rice, Cheese, Sour Cream, Guacamole]]"
          ],
          [
           "Steak Bowl[Fresh Tomato Salsa, [Fajita Vegetables, Rice, Cheese, Sour Cream, Guacamole, Lettuce]]"
          ],
          [
           "Steak Bowl[Fresh Tomato Salsa, [Fajita Vegetables, Rice, Cheese, Lettuce]]"
          ],
          [
           "Steak Bowl[Fresh Tomato Salsa, [Fajita Vegetables, Rice, Black Beans, Sour Cream, Guacamole]]"
          ],
          [
           "Steak Bowl[Fresh Tomato Salsa, [Fajita Vegetables, Rice, Black Beans, Lettuce]]"
          ],
          [
           "Steak Bowl[Fresh Tomato Salsa, [Rice, Black Beans, Guacamole, Lettuce]]"
          ],
          [
           "Steak Bowl[Fresh Tomato Salsa, [Rice, Black Beans, Lettuce]]"
          ],
          [
           "Barbacoa Soft Tacos[Tomatillo-Red Chili Salsa (Hot), [Pinto Beans, Cheese, Sour Cream, Lettuce]]"
          ],
          [
           "Steak Bowl[Fresh Tomato Salsa, [Rice, Black Beans, Pinto Beans, Cheese, Sour Cream]]"
          ],
          [
           "Steak Bowl[Fresh Tomato Salsa]"
          ],
          [
           "Steak Bowl[Fresh Tomato Salsa, [Rice, Sour Cream, Cheese, Lettuce, Guacamole]]"
          ],
          [
           "Barbacoa Soft Tacos[Roasted Chili Corn Salsa, [Rice, Black Beans, Cheese, Sour Cream, Guacamole, Lettuce]]"
          ],
          [
           "Barbacoa Soft Tacos[Roasted Chili Corn Salsa, [Rice, Cheese, Sour Cream, Guacamole]]"
          ],
          [
           "Barbacoa Soft Tacos[Roasted Chili Corn Salsa, [Rice, Pinto Beans, Cheese, Sour Cream, Guacamole]]"
          ],
          [
           "Steak Bowl[Fresh Tomato Salsa, [Rice, Pinto Beans, Cheese, Guacamole, Lettuce]]"
          ],
          [
           "Steak Bowl[Fresh Tomato Salsa, [Rice, Fajita Vegetables, Sour Cream, Cheese, Guacamole]]"
          ],
          [
           "Steak Bowl[Fresh Tomato Salsa, [Rice, Fajita Vegetables, Cheese]]"
          ],
          [
           "Steak Bowl[Fresh Tomato Salsa, [Rice, Fajita Vegetables, Black Beans, Guacamole]]"
          ],
          [
           "Barbacoa Soft Tacos[Tomatillo Green Chili Salsa, [Pinto Beans, Sour Cream, Guacamole]]"
          ],
          [
           "Steak Bowl[Fresh Tomato Salsa, [Rice, Cheese, Sour Cream]]"
          ],
          [
           "Barbacoa Soft Tacos[Tomatillo Green Chili Salsa, [Sour Cream, Cheese, Lettuce]]"
          ],
          [
           "Barbacoa Soft Tacos[Tomatillo Red Chili Salsa, [Black Beans, Cheese, Sour Cream, Guacamole]]"
          ],
          [
           "Steak Bowl[Fresh Tomato Salsa, [Rice, Cheese, Sour Cream, Guacamole, Lettuce]]"
          ],
          [
           "Barbacoa Soft Tacos[Tomatillo Red Chili Salsa, [Fajita Vegetables, Guacamole, Lettuce]]"
          ],
          [
           "Steak Bowl[Fresh Tomato Salsa, [Rice, Black Beans, Sour Cream, Lettuce]]"
          ],
          [
           "Steak Bowl[Fresh Tomato Salsa, [Rice, Black Beans, Sour Cream, Cheese, Guacamole]]"
          ],
          [
           "Burrito[Braised Barbacoa, Pinto Beans, [Sour Cream, Salsa, Cheese, Cilantro-Lime Rice, Guacamole]]"
          ],
          [
           "Steak Bowl[Fresh Tomato Salsa, [Fajita Vegetables, Cheese, Sour Cream, Guacamole]]"
          ],
          [
           "Steak Bowl[[Roasted Chili Corn Salsa (Medium), Tomatillo-Red Chili Salsa (Hot)], [Black Beans, Rice, Fajita Veggies, Cheese, Sour Cream, Lettuce]]"
          ],
          [
           "Crispy Tacos[Adobo-Marinated and Grilled Chicken]"
          ],
          [
           "Salad[White Rice, Adobo-Marinated and Grilled Chicken, Vegetarian Black Beans]"
          ],
          [
           "Salad[Brown Rice, Adobo-Marinated and Grilled Chicken, Vegetarian Black Beans]"
          ],
          [
           "Carnitas Bowl[Fresh Tomato Salsa (Mild), [Fajita Veggies, Cheese, Sour Cream, Guacamole]]"
          ],
          [
           "Carnitas Bowl[Fresh Tomato Salsa (Mild), [Pinto Beans, Rice, Cheese, Sour Cream, Lettuce]]"
          ],
          [
           "Carnitas Bowl[Fresh Tomato Salsa (Mild), [Rice, Cheese, Sour Cream]]"
          ],
          [
           "Carnitas Bowl[Fresh Tomato Salsa, [Fajita Vegetables, Rice, Black Beans, Cheese, Sour Cream, Lettuce]]"
          ],
          [
           "Carnitas Bowl[Fresh Tomato Salsa, [Fajita Vegetables, Rice, Black Beans, Cheese, Sour Cream]]"
          ],
          [
           "Crispy Tacos[Adobo-Marinated and Grilled Steak]"
          ],
          [
           "Carnitas Bowl[Fresh Tomato Salsa, [Fajita Vegetables, Rice, Black Beans, Lettuce]]"
          ],
          [
           "Steak Bowl[Fresh Tomato Salsa, [Fajita Vegetables, Cheese, Sour Cream, Guacamole, Lettuce]]"
          ],
          [
           "Carnitas Bowl[Fresh Tomato Salsa, [Fajita Vegetables, Rice, Black Beans, Pinto Beans, Cheese, Sour Cream, Guacamole, Lettuce]]"
          ],
          [
           "Carnitas Bowl[Fresh Tomato Salsa, [Fajita Vegetables, Rice, Black Beans, Pinto Beans, Cheese, Sour Cream, Lettuce]]"
          ],
          [
           "Carnitas Bowl[Fresh Tomato Salsa, [Fajita Vegetables, Rice, Pinto Beans, Cheese, Sour Cream, Lettuce]]"
          ],
          [
           "Carnitas Bowl[Fresh Tomato Salsa, [Fajita Vegetables, Rice, Pinto Beans, Lettuce]]"
          ],
          [
           "Chips and Mild Fresh Tomato Salsa"
          ],
          [
           "Carnitas Bowl[Fresh Tomato Salsa, [Rice, Black Beans, Cheese, Lettuce]]"
          ],
          [
           "Carnitas Bowl[Fresh Tomato Salsa, [Rice, Black Beans, Cheese, Sour Cream, Guacamole]]"
          ],
          [
           "Carnitas Bowl[Fresh Tomato Salsa, [Rice, Black Beans, Cheese, Sour Cream]]"
          ],
          [
           "Carnitas Bowl[Fresh Tomato (Mild), [Guacamole, Lettuce, Rice, Sour Cream, Cheese]]"
          ],
          [
           "Burrito[White Rice, Adobo-Marinated and Grilled Steak, [Salsa, Cheese]]"
          ],
          [
           "Steak Bowl[Fresh Tomato (Mild), [Lettuce, Black Beans, Rice, Cheese]]"
          ],
          [
           "Steak Bowl[Fresh Tomato (Mild), [Lettuce, Black Beans, Rice]]"
          ],
          [
           "Steak Bowl[Fresh Tomato Salsa, [Cheese, Black Beans, Pinto Beans, Guacamole, Sour Cream]]"
          ],
          [
           "Steak Bowl[Fresh Tomato Salsa, [Black Beans, Pinto Beans, Cheese, Sour Cream, Guacamole]]"
          ],
          [
           "Steak Bowl[Fresh Tomato Salsa, [Black Beans, Cheese, Sour Cream]]"
          ],
          [
           "Steak Bowl[Fresh Tomato Salsa, [Black Beans, Cheese, Sour Cream, Guacamole, Lettuce]]"
          ],
          [
           "Burrito[Braised Barbacoa, Vegetarian Black Beans, [Sour Cream, Salsa, Cheese, Cilantro-Lime Rice]]"
          ],
          [
           "Steak Bowl[Fresh Tomato Salsa, Guacamole]"
          ],
          [
           "Steak Bowl[Fresh Tomato Salsa (Mild), [Sour Cream, Lettuce, Cheese, Black Beans, Rice]]"
          ],
          [
           "Steak Bowl[Fresh Tomato Salsa (Mild), [Rice, Fajita Veggies, Guacamole, Lettuce]]"
          ],
          [
           "Steak Bowl[Fresh Tomato Salsa (Mild), [Rice, Cheese]]"
          ],
          [
           "Burrito[White Rice, Adobo-Marinated and Grilled Steak, Pinto Beans, [Sour Cream, Salsa, Cheese, Cilantro-Lime Rice]]"
          ],
          [
           "Steak Bowl[Fresh Tomato Salsa (Mild), [Pinto Beans, Rice, Fajita Veggies, Cheese, Guacamole, Lettuce]]"
          ],
          [
           "Steak Bowl[Fresh Tomato Salsa (Mild), [Black Beans, Rice, Fajita Veggies, Lettuce, Cheese, Sour Cream]]"
          ],
          [
           "Steak Bowl[Fresh Tomato Salsa (Mild), [Black Beans, Rice, Fajita Veggies, Cheese, Sour Cream]]"
          ],
          [
           "Steak Bowl[Fresh Tomato Salsa (Mild), [Black Beans, Rice, Fajita Veggies, Cheese, Sour Cream, Lettuce]]"
          ],
          [
           "Steak Bowl[Fresh Tomato Salsa (Mild), [Black Beans, Rice, Cheese, Sour Cream]]"
          ],
          [
           "Steak Bowl[Fresh Tomato Salsa (Mild), [Black Beans, Rice, Cheese, Sour Cream, Lettuce]]"
          ],
          [
           "Steak Bowl[Fresh Tomato Salsa (Mild), [Black Beans, Rice, Cheese, Lettuce]]"
          ],
          [
           "Steak Bowl[Rice, Tomatillo-Red Chili Salsa (Hot)]"
          ],
          [
           "Barbacoa Soft Tacos[Roasted Chili Corn Salsa, [Fajita Vegetables, Black Beans, Cheese, Sour Cream, Lettuce]]"
          ],
          [
           "Barbacoa Soft Tacos[Roasted Chili Corn Salsa, [Cheese, Sour Cream, Guacamole]]"
          ],
          [
           "Steak Bowl[Tomatillo Red Chili Salsa, [Rice, Black Beans, Cheese, Sour Cream, Guacamole, Lettuce]]"
          ],
          [
           "Steak Bowl[Tomatillo Red Chili Salsa, [Rice, Cheese]]"
          ],
          [
           "Barbacoa Crispy Tacos[Fresh Tomato Salsa, [Sour Cream, Lettuce]]"
          ],
          [
           "Barbacoa Crispy Tacos[Roasted Chili Corn Salsa, [Fajita Vegetables, Black Beans, Cheese]]"
          ],
          [
           "Steak Bowl[Tomatillo Red Chili Salsa, [Rice, Black Beans, Sour Cream, Lettuce, Guacamole]]"
          ],
          [
           "Steak Bowl[Tomatillo Red Chili Salsa, [Rice, Black Beans, Pinto Beans, Cheese, Sour Cream, Guacamole, Lettuce]]"
          ],
          [
           "Steak Bowl[Tomatillo Red Chili Salsa, [Rice, Black Beans, Pinto Beans, Cheese, Lettuce]]"
          ],
          [
           "Barbacoa Crispy Tacos[Roasted Chili Corn Salsa, [Rice, Cheese, Lettuce, Guacamole]]"
          ],
          [
           "Barbacoa Crispy Tacos[Roasted Chili Corn Salsa, [Rice, Cheese, Lettuce]]"
          ],
          [
           "Barbacoa Crispy Tacos[Tomatillo Red Chili Salsa, [Rice, Black Beans, Cheese, Sour Cream, Guacamole]]"
          ],
          [
           "Steak Bowl[Roasted Chili Corn Salsa (Medium), [Black Beans, Rice, Fajita Veggies]]"
          ],
          [
           "Steak Bowl[Tomatillo Red Chili Salsa, [Fajita Vegetables, Cheese, Guacamole, Lettuce]]"
          ],
          [
           "Steak Bowl[Tomatillo Red Chili Salsa, [Black Beans, Pinto Beans, Cheese, Sour Cream, Guacamole, Lettuce]]"
          ],
          [
           "Steak Bowl[Tomatillo Green Chili Salsa]"
          ],
          [
           "Steak Bowl[Tomatillo Green Chili Salsa, [Rice, Pinto Beans, Cheese, Sour Cream, Guacamole, Lettuce]]"
          ],
          [
           "Barbacoa Crispy Tacos[Tomatillo-Red Chili Salsa (Hot), [Black Beans, Cheese, Sour Cream, Lettuce]]"
          ],
          [
           "Steak Bowl[Tomatillo Green Chili Salsa, [Rice, Pinto Beans, Cheese, Guacamole]]"
          ],
          [
           "Steak Bowl[Tomatillo Green Chili Salsa, [Rice, Pinto Beans, Cheese, Guacamole, Lettuce]]"
          ],
          [
           "Barbacoa Crispy Tacos[[Fresh Tomato Salsa (Mild), Tomatillo-Green Chili Salsa (Medium)], [Pinto Beans, Rice, Fajita Veggies, Cheese, Sour Cream, Lettuce]]"
          ],
          [
           "Steak Bowl[Tomatillo Red Chili Salsa, [Rice, Fajita Vegetables, Cheese, Lettuce, Guacamole]]"
          ],
          [
           "Steak Bowl[Tomatillo Red Chili Salsa, [Rice, Pinto Beans, Cheese]]"
          ],
          [
           "Steak Bowl[Tomatillo Red Chili Salsa, [Rice, Pinto Beans, Guacamole, Lettuce]]"
          ],
          [
           "Steak Bowl[Tomatillo Red Chili Salsa, [Rice, Sour Cream, Cheese, Lettuce]]"
          ],
          [
           "Barbacoa Burrito[[Tomatillo-Red Chili Salsa (Hot), Fresh Tomato Salsa (Mild), Tomatillo-Green Chili Salsa (Medium)], [Rice, Pinto Beans, Cheese]]"
          ],
          [
           "Steak Bowl[[Roasted Chili Corn Salsa (Medium), Fresh Tomato Salsa (Mild)], [Cheese, Fajita Veggies, Lettuce, Sour Cream, Rice, Black Beans]]"
          ],
          [
           "Steak Bowl[[Fresh Tomato Salsa (Mild), Tomatillo-Green Chili Salsa (Medium), Roasted Chili Corn Salsa (Medium)], [Pinto Beans, Rice, Cheese, Sour Cream, Lettuce]]"
          ],
          [
           "Steak Bowl[[Fresh Tomato Salsa (Mild), Tomatillo-Green Chili Salsa (Medium), Roasted Chili Corn Salsa (Medium), Tomatillo-Red Chili Salsa (Hot)], [Pinto Beans, Black Beans, Rice, Cheese, Sour Cream]]"
          ],
          [
           "Barbacoa Crispy Tacos[Fresh Tomato Salsa, Guacamole]"
          ],
          [
           "Steak Bowl[[Fresh Tomato Salsa (Mild), Roasted Chili Corn Salsa (Medium)], [Rice, Fajita Veggies, Cheese, Sour Cream, Guacamole, Lettuce]]"
          ],
          [
           "Steak Bowl[[Fresh Tomato Salsa (Mild), Roasted Chili Corn Salsa (Medium)], [Pinto Beans, Rice, Fajita Veggies, Cheese, Sour Cream, Lettuce]]"
          ],
          [
           "Steak Bowl[[Fresh Tomato Salsa (Mild), Roasted Chili Corn Salsa (Medium)], [Black Beans, Rice, Fajita Veggies, Cheese, Sour Cream, Lettuce]]"
          ],
          [
           "Steak Bowl[Tomatillo-Red Chili Salsa (Hot), [Rice, Cheese, Sour Cream, Guacamole]]"
          ],
          [
           "Steak Bowl[Tomatillo-Red Chili Salsa (Hot), [Rice, Cheese, Sour Cream, Guacamole, Lettuce]]"
          ],
          [
           "Steak Bowl[Tomatillo-Red Chili Salsa (Hot), [Rice, Black Beans, Cheese]]"
          ],
          [
           "Steak Bowl[Tomatillo-Red Chili Salsa (Hot), [Pinto Beans, Rice, Fajita Veggies, Cheese, Sour Cream]]"
          ],
          [
           "Steak Bowl[Tomatillo-Red Chili Salsa (Hot), [Pinto Beans, Rice, Fajita Veggies, Cheese, Lettuce]]"
          ],
          [
           "Steak Bowl[Tomatillo-Red Chili Salsa (Hot), [Pinto Beans, Rice, Cheese, Sour Cream, Lettuce]]"
          ],
          [
           "Steak Burrito[Roasted Chili Corn Salsa, [Rice, Pinto Beans, Cheese]]"
          ],
          [
           "Steak Bowl[Tomatillo-Green Chili Salsa (Medium), [Rice, Pinto Beans, Cheese, Sour Cream, Lettuce]]"
          ],
          [
           "Steak Bowl[Tomatillo-Green Chili Salsa (Medium), [Rice, Cheese, Sour Cream, Lettuce]]"
          ],
          [
           "Steak Bowl[Tomatillo Green Chili Salsa, [Rice, Black Beans, Guacamole, Lettuce]]"
          ],
          [
           "Steak Bowl[Tomatillo Green Chili Salsa, [Rice, Black Beans, Cheese, Sour Cream, Lettuce]]"
          ],
          [
           "Barbacoa Crispy Tacos[[Roasted Chili Corn Salsa (Medium), Tomatillo-Red Chili Salsa (Hot)], [Cheese, Sour Cream, Guacamole]]"
          ],
          [
           "Steak Bowl[Roasted Chili Corn Salsa, [Fajita Vegetables, Rice, Pinto Beans, Cheese, Sour Cream, Lettuce]]"
          ],
          [
           "Steak Bowl[Roasted Chili Corn Salsa, [Fajita Vegetables, Rice, Cheese, Sour Cream, Guacamole, Lettuce]]"
          ],
          [
           "Steak Bowl[Roasted Chili Corn Salsa, [Fajita Vegetables, Rice, Cheese, Lettuce]]"
          ],
          [
           "Barbacoa Soft Tacos[Fresh Tomato Salsa, [Black Beans, Cheese, Lettuce]]"
          ],
          [
           "Steak Bowl[Roasted Chili Corn Salsa, [Fajita Vegetables, Rice, Black Beans, Cheese, Sour Cream, Guacamole]]"
          ],
          [
           "Barbacoa Soft Tacos[Fresh Tomato Salsa, [Fajita Vegetables, Black Beans, Lettuce]]"
          ],
          [
           "Steak Bowl[Roasted Chili Corn Salsa, [Fajita Vegetables, Rice, Black Beans, Cheese, Guacamole]]"
          ],
          [
           "Steak Bowl[Roasted Chili Corn Salsa, [Fajita Vegetables, Black Beans, Cheese, Sour Cream, Guacamole, Lettuce]]"
          ],
          [
           "Steak Bowl[Roasted Chili Corn Salsa, [Black Beans, Pinto Beans, Cheese, Sour Cream]]"
          ],
          [
           "Steak Bowl[Roasted Chili Corn Salsa, [Black Beans, Cheese, Sour Cream]]"
          ],
          [
           "Steak Bowl[Roasted Chili Corn Salsa, [Black Beans, Cheese, Sour Cream, Lettuce]]"
          ],
          [
           "Steak Bowl[Roasted Chili Corn Salsa (Medium), [Rice, Fajita Veggies, Cheese, Sour Cream, Guacamole, Lettuce]]"
          ],
          [
           "Steak Bowl[Roasted Chili Corn Salsa (Medium), [Rice, Cheese]]"
          ],
          [
           "Steak Bowl[Roasted Chili Corn Salsa (Medium), [Rice, Cheese, Sour Cream, Lettuce]]"
          ],
          [
           "Barbacoa Soft Tacos[Fresh Tomato Salsa, [Rice, Black Beans, Pinto Beans, Cheese, Sour Cream]]"
          ],
          [
           "Steak Bowl[Roasted Chili Corn Salsa (Medium), [Rice, Black Beans, Pinto Beans, Fajita Veggies, Lettuce]]"
          ],
          [
           "Steak Bowl[Roasted Chili Corn Salsa (Medium), [Rice, Black Beans, Fajita Veggies]]"
          ],
          [
           "Steak Bowl[Roasted Chili Corn Salsa (Medium), [Pinto Beans, Rice, Guacamole]]"
          ],
          [
           "Steak Bowl[Roasted Chili Corn Salsa, [Fajita Vegetables, Rice, Lettuce]]"
          ],
          [
           "Steak Bowl[Roasted Chili Corn Salsa, [Pinto Beans, Rice, Cheese, Sour Cream, Guacamole]]"
          ],
          [
           "Steak Bowl[Tomatillo Green Chili Salsa, [Fajita Vegetables, Rice, Pinto Beans, Cheese, Sour Cream]]"
          ],
          [
           "Barbacoa Salad Bowl[Tomatillo Red Chili Salsa, [Black Beans, Cheese, Sour Cream, Guacamole]]"
          ],
          [
           "Steak Bowl[Tomatillo Green Chili Salsa, [Fajita Vegetables, Rice, Lettuce]]"
          ],
          [
           "Steak Bowl[Tomatillo Green Chili Salsa, [Fajita Vegetables, Rice, Black Beans, Cheese, Lettuce]]"
          ],
          [
           "Steak Bowl[Tomatillo Green Chili Salsa, [Fajita Vegetables, Rice, Black Beans, Cheese, Guacamole]]"
          ],
          [
           "Steak Bowl[Tomatillo Green Chili Salsa, [Fajita Vegetables, Rice, Black Beans, Cheese, Guacamole, Lettuce]]"
          ],
          [
           "Barbacoa Salad Bowl[Fresh Tomato Salsa, Guacamole]"
          ],
          [
           "Steak Bowl[Roasted Chili Corn Salsa, [Rice, Pinto Beans]]"
          ],
          [
           "Barbacoa Salad Bowl[Fresh Tomato Salsa, [Fajita Vegetables, Rice, Black Beans, Cheese, Guacamole, Lettuce]]"
          ],
          [
           "Barbacoa Salad Bowl[Fresh Tomato Salsa, [Rice, Black Beans, Cheese, Sour Cream]]"
          ],
          [
           "Steak Bowl[Roasted Chili Corn Salsa, [Rice, Fajita Vegetables, Black Beans, Sour Cream, Cheese, Lettuce]]"
          ],
          [
           "Steak Bowl[Roasted Chili Corn Salsa, [Rice, Cheese, Sour Cream]]"
          ],
          [
           "Steak Bowl[Roasted Chili Corn Salsa, [Rice, Cheese, Sour Cream, Lettuce]]"
          ],
          [
           "Steak Bowl[Roasted Chili Corn Salsa, [Rice, Cheese, Sour Cream, Guacamole, Lettuce]]"
          ],
          [
           "Steak Bowl[Roasted Chili Corn Salsa, [Rice, Black Beans, Sour Cream]]"
          ],
          [
           "Barbacoa Salad Bowl[Fresh Tomato Salsa, [Rice, Fajita Vegetables, Pinto Beans, Black Beans, Sour Cream, Cheese, Lettuce, Guacamole]]"
          ],
          [
           "Barbacoa Salad Bowl[Fresh Tomato Salsa, [Rice, Pinto Beans, Cheese, Lettuce]]"
          ],
          [
           "Barbacoa Salad Bowl[Tomatillo Green Chili Salsa, [Fajita Vegetables, Rice, Cheese, Sour Cream, Lettuce]]"
          ],
          [
           "Barbacoa Salad Bowl[Tomatillo Green Chili Salsa, [Rice, Fajita Vegetables, Pinto Beans, Sour Cream, Cheese, Lettuce, Guacamole]]"
          ],
          [
           "Steak Burrito[Roasted Chili Corn Salsa, [Rice, Pinto Beans, Cheese, Sour Cream]]"
          ],
          [
           "Steak Burrito[Tomatillo Red Chili (Hot), [Lettuce, Black Beans, Rice, Sour Cream, Cheese]]"
          ],
          [
           "Barbacoa Burrito[Roasted Chili Corn Salsa, [Rice, Black Beans, Cheese, Lettuce, Guacamole]]"
          ],
          [
           "Barbacoa Bowl[Roasted Chili Corn Salsa, [Pinto Beans, Sour Cream, Cheese, Lettuce, Guacamole]]"
          ],
          [
           "Veggie Bowl[Roasted Chili Corn Salsa, [Fajita Vegetables, Rice, Black Beans, Pinto Beans, Sour Cream, Guacamole, Lettuce]]"
          ],
          [
           "Veggie Bowl[Roasted Chili Corn Salsa, [Fajita Vegetables, Rice, Black Beans, Guacamole, Lettuce]]"
          ],
          [
           "Veggie Bowl[Roasted Chili Corn Salsa, [Fajita Vegetables, Rice, Black Beans, Cheese, Sour Cream]]"
          ],
          [
           "Veggie Bowl[Roasted Chili Corn Salsa, [Fajita Vegetables, Rice, Black Beans, Cheese, Sour Cream, Lettuce]]"
          ],
          [
           "Barbacoa Bowl[Roasted Chili Corn Salsa, [Rice, Cheese, Lettuce]]"
          ],
          [
           "Veggie Bowl[Roasted Chili Corn Salsa, [Fajita Vegetables, Rice, Black Beans, Cheese, Guacamole, Lettuce]]"
          ],
          [
           "Veggie Bowl[Roasted Chili Corn Salsa, [Fajita Vegetables, Cheese, Sour Cream, Guacamole, Lettuce]]"
          ],
          [
           "Veggie Bowl[Roasted Chili Corn Salsa, [Black Beans, Cheese, Sour Cream, Guacamole]]"
          ],
          [
           "Veggie Bowl[Roasted Chili Corn Salsa, Fajita Vegetables]"
          ],
          [
           "Veggie Bowl[Fresh Tomato Salsa, [Rice, Fajita Vegetables, Pinto Beans, Cheese]]"
          ],
          [
           "Veggie Bowl[Fresh Tomato Salsa, [Rice, Black Beans, Cheese, Sour Cream, Guacamole]]"
          ],
          [
           "Barbacoa Bowl[Tomatillo Green Chili Salsa, [Fajita Vegetables, Pinto Beans, Sour Cream, Guacamole, Lettuce]]"
          ],
          [
           "Veggie Bowl[Fresh Tomato Salsa, [Rice, Black Beans, Cheese, Guacamole, Lettuce]]"
          ],
          [
           "Barbacoa Bowl[Tomatillo Green Chili Salsa, [Fajita Vegetables, Rice, Black Beans, Pinto Beans, Guacamole]]"
          ],
          [
           "Veggie Bowl[Fresh Tomato Salsa, [Fajita Vegetables, Rice, Cheese, Sour Cream, Lettuce]]"
          ],
          [
           "Barbacoa Bowl[Tomatillo Green Chili Salsa, [Rice, Cheese, Guacamole, Lettuce]]"
          ],
          [
           "Veggie Bowl[Fresh Tomato Salsa, [Fajita Vegetables, Rice, Black Beans, Sour Cream, Lettuce]]"
          ],
          [
           "Veggie Bowl[Roasted Chili Corn Salsa, [Fajita Vegetables, Rice, Cheese, Sour Cream, Guacamole, Lettuce]]"
          ],
          [
           "Barbacoa Bowl[Roasted Chili Corn Salsa, [Fajita Vegetables, Rice, Guacamole]]"
          ],
          [
           "Veggie Bowl[Fresh Tomato Salsa, [Fajita Vegetables, Rice, Black Beans, Pinto Beans, Cheese, Sour Cream, Guacamole, Lettuce]]"
          ],
          [
           "Veggie Bowl[Roasted Chili Corn Salsa, [Rice, Black Beans, Cheese, Sour Cream, Lettuce]]"
          ],
          [
           "Veggie Bowl[[Fresh Tomato Salsa (Mild), Roasted Chili Corn Salsa (Medium)], [Cheese, Sour Cream, Lettuce]]"
          ],
          [
           "Veggie Bowl[[Fresh Tomato Salsa (Mild), Roasted Chili Corn Salsa (Medium)], [Black Beans, Rice, Fajita Veggies, Cheese, Sour Cream]]"
          ],
          [
           "Veggie Bowl[[Fresh Tomato Salsa (Mild), Roasted Chili Corn Salsa (Medium)], [Black Beans, Rice, Fajita Veggies, Cheese, Sour Cream, Lettuce]]"
          ],
          [
           "Veggie Bowl[Tomatillo-Red Chili Salsa (Hot), [Pinto Beans, Black Beans, Rice, Fajita Veggies, Lettuce]]"
          ],
          [
           "Veggie Bowl[Tomatillo-Red Chili Salsa (Hot), [Pinto Beans, Black Beans, Rice, Fajita Veggies, Cheese]]"
          ],
          [
           "Veggie Bowl[Tomatillo-Green Chili Salsa (Medium), [Black Beans, Rice, Cheese, Sour Cream, Guacamole, Lettuce]]"
          ],
          [
           "Veggie Bowl[Tomatillo Red Chili Salsa, [Rice, Black Beans, Sour Cream, Guacamole, Lettuce]]"
          ],
          [
           "Barbacoa Bowl[Roasted Chili Corn Salsa, [Cheese, Lettuce]]"
          ],
          [
           "Veggie Bowl[Tomatillo Red Chili Salsa, [Fajita Vegetables, Rice, Pinto Beans, Cheese, Sour Cream, Lettuce]]"
          ],
          [
           "Veggie Bowl[Tomatillo Red Chili Salsa, [Fajita Vegetables, Rice, Black Beans, Cheese, Sour Cream, Guacamole]]"
          ],
          [
           "Veggie Bowl[Tomatillo Red Chili Salsa, [Fajita Vegetables, Black Beans, Cheese, Guacamole, Lettuce]]"
          ],
          [
           "Veggie Bowl[Tomatillo Green Chili Salsa, [Rice, Black Beans, Cheese, Lettuce]]"
          ],
          [
           "Veggie Bowl[Tomatillo Green Chili Salsa, [Rice, Black Beans, Cheese, Guacamole]]"
          ],
          [
           "Veggie Bowl[Tomatillo Green Chili Salsa, [Fajita Vegetables, Rice, Cheese, Guacamole, Lettuce]]"
          ],
          [
           "Veggie Bowl[Roasted Chili Corn Salsa, [Rice, Pinto Beans, Cheese, Sour Cream]]"
          ],
          [
           "Veggie Bowl[Roasted Chili Corn Salsa, [Rice, Fajita Vegetables, Black Beans, Sour Cream, Cheese, Lettuce]]"
          ],
          [
           "Veggie Bowl[Roasted Chili Corn Salsa, [Rice, Black Beans, Sour Cream, Lettuce]]"
          ],
          [
           "Veggie Bowl[Fresh Tomato Salsa, [Fajita Vegetables, Rice, Black Beans, Pinto Beans, Cheese]]"
          ],
          [
           "Veggie Bowl[Fresh Tomato Salsa, [Fajita Vegetables, Rice, Black Beans, Lettuce]]"
          ],
          [
           "Veggie Bowl[[Fresh Tomato Salsa (Mild), Roasted Chili Corn Salsa (Medium)], [Rice, Fajita Veggies]]"
          ],
          [
           "Steak Soft Tacos[Tomatillo-Green Chili Salsa (Medium), [Rice, Cheese, Sour Cream, Lettuce]]"
          ],
          [
           "Steak Soft Tacos[Tomatillo Red Chili Salsa]"
          ],
          [
           "Steak Soft Tacos[Tomatillo Red Chili Salsa, [Fajita Vegetables, Black Beans, Cheese, Sour Cream, Lettuce]]"
          ],
          [
           "Steak Soft Tacos[Tomatillo Red Chili Salsa, [Cheese, Sour Cream]]"
          ],
          [
           "Steak Soft Tacos[Tomatillo Green Chili Salsa, [Sour Cream, Cheese, Guacamole, Rice, Fajita Vegetables]]"
          ],
          [
           "Steak Soft Tacos[Tomatillo Green Chili Salsa, [Rice, Pinto Beans, Cheese, Sour Cream]]"
          ],
          [
           "Steak Soft Tacos[Tomatillo Green Chili Salsa, [Rice, Black Beans, Sour Cream, Cheese, Lettuce]]"
          ],
          [
           "Steak Soft Tacos[Tomatillo Green Chili Salsa, [Pinto Beans, Cheese, Sour Cream, Lettuce]]"
          ],
          [
           "Steak Soft Tacos[Tomatillo Green Chili Salsa, [Fajita Vegetables, Rice, Cheese, Sour Cream, Guacamole]]"
          ],
          [
           "Steak Soft Tacos[Tomatillo Green Chili Salsa, [Fajita Vegetables, Black Beans, Cheese, Guacamole, Lettuce]]"
          ],
          [
           "Steak Soft Tacos[Roasted Chili Corn Salsa, [Rice, Pinto Beans, Sour Cream, Cheese, Lettuce]]"
          ],
          [
           "Steak Soft Tacos[Roasted Chili Corn Salsa, [Rice, Cheese, Sour Cream, Lettuce]]"
          ],
          [
           "Steak Soft Tacos[Roasted Chili Corn Salsa, [Rice, Black Beans, Cheese, Lettuce]]"
          ],
          [
           "Steak Soft Tacos[Roasted Chili Corn Salsa, [Fajita Vegetables, Cheese, Sour Cream, Lettuce]]"
          ],
          [
           "Steak Soft Tacos[Roasted Chili Corn Salsa, [Black Beans, Sour Cream, Lettuce]]"
          ],
          [
           "Steak Soft Tacos[Roasted Chili Corn Salsa (Medium), [Black Beans, Rice, Cheese, Sour Cream]]"
          ],
          [
           "Steak Soft Tacos[Roasted Chili Corn Salsa (Medium), Lettuce]"
          ],
          [
           "Steak Soft Tacos[Fresh Tomato Salsa]"
          ],
          [
           "Barbacoa Bowl[Tomatillo Red Chili Salsa, [Rice, Black Beans, Cheese]]"
          ],
          [
           "Steak Soft Tacos[Tomatillo-Red Chili Salsa (Hot), Lettuce]"
          ],
          [
           "Veggie Bowl[Fresh Tomato Salsa, [Fajita Vegetables, Rice, Black Beans, Guacamole]]"
          ],
          [
           "Steak Soft Tacos[Tomatillo-Red Chili Salsa (Hot), [Cheese, Sour Cream, Lettuce]]"
          ],
          [
           "Veggie Bowl[Fresh Tomato Salsa, [Fajita Vegetables, Rice, Black Beans, Guacamole, Lettuce]]"
          ],
          [
           "Barbacoa Bowl[Tomatillo Red Chili Salsa, [Black Beans, Cheese, Sour Cream, Guacamole]]"
          ],
          [
           "Veggie Bowl[Fresh Tomato Salsa, [Fajita Vegetables, Rice, Black Beans, Cheese, Sour Cream, Lettuce]]"
          ],
          [
           "Veggie Bowl[Fresh Tomato Salsa, [Fajita Vegetables, Rice, Black Beans, Cheese, Sour Cream, Guacamole, Lettuce]]"
          ],
          [
           "Veggie Bowl[Fresh Tomato Salsa, [Fajita Vegetables, Black Beans, Cheese, Guacamole, Lettuce]]"
          ],
          [
           "Veggie Bowl[Fresh Tomato Salsa, [Black Beans, Pinto Beans, Cheese, Guacamole, Lettuce]]"
          ],
          [
           "Barbacoa Bowl[Tomatillo Red Chili Salsa, [Cheese, Sour Cream, Guacamole, Lettuce]]"
          ],
          [
           "Barbacoa Bowl[Tomatillo Red Chili Salsa, [Fajita Vegetables, Rice, Black Beans, Cheese, Sour Cream, Guacamole, Lettuce]]"
          ],
          [
           "Veggie Bowl[Fresh Tomato Salsa (Mild), [Pinto Beans, Black Beans, Rice, Fajita Veggies, Cheese, Sour Cream, Guacamole, Lettuce]]"
          ],
          [
           "Steak Soft Tacos[[Tomatillo-Green Chili Salsa (Medium), Roasted Chili Corn Salsa (Medium)], [Black Beans, Rice, Fajita Veggies, Cheese, Sour Cream, Lettuce]]"
          ],
          [
           "Steak Soft Tacos[[Roasted Chili Corn Salsa (Medium), Tomatillo-Red Chili Salsa (Hot)], [Cheese, Sour Cream, Lettuce]]"
          ],
          [
           "Steak Soft Tacos[[Fresh Tomato Salsa (Mild), Tomatillo-Red Chili Salsa (Hot)], [Black Beans, Rice, Cheese, Sour Cream, Guacamole, Lettuce]]"
          ],
          [
           "Barbacoa Bowl[Tomatillo Red Chili Salsa, [Rice, Black Beans, Cheese, Lettuce]]"
          ],
          [
           "Steak Soft Tacos[[Fresh Tomato Salsa (Mild), Tomatillo-Green Chili Salsa (Medium), Roasted Chili Corn Salsa (Medium), Tomatillo-Red Chili Salsa (Hot)], [Cheese, Sour Cream]]"
          ],
          [
           "Steak Soft Tacos[Tomatillo-Red Chili Salsa (Hot), [Rice, Cheese, Sour Cream, Lettuce]]"
          ],
          [
           "Steak Soft Tacos[Tomatillo-Red Chili Salsa (Hot), [Rice, Cheese, Lettuce]]"
          ],
          [
           "Steak Soft Tacos[Tomatillo-Red Chili Salsa (Hot), [Pinto Beans, Black Beans, Fajita Veggies, Cheese, Sour Cream, Lettuce]]"
          ],
          [
           "Veggie Bowl[[Fresh Tomato Salsa (Mild), Roasted Chili Corn Salsa (Medium)], [Rice, Fajita Veggies, Lettuce]]"
          ],
          [
           "Veggie Bowl[[Fresh Tomato Salsa (Mild), Tomatillo-Green Chili Salsa (Medium), Roasted Chili Corn Salsa (Medium), Tomatillo-Red Chili Salsa (Hot)], [Pinto Beans, Rice, Fajita Veggies, Cheese, Sour Cream, Lettuce]]"
          ],
          [
           "Barbacoa Burrito[Roasted Chili Corn Salsa, [Rice, Black Beans, Cheese, Guacamole, Lettuce]]"
          ],
          [
           "Veggie Salad Bowl[Fresh Tomato Salsa, [Fajita Vegetables, Pinto Beans, Lettuce]]"
          ],
          [
           "Veggie Salad Bowl[Fresh Tomato Salsa, [Fajita Vegetables, Lettuce, Guacamole, Sour Cream, Cheese, Black Beans, Rice]]"
          ],
          [
           "Veggie Salad Bowl[Fresh Tomato Salsa, [Fajita Vegetables, Black Beans, Guacamole]]"
          ],
          [
           "Veggie Crispy Tacos[Fresh Tomato Salsa (Mild), [Pinto Beans, Rice, Cheese, Sour Cream]]"
          ],
          [
           "Veggie Burrito[[Tomatillo-Green Chili Salsa (Medium), Roasted Chili Corn Salsa (Medium), Tomatillo-Red Chili Salsa (Hot)], [Black Beans, Rice, Fajita Veggies, Guacamole, Lettuce]]"
          ],
          [
           "Veggie Burrito[[Roasted Chili Corn Salsa (Medium), Fresh Tomato Salsa (Mild)], [Rice, Black Beans, Pinto Beans, Fajita Veggies, Guacamole, Lettuce]]"
          ],
          [
           "Veggie Burrito[[Fresh Tomato Salsa (Mild), Tomatillo-Green Chili Salsa (Medium), Roasted Chili Corn Salsa (Medium)], [Black Beans, Rice, Fajita Veggies, Sour Cream, Lettuce]]"
          ],
          [
           "Veggie Burrito[[Fresh Tomato Salsa (Mild), Roasted Chili Corn Salsa (Medium)], [Rice, Fajita Veggies, Sour Cream]]"
          ],
          [
           "Veggie Burrito[[Fresh Tomato Salsa (Mild), Roasted Chili Corn Salsa (Medium)], [Black Beans, Rice, Fajita Veggies, Cheese, Sour Cream, Lettuce]]"
          ],
          [
           "Veggie Burrito[[Fresh Tomato Salsa (Mild), Roasted Chili Corn Salsa (Medium)], [Black Beans, Rice, Fajita Veggies, Cheese, Lettuce]]"
          ],
          [
           "Veggie Burrito[[Fresh Tomato Salsa (Mild), Roasted Chili Corn Salsa (Medium)], [Black Beans, Rice, Cheese, Sour Cream, Lettuce]]"
          ],
          [
           "Veggie Burrito[[Fresh Tomato Salsa (Mild), Roasted Chili Corn Salsa (Medium)], [Black Beans, Rice, Cheese, Sour Cream, Guacamole]]"
          ],
          [
           "Veggie Burrito[Tomatillo-Green Chili Salsa (Medium), [Black Beans, Rice, Fajita Veggies, Cheese, Sour Cream]]"
          ],
          [
           "Veggie Burrito[Tomatillo-Green Chili Salsa (Medium), [Black Beans, Rice, Cheese]]"
          ],
          [
           "Veggie Burrito[Tomatillo Red Chili Salsa, [Fajita Vegetables, Rice, Sour Cream, Guacamole, Lettuce]]"
          ],
          [
           "Barbacoa Bowl[Fresh Tomato Salsa, [Fajita Vegetables, Rice, Black Beans, Cheese]]"
          ],
          [
           "Veggie Burrito[Tomatillo Red Chili Salsa, [Fajita Vegetables, Rice, Cheese, Sour Cream, Lettuce]]"
          ],
          [
           "Veggie Burrito[Tomatillo Red Chili Salsa, [Fajita Vegetables, Rice, Black Beans, Cheese, Sour Cream, Guacamole, Lettuce]]"
          ],
          [
           "Veggie Salad Bowl[Fresh Tomato Salsa, [Fajita Vegetables, Lettuce]]"
          ],
          [
           "Veggie Salad Bowl[Fresh Tomato Salsa, [Fajita Vegetables, Rice, Black Beans, Cheese, Sour Cream, Guacamole, Lettuce]]"
          ],
          [
           "Veggie Burrito[Tomatillo Red Chili Salsa, [Black Beans, Cheese, Guacamole]]"
          ],
          [
           "Veggie Salad Bowl[Fresh Tomato Salsa, [Fajita Vegetables, Rice, Black Beans, Cheese, Sour Cream]]"
          ],
          [
           "Veggie Soft Tacos[Roasted Chili Corn Salsa, [Fajita Vegetables, Black Beans, Pinto Beans, Cheese, Lettuce]]"
          ],
          [
           "Veggie Soft Tacos[Roasted Chili Corn Salsa (Medium), [Black Beans, Fajita Veggies, Cheese, Sour Cream, Lettuce]]"
          ],
          [
           "Veggie Soft Tacos[Fresh Tomato Salsa, [Fajita Vegetables, Rice, Black Beans, Pinto Beans, Cheese, Sour Cream, Guacamole, Lettuce]]"
          ],
          [
           "Veggie Soft Tacos[Fresh Tomato Salsa, [Black Beans, Cheese, Sour Cream, Lettuce]]"
          ],
          [
           "Veggie Soft Tacos[Fresh Tomato Salsa (Mild), [Pinto Beans, Rice, Cheese, Sour Cream]]"
          ],
          [
           "Veggie Salad[[Fresh Tomato Salsa (Mild), Roasted Chili Corn Salsa (Medium)], [Rice, Fajita Veggies, Lettuce]]"
          ],
          [
           "Barbacoa Bowl[Fresh Tomato (Mild), [Lettuce, Black Beans, Rice]]"
          ],
          [
           "Veggie Salad[Roasted Chili Corn Salsa (Medium), [Black Beans, Rice, Cheese, Sour Cream, Lettuce]]"
          ],
          [
           "Barbacoa Bowl[Fresh Tomato (Mild), [Lettuce, Rice, Cheese]]"
          ],
          [
           "Veggie Salad Bowl[Tomatillo Red Chili Salsa, [Fajita Vegetables, Rice, Black Beans, Cheese, Guacamole, Lettuce]]"
          ],
          [
           "Veggie Salad Bowl[Tomatillo Green Chili Salsa, [Fajita Vegetables, Rice, Black Beans, Cheese, Sour Cream, Lettuce]]"
          ],
          [
           "Veggie Salad Bowl[Roasted Chili Corn Salsa, [Fajita Vegetables, Rice, Black Beans, Lettuce]]"
          ],
          [
           "Veggie Salad Bowl[Roasted Chili Corn Salsa, Fajita Vegetables]"
          ],
          [
           "Veggie Salad Bowl[Fresh Tomato Salsa, [Rice, Lettuce, Guacamole, Fajita Vegetables, Cheese, Sour Cream, Black Beans]]"
          ],
          [
           "Veggie Salad Bowl[Fresh Tomato Salsa, [Rice, Black Beans, Cheese, Sour Cream]]"
          ],
          [
           "Veggie Salad Bowl[Fresh Tomato Salsa, [Fajita Vegetables, Rice, Pinto Beans, Cheese, Lettuce]]"
          ],
          [
           "Veggie Salad Bowl[Fresh Tomato Salsa, [Fajita Vegetables, Rice, Guacamole]]"
          ],
          [
           "Barbacoa Bowl[Fresh Tomato Salsa, [Fajita Vegetables, Rice, Black Beans, Guacamole, Lettuce]]"
          ],
          [
           "Veggie Burrito[Tomatillo Green Chili Salsa]"
          ],
          [
           "Veggie Bowl[[Fresh Tomato Salsa (Mild), Tomatillo-Red Chili Salsa (Hot)], [Black Beans, Rice, Fajita Veggies, Cheese, Sour Cream, Guacamole, Lettuce]]"
          ],
          [
           "Barbacoa Bowl[Fresh Tomato Salsa, [Rice, Black Beans, Cheese]]"
          ],
          [
           "Veggie Burrito[Fresh Tomato Salsa, [Fajita Vegetables, Rice, Black Beans, Cheese, Lettuce]]"
          ],
          [
           "Barbacoa Bowl[Fresh Tomato Salsa, [Rice, Black Beans, Sour Cream, Lettuce]]"
          ],
          [
           "Veggie Burrito[Fresh Tomato Salsa, [Cheese, Sour Cream, Guacamole]]"
          ],
          [
           "Veggie Burrito[Fresh Tomato Salsa, [Cheese, Rice, Pinto Beans]]"
          ],
          [
           "Veggie Burrito[Fresh Tomato Salsa (Mild), [Rice, Pinto Beans, Cheese, Sour Cream]]"
          ],
          [
           "Barbacoa Bowl[Fresh Tomato Salsa, [Rice, Cheese, Sour Cream, Guacamole, Lettuce]]"
          ],
          [
           "Barbacoa Bowl[Fresh Tomato Salsa, [Rice, Fajita Vegetables, Black Beans, Sour Cream]]"
          ],
          [
           "Veggie Burrito[Fresh Tomato Salsa (Mild), [Pinto Beans, Cheese]]"
          ],
          [
           "Barbacoa Bowl[Guacamole]"
          ],
          [
           "Veggie Burrito[Fresh Tomato Salsa (Mild), [Cheese, Pinto Beans, Sour Cream, Rice]]"
          ],
          [
           "Veggie Burrito[Fresh Tomato Salsa (Mild), [Black Beans, Rice, Fajita Veggies, Sour Cream, Lettuce]]"
          ],
          [
           "Veggie Burrito[Fresh Tomato Salsa (Mild), [Black Beans, Rice, Fajita Veggies, Cheese, Sour Cream]]"
          ],
          [
           "Veggie Burrito[Fresh Tomato Salsa (Mild), [Black Beans, Rice, Cheese, Sour Cream, Lettuce]]"
          ],
          [
           "Veggie Burrito[Fresh Tomato Salsa (Mild), [Black Beans, Fajita Veggies, Cheese, Sour Cream, Lettuce]]"
          ],
          [
           "Veggie Bowl[[Tomatillo-Green Chili Salsa (Medium), Roasted Chili Corn Salsa (Medium), Tomatillo-Red Chili Salsa (Hot)], [Pinto Beans, Rice, Fajita Veggies, Cheese, Sour Cream, Lettuce]]"
          ],
          [
           "Veggie Bowl[[Tomatillo-Green Chili Salsa (Medium), Roasted Chili Corn Salsa (Medium), Tomatillo-Red Chili Salsa (Hot)], [Black Beans, Rice, Fajita Veggies, Lettuce]]"
          ],
          [
           "Veggie Bowl[[Roasted Chili Corn Salsa (Medium), Tomatillo-Red Chili Salsa (Hot)], [Black Beans, Rice, Cheese, Guacamole, Lettuce]]"
          ],
          [
           "Barbacoa Bowl[Fresh Tomato Salsa, [Rice, Black Beans, Pinto Beans, Cheese, Sour Cream, Lettuce]]"
          ],
          [
           "Veggie Burrito[Fresh Tomato Salsa, [Fajita Vegetables, Rice, Black Beans, Cheese, Sour Cream]]"
          ],
          [
           "Veggie Burrito[Tomatillo Green Chili Salsa, [Rice, Fajita Vegetables, Pinto Beans, Sour Cream, Cheese, Lettuce, Guacamole]]"
          ],
          [
           "Barbacoa Bowl[Fresh Tomato Salsa, [Rice, Black Beans, Cheese, Sour Cream, Lettuce]]"
          ],
          [
           "Veggie Burrito[Tomatillo Green Chili Salsa, [Rice, Fajita Vegetables, Black Beans, Guacamole]]"
          ],
          [
           "Veggie Burrito[Tomatillo Green Chili Salsa, [Fajita Vegetables, Rice, Cheese, Guacamole, Lettuce]]"
          ],
          [
           "Veggie Burrito[Tomatillo Green Chili Salsa, [Fajita Vegetables, Rice, Black Beans, Cheese, Sour Cream, Lettuce]]"
          ],
          [
           "Veggie Burrito[Tomatillo Green Chili Salsa, Guacamole]"
          ],
          [
           "Veggie Burrito[Roasted Chili Corn Salsa, [Fajita Vegetables, Rice, Black Beans, Sour Cream, Guacamole, Lettuce]]"
          ],
          [
           "Veggie Burrito[Roasted Chili Corn Salsa, [Fajita Vegetables, Rice, Black Beans, Pinto Beans, Cheese, Sour Cream, Lettuce]]"
          ],
          [
           "Veggie Burrito[Roasted Chili Corn Salsa (Medium), [Black Beans, Rice, Fajita Veggies, Cheese, Sour Cream, Lettuce]]"
          ],
          [
           "Veggie Burrito[Roasted Chili Corn Salsa (Medium), [Black Beans, Rice, Fajita Veggies, Cheese, Sour Cream, Guacamole, Lettuce]]"
          ],
          [
           "Veggie Burrito[Roasted Chili Corn Salsa (Medium), [Black Beans, Rice, Cheese, Sour Cream, Lettuce]]"
          ],
          [
           "Barbacoa Bowl[Fresh Tomato Salsa, [Rice, Black Beans, Cheese, Sour Cream, Guacamole]]"
          ],
          [
           "Veggie Burrito[Fresh Tomato Salsa, [Rice, Black Beans, Sour Cream, Guacamole]]"
          ],
          [
           "Veggie Burrito[Fresh Tomato Salsa, [Rice, Black Beans, Guacamole, Lettuce]]"
          ],
          [
           "Veggie Burrito[Fresh Tomato Salsa, [Rice, Black Beans, Cheese, Lettuce]]"
          ],
          [
           "Veggie Burrito[Fresh Tomato Salsa, [Fajita Vegetables, Rice, Pinto Beans, Cheese, Lettuce]]"
          ],
          [
           "Veggie Burrito[Fresh Tomato Salsa, [Fajita Vegetables, Rice, Pinto Beans, Cheese, Guacamole, Lettuce]]"
          ],
          [
           "Veggie Burrito[Fresh Tomato Salsa, [Fajita Vegetables, Rice, Black Beans, Sour Cream, Guacamole, Lettuce]]"
          ],
          [
           "Veggie Burrito[Fresh Tomato Salsa, [Fajita Vegetables, Rice, Black Beans, Pinto Beans, Cheese, Sour Cream, Guacamole]]"
          ],
          [
           "Steak Soft Tacos[Fresh Tomato Salsa, [Sour Cream, Cheese]]"
          ],
          [
           "Barbacoa Bowl[Tomatillo Red Chili Salsa, [Rice, Black Beans, Sour Cream, Cheese, Lettuce]]"
          ],
          [
           "Steak Soft Tacos[Fresh Tomato Salsa, [Rice, Sour Cream, Cheese]]"
          ],
          [
           "Steak Burrito[Tomatillo-Red Chili Salsa (Hot), [Pinto Beans, Cheese, Sour Cream, Lettuce]]"
          ],
          [
           "Steak Burrito[Tomatillo-Red Chili Salsa (Hot), [Black Beans, Rice, Fajita Veggies, Cheese]]"
          ],
          [
           "Steak Burrito[Tomatillo-Red Chili Salsa (Hot), [Black Beans, Rice, Fajita Veggies, Cheese, Sour Cream, Lettuce]]"
          ],
          [
           "Steak Burrito[Tomatillo-Red Chili Salsa (Hot), [Black Beans, Rice, Cheese, Sour Cream, Lettuce]]"
          ],
          [
           "Steak Burrito[Tomatillo-Red Chili Salsa (Hot), [Black Beans, Rice, Cheese, Sour Cream, Guacamole, Lettuce]]"
          ],
          [
           "Steak Burrito[Tomatillo-Red Chili Salsa (Hot), [Black Beans, Rice, Cheese, Lettuce]]"
          ],
          [
           "Steak Burrito[Tomatillo-Red Chili Salsa (Hot), Rice]"
          ],
          [
           "Barbacoa Burrito[Fresh Tomato Salsa, [Fajita Vegetables, Rice, Cheese, Sour Cream]]"
          ],
          [
           "Steak Burrito[Tomatillo-Green Chili Salsa (Medium), [Rice, Fajita Veggies, Cheese, Lettuce]]"
          ],
          [
           "Barbacoa Burrito[Fresh Tomato Salsa, [Rice, Black Beans, Cheese, Lettuce]]"
          ],
          [
           "Steak Burrito[Tomatillo-Green Chili Salsa (Medium), [Rice, Black Beans, Sour Cream, Guacamole]]"
          ],
          [
           "Steak Burrito[Tomatillo-Green Chili Salsa (Medium), [Pinto Beans, Rice, Cheese, Sour Cream]]"
          ],
          [
           "Steak Burrito[Tomatillo-Green Chili Salsa (Medium), [Cheese, Lettuce]]"
          ],
          [
           "Steak Burrito[Tomatillo-Green Chili Salsa (Medium), [Black Beans, Rice, Cheese]]"
          ],
          [
           "Steak Burrito[Tomatillo-Green Chili Salsa (Medium), [Black Beans, Rice, Cheese, Sour Cream, Lettuce]]"
          ],
          [
           "Barbacoa Burrito[Fresh Tomato Salsa, [Rice, Black Beans, Cheese, Sour Cream]]"
          ],
          [
           "Steak Burrito[Tomatillo Red Chili Salsa, [Rice, Pinto Beans, Cheese, Sour Cream]]"
          ],
          [
           "Barbacoa Burrito[Fresh Tomato Salsa, [Rice, Cheese]]"
          ],
          [
           "Steak Burrito[Tomatillo-Red Chili Salsa (Hot), [Guacamole, Lettuce, Sour Cream, Rice, Cheese, Black Beans]]"
          ],
          [
           "Steak Burrito[Tomatillo-Red Chili Salsa (Hot), [Pinto Beans, Rice, Cheese, Sour Cream]]"
          ],
          [
           "Steak Burrito[Tomatillo Red Chili Salsa, [Rice, Fajita Vegetables, Sour Cream, Cheese, Lettuce, Guacamole]]"
          ],
          [
           "Steak Burrito[Tomatillo-Red Chili Salsa (Hot), [Pinto Beans, Rice, Fajita Veggies, Cheese, Sour Cream]]"
          ],
          [
           "Steak Burrito[[Fresh Tomato Salsa (Mild), Tomatillo-Red Chili Salsa (Hot)], [Rice, Cheese, Sour Cream, Guacamole, Lettuce]]"
          ],
          [
           "Steak Burrito[[Fresh Tomato Salsa (Mild), Tomatillo-Red Chili Salsa (Hot)], [Pinto Beans, Rice, Cheese, Sour Cream]]"
          ],
          [
           "Steak Burrito[[Fresh Tomato Salsa (Mild), Tomatillo-Red Chili Salsa (Hot)], [Pinto Beans, Rice, Cheese, Sour Cream, Lettuce]]"
          ],
          [
           "Steak Burrito[[Fresh Tomato Salsa (Mild), Tomatillo-Red Chili Salsa (Hot)], [Pinto Beans, Fajita Veggies, Cheese, Guacamole]]"
          ],
          [
           "Steak Burrito[[Fresh Tomato Salsa (Mild), Tomatillo-Red Chili Salsa (Hot)], [Black Beans, Rice, Fajita Veggies, Cheese, Lettuce]]"
          ],
          [
           "Steak Burrito[[Fresh Tomato Salsa (Mild), Roasted Chili Corn Salsa (Medium)], [Rice, Guacamole, Lettuce]]"
          ],
          [
           "Steak Burrito[[Fresh Tomato Salsa (Mild), Roasted Chili Corn Salsa (Medium)], [Pinto Beans, Rice, Fajita Veggies, Cheese, Sour Cream]]"
          ],
          [
           "Steak Burrito[[Fresh Tomato Salsa (Mild), Roasted Chili Corn Salsa (Medium)], [Black Beans, Rice, Sour Cream, Guacamole, Lettuce]]"
          ],
          [
           "Steak Burrito[[Fresh Tomato Salsa (Mild), Roasted Chili Corn Salsa (Medium)], [Black Beans, Rice, Fajita Veggies, Sour Cream, Lettuce]]"
          ],
          [
           "Barbacoa Burrito[Fresh Tomato Salsa, [Fajita Vegetables, Rice, Black Beans, Cheese, Guacamole, Lettuce]]"
          ],
          [
           "Barbacoa Burrito[Fresh Tomato Salsa, [Fajita Vegetables, Rice, Black Beans, Cheese, Lettuce]]"
          ],
          [
           "Steak Burrito[Tomatillo-Red Chili Salsa (Hot), [Rice, Pinto Beans, Cheese]]"
          ],
          [
           "Barbacoa Burrito[Fresh Tomato Salsa, [Fajita Vegetables, Rice, Black Beans, Sour Cream, Guacamole, Lettuce]]"
          ],
          [
           "Steak Burrito[Tomatillo-Red Chili Salsa (Hot), [Rice, Fajita Veggies, Cheese, Sour Cream, Lettuce]]"
          ],
          [
           "Steak Burrito[Tomatillo-Red Chili Salsa (Hot), [Rice, Cheese]]"
          ],
          [
           "Barbacoa Burrito[Fresh Tomato Salsa, [Fajita Vegetables, Rice, Cheese, Lettuce]]"
          ],
          [
           "Barbacoa Burrito[Fresh Tomato Salsa, [Fajita Vegetables, Rice, Cheese, Sour Cream, Guacamole, Lettuce]]"
          ],
          [
           "Steak Burrito[Tomatillo Red Chili Salsa, [Rice, Lettuce]]"
          ],
          [
           "Steak Burrito[Tomatillo Red Chili Salsa, [Rice, Fajita Vegetables, Pinto Beans, Sour Cream, Lettuce]]"
          ],
          [
           "Steak Soft Tacos[Fresh Tomato Salsa, [Rice, Cheese, Lettuce]]"
          ],
          [
           "Steak Burrito[Tomatillo Green Chili Salsa, [Rice, Pinto Beans, Cheese, Sour Cream, Guacamole]]"
          ],
          [
           "Steak Burrito[Tomatillo Green Chili Salsa, [Rice, Cheese, Sour Cream, Guacamole]]"
          ],
          [
           "Barbacoa Burrito[Roasted Chili Corn Salsa, [Fajita Vegetables, Rice, Cheese, Sour Cream, Guacamole, Lettuce]]"
          ],
          [
           "Barbacoa Burrito[Roasted Chili Corn Salsa, [Fajita Vegetables, Rice, Cheese, Sour Cream, Lettuce]]"
          ],
          [
           "Steak Burrito[Tomatillo Green Chili Salsa, [Rice, Black Beans, Sour Cream, Lettuce]]"
          ],
          [
           "Steak Burrito[Tomatillo Green Chili Salsa, [Rice, Black Beans, Pinto Beans, Cheese, Sour Cream, Guacamole, Lettuce]]"
          ],
          [
           "Steak Burrito[Tomatillo Green Chili Salsa, [Rice, Black Beans, Lettuce]]"
          ],
          [
           "Steak Burrito[Tomatillo Green Chili Salsa, [Rice, Black Beans, Cheese, Sour Cream]]"
          ],
          [
           "Barbacoa Burrito[Roasted Chili Corn Salsa, [Fajita Vegetables, Rice, Pinto Beans, Cheese, Sour Cream, Lettuce]]"
          ],
          [
           "Steak Burrito[Tomatillo Green Chili Salsa, [Rice, Black Beans, Cheese, Guacamole, Lettuce]]"
          ],
          [
           "Steak Burrito[Tomatillo Green Chili Salsa, [Lettuce, Guacamole, Sour Cream, Cheese, Fajita Vegetables, Rice]]"
          ],
          [
           "Barbacoa Burrito[Roasted Chili Corn Salsa, [Fajita Vegetables, Rice, Sour Cream, Guacamole]]"
          ],
          [
           "Barbacoa Burrito[Roasted Chili Corn Salsa, [Fajita Vegetables, Sour Cream, Cheese, Lettuce, Guacamole]]"
          ],
          [
           "Steak Burrito[Tomatillo Green Chili Salsa, [Fajita Vegetables, Rice, Black Beans, Cheese, Lettuce]]"
          ],
          [
           "Steak Burrito[Tomatillo Green Chili Salsa, [Fajita Vegetables, Cheese, Sour Cream, Guacamole, Lettuce, Rice]]"
          ],
          [
           "Steak Burrito[Tomatillo Green Chili Salsa, Cheese]"
          ],
          [
           "Steak Burrito[Roasted Chili Corn Salsa]"
          ],
          [
           "Steak Burrito[Roasted Chili Corn Salsa, [Rice, Sour Cream, Cheese, Guacamole]]"
          ],
          [
           "Steak Burrito[Tomatillo Green Chili Salsa, [Rice, Fajita Vegetables, Black Beans, Cheese]]"
          ],
          [
           "Barbacoa Burrito[Roasted Chili Corn Salsa, [Black Beans, Cheese, Sour Cream]]"
          ],
          [
           "Steak Burrito[Tomatillo Red Chili Salsa, [Rice, Cheese, Sour Cream]]"
          ],
          [
           "Steak Burrito[Tomatillo Green Chili Salsa]"
          ],
          [
           "Steak Burrito[Tomatillo Red Chili Salsa, [Rice, Black Beans]]"
          ],
          [
           "Steak Burrito[Tomatillo Red Chili Salsa, [Rice, Black Beans, Sour Cream, Lettuce]]"
          ],
          [
           "Steak Burrito[Tomatillo Red Chili Salsa, [Rice, Black Beans, Lettuce]]"
          ],
          [
           "Barbacoa Burrito[Fresh Tomato Salsa, [Rice, Pinto Beans, Cheese]]"
          ],
          [
           "Barbacoa Burrito[Fresh Tomato Salsa, [Rice, Pinto Beans, Guacamole, Lettuce]]"
          ],
          [
           "Steak Burrito[Tomatillo Red Chili Salsa, [Rice, Black Beans, Cheese, Lettuce]]"
          ],
          [
           "Barbacoa Burrito[Roasted Chili Corn Salsa (Medium), [Black Beans, Rice, Cheese, Sour Cream]]"
          ],
          [
           "Steak Burrito[Tomatillo Red Chili Salsa, [Fajita Vegetables, Rice, Cheese, Sour Cream]]"
          ],
          [
           "Steak Burrito[Tomatillo Red Chili Salsa, [Fajita Vegetables, Rice, Black Beans, Sour Cream, Guacamole]]"
          ],
          [
           "Steak Burrito[Tomatillo Red Chili Salsa, [Fajita Vegetables, Rice, Black Beans, Pinto Beans, Cheese, Sour Cream, Guacamole, Lettuce]]"
          ],
          [
           "Barbacoa Burrito[Roasted Chili Corn Salsa (Medium), [Black Beans, Rice, Fajita Veggies, Cheese, Lettuce]]"
          ],
          [
           "Steak Burrito[Tomatillo Red Chili Salsa, [Fajita Vegetables, Black Beans, Pinto Beans, Cheese, Sour Cream, Guacamole, Lettuce]]"
          ],
          [
           "Steak Burrito[Tomatillo Red Chili Salsa, [Fajita Vegetables, Black Beans, Cheese, Sour Cream, Guacamole]]"
          ],
          [
           "Steak Burrito[Tomatillo Red Chili Salsa, [Cheese, Sour Cream]]"
          ],
          [
           "Steak Burrito[Tomatillo Red Chili Salsa, Sour Cream]"
          ],
          [
           "Steak Burrito[Tomatillo Red Chili (Hot), [Lettuce, Rice, Sour Cream, Cheese]]"
          ],
          [
           "Carnitas Bowl[Fresh Tomato Salsa, [Rice, Cheese, Sour Cream, Guacamole, Lettuce]]"
          ],
          [
           "Steak Burrito[[Fresh Tomato Salsa (Mild), Tomatillo-Red Chili Salsa (Hot)], [Rice, Cheese, Sour Cream, Guacamole]]"
          ],
          [
           "Steak Burrito[[Fresh Tomato Salsa (Mild), Tomatillo-Red Chili Salsa (Hot)], [Rice, Cheese, Sour Cream, Lettuce]]"
          ],
          [
           "Barbacoa Burrito[Fresh Tomato Salsa (Mild), [Black Beans, Rice, Cheese, Sour Cream, Guacamole, Lettuce]]"
          ],
          [
           "Steak Salad Bowl[Roasted Chili Corn Salsa, [Fajita Vegetables, Rice, Black Beans, Cheese, Sour Cream, Guacamole, Lettuce]]"
          ],
          [
           "Steak Salad Bowl[Roasted Chili Corn Salsa, [Fajita Vegetables, Cheese, Lettuce]]"
          ],
          [
           "Steak Salad Bowl[Fresh Tomato Salsa, [Rice, Pinto Beans, Cheese, Sour Cream, Guacamole, Lettuce]]"
          ],
          [
           "Steak Salad Bowl[Fresh Tomato Salsa, [Rice, Fajita Vegetables, Sour Cream, Cheese, Lettuce, Guacamole]]"
          ],
          [
           "Steak Salad Bowl[Fresh Tomato Salsa, [Rice, Black Beans, Cheese, Guacamole]]"
          ],
          [
           "Steak Salad Bowl[Fresh Tomato Salsa, [Pinto Beans, Cheese, Guacamole, Lettuce]]"
          ],
          [
           "Steak Salad Bowl[Fresh Tomato Salsa, [Fajita Vegetables, Sour Cream, Cheese, Lettuce, Guacamole]]"
          ],
          [
           "Steak Salad Bowl[Fresh Tomato Salsa, [Fajita Vegetables, Rice, Cheese, Sour Cream, Guacamole, Lettuce]]"
          ],
          [
           "Steak Salad Bowl[Fresh Tomato Salsa, [Fajita Vegetables, Rice, Black Beans, Cheese, Sour Cream, Guacamole]]"
          ],
          [
           "Steak Salad Bowl[Fresh Tomato Salsa, [Fajita Vegetables, Guacamole]]"
          ],
          [
           "Steak Salad Bowl[Fresh Tomato Salsa, [Fajita Vegetables, Cheese, Sour Cream]]"
          ],
          [
           "Steak Salad Bowl[Fresh Tomato Salsa, [Fajita Vegetables, Black Beans, Cheese, Sour Cream, Guacamole]]"
          ],
          [
           "Steak Salad Bowl[Fresh Tomato Salsa, [Cheese, Guacamole, Lettuce]]"
          ],
          [
           "Steak Salad Bowl[Fresh Tomato Salsa, [Black Beans, Sour Cream, Cheese, Lettuce]]"
          ],
          [
           "Steak Salad Bowl[Fresh Tomato Salsa, [Black Beans, Pinto Beans, Cheese]]"
          ],
          [
           "Steak Salad Bowl[Fresh Tomato Salsa, [Black Beans, Cheese, Guacamole, Lettuce]]"
          ],
          [
           "Steak Salad Bowl[Fresh Tomato Salsa, Lettuce]"
          ],
          [
           "Steak Crispy Tacos[[Roasted Chili Corn Salsa (Medium), Tomatillo-Green Chili Salsa (Medium)], [Rice, Black Beans, Cheese, Sour Cream]]"
          ],
          [
           "Steak Salad Bowl[Roasted Chili Corn Salsa, [Fajita Vegetables, Cheese]]"
          ],
          [
           "Steak Salad Bowl[Roasted Chili Corn Salsa, [Fajita Vegetables, Rice, Black Beans, Cheese, Sour Cream, Lettuce]]"
          ],
          [
           "Barbacoa Burrito[Fresh Tomato (Mild), [Guacamole, Rice, Black Beans]]"
          ],
          [
           "Steak Salad Bowl[Roasted Chili Corn Salsa, [Fajita Vegetables, Rice, Black Beans, Guacamole]]"
          ],
          [
           "Steak Soft Tacos[Fresh Tomato Salsa, [Fajita Vegetables, Rice, Cheese, Sour Cream, Lettuce]]"
          ],
          [
           "Steak Soft Tacos[Fresh Tomato Salsa, [Fajita Vegetables, Black Beans]]"
          ],
          [
           "Barbacoa Bowl[Tomatillo Red Chili Salsa, [Rice, Fajita Vegetables, Black Beans, Sour Cream, Cheese, Lettuce, Guacamole]]"
          ],
          [
           "Steak Soft Tacos[Fresh Tomato Salsa, [Cheese, Sour Cream, Lettuce]]"
          ],
          [
           "Barbacoa Bowl[Tomatillo Red Chili Salsa, [Rice, Fajita Vegetables, Black Beans, Sour Cream, Cheese]]"
          ],
          [
           "Steak Soft Tacos[Fresh Tomato Salsa, Sour Cream]"
          ],
          [
           "Steak Soft Tacos[Fresh Tomato Salsa, Guacamole]"
          ],
          [
           "Steak Soft Tacos[Fresh Tomato Salsa, Cheese]"
          ],
          [
           "Steak Soft Tacos[Fresh Tomato Salsa (Mild), [Cheese, Sour Cream]]"
          ],
          [
           "Steak Salad[[Lettuce, Fajita Veggies]]"
          ],
          [
           "Barbacoa Bowl[Tomatillo Red Chili Salsa, [Rice, Pinto Beans, Cheese, Lettuce]]"
          ],
          [
           "Steak Salad[Fresh Tomato Salsa (Mild), [Rice, Cheese, Sour Cream, Lettuce]]"
          ],
          [
           "Steak Salad Bowl[Tomatillo Red Chili Salsa, [Rice, Black Beans, Cheese, Sour Cream, Guacamole, Lettuce]]"
          ],
          [
           "Steak Salad Bowl[Roasted Chili Corn Salsa, [Rice, Cheese, Lettuce, Guacamole]]"
          ],
          [
           "Steak Salad Bowl[Roasted Chili Corn Salsa, [Rice, Black Beans, Pinto Beans, Cheese, Sour Cream, Lettuce]]"
          ],
          [
           "Steak Salad Bowl[Roasted Chili Corn Salsa, [Fajita Vegetables, Rice, Pinto Beans, Cheese, Sour Cream, Guacamole, Lettuce]]"
          ],
          [
           "Steak Salad Bowl[Roasted Chili Corn Salsa, [Fajita Vegetables, Rice, Cheese, Guacamole, Lettuce]]"
          ],
          [
           "Steak Crispy Tacos[Tomatillo-Red Chili Salsa (Hot), [Rice, Cheese, Sour Cream, Lettuce]]"
          ],
          [
           "Barbacoa Bowl[[Rice, Cheese]]"
          ],
          [
           "Steak Crispy Tacos[Tomatillo-Red Chili Salsa (Hot), [Cheese, Lettuce]]"
          ],
          [
           "Steak Crispy Tacos[Tomatillo-Green Chili Salsa (Medium), Pinto Beans]"
          ],
          [
           "Steak Crispy Tacos[Fresh Tomato Salsa (Mild), [Rice, Cheese]]"
          ],
          [
           "Steak Crispy Tacos[Fresh Tomato Salsa (Mild), [Cheese, Sour Cream, Lettuce]]"
          ],
          [
           "Steak Crispy Tacos[Fresh Tomato (Mild), [Lettuce, Cheese]]"
          ],
          [
           "Barbacoa Bowl[[Tomatillo-Green Chili Salsa (Medium), Tomatillo-Red Chili Salsa (Hot)], [Black Beans, Rice, Cheese, Lettuce]]"
          ],
          [
           "Steak Burrito[[Tomatillo-Green Chili Salsa (Medium), Roasted Chili Corn Salsa (Medium), Tomatillo-Red Chili Salsa (Hot)], [Pinto Beans, Rice, Fajita Veggies, Cheese, Sour Cream, Lettuce]]"
          ],
          [
           "Barbacoa Bowl[[Tomatillo-Red Chili Salsa (Hot), Tomatillo-Green Chili Salsa (Medium)], [Rice, Pinto Beans, Fajita Veggies, Cheese, Sour Cream, Lettuce]]"
          ],
          [
           "Steak Burrito[[Roasted Chili Corn Salsa (Medium), Tomatillo-Red Chili Salsa (Hot)], [Pinto Beans, Rice, Fajita Veggies, Cheese, Sour Cream, Lettuce]]"
          ],
          [
           "Barbacoa Bowl[[Tomatillo-Red Chili Salsa (Hot), Tomatillo-Green Chili Salsa (Medium)], [Rice, Pinto Beans, Fajita Veggies, Lettuce]]"
          ],
          [
           "Steak Burrito[[Roasted Chili Corn Salsa (Medium), Tomatillo-Red Chili Salsa (Hot), Fresh Tomato Salsa (Mild)], [Rice, Pinto Beans, Fajita Veggies, Cheese, Sour Cream, Lettuce]]"
          ],
          [
           "Steak Burrito[[Roasted Chili Corn Salsa (Medium), Tomatillo-Red Chili Salsa (Hot), Fresh Tomato Salsa (Mild)], [Rice, Black Beans, Pinto Beans, Cheese, Sour Cream, Lettuce]]"
          ],
          [
           "Barbacoa Burrito[Fresh Tomato (Mild), [Black Beans, Rice, Sour Cream, Cheese]]"
          ],
          [
           "Steak Burrito[[Roasted Chili Corn Salsa (Medium), Tomatillo-Green Chili Salsa (Medium)], [Rice, Black Beans, Sour Cream, Guacamole]]"
          ],
          [
           "Steak Burrito[[Roasted Chili Corn Salsa (Medium), Tomatillo-Green Chili Salsa (Medium)], [Rice, Black Beans, Pinto Beans, Fajita Veggies, Cheese, Sour Cream, Lettuce]]"
          ],
          [
           "Steak Burrito[[Roasted Chili Corn Salsa (Medium), Fresh Tomato Salsa (Mild)], [Rice, Pinto Beans, Cheese, Sour Cream, Guacamole, Lettuce]]"
          ],
          [
           "Steak Burrito[[Roasted Chili Corn Salsa (Medium), Fresh Tomato Salsa (Mild)], [Rice, Black Beans, Sour Cream]]"
          ],
          [
           "Steak Burrito[[Roasted Chili Corn Salsa (Medium), Fresh Tomato Salsa (Mild)], [Rice, Black Beans, Cheese, Lettuce]]"
          ],
          [
           "Steak Burrito[[Roasted Chili Corn Salsa (Medium), Fresh Tomato Salsa (Mild)], [Lettuce, Black Beans, Sour Cream, Cheese, Rice, Fajita Veggies, Pinto Beans]]"
          ],
          [
           "Steak Crispy Tacos[Fresh Tomato Salsa, Guacamole]"
          ],
          [
           "Steak Crispy Tacos[Fresh Tomato Salsa, Lettuce]"
          ],
          [
           "Steak Crispy Tacos[Fresh Tomato Salsa, Sour Cream]"
          ],
          [
           "Barbacoa Bowl[[Tomatillo-Green Chili Salsa (Medium), Roasted Chili Corn Salsa (Medium)], [Black Beans, Rice, Cheese, Guacamole]]"
          ],
          [
           "Steak Crispy Tacos[Tomatillo Red Chili Salsa, [Rice, Pinto Beans, Sour Cream, Cheese, Lettuce]]"
          ],
          [
           "Steak Crispy Tacos[Tomatillo Red Chili Salsa, [Fajita Vegetables, Rice, Cheese, Sour Cream, Lettuce]]"
          ],
          [
           "Steak Crispy Tacos[Tomatillo Red Chili Salsa, [Cheese, Sour Cream]]"
          ],
          [
           "Steak Crispy Tacos[Tomatillo Red Chili Salsa, Rice]"
          ],
          [
           "Steak Crispy Tacos[Tomatillo Green Chili Salsa, [Fajita Vegetables, Cheese, Lettuce]]"
          ],
          [
           "Barbacoa Bowl[[Roasted Chili Corn Salsa (Medium), Tomatillo-Red Chili Salsa (Hot)], [Pinto Beans, Rice, Fajita Veggies]]"
          ],
          [
           "Steak Crispy Tacos[Roasted Chili Corn Salsa, [Sour Cream, Cheese, Lettuce, Guacamole]]"
          ],
          [
           "Steak Crispy Tacos[Roasted Chili Corn Salsa, [Cheese, Sour Cream, Lettuce]]"
          ],
          [
           "Steak Crispy Tacos[Fresh Tomato Salsa, [Black Beans, Cheese, Sour Cream, Lettuce]]"
          ],
          [
           "Steak Crispy Tacos[Roasted Chili Corn Salsa (Medium), [Rice, Cheese, Lettuce]]"
          ],
          [
           "Steak Crispy Tacos[Fresh Tomato Salsa]"
          ],
          [
           "Steak Crispy Tacos[Fresh Tomato Salsa, [Sour Cream, Lettuce, Rice, Cheese]]"
          ],
          [
           "Steak Crispy Tacos[Fresh Tomato Salsa, [Sour Cream, Cheese, Lettuce, Guacamole]]"
          ],
          [
           "Barbacoa Bowl[[Tomatillo-Green Chili Salsa (Medium), Roasted Chili Corn Salsa (Medium)], [Rice, Fajita Veggies, Guacamole, Lettuce]]"
          ],
          [
           "Steak Crispy Tacos[Fresh Tomato Salsa, [Cheese, Lettuce]]"
          ],
          [
           "Steak Crispy Tacos[Fresh Tomato Salsa, [Cheese, Guacamole]]"
          ],
          [
           "Carnitas Bowl[Fresh Tomato Salsa, [Rice, Black Beans, Pinto Beans, Cheese, Sour Cream, Guacamole, Lettuce]]"
          ],
          [
           "Carnitas Bowl[Roasted Chili Corn Salsa (Medium), [Rice, Cheese, Sour Cream, Lettuce]]"
          ],
          [
           "Carnitas Bowl[Fresh Tomato Salsa, [Rice, Fajita Vegetables, Black Beans, Lettuce, Guacamole]]"
          ],
          [
           "Chicken Burrito[Fresh Tomato Salsa, [Fajita Vegetables, Rice, Cheese, Sour Cream, Guacamole, Lettuce]]"
          ],
          [
           "Chicken Burrito[Fresh Tomato Salsa, [Guacamole, Cheese, Rice, Sour Cream, Fajita Vegetables, Lettuce]]"
          ],
          [
           "Chicken Burrito[Fresh Tomato Salsa, [Fajita Vegetables, Sour Cream, Cheese, Guacamole]]"
          ],
          [
           "Chicken Bowl[Fresh Tomato Salsa (Mild), [Rice, Black Beans, Sour Cream, Guacamole]]"
          ],
          [
           "Chicken Bowl[Fresh Tomato Salsa (Mild), [Rice, Cheese, Sour Cream, Lettuce]]"
          ],
          [
           "Chicken Burrito[Fresh Tomato Salsa, [Fajita Vegetables, Rice, Pinto Beans, Cheese, Sour Cream, Guacamole, Lettuce]]"
          ],
          [
           "Chicken Bowl[Fresh Tomato Salsa (Mild), [Rice, Fajita Veggies, Cheese, Lettuce]]"
          ],
          [
           "Chicken Burrito[Fresh Tomato Salsa, [Fajita Vegetables, Rice, Cheese, Sour Cream]]"
          ],
          [
           "Chicken Burrito[Fresh Tomato Salsa, [Fajita Vegetables, Rice, Cheese, Sour Cream, Lettuce]]"
          ],
          [
           "Chicken Burrito[Fresh Tomato Salsa, [Fajita Vegetables, Rice, Cheese, Guacamole]]"
          ],
          [
           "Chicken Bowl[Fresh Tomato (Mild), [Lettuce, Fajita Veggies, Black Beans, Rice, Sour Cream, Cheese]]"
          ],
          [
           "Chicken Burrito[Fresh Tomato Salsa, [Fajita Vegetables, Rice, Black Beans, Pinto Beans, Guacamole, Lettuce]]"
          ],
          [
           "Chicken Bowl[Fresh Tomato Salsa (Mild), [Rice, Fajita Veggies, Cheese, Sour Cream, Lettuce]]"
          ],
          [
           "Chicken Burrito[Fresh Tomato Salsa, [Fajita Vegetables, Rice, Black Beans, Pinto Beans, Cheese, Lettuce]]"
          ],
          [
           "Chicken Bowl[Fresh Tomato Salsa (Mild), [Rice, Fajita Veggies, Sour Cream, Guacamole]]"
          ],
          [
           "Chicken Bowl[Fresh Tomato Salsa (Mild), [Rice, Pinto Beans, Cheese, Guacamole, Lettuce]]"
          ],
          [
           "Chicken Bowl[Fresh Tomato Salsa, Rice]"
          ],
          [
           "Chicken Bowl[Fresh Tomato Salsa, [Black Beans, Cheese, Guacamole, Lettuce]]"
          ],
          [
           "Chicken Burrito[Fresh Tomato Salsa, [Fajita Vegetables, Pinto Beans, Cheese, Guacamole]]"
          ],
          [
           "Chicken Burrito[Fresh Tomato Salsa, [Guacamole, Lettuce, Sour Cream, Fajita Vegetables, Cheese, Rice]]"
          ],
          [
           "Chicken Burrito[Fresh Tomato Salsa, [Lettuce, Guacamole, Rice, Cheese, Fajita Vegetables, Sour Cream]]"
          ],
          [
           "Chicken Burrito[Fresh Tomato Salsa, [Pinto Beans, Cheese, Sour Cream]]"
          ],
          [
           "Chicken Bowl[Fresh Tomato Salsa (Mild), [Pinto Beans, Rice, Sour Cream, Guacamole]]"
          ],
          [
           "Chicken Bowl[Fresh Tomato (Mild), [Rice, Sour Cream, Cheese]]"
          ],
          [
           "Chicken Bowl[Fresh Tomato Salsa (Mild), Cheese]"
          ],
          [
           "Chicken Bowl[Fresh Tomato Salsa (Mild), Lettuce]"
          ],
          [
           "Chicken Burrito[Fresh Tomato Salsa, [Rice, Cheese, Guacamole, Lettuce]]"
          ],
          [
           "Chicken Bowl[Fresh Tomato Salsa (Mild), [Black Beans, Rice, Cheese, Sour Cream, Guacamole, Lettuce]]"
          ],
          [
           "Chicken Bowl[Fresh Tomato Salsa (Mild), [Black Beans, Rice, Cheese, Sour Cream, Lettuce]]"
          ],
          [
           "Chicken Bowl[Fresh Tomato Salsa (Mild), [Black Beans, Rice, Fajita Veggies, Cheese, Sour Cream, Guacamole, Lettuce]]"
          ],
          [
           "Chicken Bowl[Fresh Tomato Salsa (Mild), [Black Beans, Rice, Fajita Veggies, Guacamole, Lettuce]]"
          ],
          [
           "Chicken Burrito[Fresh Tomato Salsa, [Rice, Black Beans, Sour Cream, Cheese, Lettuce, Guacamole]]"
          ],
          [
           "Chicken Burrito[Fresh Tomato Salsa, [Rice, Black Beans, Sour Cream, Cheese, Guacamole]]"
          ],
          [
           "Chicken Burrito[Fresh Tomato Salsa, [Rice, Black Beans, Pinto Beans, Cheese, Guacamole, Lettuce]]"
          ],
          [
           "Chicken Burrito[Fresh Tomato Salsa, [Rice, Black Beans, Lettuce, Cheese]]"
          ],
          [
           "Chicken Bowl[Fresh Tomato Salsa (Mild), [Pinto Beans, Rice, Cheese, Sour Cream, Guacamole, Lettuce]]"
          ],
          [
           "Chicken Bowl[Fresh Tomato Salsa (Mild), [Pinto Beans, Rice, Cheese, Sour Cream, Lettuce]]"
          ],
          [
           "Chicken Bowl[Fresh Tomato Salsa (Mild), [Pinto Beans, Rice, Cheese, Sour Cream]]"
          ],
          [
           "Chicken Bowl[Fresh Tomato Salsa (Mild), [Pinto Beans, Rice, Fajita Veggies, Cheese, Sour Cream, Guacamole, Lettuce]]"
          ],
          [
           "Chicken Burrito[Fresh Tomato Salsa, [Rice, Black Beans, Cheese, Lettuce, Guacamole]]"
          ],
          [
           "Chicken Burrito[Fresh Tomato Salsa, [Fajita Vegetables, Cheese, Lettuce]]"
          ],
          [
           "Chicken Burrito[Fresh Tomato Salsa, [Cheese, Sour Cream]]"
          ],
          [
           "Chicken Bowl[Fresh Tomato Salsa, [Black Beans, Rice, Sour Cream, Cheese, Guacamole, Lettuce]]"
          ],
          [
           "Chicken Bowl[Fresh Tomato Salsa, [Fajita Vegetables, Rice, Black Beans, Pinto Beans, Cheese, Sour Cream]]"
          ],
          [
           "Chicken Burrito[Fresh Tomato Salsa (Mild), [Black Beans, Rice, Cheese, Sour Cream]]"
          ],
          [
           "Chicken Burrito[Fresh Tomato Salsa (Mild), [Black Beans, Rice, Cheese, Sour Cream, Guacamole]]"
          ],
          [
           "Chicken Burrito[Fresh Tomato Salsa (Mild), [Black Beans, Rice, Cheese, Sour Cream, Guacamole, Lettuce]]"
          ],
          [
           "Chicken Burrito[Fresh Tomato (Mild), [Lettuce, Rice, Fajita Veggies, Sour Cream, Cheese]]"
          ],
          [
           "Chicken Burrito[Fresh Tomato (Mild), [Guacamole, Rice, Sour Cream, Cheese]]"
          ],
          [
           "Chicken Burrito[Fresh Tomato (Mild), [Guacamole, Rice, Fajita Veggies, Sour Cream, Cheese]]"
          ],
          [
           "Chicken Burrito[Fresh Tomato (Mild), [Guacamole, Lettuce, Rice, Fajita Veggies, Sour Cream, Cheese]]"
          ],
          [
           "Chicken Burrito[Fresh Tomato (Mild), [Guacamole, Lettuce, Rice, Fajita Veggies, Cheese]]"
          ],
          [
           "Chicken Burrito[Fresh Tomato (Mild), [Black Beans, Rice, Sour Cream, Cheese]]"
          ],
          [
           "Chicken Bowl[[Tomatillo-Red Chili Salsa (Hot), Tomatillo-Green Chili Salsa (Medium)], [Rice, Black Beans, Lettuce]]"
          ],
          [
           "Chicken Bowl[[Tomatillo-Red Chili Salsa (Hot), Tomatillo-Green Chili Salsa (Medium)], [Rice, Black Beans, Cheese, Lettuce]]"
          ],
          [
           "Chicken Bowl[[Tomatillo-Green Chili Salsa (Medium), Tomatillo-Red Chili Salsa (Hot)], [Pinto Beans, Rice, Fajita Veggies, Cheese, Sour Cream, Guacamole]]"
          ],
          [
           "Chicken Bowl[[Tomatillo-Green Chili Salsa (Medium), Roasted Chili Corn Salsa (Medium)], [Rice, Fajita Veggies, Guacamole, Lettuce]]"
          ],
          [
           "Chicken Bowl[[Tomatillo-Green Chili Salsa (Medium), Roasted Chili Corn Salsa (Medium)], [Black Beans, Rice, Fajita Veggies, Cheese, Sour Cream, Lettuce]]"
          ],
          [
           "Chicken Bowl[[Tomatillo-Green Chili Salsa (Medium), Roasted Chili Corn Salsa (Medium)], [Black Beans, Rice, Fajita Veggies, Cheese, Sour Cream, Guacamole]]"
          ],
          [
           "Chicken Bowl[[Tomatillo-Green Chili Salsa (Medium), Roasted Chili Corn Salsa (Medium)], [Black Beans, Rice, Cheese, Sour Cream, Lettuce]]"
          ],
          [
           "Chicken Bowl[[Roasted Chili Corn Salsa (Medium), Tomatillo-Red Chili Salsa (Hot)], [Pinto Beans, Rice, Fajita Veggies]]"
          ],
          [
           "Chicken Burrito[Fresh Tomato Salsa (Mild), [Black Beans, Rice, Cheese]]"
          ],
          [
           "Chicken Bowl[Fresh Tomato Salsa, [Fajita Vegetables, Rice, Black Beans, Pinto Beans, Cheese, Sour Cream, Guacamole]]"
          ],
          [
           "Chicken Burrito[Fresh Tomato Salsa, [Cheese, Lettuce]]"
          ],
          [
           "Chicken Burrito[Fresh Tomato Salsa (Mild), [Fajita Veggies, Cheese, Sour Cream, Lettuce]]"
          ],
          [
           "Chicken Burrito[Fresh Tomato Salsa, [Black Beans, Pinto Beans, Cheese, Guacamole, Lettuce]]"
          ],
          [
           "Chicken Burrito[Fresh Tomato Salsa, [Black Beans, Cheese, Sour Cream]]"
          ],
          [
           "Chicken Burrito[Fresh Tomato Salsa, [Black Beans, Cheese, Guacamole, Lettuce]]"
          ],
          [
           "Chicken Bowl[Fresh Tomato Salsa, [Cheese, Black Beans, Rice]]"
          ],
          [
           "Chicken Burrito[Fresh Tomato Salsa, Cheese]"
          ],
          [
           "Chicken Bowl[Fresh Tomato Salsa, [Cheese, Guacamole, Sour Cream, Fajita Vegetables, Rice]]"
          ],
          [
           "Chicken Bowl[Fresh Tomato Salsa, [Cheese, Rice, Black Beans]]"
          ],
          [
           "Chicken Bowl[Fresh Tomato Salsa, [Fajita Vegetables, Black Beans, Pinto Beans, Guacamole, Lettuce]]"
          ],
          [
           "Chicken Burrito[Fresh Tomato Salsa (Mild), [Rice, Fajita Veggies, Cheese, Lettuce]]"
          ],
          [
           "Chicken Bowl[Fresh Tomato Salsa, [Fajita Vegetables, Pinto Beans, Guacamole, Lettuce]]"
          ],
          [
           "Chicken Bowl[Fresh Tomato Salsa, [Fajita Vegetables, Rice, Black Beans, Cheese, Guacamole]]"
          ],
          [
           "Chicken Burrito[Fresh Tomato Salsa (Mild), [Rice, Black Beans, Fajita Veggies, Cheese, Guacamole, Lettuce]]"
          ],
          [
           "Chicken Burrito[Fresh Tomato Salsa (Mild), [Pinto Beans, Rice, Sour Cream]]"
          ],
          [
           "Chicken Burrito[Fresh Tomato Salsa (Mild), [Pinto Beans, Rice, Fajita Veggies, Cheese, Sour Cream, Lettuce]]"
          ],
          [
           "Chicken Burrito[Fresh Tomato Salsa (Mild), [Pinto Beans, Rice, Fajita Veggies, Cheese, Sour Cream, Guacamole, Lettuce]]"
          ],
          [
           "Chicken Burrito[Fresh Tomato Salsa (Mild), [Pinto Beans, Cheese, Sour Cream, Lettuce]]"
          ],
          [
           "Chicken Burrito[Fresh Tomato Salsa (Mild), [Fajita Veggies, Guacamole, Lettuce]]"
          ],
          [
           "Chicken Bowl[Fresh Tomato (Mild), [Lettuce, Fajita Veggies, Pinto Beans, Rice, Sour Cream, Cheese]]"
          ],
          [
           "Chicken Burrito[Fresh Tomato Salsa, [Rice, Cheese]]"
          ],
          [
           "Chicken Bowl[[Roasted Chili Corn Salsa (Medium), Tomatillo-Red Chili Salsa (Hot)], [Pinto Beans, Rice, Fajita Veggies, Cheese, Lettuce]]"
          ],
          [
           "Chicken Burrito[Roasted Chili Corn Salsa, [Fajita Vegetables, Rice, Pinto Beans, Guacamole, Lettuce]]"
          ],
          [
           "Chicken Burrito[Roasted Chili Corn Salsa, [Rice, Black Beans, Cheese, Sour Cream, Guacamole, Lettuce]]"
          ],
          [
           "Chicken Burrito[Roasted Chili Corn Salsa, [Rice, Black Beans, Cheese, Lettuce]]"
          ],
          [
           "Carnitas Soft Tacos[Fresh Tomato Salsa (Mild), [Rice, Pinto Beans, Cheese, Sour Cream]]"
          ],
          [
           "Chicken Burrito[Roasted Chili Corn Salsa, [Pinto Beans, Cheese, Sour Cream]]"
          ],
          [
           "Chicken Burrito[Roasted Chili Corn Salsa, [Guacamole, Sour Cream, Rice, Fajita Vegetables, Lettuce]]"
          ],
          [
           "Carnitas Soft Tacos[Fresh Tomato Salsa, [Cheese, Sour Cream, Lettuce]]"
          ],
          [
           "Chicken Burrito[Roasted Chili Corn Salsa, [Fajita Vegetables, Rice, Sour Cream, Guacamole]]"
          ],
          [
           "Carnitas Soft Tacos[Fresh Tomato Salsa, [Fajita Vegetables, Black Beans, Cheese]]"
          ],
          [
           "Carnitas Soft Tacos[Fresh Tomato Salsa, [Fajita Vegetables, Rice, Pinto Beans, Cheese, Sour Cream, Lettuce]]"
          ],
          [
           "Chicken Bowl[Fresh Tomato (Mild), [Guacamole, Rice]]"
          ],
          [
           "Chicken Burrito[Roasted Chili Corn Salsa, [Fajita Vegetables, Rice, Cheese, Lettuce]]"
          ],
          [
           "Chicken Burrito[Roasted Chili Corn Salsa, [Fajita Vegetables, Rice, Black Beans, Pinto Beans, Guacamole, Lettuce]]"
          ],
          [
           "Chicken Burrito[Roasted Chili Corn Salsa, [Fajita Vegetables, Rice, Black Beans, Pinto Beans, Cheese, Sour Cream, Lettuce]]"
          ],
          [
           "Chicken Burrito[Roasted Chili Corn Salsa, [Fajita Vegetables, Rice, Black Beans, Pinto Beans, Cheese, Lettuce]]"
          ],
          [
           "Chicken Burrito[Roasted Chili Corn Salsa, [Fajita Vegetables, Rice, Black Beans, Guacamole]]"
          ],
          [
           "Chicken Burrito[Roasted Chili Corn Salsa, [Fajita Vegetables, Rice, Black Beans, Cheese]]"
          ],
          [
           "Chicken Burrito[Roasted Chili Corn Salsa, [Fajita Vegetables, Rice, Black Beans, Cheese, Sour Cream]]"
          ],
          [
           "Chicken Burrito[Roasted Chili Corn Salsa, [Fajita Vegetables, Rice, Black Beans, Cheese, Sour Cream, Lettuce]]"
          ],
          [
           "Carnitas Soft Tacos[Fresh Tomato Salsa (Mild), [Rice, Fajita Veggies, Cheese, Lettuce, Black Beans]]"
          ],
          [
           "Carnitas Soft Tacos[Fresh Tomato Salsa (Mild), [Rice, Cheese, Lettuce]]"
          ],
          [
           "Carnitas Soft Tacos[Fresh Tomato Salsa (Mild), [Black Beans, Rice, Fajita Veggies, Cheese, Lettuce]]"
          ],
          [
           "Chicken Burrito[Roasted Chili Corn Salsa, [Rice, Black Beans, Lettuce]]"
          ],
          [
           "Chicken Burrito[Roasted Chili Corn Salsa, [Rice, Pinto Beans, Sour Cream, Cheese, Guacamole]]"
          ],
          [
           "Chicken Burrito[Roasted Chili Corn Salsa, [Rice, Pinto Beans, Cheese]]"
          ],
          [
           "Chicken Burrito[Roasted Chili Corn Salsa, [Rice, Pinto Beans, Cheese, Sour Cream]]"
          ],
          [
           "Chicken Burrito[Roasted Chili Corn Salsa, [Rice, Pinto Beans, Cheese, Sour Cream, Lettuce]]"
          ],
          [
           "Carnitas Salad Bowl[Roasted Chili Corn Salsa, [Fajita Vegetables, Rice, Pinto Beans, Cheese, Sour Cream, Guacamole, Lettuce]]"
          ],
          [
           "Chicken Burrito[Roasted Chili Corn Salsa, [Rice, Pinto Beans, Cheese, Sour Cream, Guacamole, Lettuce]]"
          ],
          [
           "Chicken Burrito[Roasted Chili Corn Salsa, [Rice, Pinto Beans, Cheese, Lettuce]]"
          ],
          [
           "Chicken Burrito[Roasted Chili Corn Salsa, [Rice, Fajita Vegetables]]"
          ],
          [
           "Chicken Burrito[Roasted Chili Corn Salsa, [Rice, Fajita Vegetables, Sour Cream, Cheese, Lettuce]]"
          ],
          [
           "Chicken Burrito[Roasted Chili Corn Salsa, [Rice, Fajita Vegetables, Cheese]]"
          ],
          [
           "Chicken Burrito[Roasted Chili Corn Salsa, [Rice, Fajita Vegetables, Black Beans, Sour Cream, Cheese, Lettuce]]"
          ],
          [
           "Chicken Burrito[Roasted Chili Corn Salsa, [Rice, Fajita Vegetables, Black Beans, Sour Cream, Cheese, Lettuce, Guacamole]]"
          ],
          [
           "Chicken Burrito[Roasted Chili Corn Salsa, [Rice, Fajita Vegetables, Black Beans, Cheese, Lettuce, Guacamole]]"
          ],
          [
           "Carnitas Salad Bowl[Tomatillo Green Chili Salsa, [Black Beans, Cheese, Guacamole]]"
          ],
          [
           "Carnitas Salad Bowl[Tomatillo Green Chili Salsa, [Rice, Pinto Beans, Cheese, Sour Cream, Lettuce]]"
          ],
          [
           "Chicken Burrito[Roasted Chili Corn Salsa, [Rice, Black Beans, Sour Cream, Lettuce]]"
          ],
          [
           "Carnitas Salad[[Fresh Tomato Salsa (Mild), Roasted Chili Corn Salsa (Medium)], [Black Beans, Rice, Cheese, Sour Cream]]"
          ],
          [
           "Chicken Burrito[Roasted Chili Corn Salsa, [Fajita Vegetables, Rice, Black Beans, Cheese, Sour Cream, Guacamole]]"
          ],
          [
           "Carnitas Soft Tacos[Fresh Tomato Salsa, [Rice, Black Beans, Cheese, Sour Cream, Lettuce]]"
          ],
          [
           "Chicken Burrito[Roasted Chili Corn Salsa, [Fajita Vegetables, Pinto Beans, Sour Cream, Cheese]]"
          ],
          [
           "Chicken Burrito[Fresh Tomato Salsa, [Sour Cream, Cheese, Rice, Black Beans]]"
          ],
          [
           "Chicken Burrito[Fresh Tomato Salsa, [Sour Cream, Cheese, Lettuce, Guacamole]]"
          ],
          [
           "Chicken Burrito[Fresh Tomato Salsa, [Sour Cream, Cheese, Guacamole, Rice]]"
          ],
          [
           "Chicken Burrito[Fresh Tomato Salsa, [Rice, Sour Cream, Guacamole]]"
          ],
          [
           "Chicken Burrito[Fresh Tomato Salsa, [Rice, Sour Cream, Cheese]]"
          ],
          [
           "Chicken Burrito[Fresh Tomato Salsa, [Rice, Sour Cream, Cheese, Lettuce]]"
          ],
          [
           "Carnitas Soft Tacos[Tomatillo Green Chili Salsa, [Fajita Vegetables, Pinto Beans, Cheese]]"
          ],
          [
           "Carnitas Soft Tacos[Tomatillo Green Chili Salsa]"
          ],
          [
           "Chicken Burrito[Fresh Tomato Salsa, [Rice, Pinto Beans, Lettuce]]"
          ],
          [
           "Chicken Burrito[Fresh Tomato Salsa, [Rice, Pinto Beans, Cheese]]"
          ],
          [
           "Carnitas Soft Tacos[Tomatillo Red Chili Salsa, [Cheese, Sour Cream, Lettuce]]"
          ],
          [
           "Carnitas Soft Tacos[Tomatillo Red Chili Salsa, [Fajita Vegetables, Rice, Black Beans, Cheese, Sour Cream, Lettuce]]"
          ],
          [
           "Chicken Burrito[Fresh Tomato Salsa, [Rice, Pinto Beans, Cheese, Sour Cream, Guacamole]]"
          ],
          [
           "Carnitas Soft Tacos[Tomatillo Red Chili Salsa, [Rice, Black Beans, Cheese, Sour Cream, Guacamole, Lettuce]]"
          ],
          [
           "Carnitas Soft Tacos[Tomatillo Red Chili Salsa, [Rice, Lettuce]]"
          ],
          [
           "Carnitas Soft Tacos[Tomatillo-Red Chili Salsa (Hot), [Cheese, Sour Cream, Lettuce]]"
          ],
          [
           "Chicken Burrito[Fresh Tomato Salsa, [Rice, Fajita Vegetables]]"
          ],
          [
           "Chicken Burrito[Fresh Tomato Salsa, [Rice, Fajita Vegetables, Sour Cream, Cheese, Lettuce]]"
          ],
          [
           "Carnitas Soft Tacos[Tomatillo Green Chili Salsa, [Cheese, Sour Cream, Lettuce]]"
          ],
          [
           "Chicken Burrito[Rice]"
          ],
          [
           "Chicken Burrito[Roasted Chili Corn Salsa, Fajita Vegetables]"
          ],
          [
           "Chicken Burrito[Roasted Chili Corn (Medium), [Lettuce, Black Beans, Rice, Sour Cream, Cheese]]"
          ],
          [
           "Carnitas Soft Tacos[Fresh Tomato Salsa, [Sour Cream, Guacamole]]"
          ],
          [
           "Carnitas Soft Tacos[Fresh Tomato Salsa, [Sour Cream, Lettuce]]"
          ],
          [
           "Chicken Burrito[Roasted Chili Corn Salsa (Medium), [Rice, Fajita Veggies, Cheese, Sour Cream]]"
          ],
          [
           "Carnitas Soft Tacos[Roasted Chili Corn Salsa (Medium), [Black Beans, Rice, Cheese]]"
          ],
          [
           "Chicken Burrito[Roasted Chili Corn Salsa (Medium), [Rice, Fajita Veggies, Cheese, Sour Cream, Guacamole, Lettuce]]"
          ],
          [
           "Chicken Burrito[Roasted Chili Corn Salsa (Medium), [Rice, Cheese, Sour Cream]]"
          ],
          [
           "Chicken Burrito[Roasted Chili Corn Salsa (Medium), [Rice, Cheese, Sour Cream, Lettuce]]"
          ],
          [
           "Carnitas Soft Tacos[Roasted Chili Corn Salsa, [Fajita Vegetables, Rice, Cheese, Sour Cream, Guacamole]]"
          ],
          [
           "Chicken Burrito[Roasted Chili Corn Salsa (Medium), [Rice, Black Beans, Sour Cream, Guacamole]]"
          ],
          [
           "Chicken Burrito[Roasted Chili Corn Salsa (Medium), [Pinto Beans, Rice, Fajita Veggies, Sour Cream, Lettuce]]"
          ],
          [
           "Chicken Burrito[Roasted Chili Corn Salsa (Medium), [Pinto Beans, Rice, Cheese, Sour Cream, Lettuce]]"
          ],
          [
           "Chicken Burrito[Roasted Chili Corn Salsa (Medium), [Pinto Beans, Black Beans, Rice, Fajita Veggies, Cheese, Sour Cream, Lettuce]]"
          ],
          [
           "Carnitas Soft Tacos[Roasted Chili Corn Salsa, [Lettuce, Cheese]]"
          ],
          [
           "Carnitas Soft Tacos[Roasted Chili Corn Salsa, [Lettuce, Sour Cream, Cheese, Rice]]"
          ],
          [
           "Carnitas Soft Tacos[Roasted Chili Corn Salsa, [Rice, Pinto Beans, Cheese, Sour Cream, Lettuce]]"
          ],
          [
           "Chicken Burrito[Roasted Chili Corn Salsa (Medium), [Black Beans, Rice, Cheese, Guacamole, Lettuce]]"
          ],
          [
           "Chicken Burrito[Roasted Chili Corn Salsa (Medium), [Black Beans, Fajita Veggies, Cheese, Sour Cream, Guacamole]]"
          ],
          [
           "Chicken Bowl[[Roasted Chili Corn Salsa (Medium), Tomatillo-Red Chili Salsa (Hot)], [Pinto Beans, Rice, Fajita Veggies, Cheese]]"
          ],
          [
           "Chicken Bowl[Fresh Tomato Salsa, [Fajita Vegetables, Rice, Cheese, Lettuce]]"
          ],
          [
           "Carnitas Bowl[Fresh Tomato Salsa, [Rice, Fajita Vegetables, Black Beans, Sour Cream, Cheese, Lettuce]]"
          ],
          [
           "Chicken Bowl[Roasted Chili Corn Salsa, [Rice, Pinto Beans, Lettuce, Guacamole]]"
          ],
          [
           "Chicken Bowl[Tomatillo Green Chili Salsa, [Fajita Vegetables, Rice, Cheese, Lettuce]]"
          ],
          [
           "Chicken Bowl[Tomatillo Green Chili Salsa, [Fajita Vegetables, Rice, Cheese, Guacamole, Lettuce]]"
          ],
          [
           "Chicken Bowl[Tomatillo Green Chili Salsa, [Fajita Vegetables, Rice, Black Beans]]"
          ],
          [
           "Chicken Bowl[Tomatillo Green Chili Salsa, [Fajita Vegetables, Rice, Black Beans, Cheese, Sour Cream, Lettuce]]"
          ],
          [
           "Chicken Bowl[Tomatillo Green Chili Salsa, [Fajita Vegetables, Rice, Black Beans, Cheese, Sour Cream, Guacamole, Lettuce]]"
          ],
          [
           "Chicken Bowl[Fresh Tomato Salsa, [Rice, Pinto Beans, Cheese]]"
          ],
          [
           "Chicken Bowl[Tomatillo Green Chili Salsa, [Fajita Vegetables, Black Beans, Sour Cream, Lettuce]]"
          ],
          [
           "Chicken Bowl[Fresh Tomato Salsa, [Rice, Pinto Beans, Sour Cream, Cheese, Lettuce, Guacamole]]"
          ],
          [
           "Chicken Bowl[Fresh Tomato Salsa, [Rice, Sour Cream, Cheese, Lettuce]]"
          ],
          [
           "Chicken Bowl[Tomatillo Green Chili Salsa, [Rice, Pinto Beans, Cheese, Sour Cream, Lettuce]]"
          ],
          [
           "Chicken Bowl[Roasted Chili Corn Salsa, [Rice, Pinto Beans, Cheese, Sour Cream, Guacamole]]"
          ],
          [
           "Chicken Bowl[Roasted Chili Corn Salsa, [Rice, Lettuce]]"
          ],
          [
           "Chicken Bowl[Roasted Chili Corn Salsa, [Rice, Fajita Vegetables, Lettuce, Pinto Beans, Black Beans, Guacamole, Cheese]]"
          ],
          [
           "Chicken Bowl[Fresh Tomato Salsa, [Sour Cream, Cheese]]"
          ],
          [
           "Chicken Bowl[Roasted Chili Corn Salsa, [Rice, Cheese]]"
          ],
          [
           "Chicken Bowl[Roasted Chili Corn Salsa, [Rice, Cheese, Sour Cream, Guacamole]]"
          ],
          [
           "Chicken Bowl[Roasted Chili Corn Salsa, [Rice, Cheese, Sour Cream, Guacamole, Lettuce]]"
          ],
          [
           "Chicken Bowl[Fresh Tomato Salsa, [Sour Cream, Lettuce, Rice, Cheese]]"
          ],
          [
           "Chicken Bowl[Tomatillo Green Chili Salsa, [Fajita Vegetables, Rice, Pinto Beans, Cheese, Guacamole, Lettuce]]"
          ],
          [
           "Chicken Bowl[Tomatillo Green Chili Salsa, [Fajita Vegetables, Rice, Pinto Beans, Cheese, Sour Cream, Lettuce]]"
          ],
          [
           "Chicken Bowl[Tomatillo Green Chili Salsa, [Fajita Vegetables, Rice, Sour Cream, Guacamole]]"
          ],
          [
           "Chicken Bowl[Tomatillo Green Chili Salsa, [Fajita Vegetables, Rice]]"
          ],
          [
           "Chicken Bowl[Fresh Tomato Salsa, [Rice, Fajita Vegetables, Black Beans]]"
          ],
          [
           "Chicken Bowl[Tomatillo Green Chili Salsa, [Rice, Cheese]]"
          ],
          [
           "Chicken Bowl[Fresh Tomato Salsa, [Rice, Fajita Vegetables, Cheese, Lettuce, Guacamole]]"
          ],
          [
           "Chicken Bowl[Tomatillo Green Chili Salsa, [Rice, Cheese, Sour Cream, Guacamole]]"
          ],
          [
           "Chicken Bowl[Tomatillo Green Chili Salsa, [Rice, Cheese, Lettuce]]"
          ],
          [
           "Chicken Bowl[Tomatillo Green Chili Salsa, [Rice, Cheese, Guacamole]]"
          ],
          [
           "Chicken Bowl[Fresh Tomato Salsa, [Rice, Fajita Vegetables, Pinto Beans, Cheese, Lettuce, Guacamole]]"
          ],
          [
           "Chicken Bowl[Tomatillo Green Chili Salsa, [Rice, Black Beans]]"
          ],
          [
           "Chicken Bowl[Fresh Tomato Salsa, [Rice, Fajita Vegetables, Pinto Beans, Sour Cream, Cheese, Lettuce, Guacamole]]"
          ],
          [
           "Chicken Bowl[Fresh Tomato Salsa, [Rice, Guacamole, Lettuce]]"
          ],
          [
           "Chicken Bowl[Tomatillo Green Chili Salsa, [Rice, Black Beans, Pinto Beans, Guacamole, Lettuce]]"
          ],
          [
           "Chicken Bowl[Fresh Tomato Salsa, [Rice, Guacamole]]"
          ],
          [
           "Chicken Bowl[Fresh Tomato Salsa, [Rice, Pinto Beans, Cheese, Guacamole, Lettuce]]"
          ],
          [
           "Chicken Bowl[Tomatillo Green Chili Salsa, [Rice, Black Beans, Cheese, Sour Cream, Lettuce]]"
          ],
          [
           "Chicken Bowl[Fresh Tomato Salsa, [Rice, Pinto Beans, Cheese, Sour Cream, Guacamole, Lettuce]]"
          ],
          [
           "Chicken Bowl[Tomatillo Green Chili Salsa, [Rice, Black Beans, Cheese, Lettuce]]"
          ],
          [
           "Chicken Bowl[Tomatillo Green Chili Salsa, [Rice, Black Beans, Cheese, Guacamole]]"
          ],
          [
           "Chicken Bowl[Roasted Chili Corn Salsa, [Rice, Black Beans, Sour Cream]]"
          ],
          [
           "Chicken Bowl[Roasted Chili Corn Salsa (Medium), Cheese]"
          ],
          [
           "Chicken Bowl[Roasted Chili Corn Salsa, [Rice, Black Beans, Sour Cream, Cheese, Lettuce, Guacamole]]"
          ],
          [
           "Chicken Bowl[Roasted Chili Corn Salsa, [Fajita Vegetables, Rice, Black Beans, Sour Cream, Lettuce]]"
          ],
          [
           "Chicken Bowl[Roasted Chili Corn Salsa, [Fajita Vegetables, Rice, Black Beans, Pinto Beans, Cheese, Guacamole, Lettuce]]"
          ],
          [
           "Chicken Bowl[Roasted Chili Corn Salsa, [Fajita Vegetables, Rice, Black Beans, Lettuce]]"
          ],
          [
           "Chicken Bowl[Roasted Chili Corn Salsa, [Fajita Vegetables, Rice, Black Beans, Guacamole, Lettuce]]"
          ],
          [
           "Chicken Bowl[Roasted Chili Corn Salsa, [Fajita Vegetables, Rice, Black Beans, Cheese]]"
          ],
          [
           "Chicken Bowl[Roasted Chili Corn Salsa, [Fajita Vegetables, Rice, Black Beans, Cheese, Sour Cream]]"
          ],
          [
           "Chicken Bowl[Roasted Chili Corn Salsa, [Fajita Vegetables, Rice, Black Beans, Cheese, Lettuce]]"
          ],
          [
           "Chicken Bowl[Roasted Chili Corn Salsa, [Fajita Vegetables, Rice, Black Beans, Cheese, Guacamole]]"
          ],
          [
           "Chicken Bowl[Roasted Chili Corn Salsa, [Fajita Vegetables, Rice, Black Beans, Cheese, Guacamole, Lettuce]]"
          ],
          [
           "Chicken Bowl[Roasted Chili Corn Salsa, [Fajita Vegetables, Pinto Beans, Sour Cream, Guacamole]]"
          ],
          [
           "Chicken Bowl[Roasted Chili Corn Salsa, [Fajita Vegetables, Lettuce, Black Beans]]"
          ],
          [
           "Chicken Bowl[Roasted Chili Corn Salsa, [Fajita Vegetables, Cheese, Lettuce]]"
          ],
          [
           "Chicken Bowl[Roasted Chili Corn Salsa, [Fajita Vegetables, Black Beans, Pinto Beans, Cheese, Lettuce]]"
          ],
          [
           "Chicken Bowl[Roasted Chili Corn Salsa, [Fajita Vegetables, Black Beans, Guacamole]]"
          ],
          [
           "Chicken Bowl[Roasted Chili Corn Salsa, [Cheese, Lettuce]]"
          ],
          [
           "Chicken Bowl[Roasted Chili Corn Salsa, [Cheese, Lettuce, Fajita Vegetables, Rice]]"
          ],
          [
           "Chicken Bowl[Roasted Chili Corn Salsa, [Black Beans, Sour Cream, Cheese, Guacamole]]"
          ],
          [
           "Chicken Bowl[Roasted Chili Corn Salsa, [Black Beans, Cheese, Guacamole]]"
          ],
          [
           "Chicken Bowl[Roasted Chili Corn Salsa, [Fajita Vegetables, Rice, Black Beans, Pinto Beans, Cheese, Sour Cream, Guacamole, Lettuce]]"
          ],
          [
           "Chicken Bowl[Roasted Chili Corn Salsa, [Fajita Vegetables, Rice, Cheese, Sour Cream, Guacamole, Lettuce]]"
          ],
          [
           "Chicken Bowl[Roasted Chili Corn Salsa (Medium), [Black Beans, Fajita Veggies, Cheese, Guacamole, Lettuce]]"
          ],
          [
           "Chicken Bowl[Roasted Chili Corn Salsa (Medium), [Pinto Beans, Rice, Fajita Veggies, Cheese, Sour Cream, Lettuce]]"
          ],
          [
           "Chicken Bowl[Roasted Chili Corn Salsa (Medium), [Black Beans, Rice, Cheese, Guacamole, Lettuce]]"
          ],
          [
           "Chicken Bowl[Roasted Chili Corn Salsa, [Rice, Black Beans, Guacamole, Lettuce]]"
          ],
          [
           "Chicken Bowl[Roasted Chili Corn Salsa, [Rice, Black Beans, Cheese, Sour Cream]]"
          ],
          [
           "Chicken Bowl[Roasted Chili Corn Salsa (Medium), [Black Beans, Rice, Fajita Veggies, Cheese, Sour Cream, Guacamole, Lettuce]]"
          ],
          [
           "Chicken Bowl[Roasted Chili Corn Salsa, [Rice, Black Beans, Cheese, Sour Cream, Guacamole]]"
          ],
          [
           "Chicken Bowl[Roasted Chili Corn Salsa (Medium), [Black Beans, Rice, Sour Cream, Guacamole]]"
          ],
          [
           "Chicken Bowl[Roasted Chili Corn Salsa, [Rice, Black Beans, Cheese, Lettuce]]"
          ],
          [
           "Chicken Bowl[Roasted Chili Corn Salsa (Medium), [Pinto Beans, Black Beans, Rice, Cheese, Sour Cream, Guacamole]]"
          ],
          [
           "Chicken Bowl[Roasted Chili Corn Salsa (Medium), [Pinto Beans, Black Beans, Rice, Fajita Veggies, Cheese, Lettuce]]"
          ],
          [
           "Chicken Bowl[Roasted Chili Corn Salsa, [Rice, Black Beans, Cheese, Guacamole, Lettuce]]"
          ],
          [
           "Chicken Bowl[Roasted Chili Corn Salsa, [Fajita Vegetables, Rice]]"
          ],
          [
           "Chicken Bowl[Roasted Chili Corn Salsa, [Fajita Vegetables, Rice, Sour Cream, Lettuce]]"
          ],
          [
           "Chicken Bowl[Roasted Chili Corn Salsa (Medium), [Pinto Beans, Rice, Cheese, Sour Cream, Lettuce]]"
          ],
          [
           "Chicken Bowl[Roasted Chili Corn Salsa, [Fajita Vegetables, Rice, Pinto Beans, Cheese, Sour Cream, Guacamole, Lettuce]]"
          ],
          [
           "Chicken Bowl[Roasted Chili Corn Salsa, [Fajita Vegetables, Rice, Pinto Beans, Cheese, Lettuce]]"
          ],
          [
           "Chicken Bowl[Roasted Chili Corn Salsa, [Fajita Vegetables, Rice, Pinto Beans, Cheese, Guacamole, Lettuce]]"
          ],
          [
           "Chicken Bowl[Roasted Chili Corn Salsa, [Fajita Vegetables, Rice, Cheese, Sour Cream]]"
          ],
          [
           "Chicken Bowl[Tomatillo Green Chili Salsa, [Rice, Pinto Beans, Cheese, Lettuce]]"
          ],
          [
           "Chicken Bowl[Fresh Tomato Salsa, [Rice, Fajita Vegetables, Black Beans, Sour Cream, Cheese, Lettuce]]"
          ],
          [
           "Chicken Bowl[[Roasted Chili Corn Salsa (Medium), Tomatillo-Red Chili Salsa (Hot), Fresh Tomato Salsa (Mild), Tomatillo-Green Chili Salsa (Medium)], [Rice, Black Beans, Fajita Veggies, Cheese, Sour Cream]]"
          ],
          [
           "Chicken Bowl[Tomatillo-Red Chili Salsa (Hot), [Pinto Beans, Rice, Fajita Veggies, Cheese, Sour Cream, Lettuce]]"
          ],
          [
           "Chicken Bowl[Fresh Tomato Salsa, [Lettuce, Cheese, Pinto Beans, Rice]]"
          ],
          [
           "Chicken Bowl[Fresh Tomato Salsa, [Lettuce, Fajita Vegetables, Guacamole, Rice, Black Beans]]"
          ],
          [
           "Chicken Bowl[Tomatillo-Red Chili Salsa (Hot), [Rice, Fajita Veggies, Sour Cream, Lettuce]]"
          ],
          [
           "Chicken Bowl[Fresh Tomato Salsa, [Pinto Beans, Cheese, Guacamole]]"
          ],
          [
           "Chicken Bowl[Fresh Tomato Salsa, [Pinto Beans, Rice, Cheese, Lettuce, Guacamole, Sour Cream, Fajita Vegetables]]"
          ],
          [
           "Chicken Bowl[Fresh Tomato Salsa, [Pinto Beans, Rice, Lettuce, Cheese]]"
          ],
          [
           "Chicken Bowl[Fresh Tomato Salsa, [Rice, Black Beans, Cheese, Guacamole]]"
          ],
          [
           "Chicken Bowl[Fresh Tomato Salsa, [Rice, Black Beans, Cheese, Lettuce, Guacamole]]"
          ],
          [
           "Chicken Bowl[Fresh Tomato Salsa, [Rice, Black Beans, Fajita Vegetables, Lettuce, Cheese, Sour Cream]]"
          ],
          [
           "Chicken Bowl[Tomatillo Green Chili Salsa, [Rice, Sour Cream, Guacamole, Lettuce]]"
          ],
          [
           "Chicken Bowl[Tomatillo-Red Chili Salsa (Hot), [Pinto Beans, Rice, Cheese, Sour Cream, Lettuce]]"
          ],
          [
           "Chicken Bowl[Tomatillo-Red Chili Salsa (Hot), [Pinto Beans, Rice, Cheese, Sour Cream, Guacamole]]"
          ],
          [
           "Chicken Bowl[Tomatillo-Red Chili Salsa (Hot), [Pinto Beans, Black Beans, Rice, Fajita Veggies, Cheese, Sour Cream, Lettuce]]"
          ],
          [
           "Chicken Bowl[Fresh Tomato Salsa, [Rice, Black Beans, Lettuce, Guacamole]]"
          ],
          [
           "Chicken Bowl[Tomatillo-Red Chili Salsa (Hot), [Cheese, Lettuce, Rice, Black Beans]]"
          ],
          [
           "Chicken Bowl[Tomatillo-Red Chili Salsa (Hot), [Black Beans, Rice, Fajita Veggies, Cheese, Lettuce]]"
          ],
          [
           "Chicken Bowl[Tomatillo-Red Chili Salsa (Hot), [Black Beans, Rice, Cheese, Sour Cream, Lettuce]]"
          ],
          [
           "Chicken Bowl[Tomatillo-Red Chili Salsa (Hot), [Black Beans, Cheese, Lettuce]]"
          ],
          [
           "Chicken Bowl[[Fresh Tomato Salsa (Mild), Roasted Chili Corn Salsa (Medium), Tomatillo-Red Chili Salsa (Hot)], [Black Beans, Rice, Cheese, Sour Cream]]"
          ],
          [
           "Chicken Bowl[[Fresh Tomato Salsa (Mild), Roasted Chili Corn Salsa (Medium), Tomatillo-Red Chili Salsa (Hot)], [Black Beans, Rice, Fajita Veggies, Cheese, Sour Cream, Lettuce]]"
          ],
          [
           "Chicken Bowl[[Fresh Tomato Salsa (Mild), Roasted Chili Corn Salsa (Medium), Tomatillo-Red Chili Salsa (Hot)], [Pinto Beans, Rice, Fajita Veggies, Cheese, Sour Cream, Lettuce]]"
          ],
          [
           "Chicken Bowl[[Fresh Tomato Salsa (Mild), Roasted Chili Corn Salsa (Medium)], [Black Beans, Cheese, Guacamole]]"
          ],
          [
           "Chicken Bowl[[Roasted Chili Corn Salsa (Medium), Tomatillo-Green Chili Salsa (Medium)], [Rice, Fajita Veggies, Cheese, Sour Cream, Lettuce]]"
          ],
          [
           "Chicken Bowl[Fresh Tomato Salsa, [Fajita Vegetables, Rice, Pinto Beans, Cheese, Sour Cream, Lettuce]]"
          ],
          [
           "Chicken Bowl[[Roasted Chili Corn Salsa (Medium), Fresh Tomato Salsa (Mild)], [Rice, Black Beans, Fajita Veggies, Cheese, Sour Cream, Guacamole]]"
          ],
          [
           "Chicken Bowl[[Roasted Chili Corn Salsa (Medium), Fresh Tomato Salsa (Mild)], [Fajita Veggies, Lettuce, Rice, Black Beans]]"
          ],
          [
           "Chicken Bowl[[Fresh Tomato Salsa (Mild), Tomatillo-Red Chili Salsa (Hot)], [Guacamole, Rice, Black Beans, Cheese, Sour Cream]]"
          ],
          [
           "Chicken Bowl[Fresh Tomato Salsa, [Fajita Vegetables, Rice, Pinto Beans, Cheese]]"
          ],
          [
           "Chicken Bowl[Fresh Tomato Salsa, [Fajita Vegetables, Rice, Sour Cream, Guacamole]]"
          ],
          [
           "Chicken Bowl[Fresh Tomato Salsa, [Guacamole, Cheese, Rice, Sour Cream, Fajita Vegetables]]"
          ],
          [
           "Chicken Bowl[[Fresh Tomato Salsa (Mild), Tomatillo-Green Chili Salsa (Medium), Roasted Chili Corn Salsa (Medium), Tomatillo-Red Chili Salsa (Hot)], [Black Beans, Rice, Fajita Veggies, Cheese, Sour Cream]]"
          ],
          [
           "Chicken Bowl[[Fresh Tomato Salsa (Mild), Roasted Chili Corn Salsa (Medium)], [Rice, Sour Cream, Guacamole, Lettuce]]"
          ],
          [
           "Chicken Bowl[[Fresh Tomato Salsa (Mild), Roasted Chili Corn Salsa (Medium)], [Rice, Cheese, Sour Cream, Guacamole, Lettuce]]"
          ],
          [
           "Chicken Bowl[Fresh Tomato Salsa, [Guacamole, Lettuce, Rice, Cheese, Sour Cream, Black Beans]]"
          ],
          [
           "Chicken Bowl[[Fresh Tomato Salsa (Mild), Roasted Chili Corn Salsa (Medium)], [Black Beans, Rice, Fajita Veggies, Lettuce]]"
          ],
          [
           "Chicken Bowl[[Fresh Tomato Salsa (Mild), Roasted Chili Corn Salsa (Medium)], [Black Beans, Rice, Fajita Veggies, Cheese, Sour Cream, Lettuce]]"
          ],
          [
           "Chicken Bowl[[Fresh Tomato Salsa (Mild), Roasted Chili Corn Salsa (Medium)], [Black Beans, Rice, Fajita Veggies, Cheese, Sour Cream, Guacamole, Lettuce]]"
          ],
          [
           "Chicken Bowl[Fresh Tomato Salsa, [Guacamole, Lettuce]]"
          ],
          [
           "Chicken Bowl[[Fresh Tomato Salsa (Mild), Roasted Chili Corn Salsa (Medium)], [Black Beans, Guacamole]]"
          ],
          [
           "Chicken Bowl[Tomatillo-Red Chili Salsa (Hot), Rice]"
          ],
          [
           "Chicken Bowl[Tomatillo-Green Chili Salsa (Medium), [Rice, Cheese, Sour Cream, Lettuce]]"
          ],
          [
           "Chicken Bowl[Tomatillo-Green Chili Salsa (Medium), [Pinto Beans, Rice, Fajita Veggies, Lettuce]]"
          ],
          [
           "Chicken Bowl[Tomatillo Red Chili Salsa, [Rice, Black Beans, Pinto Beans, Cheese, Sour Cream]]"
          ],
          [
           "Chicken Bowl[Tomatillo Red Chili Salsa, [Rice, Black Beans, Cheese, Sour Cream]]"
          ],
          [
           "Chicken Bowl[Fresh Tomato Salsa, [Rice, Cheese, Guacamole, Lettuce]]"
          ],
          [
           "Chicken Bowl[Tomatillo Red Chili Salsa, [Rice, Black Beans, Cheese, Lettuce]]"
          ],
          [
           "Chicken Bowl[Fresh Tomato Salsa, [Rice, Cheese, Sour Cream, Guacamole, Fajita Vegetables]]"
          ],
          [
           "Chicken Bowl[Tomatillo Red Chili Salsa, [Rice, Black Beans, Cheese, Guacamole]]"
          ],
          [
           "Chicken Bowl[Tomatillo Red Chili Salsa, [Fajita Vegetables, Rice, Cheese, Guacamole]]"
          ],
          [
           "Chicken Bowl[Fresh Tomato Salsa, [Rice, Cheese, Sour Cream, Guacamole, Lettuce]]"
          ],
          [
           "Chicken Bowl[Tomatillo Red Chili Salsa, [Fajita Vegetables, Rice, Black Beans, Cheese, Sour Cream, Lettuce]]"
          ],
          [
           "Chicken Bowl[Fresh Tomato Salsa, [Rice, Cheese]]"
          ],
          [
           "Chicken Bowl[Tomatillo Red Chili Salsa, [Fajita Vegetables, Rice, Black Beans, Cheese, Lettuce]]"
          ],
          [
           "Chicken Bowl[Tomatillo Red Chili Salsa, [Fajita Vegetables, Rice, Black Beans, Cheese, Guacamole, Lettuce]]"
          ],
          [
           "Chicken Bowl[Tomatillo Red Chili Salsa, [Fajita Vegetables, Black Beans, Sour Cream, Cheese, Lettuce]]"
          ],
          [
           "Chicken Bowl[Tomatillo Red Chili Salsa, [Black Beans, Cheese, Sour Cream]]"
          ],
          [
           "Chicken Bowl[Tomatillo Red Chili Salsa, Rice]"
          ],
          [
           "Chicken Bowl[Tomatillo Red Chili Salsa, Fajita Vegetables]"
          ],
          [
           "Chicken Bowl[Fresh Tomato Salsa, [Rice, Fajita Vegetables, Black Beans, Cheese, Lettuce]]"
          ],
          [
           "Chicken Bowl[Tomatillo Green Chili Salsa, [Rice, Sour Cream, Guacamole]]"
          ],
          [
           "Chicken Bowl[Fresh Tomato Salsa, [Rice, Black Beans]]"
          ],
          [
           "Chicken Bowl[Fresh Tomato Salsa, [Rice, Black Beans, Sour Cream, Cheese, Lettuce, Guacamole]]"
          ],
          [
           "Chicken Bowl[Tomatillo-Green Chili Salsa (Medium), [Pinto Beans, Black Beans, Rice, Fajita Veggies, Sour Cream, Lettuce]]"
          ],
          [
           "Chicken Bowl[Tomatillo Red Chili Salsa, [Rice, Black Beans, Sour Cream, Guacamole, Lettuce]]"
          ],
          [
           "Chicken Bowl[Tomatillo-Green Chili Salsa (Medium), [Fajita Veggies, Cheese, Guacamole, Lettuce]]"
          ],
          [
           "Chicken Bowl[Fresh Tomato Salsa, [Rice, Black Beans, Pinto Beans, Cheese, Sour Cream, Guacamole]]"
          ],
          [
           "Chicken Bowl[Tomatillo-Green Chili Salsa (Medium), [Black Beans, Rice, Cheese, Sour Cream]]"
          ],
          [
           "Chicken Bowl[Fresh Tomato Salsa, [Rice, Black Beans, Pinto Beans, Cheese, Sour Cream]]"
          ],
          [
           "Chicken Bowl[Fresh Tomato Salsa, [Rice, Black Beans, Pinto Beans, Cheese]]"
          ],
          [
           "Chicken Bowl[Tomatillo Red Chili Salsa, [Sour Cream, Cheese, Guacamole, Lettuce, Black Beans, Rice]]"
          ],
          [
           "Chicken Bowl[Tomatillo Red Chili Salsa, [Rice, Sour Cream, Cheese, Guacamole]]"
          ],
          [
           "Chicken Bowl[Tomatillo Red Chili Salsa, [Rice, Pinto Beans, Guacamole, Lettuce]]"
          ],
          [
           "Chicken Bowl[Tomatillo Red Chili Salsa, [Rice, Pinto Beans, Cheese, Lettuce]]"
          ],
          [
           "Chicken Bowl[Tomatillo Red Chili Salsa, [Rice, Fajita Vegetables, Sour Cream, Lettuce]]"
          ],
          [
           "Chicken Bowl[Tomatillo Red Chili Salsa, [Rice, Fajita Vegetables, Black Beans, Sour Cream, Cheese]]"
          ],
          [
           "Chicken Bowl[Tomatillo Red Chili Salsa, [Rice, Fajita Vegetables, Black Beans, Cheese, Lettuce, Guacamole]]"
          ],
          [
           "Chicken Bowl[Tomatillo Red Chili Salsa, [Rice, Cheese]]"
          ],
          [
           "Chicken Bowl[Fresh Tomato Salsa, [Rice, Black Beans, Pinto Beans, Guacamole, Lettuce]]"
          ],
          [
           "Chicken Bowl[Tomatillo Red Chili Salsa, [Rice, Cheese, Sour Cream, Guacamole]]"
          ],
          [
           "Chicken Bowl[Fresh Tomato Salsa, [Rice, Black Beans, Sour Cream, Cheese, Guacamole]]"
          ],
          [
           "Chicken Bowl[Tomatillo Red Chili Salsa, [Rice, Black Beans]]"
          ],
          [
           "Carnitas Salad Bowl[Roasted Chili Corn Salsa, [Fajita Vegetables, Rice, Black Beans, Cheese, Sour Cream, Guacamole, Lettuce]]"
          ],
          [
           "Chicken Burrito[Roasted Chili Corn Salsa]"
          ],
          [
           "Chicken Burrito[Tomatillo Green Chili (Medium), [Lettuce, Black Beans, Rice, Sour Cream, Cheese]]"
          ],
          [
           "Chicken Salad Bowl[Roasted Chili Corn Salsa, [Cheese, Lettuce]]"
          ],
          [
           "Chicken Salad Bowl[Roasted Chili Corn Salsa, [Pinto Beans, Cheese, Sour Cream, Lettuce]]"
          ],
          [
           "Chicken Salad Bowl[Roasted Chili Corn Salsa, [Fajita Vegetables, Rice]]"
          ],
          [
           "Chicken Salad Bowl[Roasted Chili Corn Salsa, [Fajita Vegetables, Rice, Pinto Beans, Cheese, Sour Cream, Lettuce]]"
          ],
          [
           "Chicken Salad Bowl[Roasted Chili Corn Salsa, [Fajita Vegetables, Rice, Guacamole, Lettuce]]"
          ],
          [
           "Chicken Salad Bowl[Roasted Chili Corn Salsa, [Fajita Vegetables, Rice, Cheese, Lettuce]]"
          ],
          [
           "Chicken Salad Bowl[Roasted Chili Corn Salsa, [Fajita Vegetables, Rice, Black Beans, Pinto Beans, Guacamole, Lettuce]]"
          ],
          [
           "Chicken Salad Bowl[Roasted Chili Corn Salsa, [Fajita Vegetables, Rice, Black Beans, Guacamole]]"
          ],
          [
           "Chicken Salad Bowl[Roasted Chili Corn Salsa, [Fajita Vegetables, Black Beans, Guacamole, Lettuce]]"
          ],
          [
           "Chicken Salad Bowl[Roasted Chili Corn Salsa, [Cheese, Guacamole, Lettuce]]"
          ],
          [
           "Chicken Salad[Fresh Tomato Salsa (Mild), [Pinto Beans, Rice, Cheese, Sour Cream]]"
          ],
          [
           "Carnitas Bowl[[Roasted Chili Corn Salsa (Medium), Tomatillo-Red Chili Salsa (Hot), Fresh Tomato Salsa (Mild)], [Rice, Pinto Beans, Fajita Veggies, Cheese, Sour Cream, Lettuce]]"
          ],
          [
           "Chicken Salad Bowl[Roasted Chili Corn Salsa, [Black Beans, Cheese, Sour Cream, Lettuce]]"
          ],
          [
           "Chicken Salad Bowl[Roasted Chili Corn Salsa, [Black Beans, Cheese, Lettuce]]"
          ],
          [
           "Chicken Salad Bowl[Roasted Chili Corn Salsa, Cheese]"
          ],
          [
           "Carnitas Bowl[[Roasted Chili Corn Salsa (Medium), Tomatillo-Red Chili Salsa (Hot)], [Black Beans, Rice, Cheese, Lettuce]]"
          ],
          [
           "Chicken Salad Bowl[Fresh Tomato Salsa, [Sour Cream, Cheese, Lettuce]]"
          ],
          [
           "Chicken Salad Bowl[Fresh Tomato Salsa, [Rice, Pinto Beans, Lettuce]]"
          ],
          [
           "Chicken Salad Bowl[Fresh Tomato Salsa, [Rice, Lettuce]]"
          ],
          [
           "Chicken Salad Bowl[Roasted Chili Corn Salsa, [Rice, Black Beans, Lettuce]]"
          ],
          [
           "Chicken Salad Bowl[Roasted Chili Corn Salsa, [Rice, Fajita Vegetables, Black Beans, Cheese, Lettuce, Guacamole]]"
          ],
          [
           "Chicken Salad Bowl[Roasted Chili Corn Salsa, [Rice, Guacamole]]"
          ],
          [
           "Chicken Salad Bowl[Roasted Chili Corn Salsa, [Rice, Pinto Beans, Cheese, Sour Cream, Lettuce]]"
          ],
          [
           "Chicken Salad[Fresh Tomato Salsa (Mild), [Black Beans, Cheese, Lettuce]]"
          ],
          [
           "Carnitas Bowl[Tomatillo-Red Chili Salsa (Hot), [Black Beans, Rice, Cheese, Sour Cream, Lettuce]]"
          ],
          [
           "Chicken Salad Bowl[Tomatillo Red Chili Salsa, [Rice, Fajita Vegetables, Black Beans, Cheese, Lettuce]]"
          ],
          [
           "Chicken Salad Bowl[Tomatillo Red Chili Salsa, [Rice, Cheese]]"
          ],
          [
           "Chicken Salad Bowl[Tomatillo Red Chili Salsa, [Fajita Vegetables, Rice, Black Beans, Cheese, Guacamole]]"
          ],
          [
           "Carnitas Bowl[Tomatillo-Red Chili Salsa (Hot), [Lettuce, Sour Cream, Cheese, Fajita Veggies, Rice, Black Beans]]"
          ],
          [
           "Chicken Salad Bowl[Tomatillo Red Chili Salsa, [Black Beans, Cheese, Lettuce]]"
          ],
          [
           "Carnitas Bowl[[Fresh Tomato Salsa (Mild), Roasted Chili Corn Salsa (Medium)], [Rice, Cheese, Lettuce]]"
          ],
          [
           "Chicken Salad Bowl[Tomatillo Green Chili Salsa, [Fajita Vegetables, Rice, Cheese, Sour Cream, Lettuce]]"
          ],
          [
           "Chicken Salad Bowl[Tomatillo Green Chili Salsa, [Fajita Vegetables, Lettuce]]"
          ],
          [
           "Chicken Salad Bowl[Tomatillo Green Chili Salsa, [Fajita Vegetables, Black Beans, Pinto Beans, Lettuce]]"
          ],
          [
           "Chicken Salad Bowl[Tomatillo Green Chili Salsa, [Fajita Vegetables, Black Beans, Cheese, Lettuce]]"
          ],
          [
           "Carnitas Bowl[[Fresh Tomato Salsa (Mild), Tomatillo-Green Chili Salsa (Medium), Roasted Chili Corn Salsa (Medium)], [Black Beans, Rice, Cheese]]"
          ],
          [
           "Chicken Salad Bowl[Tomatillo Green Chili Salsa, [Black Beans, Sour Cream, Cheese, Guacamole]]"
          ],
          [
           "Carnitas Bowl[[Fresh Tomato Salsa (Mild), Tomatillo-Green Chili Salsa (Medium)], [Rice, Fajita Veggies, Lettuce]]"
          ],
          [
           "Chicken Salad Bowl[Roasted Chili Corn Salsa, [Rice, Sour Cream]]"
          ],
          [
           "Chicken Salad Bowl[Roasted Chili Corn Salsa, [Rice, Pinto Beans, Lettuce]]"
          ],
          [
           "Carnitas Bowl[[Roasted Chili Corn Salsa (Medium), Tomatillo-Red Chili Salsa (Hot)], [Rice, Pinto Beans, Lettuce]]"
          ],
          [
           "Carnitas Bowl[[Tomatillo-Red Chili Salsa (Hot), Fresh Tomato Salsa (Mild)], [Pinto Beans, Cheese, Guacamole, Lettuce]]"
          ],
          [
           "Chicken Salad Bowl[Fresh Tomato Salsa, [Rice, Cheese, Sour Cream, Guacamole]]"
          ],
          [
           "Carnitas Burrito[Fresh Tomato Salsa (Mild), [Pinto Beans, Black Beans, Rice, Cheese, Sour Cream, Lettuce]]"
          ],
          [
           "Chicken Salad Bowl[Fresh Tomato Salsa, [Fajita Vegetables, Guacamole, Lettuce]]"
          ],
          [
           "Carnitas Burrito[Fresh Tomato Salsa (Mild), [Pinto Beans, Rice, Fajita Veggies, Sour Cream]]"
          ],
          [
           "Carnitas Burrito[Fresh Tomato Salsa, [Black Beans, Cheese, Sour Cream, Guacamole, Lettuce]]"
          ],
          [
           "Chicken Salad Bowl[Fresh Tomato Salsa, [Fajita Vegetables, Black Beans, Guacamole, Lettuce]]"
          ],
          [
           "Carnitas Burrito[Fresh Tomato Salsa, [Black Beans, Pinto Beans, Cheese, Sour Cream, Lettuce]]"
          ],
          [
           "Chicken Salad Bowl[Fresh Tomato Salsa, [Fajita Vegetables, Black Beans, Cheese, Lettuce]]"
          ],
          [
           "Chicken Salad Bowl[Fresh Tomato Salsa, [Fajita Vegetables, Black Beans, Cheese, Guacamole]]"
          ],
          [
           "Carnitas Burrito[Fresh Tomato Salsa, [Cheese, Lettuce]]"
          ],
          [
           "Chicken Salad Bowl[Fresh Tomato Salsa, [Cheese, Guacamole, Lettuce]]"
          ],
          [
           "Chicken Salad Bowl[Fresh Tomato Salsa, [Black Beans, Guacamole]]"
          ],
          [
           "Chicken Salad Bowl[Fresh Tomato Salsa, [Black Beans, Cheese, Sour Cream]]"
          ],
          [
           "Carnitas Burrito[Fresh Tomato Salsa, [Fajita Vegetables, Rice, Black Beans, Cheese, Sour Cream]]"
          ],
          [
           "Chicken Crispy Tacos[Tomatillo-Green Chili Salsa (Medium), [Black Beans, Rice, Cheese]]"
          ],
          [
           "Carnitas Burrito[Fresh Tomato Salsa, [Fajita Vegetables, Rice, Pinto Beans, Cheese, Sour Cream, Guacamole, Lettuce]]"
          ],
          [
           "Chicken Crispy Tacos[Tomatillo Red Chili Salsa, [Rice, Fajita Vegetables, Cheese, Lettuce]]"
          ],
          [
           "Chicken Crispy Tacos[Tomatillo Red Chili Salsa, [Rice, Cheese]]"
          ],
          [
           "Carnitas Burrito[Fresh Tomato Salsa, [Fajita Vegetables, Rice, Pinto Beans, Cheese, Sour Cream, Lettuce]]"
          ],
          [
           "Chicken Salad Bowl[Fresh Tomato Salsa, [Fajita Vegetables, Guacamole]]"
          ],
          [
           "Carnitas Burrito[Fresh Tomato Salsa (Mild), [Black Beans, Rice, Cheese, Sour Cream]]"
          ],
          [
           "Chicken Salad Bowl[Fresh Tomato Salsa, [Rice, Black Beans, Cheese]]"
          ],
          [
           "Chicken Salad Bowl[Fresh Tomato Salsa, [Fajita Vegetables, Rice, Black Beans, Cheese, Sour Cream, Guacamole, Lettuce]]"
          ],
          [
           "Carnitas Bowl[[Tomatillo-Red Chili Salsa (Hot), Fresh Tomato Salsa (Mild)], [Rice, Fajita Veggies, Cheese, Sour Cream, Guacamole, Lettuce]]"
          ],
          [
           "Chicken Salad Bowl[Fresh Tomato Salsa, [Rice, Black Beans, Cheese, Guacamole, Lettuce]]"
          ],
          [
           "Chicken Salad Bowl[Fresh Tomato Salsa, [Pinto Beans, Sour Cream, Cheese]]"
          ],
          [
           "Chicken Salad Bowl[Fresh Tomato Salsa, [Pinto Beans, Lettuce]]"
          ],
          [
           "Chicken Salad Bowl[Fresh Tomato Salsa, [Pinto Beans, Cheese, Sour Cream, Guacamole, Fajita Vegetables, Rice, Black Beans, Lettuce]]"
          ],
          [
           "Carnitas Bowl[[Tomatillo-Red Chili Salsa (Hot), Fresh Tomato Salsa (Mild)], [Rice, Pinto Beans, Cheese, Guacamole]]"
          ],
          [
           "Carnitas Burrito[Fresh Tomato (Mild), [Lettuce, Black Beans, Guacamole, Rice, Sour Cream, Cheese]]"
          ],
          [
           "Chicken Salad Bowl[Fresh Tomato Salsa, [Fajita Vegetables, Rice, Sour Cream]]"
          ],
          [
           "Chicken Salad Bowl[Fresh Tomato Salsa, [Fajita Vegetables, Rice, Sour Cream, Guacamole]]"
          ],
          [
           "Chicken Salad Bowl[Fresh Tomato Salsa, [Fajita Vegetables, Rice, Pinto Beans, Cheese, Guacamole]]"
          ],
          [
           "Chicken Salad Bowl[Fresh Tomato Salsa, [Fajita Vegetables, Rice, Guacamole, Lettuce]]"
          ],
          [
           "Chicken Salad Bowl[Fresh Tomato Salsa, [Fajita Vegetables, Rice, Cheese, Sour Cream, Lettuce]]"
          ],
          [
           "Chicken Salad Bowl[Fresh Tomato Salsa, [Fajita Vegetables, Rice, Cheese, Sour Cream, Guacamole]]"
          ],
          [
           "Chicken Salad Bowl[Fresh Tomato Salsa, [Fajita Vegetables, Rice, Black Beans, Pinto Beans, Guacamole, Lettuce]]"
          ],
          [
           "Chicken Salad Bowl[Fresh Tomato Salsa, [Fajita Vegetables, Rice, Black Beans, Pinto Beans, Cheese, Sour Cream, Guacamole, Lettuce]]"
          ],
          [
           "Chicken Salad Bowl[Fresh Tomato Salsa, [Fajita Vegetables, Rice, Black Beans, Pinto Beans, Cheese, Lettuce]]"
          ],
          [
           "Chicken Salad Bowl[Fresh Tomato Salsa, [Fajita Vegetables, Rice, Black Beans, Cheese, Sour Cream]]"
          ],
          [
           "Chicken Salad[Fresh Tomato Salsa (Mild), [Pinto Beans, Black Beans, Rice, Fajita Veggies, Lettuce]]"
          ],
          [
           "Chicken Salad[Roasted Chili Corn (Medium), [Lettuce, Black Beans, Cheese]]"
          ],
          [
           "Chicken Burrito[Tomatillo Green Chili Salsa, Guacamole]"
          ],
          [
           "Carnitas Bowl[Roasted Chili Corn Salsa, [Fajita Vegetables, Rice, Black Beans, Cheese]]"
          ],
          [
           "Chicken Soft Tacos[Tomatillo Red Chili Salsa, [Fajita Vegetables, Black Beans, Cheese, Lettuce]]"
          ],
          [
           "Carnitas Bowl[Roasted Chili Corn Salsa (Medium), [Rice, Guacamole, Lettuce]]"
          ],
          [
           "Chicken Soft Tacos[Tomatillo Red Chili Salsa, Rice]"
          ],
          [
           "Carnitas Bowl[Roasted Chili Corn Salsa, [Fajita Vegetables, Rice, Black Beans, Cheese, Sour Cream]]"
          ],
          [
           "Chicken Soft Tacos[Tomatillo Green Chili Salsa, [Sour Cream, Guacamole]]"
          ],
          [
           "Chicken Soft Tacos[Tomatillo Green Chili Salsa, [Rice, Fajita Vegetables, Cheese, Lettuce]]"
          ],
          [
           "Chicken Soft Tacos[Tomatillo Green Chili Salsa, [Rice, Black Beans, Cheese, Sour Cream, Lettuce]]"
          ],
          [
           "Chicken Soft Tacos[Tomatillo Green Chili Salsa, [Guacamole, Sour Cream]]"
          ],
          [
           "Chicken Soft Tacos[Roasted Chili Corn Salsa, [Rice, Fajita Vegetables, Lettuce, Guacamole]]"
          ],
          [
           "Chicken Salad[Roasted Chili Corn Salsa (Medium), [Black Beans, Rice, Fajita Veggies, Cheese, Sour Cream, Guacamole, Lettuce]]"
          ],
          [
           "Carnitas Bowl[Roasted Chili Corn Salsa, [Fajita Vegetables, Rice, Cheese, Sour Cream]]"
          ],
          [
           "Chicken Soft Tacos[Roasted Chili Corn Salsa, [Rice, Cheese, Lettuce]]"
          ],
          [
           "Carnitas Bowl[Roasted Chili Corn Salsa, [Fajita Vegetables, Rice, Pinto Beans, Cheese, Sour Cream, Guacamole, Lettuce]]"
          ],
          [
           "Chicken Soft Tacos[Roasted Chili Corn Salsa, [Rice, Black Beans, Cheese, Sour Cream]]"
          ],
          [
           "Chicken Soft Tacos[Roasted Chili Corn Salsa, [Rice, Black Beans, Cheese, Lettuce, Guacamole]]"
          ],
          [
           "Carnitas Bowl[Roasted Chili Corn Salsa, [Rice, Black Beans, Cheese, Sour Cream, Lettuce]]"
          ],
          [
           "Chicken Soft Tacos[Roasted Chili Corn Salsa, [Fajita Vegetables, Rice, Cheese, Lettuce]]"
          ],
          [
           "Chicken Soft Tacos[Roasted Chili Corn Salsa, [Fajita Vegetables, Cheese]]"
          ],
          [
           "Chicken Soft Tacos[Tomatillo Red Chili Salsa, [Rice, Black Beans, Cheese, Sour Cream, Lettuce]]"
          ],
          [
           "Chicken Soft Tacos[Tomatillo Red Chili Salsa, [Rice, Cheese, Sour Cream, Lettuce]]"
          ],
          [
           "Chicken Soft Tacos[Tomatillo Red Chili Salsa, [Rice, Cheese, Sour Cream]]"
          ],
          [
           "Chicken Bowl[Roasted Chili Corn Salsa (Medium), [Rice, Fajita Veggies, Sour Cream]]"
          ],
          [
           "Carnitas Bowl[Fresh Tomato Salsa, [Rice, Pinto Beans, Cheese, Lettuce]]"
          ],
          [
           "Carnitas Bowl[Fresh Tomato Salsa, [Rice, Sour Cream, Guacamole, Lettuce]]"
          ],
          [
           "Chips"
          ],
          [
           "Chicken Soft Tacos[[Tomatillo-Red Chili Salsa (Hot), Roasted Chili Corn Salsa (Medium)], [Guacamole, Cheese, Sour Cream]]"
          ],
          [
           "Carnitas Bowl[Roasted Chili Corn Salsa (Medium), [Pinto Beans, Rice, Cheese, Guacamole, Lettuce]]"
          ],
          [
           "Chicken Soft Tacos[[Roasted Chili Corn Salsa (Medium), Tomatillo-Red Chili Salsa (Hot)], [Rice, Fajita Veggies, Cheese, Lettuce]]"
          ],
          [
           "Chicken Soft Tacos[Tomatillo-Red Chili Salsa (Hot), [Fajita Veggies, Cheese, Sour Cream, Guacamole]]"
          ],
          [
           "Chicken Soft Tacos[Tomatillo-Red Chili Salsa (Hot), [Cheese, Sour Cream, Lettuce]]"
          ],
          [
           "Chicken Soft Tacos[Tomatillo-Red Chili Salsa (Hot), [Black Beans, Rice, Fajita Veggies, Cheese, Sour Cream, Lettuce]]"
          ],
          [
           "Chicken Soft Tacos[Tomatillo-Red Chili Salsa (Hot), [Black Beans, Rice, Cheese, Sour Cream, Lettuce]]"
          ],
          [
           "Chicken Soft Tacos[Tomatillo-Red Chili Salsa (Hot), [Black Beans, Rice, Cheese, Lettuce]]"
          ],
          [
           "Chicken Soft Tacos[Tomatillo-Red Chili Salsa (Hot), [Black Beans, Cheese, Sour Cream, Lettuce]]"
          ],
          [
           "Chicken Soft Tacos[Tomatillo-Red Chili Salsa (Hot), Fajita Veggies]"
          ],
          [
           "Carnitas Bowl[Roasted Chili Corn Salsa (Medium), [Pinto Beans, Rice, Fajita Veggies, Cheese, Sour Cream, Guacamole, Lettuce]]"
          ],
          [
           "Chicken Soft Tacos[Tomatillo-Green Chili Salsa (Medium), [Pinto Beans, Cheese, Sour Cream, Lettuce]]"
          ],
          [
           "Chicken Soft Tacos[Tomatillo-Green Chili Salsa (Medium), [Cheese, Sour Cream]]"
          ],
          [
           "Chicken Soft Tacos[Tomatillo Red Chili Salsa, [Rice, Sour Cream]]"
          ],
          [
           "Chicken Soft Tacos[Roasted Chili Corn Salsa, [Cheese, Lettuce]]"
          ],
          [
           "Chicken Soft Tacos[Roasted Chili Corn Salsa, [Black Beans, Lettuce]]"
          ],
          [
           "Chicken Soft Tacos[Roasted Chili Corn Salsa, [Black Beans, Cheese, Sour Cream]]"
          ],
          [
           "Carnitas Bowl[Roasted Chili Corn Salsa, [Rice, Sour Cream, Cheese, Lettuce, Guacamole]]"
          ],
          [
           "Chicken Soft Tacos[Fresh Tomato Salsa, [Cheese, Sour Cream, Guacamole, Lettuce]]"
          ],
          [
           "Carnitas Bowl[Tomatillo Green Chili Salsa, [Fajita Vegetables, Pinto Beans, Sour Cream, Cheese, Lettuce]]"
          ],
          [
           "Chicken Soft Tacos[Fresh Tomato Salsa, [Cheese, Guacamole, Lettuce]]"
          ],
          [
           "Carnitas Bowl[Tomatillo Green Chili Salsa, [Fajita Vegetables, Rice, Black Beans, Cheese, Sour Cream, Guacamole, Lettuce]]"
          ],
          [
           "Carnitas Bowl[Tomatillo Green Chili Salsa, [Pinto Beans, Black Beans]]"
          ],
          [
           "Chicken Soft Tacos[Fresh Tomato Salsa (Mild), [Rice, Fajita Veggies, Sour Cream, Lettuce]]"
          ],
          [
           "Chicken Soft Tacos[Fresh Tomato Salsa (Mild), [Rice, Fajita Veggies, Guacamole, Lettuce]]"
          ],
          [
           "Chicken Soft Tacos[Fresh Tomato Salsa (Mild), [Rice, Fajita Veggies, Cheese, Sour Cream, Lettuce]]"
          ],
          [
           "Chicken Soft Tacos[Fresh Tomato Salsa (Mild), [Rice, Cheese, Sour Cream]]"
          ],
          [
           "Carnitas Bowl[Tomatillo Green Chili Salsa, [Rice, Black Beans, Pinto Beans, Cheese, Guacamole]]"
          ],
          [
           "Carnitas Bowl[Tomatillo Red Chili Salsa, [Fajita Vegetables, Rice, Black Beans, Cheese, Guacamole, Lettuce]]"
          ],
          [
           "Chicken Soft Tacos[Fresh Tomato Salsa (Mild), [Pinto Beans, Cheese, Sour Cream]]"
          ],
          [
           "Carnitas Bowl[Tomatillo Red Chili Salsa, [Fajita Vegetables, Rice, Black Beans, Cheese, Sour Cream, Lettuce]]"
          ],
          [
           "Carnitas Bowl[Tomatillo Red Chili Salsa, [Rice, Black Beans, Cheese, Sour Cream]]"
          ],
          [
           "Chicken Soft Tacos[Fresh Tomato Salsa (Mild), [Cheese, Lettuce]]"
          ],
          [
           "Chicken Soft Tacos[Fresh Tomato Salsa (Mild), [Black Beans, Rice, Cheese, Sour Cream, Lettuce]]"
          ],
          [
           "Chicken Salad[[Tomatillo-Green Chili Salsa (Medium), Roasted Chili Corn Salsa (Medium)], [Rice, Cheese, Sour Cream, Guacamole, Lettuce]]"
          ],
          [
           "Chicken Soft Tacos[Fresh Tomato Salsa, [Cheese, Sour Cream, Guacamole]]"
          ],
          [
           "Chicken Soft Tacos[Fresh Tomato Salsa, [Cheese, Sour Cream]]"
          ],
          [
           "Chicken Soft Tacos[Roasted Chili Corn Salsa, [Black Beans, Cheese, Guacamole, Lettuce]]"
          ],
          [
           "Chicken Soft Tacos[Fresh Tomato Salsa, [Fajita Vegetables, Black Beans, Cheese, Sour Cream, Guacamole]]"
          ],
          [
           "Chicken Soft Tacos[Roasted Chili Corn Salsa, Rice]"
          ],
          [
           "Chicken Soft Tacos[Roasted Chili Corn Salsa (Medium), [Cheese, Sour Cream]]"
          ],
          [
           "Chicken Soft Tacos[Roasted Chili Corn Salsa (Medium), Cheese]"
          ],
          [
           "Chicken Soft Tacos[Fresh Tomato Salsa]"
          ],
          [
           "Carnitas Bowl[Roasted Chili Corn Salsa, [Rice, Black Beans, Cheese, Sour Cream]]"
          ],
          [
           "Carnitas Bowl[Roasted Chili Corn Salsa, [Rice, Black Beans, Pinto Beans, Cheese, Sour Cream, Lettuce]]"
          ],
          [
           "Chicken Soft Tacos[Fresh Tomato Salsa, [Rice, Sour Cream, Cheese, Lettuce]]"
          ],
          [
           "Chicken Soft Tacos[Fresh Tomato Salsa, [Rice, Fajita Vegetables, Cheese]]"
          ],
          [
           "Chicken Soft Tacos[Fresh Tomato Salsa, [Rice, Cheese]]"
          ],
          [
           "Carnitas Bowl[Roasted Chili Corn Salsa, [Rice, Fajita Vegetables, Black Beans, Sour Cream, Cheese]]"
          ],
          [
           "Chicken Soft Tacos[Fresh Tomato Salsa, [Rice, Black Beans, Cheese]]"
          ],
          [
           "Chicken Soft Tacos[Fresh Tomato Salsa, [Fajita Vegetables, Rice, Cheese, Sour Cream, Lettuce]]"
          ],
          [
           "Chicken Soft Tacos[Fresh Tomato Salsa, [Fajita Vegetables, Rice, Black Beans, Lettuce]]"
          ],
          [
           "Carnitas Bowl[Roasted Chili Corn Salsa, [Rice, Pinto Beans, Sour Cream]]"
          ],
          [
           "Chicken Soft Tacos[Fresh Tomato Salsa, [Fajita Vegetables, Cheese, Lettuce]]"
          ],
          [
           "Chicken Soft Tacos[Fresh Tomato Salsa, [Fajita Vegetables, Cheese, Guacamole]]"
          ],
          [
           "Chicken Soft Tacos[Fresh Tomato Salsa, [Fajita Vegetables, Cheese, Guacamole, Lettuce]]"
          ],
          [
           "Carnitas Burrito[Fresh Tomato Salsa, [Rice, Black Beans, Cheese, Lettuce]]"
          ],
          [
           "Chicken Crispy Tacos[Tomatillo Red Chili Salsa, [Black Beans, Cheese]]"
          ],
          [
           "Chicken Crispy Tacos[Tomatillo Red Chili Salsa, [Black Beans, Cheese, Lettuce, Guacamole]]"
          ],
          [
           "Carnitas Burrito[Tomatillo Red Chili Salsa, [Fajita Vegetables, Rice, Black Beans, Cheese, Sour Cream, Lettuce]]"
          ],
          [
           "Chicken Burrito[Tomatillo Red Chili Salsa, [Rice, Pinto Beans, Cheese, Lettuce]]"
          ],
          [
           "Chicken Burrito[Tomatillo Red Chili Salsa, [Rice, Fajita Vegetables, Black Beans, Sour Cream, Cheese, Lettuce, Guacamole]]"
          ],
          [
           "Chicken Burrito[Tomatillo Red Chili Salsa, [Rice, Fajita Vegetables, Black Beans, Lettuce]]"
          ],
          [
           "Chicken Burrito[Tomatillo Red Chili Salsa, [Rice, Fajita Vegetables, Black Beans, Cheese, Lettuce, Guacamole]]"
          ],
          [
           "Chicken Burrito[Tomatillo Red Chili Salsa, [Rice, Cheese, Sour Cream, Lettuce]]"
          ],
          [
           "Carnitas Burrito[Tomatillo Green Chili Salsa, [Sour Cream, Cheese, Guacamole]]"
          ],
          [
           "Chicken Burrito[Tomatillo Red Chili Salsa, [Rice, Cheese, Guacamole, Lettuce]]"
          ],
          [
           "Carnitas Burrito[Tomatillo Red Chili Salsa, [Black Beans, Cheese, Sour Cream, Guacamole]]"
          ],
          [
           "Chicken Burrito[Tomatillo Red Chili Salsa, [Rice, Black Beans, Pinto Beans, Cheese, Sour Cream, Lettuce]]"
          ],
          [
           "Chicken Crispy Tacos[Tomatillo Red Chili Salsa, Cheese]"
          ],
          [
           "Chicken Burrito[Tomatillo Red Chili Salsa, [Rice, Black Beans, Lettuce]]"
          ],
          [
           "Carnitas Burrito[Tomatillo Red Chili Salsa, [Rice, Cheese, Sour Cream, Lettuce]]"
          ],
          [
           "Carnitas Burrito[Tomatillo Red Chili Salsa]"
          ],
          [
           "Carnitas Burrito[Tomatillo-Red Chili Salsa (Hot), [Black Beans, Rice, Cheese, Sour Cream, Lettuce]]"
          ],
          [
           "Carnitas Burrito[Tomatillo-Red Chili Salsa (Hot), [Black Beans, Rice, Fajita Veggies, Cheese, Lettuce]]"
          ],
          [
           "Carnitas Burrito[Tomatillo-Red Chili Salsa (Hot), [Black Beans, Rice, Fajita Veggies, Cheese, Sour Cream, Lettuce]]"
          ],
          [
           "Carnitas Burrito[[Fresh Tomato Salsa (Mild), Roasted Chili Corn Salsa (Medium)], [Black Beans, Rice, Cheese, Sour Cream, Lettuce]]"
          ],
          [
           "Chicken Burrito[Tomatillo Red Chili Salsa, [Fajita Vegetables, Rice, Pinto Beans, Guacamole, Lettuce]]"
          ],
          [
           "Carnitas Burrito[Tomatillo Green Chili Salsa, [Rice, Fajita Vegetables, Sour Cream, Cheese, Lettuce, Guacamole]]"
          ],
          [
           "Carnitas Burrito[Tomatillo Green Chili Salsa, [Rice, Black Beans, Cheese, Sour Cream]]"
          ],
          [
           "Chicken Burrito[Tomatillo Red Chili Salsa, [Rice, Sour Cream]]"
          ],
          [
           "Chicken Burrito[Tomatillo Red Chili Salsa, [Sour Cream, Cheese, Rice]]"
          ],
          [
           "Chicken Burrito[Tomatillo-Green Chili Salsa (Medium), [Rice, Fajita Veggies, Cheese, Sour Cream]]"
          ],
          [
           "Chicken Burrito[Tomatillo-Green Chili Salsa (Medium), [Rice, Cheese, Sour Cream, Guacamole]]"
          ],
          [
           "Carnitas Burrito[Roasted Chili Corn Salsa, [Sour Cream, Guacamole]]"
          ],
          [
           "Chicken Burrito[Tomatillo-Green Chili Salsa (Medium), [Pinto Beans, Rice, Fajita Veggies, Cheese, Sour Cream, Lettuce]]"
          ],
          [
           "Carnitas Burrito[Tomatillo Green Chili Salsa, [Fajita Vegetables, Rice, Black Beans, Guacamole, Lettuce]]"
          ],
          [
           "Carnitas Burrito[Tomatillo Green Chili Salsa, [Fajita Vegetables, Rice, Cheese, Sour Cream]]"
          ],
          [
           "Chicken Burrito[Tomatillo-Green Chili Salsa (Medium), [Pinto Beans, Rice, Cheese, Sour Cream, Guacamole, Lettuce]]"
          ],
          [
           "Chicken Burrito[Tomatillo-Green Chili Salsa (Medium), [Pinto Beans, Cheese, Sour Cream]]"
          ],
          [
           "Chicken Burrito[Tomatillo-Green Chili Salsa (Medium), [Cheese, Lettuce]]"
          ],
          [
           "Chicken Burrito[Tomatillo-Green Chili Salsa (Medium), [Black Beans, Rice, Fajita Veggies, Sour Cream]]"
          ],
          [
           "Chicken Burrito[Tomatillo-Green Chili Salsa (Medium), [Black Beans, Rice, Fajita Veggies, Cheese, Sour Cream, Lettuce]]"
          ],
          [
           "Chicken Burrito[Tomatillo-Green Chili Salsa (Medium), [Black Beans, Rice, Cheese, Sour Cream, Lettuce]]"
          ],
          [
           "Chicken Burrito[Tomatillo-Green Chili Salsa (Medium), [Black Beans, Rice, Cheese, Sour Cream, Guacamole]]"
          ],
          [
           "Chicken Burrito[Tomatillo-Green Chili Salsa (Medium), [Black Beans, Rice, Cheese, Sour Cream, Guacamole, Lettuce]]"
          ],
          [
           "Chicken Burrito[Tomatillo-Green Chili Salsa (Medium), [Black Beans, Rice, Cheese, Lettuce]]"
          ],
          [
           "Chicken Burrito[Tomatillo-Green Chili Salsa (Medium), Lettuce]"
          ],
          [
           "Chicken Burrito[Tomatillo Red Chili Salsa]"
          ],
          [
           "Chicken Burrito[Tomatillo Red Chili Salsa, [Fajita Vegetables, Rice, Cheese]]"
          ],
          [
           "Chicken Burrito[Tomatillo Red Chili Salsa, [Fajita Vegetables, Rice, Black Beans, Sour Cream, Guacamole]]"
          ],
          [
           "Chicken Burrito[Tomatillo Red Chili Salsa, [Fajita Vegetables, Rice, Black Beans, Sour Cream, Guacamole, Lettuce]]"
          ],
          [
           "Chicken Burrito[Tomatillo Green Chili Salsa, [Rice, Black Beans, Sour Cream, Cheese, Guacamole]]"
          ],
          [
           "Carnitas Crispy Tacos[Tomatillo-Red Chili Salsa (Hot), [Black Beans, Rice, Cheese, Sour Cream, Lettuce]]"
          ],
          [
           "Carnitas Salad Bowl[Fresh Tomato Salsa, [Rice, Black Beans, Cheese, Guacamole]]"
          ],
          [
           "Carnitas Salad Bowl[Fresh Tomato Salsa, [Rice, Cheese, Sour Cream]]"
          ],
          [
           "Chicken Burrito[Tomatillo Green Chili Salsa, [Rice, Black Beans, Cheese, Sour Cream, Guacamole]]"
          ],
          [
           "Chicken Burrito[Tomatillo Green Chili Salsa, [Rice, Black Beans, Cheese, Lettuce]]"
          ],
          [
           "Chicken Burrito[Tomatillo Green Chili Salsa, [Rice, Black Beans, Cheese, Guacamole]]"
          ],
          [
           "Chicken Burrito[Tomatillo Green Chili Salsa, [Fajita Vegetables, Sour Cream]]"
          ],
          [
           "Chicken Burrito[Tomatillo Green Chili Salsa, [Fajita Vegetables, Rice, Cheese, Sour Cream, Lettuce]]"
          ],
          [
           "Chicken Burrito[Tomatillo Green Chili Salsa, [Fajita Vegetables, Rice, Black Beans, Pinto Beans, Cheese]]"
          ],
          [
           "Chicken Burrito[Tomatillo Green Chili Salsa, [Fajita Vegetables, Rice, Black Beans, Pinto Beans, Cheese, Sour Cream, Guacamole, Lettuce]]"
          ],
          [
           "Chicken Burrito[Tomatillo Green Chili Salsa, [Fajita Vegetables, Rice, Black Beans, Cheese, Sour Cream, Lettuce]]"
          ],
          [
           "Chicken Burrito[Tomatillo Green Chili Salsa, [Fajita Vegetables, Rice, Black Beans, Cheese, Sour Cream, Guacamole, Lettuce]]"
          ],
          [
           "Chicken Burrito[Tomatillo Green Chili Salsa, [Fajita Vegetables, Cheese, Sour Cream, Lettuce]]"
          ],
          [
           "Chicken Burrito[Tomatillo Green Chili Salsa, [Fajita Vegetables, Black Beans, Sour Cream, Cheese]]"
          ],
          [
           "Chicken Burrito[Tomatillo Green Chili Salsa, [Cheese, Lettuce, Rice, Pinto Beans]]"
          ],
          [
           "Chicken Burrito[Tomatillo Green Chili Salsa, [Cheese, Lettuce, Pinto Beans, Rice]]"
          ],
          [
           "Chicken Burrito[Tomatillo Green Chili Salsa, [Black Beans, Cheese, Guacamole, Lettuce]]"
          ],
          [
           "Chicken Burrito[Tomatillo Green Chili Salsa, [Rice, Black Beans, Pinto Beans, Cheese, Guacamole, Lettuce]]"
          ],
          [
           "Chicken Burrito[Tomatillo Green Chili Salsa, [Rice, Black Beans, Sour Cream, Cheese]]"
          ],
          [
           "Chicken Burrito[Tomatillo Red Chili Salsa, [Fajita Vegetables, Rice, Black Beans, Pinto Beans, Cheese, Sour Cream, Lettuce]]"
          ],
          [
           "Chicken Burrito[Tomatillo Green Chili Salsa, [Rice, Cheese, Lettuce]]"
          ],
          [
           "Chicken Burrito[Tomatillo Red Chili Salsa, [Fajita Vegetables, Rice, Black Beans, Guacamole]]"
          ],
          [
           "Carnitas Burrito[[Tomatillo-Green Chili Salsa (Medium), Roasted Chili Corn Salsa (Medium)], [Black Beans, Rice, Sour Cream, Lettuce]]"
          ],
          [
           "Chicken Burrito[Tomatillo Red Chili Salsa, [Cheese, Guacamole]]"
          ],
          [
           "Carnitas Crispy Tacos[Fresh Tomato Salsa, [Fajita Vegetables, Rice, Black Beans, Cheese, Sour Cream, Guacamole, Lettuce]]"
          ],
          [
           "Chicken Burrito[Tomatillo Red Chili Salsa, [Black Beans, Lettuce]]"
          ],
          [
           "Chicken Burrito[Tomatillo Red Chili Salsa, [Black Beans, Cheese, Sour Cream]]"
          ],
          [
           "Carnitas Crispy Tacos[Fresh Tomato Salsa, [Pinto Beans, Sour Cream, Cheese, Lettuce]]"
          ],
          [
           "Chicken Burrito[Tomatillo Red Chili Salsa, Lettuce]"
          ],
          [
           "Chicken Burrito[Tomatillo Red Chili (Hot), [Lettuce, Rice, Cheese]]"
          ],
          [
           "Chicken Burrito[Tomatillo Green Chili Salsa, [Rice, Sour Cream, Cheese, Lettuce]]"
          ],
          [
           "Carnitas Crispy Tacos[Roasted Chili Corn Salsa]"
          ],
          [
           "Carnitas Crispy Tacos[Tomatillo Green Chili Salsa, [Rice, Black Beans, Cheese, Sour Cream, Guacamole]]"
          ],
          [
           "Carnitas Crispy Tacos[Tomatillo-Green Chili Salsa (Medium), [Fajita Veggies, Cheese, Lettuce]]"
          ],
          [
           "Chicken Burrito[Tomatillo Green Chili Salsa, [Rice, Pinto Beans, Black Beans, Sour Cream, Cheese, Lettuce]]"
          ],
          [
           "Chicken Burrito[Tomatillo Green Chili Salsa, [Rice, Fajita Vegetables, Sour Cream]]"
          ],
          [
           "Chicken Burrito[Tomatillo Green Chili Salsa, [Rice, Fajita Vegetables, Sour Cream, Cheese, Lettuce]]"
          ],
          [
           "Chicken Burrito[Tomatillo Green Chili Salsa, [Rice, Cheese, Sour Cream, Lettuce]]"
          ],
          [
           "Chicken Burrito[Tomatillo-Green Chili Salsa (Medium), [Rice, Fajita Veggies, Lettuce]]"
          ],
          [
           "Carnitas Burrito[Roasted Chili Corn Salsa, [Rice, Pinto Beans, Guacamole, Lettuce]]"
          ],
          [
           "Chicken Burrito[Tomatillo-Red Chili Salsa (Hot), [Black Beans, Fajita Veggies, Cheese, Sour Cream, Lettuce]]"
          ],
          [
           "Chicken Crispy Tacos[Fresh Tomato Salsa, [Fajita Vegetables, Lettuce]]"
          ],
          [
           "Chicken Crispy Tacos[Fresh Tomato Salsa, [Fajita Vegetables, Cheese, Sour Cream, Guacamole]]"
          ],
          [
           "Chicken Crispy Tacos[Fresh Tomato Salsa, [Fajita Vegetables, Black Beans, Cheese, Guacamole, Lettuce]]"
          ],
          [
           "Chicken Crispy Tacos[Fresh Tomato Salsa, [Cheese, Sour Cream, Guacamole, Lettuce]]"
          ],
          [
           "Chicken Crispy Tacos[Fresh Tomato Salsa, [Black Beans, Cheese, Sour Cream, Lettuce]]"
          ],
          [
           "Chicken Crispy Tacos[Fresh Tomato Salsa, Rice]"
          ],
          [
           "Chicken Crispy Tacos[Fresh Tomato Salsa, Lettuce]"
          ],
          [
           "Chicken Crispy Tacos[Fresh Tomato Salsa, Fajita Vegetables]"
          ],
          [
           "Carnitas Burrito[Fresh Tomato Salsa, [Rice, Cheese, Sour Cream, Lettuce]]"
          ],
          [
           "Chicken Crispy Tacos[Fresh Tomato Salsa (Mild), [Rice, Cheese, Lettuce]]"
          ],
          [
           "Chicken Crispy Tacos[Fresh Tomato Salsa (Mild), [Pinto Beans, Fajita Veggies, Cheese, Sour Cream, Lettuce]]"
          ],
          [
           "Chicken Crispy Tacos[Fresh Tomato Salsa (Mild), [Pinto Beans, Cheese, Sour Cream, Lettuce]]"
          ],
          [
           "Chicken Crispy Tacos[Fresh Tomato Salsa (Mild), [Fajita Veggies, Cheese, Sour Cream, Guacamole, Lettuce]]"
          ],
          [
           "Chicken Crispy Tacos[Fresh Tomato Salsa (Mild), Fajita Veggies]"
          ],
          [
           "Chicken Burrito[[Tomatillo-Red Chili Salsa (Hot), Tomatillo-Green Chili Salsa (Medium)], [Rice, Pinto Beans, Cheese, Lettuce]]"
          ],
          [
           "Chicken Burrito[[Tomatillo-Red Chili Salsa (Hot), Tomatillo-Green Chili Salsa (Medium)], [Rice, Black Beans, Cheese, Lettuce]]"
          ],
          [
           "Chicken Burrito[[Tomatillo-Red Chili Salsa (Hot), Fresh Tomato Salsa (Mild)], [Rice, Black Beans, Cheese, Lettuce]]"
          ],
          [
           "Chicken Burrito[[Tomatillo-Green Chili Salsa (Medium), Tomatillo-Red Chili Salsa (Hot)], [Pinto Beans, Rice, Cheese, Sour Cream, Guacamole, Lettuce]]"
          ],
          [
           "Chicken Crispy Tacos[Fresh Tomato Salsa, [Fajita Vegetables, Cheese, Sour Cream, Lettuce]]"
          ],
          [
           "Chicken Crispy Tacos[Fresh Tomato Salsa, [Fajita Vegetables, Rice, Cheese, Sour Cream, Guacamole, Lettuce]]"
          ],
          [
           "Chicken Burrito[[Tomatillo-Green Chili Salsa (Medium), Roasted Chili Corn Salsa (Medium)], [Pinto Beans, Black Beans, Rice, Fajita Veggies, Cheese, Sour Cream, Guacamole, Lettuce]]"
          ],
          [
           "Chicken Crispy Tacos[Fresh Tomato Salsa, [Rice, Black Beans, Cheese, Lettuce]]"
          ],
          [
           "Chicken Crispy Tacos[Tomatillo Green Chili Salsa, [Black Beans, Cheese, Sour Cream, Guacamole, Lettuce]]"
          ],
          [
           "Chicken Crispy Tacos[Roasted Chili Corn Salsa, [Sour Cream, Cheese, Lettuce, Guacamole]]"
          ],
          [
           "Chicken Crispy Tacos[Roasted Chili Corn Salsa, [Rice, Sour Cream, Cheese, Guacamole]]"
          ],
          [
           "Chicken Crispy Tacos[Roasted Chili Corn Salsa, [Rice, Pinto Beans, Cheese, Sour Cream, Lettuce]]"
          ],
          [
           "Carnitas Burrito[Fresh Tomato Salsa, [Rice, Black Beans, Cheese, Sour Cream, Guacamole, Lettuce]]"
          ],
          [
           "Chicken Crispy Tacos[Roasted Chili Corn Salsa, [Rice, Black Beans, Lettuce]]"
          ],
          [
           "Carnitas Burrito[Fresh Tomato Salsa, [Rice, Black Beans, Cheese, Sour Cream, Lettuce]]"
          ],
          [
           "Chicken Crispy Tacos[Roasted Chili Corn Salsa, [Fajita Vegetables, Rice, Black Beans, Cheese, Sour Cream]]"
          ],
          [
           "Chicken Crispy Tacos[Roasted Chili Corn Salsa, [Fajita Vegetables, Rice, Black Beans, Cheese, Lettuce]]"
          ],
          [
           "Chicken Crispy Tacos[Roasted Chili Corn Salsa, [Cheese, Sour Cream]]"
          ],
          [
           "Chicken Crispy Tacos[Roasted Chili Corn Salsa, [Cheese, Sour Cream, Lettuce]]"
          ],
          [
           "Carnitas Burrito[Fresh Tomato Salsa, [Rice, Black Beans, Guacamole, Lettuce]]"
          ],
          [
           "Chicken Crispy Tacos[Roasted Chili Corn Salsa (Medium), [Black Beans, Rice, Cheese]]"
          ],
          [
           "Chicken Crispy Tacos[Fresh Tomato Salsa, [Rice, Fajita Vegetables, Cheese]]"
          ],
          [
           "Chicken Crispy Tacos[Fresh Tomato Salsa, [Rice, Cheese, Sour Cream, Lettuce]]"
          ],
          [
           "Chicken Crispy Tacos[Fresh Tomato Salsa, [Rice, Cheese, Lettuce]]"
          ],
          [
           "Chicken Crispy Tacos[Fresh Tomato Salsa, [Rice, Black Beans, Cheese]]"
          ],
          [
           "Chicken Burrito[[Tomatillo-Green Chili Salsa (Medium), Tomatillo-Red Chili Salsa (Hot)], [Black Beans, Rice, Cheese, Sour Cream, Guacamole]]"
          ],
          [
           "Chicken Burrito[[Tomatillo-Green Chili Salsa (Medium), Roasted Chili Corn Salsa (Medium)], [Black Beans, Rice, Cheese]]"
          ],
          [
           "Chicken Burrito[Tomatillo-Red Chili Salsa (Hot), [Black Beans, Rice, Cheese, Lettuce]]"
          ],
          [
           "Chicken Burrito[[Fresh Tomato Salsa (Mild), Roasted Chili Corn Salsa (Medium), Tomatillo-Red Chili Salsa (Hot)], [Pinto Beans, Rice, Fajita Veggies, Cheese, Sour Cream, Lettuce]]"
          ],
          [
           "Chicken Burrito[Tomatillo-Red Chili Salsa (Hot), [Rice, Guacamole]]"
          ],
          [
           "Chicken Burrito[Tomatillo-Red Chili Salsa (Hot), [Rice, Fajita Veggies, Cheese, Sour Cream]]"
          ],
          [
           "Chicken Burrito[Tomatillo-Red Chili Salsa (Hot), [Rice, Cheese, Sour Cream, Guacamole]]"
          ],
          [
           "Chicken Burrito[Tomatillo-Red Chili Salsa (Hot), [Rice, Black Beans, Fajita Veggies, Guacamole]]"
          ],
          [
           "Chicken Burrito[Tomatillo-Red Chili Salsa (Hot), [Rice, Black Beans, Cheese, Lettuce]]"
          ],
          [
           "Chicken Burrito[Tomatillo-Red Chili Salsa (Hot), [Pinto Beans, Rice, Fajita Veggies, Cheese, Sour Cream]]"
          ],
          [
           "Chicken Burrito[Tomatillo-Red Chili Salsa (Hot), [Pinto Beans, Rice, Fajita Veggies, Cheese, Lettuce]]"
          ],
          [
           "Chicken Burrito[Tomatillo-Red Chili Salsa (Hot), [Pinto Beans, Rice, Cheese, Sour Cream, Guacamole]]"
          ],
          [
           "Chicken Burrito[Tomatillo-Red Chili Salsa (Hot), [Pinto Beans, Rice, Cheese, Guacamole]]"
          ],
          [
           "Carnitas Burrito[Roasted Chili Corn Salsa (Medium), [Black Beans, Lettuce]]"
          ],
          [
           "Chicken Burrito[Tomatillo-Red Chili Salsa (Hot), [Black Beans, Rice]]"
          ],
          [
           "Chicken Burrito[Tomatillo-Red Chili Salsa (Hot), [Black Beans, Rice, Fajita Veggies, Cheese, Sour Cream]]"
          ],
          [
           "Chicken Burrito[Tomatillo-Red Chili Salsa (Hot), [Black Beans, Rice, Fajita Veggies, Cheese, Sour Cream, Lettuce]]"
          ],
          [
           "Carnitas Burrito[Roasted Chili Corn Salsa, [Cheese, Rice, Guacamole]]"
          ],
          [
           "Carnitas Burrito[Roasted Chili Corn Salsa, [Fajita Vegetables, Rice, Black Beans, Cheese, Sour Cream, Lettuce]]"
          ],
          [
           "Carnitas Burrito[Roasted Chili Corn Salsa, [Rice, Black Beans, Sour Cream, Cheese]]"
          ],
          [
           "Carnitas Burrito[Roasted Chili Corn Salsa, [Rice, Cheese, Guacamole]]"
          ],
          [
           "Chicken Burrito[[Fresh Tomato Salsa (Mild), Roasted Chili Corn Salsa (Medium), Tomatillo-Red Chili Salsa (Hot)], [Black Beans, Rice, Fajita Veggies, Lettuce]]"
          ],
          [
           "Chicken Burrito[[Fresh Tomato Salsa (Mild), Roasted Chili Corn Salsa (Medium), Tomatillo-Red Chili Salsa (Hot)], [Rice, Fajita Veggies, Cheese, Lettuce]]"
          ],
          [
           "Chicken Burrito[[Tomatillo-Green Chili Salsa (Medium), Roasted Chili Corn Salsa (Medium), Tomatillo-Red Chili Salsa (Hot)], [Pinto Beans, Rice, Fajita Veggies, Cheese, Sour Cream, Guacamole, Lettuce]]"
          ],
          [
           "Chicken Burrito[[Fresh Tomato Salsa (Mild), Roasted Chili Corn Salsa (Medium)], [Black Beans, Rice, Fajita Veggies, Cheese, Sour Cream, Lettuce]]"
          ],
          [
           "Chicken Burrito[[Roasted Chili Corn Salsa (Medium), Tomatillo-Red Chili Salsa (Hot)], [Cheese, Lettuce]]"
          ],
          [
           "Chicken Burrito[[Roasted Chili Corn Salsa (Medium), Tomatillo-Red Chili Salsa (Hot)], [Black Beans, Rice, Fajita Veggies, Cheese, Sour Cream, Guacamole, Lettuce]]"
          ],
          [
           "Chicken Burrito[[Roasted Chili Corn Salsa (Medium), Tomatillo-Red Chili Salsa (Hot)], [Black Beans, Rice, Fajita Veggies, Cheese, Guacamole, Lettuce]]"
          ],
          [
           "Chicken Burrito[[Roasted Chili Corn Salsa (Medium), Tomatillo-Red Chili Salsa (Hot)], [Black Beans, Rice, Cheese, Sour Cream, Lettuce]]"
          ],
          [
           "Chicken Burrito[[Roasted Chili Corn Salsa (Medium), Fresh Tomato Salsa (Mild)], [Rice, Black Beans, Fajita Veggies, Cheese, Sour Cream, Guacamole, Lettuce]]"
          ],
          [
           "Carnitas Burrito[Fresh Tomato Salsa, [Rice, Pinto Beans, Cheese, Lettuce]]"
          ],
          [
           "Chicken Burrito[[Lettuce, Rice, Fajita Veggies]]"
          ],
          [
           "Chicken Burrito[[Lettuce, Fajita Veggies, Rice]]"
          ],
          [
           "Chicken Burrito[[Fresh Tomato Salsa (Mild), Tomatillo-Red Chili Salsa (Hot)], [Rice, Fajita Veggies, Cheese, Sour Cream, Guacamole, Lettuce]]"
          ],
          [
           "Chicken Burrito[[Fresh Tomato Salsa (Mild), Tomatillo-Red Chili Salsa (Hot)], [Rice, Fajita Veggies, Cheese, Lettuce]]"
          ],
          [
           "Chicken Burrito[[Fresh Tomato Salsa (Mild), Tomatillo-Green Chili Salsa (Medium)], [Black Beans, Rice, Fajita Veggies, Cheese, Sour Cream]]"
          ],
          [
           "Chicken Burrito[[Fresh Tomato Salsa (Mild), Tomatillo-Green Chili Salsa (Medium), Tomatillo-Red Chili Salsa (Hot)], [Pinto Beans, Black Beans, Rice, Fajita Veggies, Cheese, Sour Cream, Lettuce]]"
          ],
          [
           "Chicken Burrito[[Fresh Tomato Salsa (Mild), Tomatillo-Green Chili Salsa (Medium), Roasted Chili Corn Salsa (Medium)], [Pinto Beans, Rice, Fajita Veggies, Cheese, Lettuce]]"
          ],
          [
           "Chicken Burrito[[Fresh Tomato Salsa (Mild), Roasted Chili Corn Salsa (Medium)], [Rice, Fajita Veggies, Cheese, Lettuce]]"
          ],
          [
           "Chicken Burrito[[Fresh Tomato Salsa (Mild), Roasted Chili Corn Salsa (Medium)], [Pinto Beans, Rice, Fajita Veggies, Cheese, Sour Cream, Lettuce]]"
          ],
          [
           "Chicken Burrito[[Fresh Tomato Salsa (Mild), Roasted Chili Corn Salsa (Medium)], [Pinto Beans, Black Beans, Rice, Fajita Veggies, Cheese, Sour Cream, Lettuce]]"
          ],
          [
           "Chicken Burrito[[Fresh Tomato Salsa (Mild), Roasted Chili Corn Salsa (Medium)], [Pinto Beans, Black Beans, Rice, Fajita Veggies, Cheese, Lettuce]]"
          ],
          [
           "Veggie Soft Tacos[Tomatillo Red Chili Salsa, [Fajita Vegetables, Rice, Black Beans, Cheese, Guacamole, Lettuce]]"
          ]
         ],
         "hovertemplate": "%{customdata[0]}<br>Vezes pedido: %{x}<br>Preço por unidade: R$%{y}",
         "legendgroup": "",
         "marker": {
          "color": "#636efa",
          "symbol": "circle"
         },
         "mode": "markers",
         "name": "",
         "showlegend": false,
         "type": "scattergl",
         "x": [
          396,
          229,
          177,
          122,
          115,
          110,
          100,
          91,
          62,
          50,
          45,
          36,
          34,
          34,
          33,
          32,
          25,
          25,
          23,
          22,
          21,
          21,
          21,
          19,
          19,
          18,
          18,
          18,
          17,
          16,
          15,
          14,
          14,
          14,
          14,
          13,
          13,
          12,
          12,
          12,
          12,
          12,
          10,
          10,
          10,
          10,
          10,
          10,
          10,
          9,
          9,
          9,
          9,
          9,
          9,
          8,
          8,
          8,
          8,
          8,
          8,
          8,
          8,
          8,
          8,
          8,
          7,
          7,
          7,
          7,
          7,
          7,
          7,
          6,
          6,
          6,
          6,
          6,
          6,
          6,
          6,
          6,
          5,
          5,
          5,
          5,
          5,
          5,
          5,
          5,
          5,
          5,
          5,
          5,
          5,
          5,
          5,
          5,
          5,
          5,
          5,
          5,
          5,
          5,
          5,
          5,
          5,
          5,
          5,
          5,
          5,
          5,
          5,
          5,
          5,
          5,
          5,
          5,
          5,
          5,
          5,
          5,
          4,
          4,
          4,
          4,
          4,
          4,
          4,
          4,
          4,
          4,
          4,
          4,
          4,
          4,
          4,
          4,
          4,
          4,
          4,
          4,
          4,
          4,
          4,
          4,
          4,
          4,
          4,
          4,
          4,
          4,
          4,
          3,
          3,
          3,
          3,
          3,
          3,
          3,
          3,
          3,
          3,
          3,
          3,
          3,
          3,
          3,
          3,
          3,
          3,
          3,
          3,
          3,
          3,
          3,
          3,
          3,
          3,
          3,
          3,
          3,
          3,
          3,
          3,
          3,
          3,
          3,
          3,
          3,
          3,
          3,
          3,
          3,
          3,
          3,
          3,
          3,
          3,
          3,
          3,
          3,
          3,
          3,
          3,
          3,
          3,
          3,
          3,
          3,
          3,
          3,
          3,
          3,
          3,
          3,
          3,
          3,
          3,
          3,
          3,
          3,
          3,
          3,
          3,
          3,
          3,
          3,
          3,
          3,
          3,
          3,
          3,
          3,
          3,
          3,
          3,
          3,
          3,
          3,
          3,
          3,
          3,
          3,
          3,
          3,
          3,
          3,
          3,
          3,
          3,
          3,
          3,
          3,
          3,
          3,
          3,
          2,
          2,
          2,
          2,
          2,
          2,
          2,
          2,
          2,
          2,
          2,
          2,
          2,
          2,
          2,
          2,
          2,
          2,
          2,
          2,
          2,
          2,
          2,
          2,
          2,
          2,
          2,
          2,
          2,
          2,
          2,
          2,
          2,
          2,
          2,
          2,
          2,
          2,
          2,
          2,
          2,
          2,
          2,
          2,
          2,
          2,
          2,
          2,
          2,
          2,
          2,
          2,
          2,
          2,
          2,
          2,
          2,
          2,
          2,
          2,
          2,
          2,
          2,
          2,
          2,
          2,
          2,
          2,
          2,
          2,
          2,
          2,
          2,
          2,
          2,
          2,
          2,
          2,
          2,
          2,
          2,
          2,
          2,
          2,
          2,
          2,
          2,
          2,
          2,
          2,
          2,
          2,
          2,
          2,
          2,
          2,
          2,
          2,
          2,
          2,
          2,
          2,
          2,
          2,
          2,
          2,
          2,
          2,
          2,
          2,
          2,
          2,
          2,
          2,
          2,
          2,
          2,
          2,
          2,
          2,
          2,
          2,
          2,
          2,
          2,
          2,
          2,
          2,
          2,
          2,
          2,
          2,
          2,
          2,
          2,
          2,
          2,
          2,
          2,
          2,
          2,
          2,
          2,
          2,
          2,
          2,
          2,
          2,
          2,
          2,
          2,
          2,
          2,
          2,
          2,
          2,
          2,
          2,
          2,
          2,
          2,
          2,
          2,
          2,
          2,
          2,
          2,
          2,
          2,
          2,
          2,
          2,
          2,
          2,
          2,
          2,
          2,
          2,
          2,
          2,
          2,
          2,
          2,
          2,
          2,
          2,
          2,
          2,
          2,
          2,
          2,
          2,
          2,
          2,
          2,
          2,
          2,
          2,
          2,
          2,
          2,
          2,
          2,
          2,
          2,
          2,
          2,
          2,
          2,
          2,
          2,
          2,
          2,
          2,
          2,
          2,
          2,
          2,
          2,
          2,
          2,
          2,
          2,
          2,
          2,
          2,
          2,
          2,
          2,
          2,
          2,
          2,
          2,
          2,
          2,
          2,
          2,
          2,
          2,
          2,
          2,
          2,
          2,
          2,
          2,
          2,
          2,
          2,
          2,
          2,
          2,
          2,
          2,
          2,
          2,
          2,
          2,
          2,
          2,
          2,
          2,
          2,
          2,
          2,
          2,
          2,
          2,
          2,
          2,
          2,
          2,
          2,
          2,
          2,
          2,
          2,
          2,
          2,
          2,
          2,
          2,
          2,
          2,
          2,
          2,
          2,
          2,
          2,
          2,
          2,
          2,
          2,
          2,
          1,
          1,
          1,
          1,
          1,
          1,
          1,
          1,
          1,
          1,
          1,
          1,
          1,
          1,
          1,
          1,
          1,
          1,
          1,
          1,
          1,
          1,
          1,
          1,
          1,
          1,
          1,
          1,
          1,
          1,
          1,
          1,
          1,
          1,
          1,
          1,
          1,
          1,
          1,
          1,
          1,
          1,
          1,
          1,
          1,
          1,
          1,
          1,
          1,
          1,
          1,
          1,
          1,
          1,
          1,
          1,
          1,
          1,
          1,
          1,
          1,
          1,
          1,
          1,
          1,
          1,
          1,
          1,
          1,
          1,
          1,
          1,
          1,
          1,
          1,
          1,
          1,
          1,
          1,
          1,
          1,
          1,
          1,
          1,
          1,
          1,
          1,
          1,
          1,
          1,
          1,
          1,
          1,
          1,
          1,
          1,
          1,
          1,
          1,
          1,
          1,
          1,
          1,
          1,
          1,
          1,
          1,
          1,
          1,
          1,
          1,
          1,
          1,
          1,
          1,
          1,
          1,
          1,
          1,
          1,
          1,
          1,
          1,
          1,
          1,
          1,
          1,
          1,
          1,
          1,
          1,
          1,
          1,
          1,
          1,
          1,
          1,
          1,
          1,
          1,
          1,
          1,
          1,
          1,
          1,
          1,
          1,
          1,
          1,
          1,
          1,
          1,
          1,
          1,
          1,
          1,
          1,
          1,
          1,
          1,
          1,
          1,
          1,
          1,
          1,
          1,
          1,
          1,
          1,
          1,
          1,
          1,
          1,
          1,
          1,
          1,
          1,
          1,
          1,
          1,
          1,
          1,
          1,
          1,
          1,
          1,
          1,
          1,
          1,
          1,
          1,
          1,
          1,
          1,
          1,
          1,
          1,
          1,
          1,
          1,
          1,
          1,
          1,
          1,
          1,
          1,
          1,
          1,
          1,
          1,
          1,
          1,
          1,
          1,
          1,
          1,
          1,
          1,
          1,
          1,
          1,
          1,
          1,
          1,
          1,
          1,
          1,
          1,
          1,
          1,
          1,
          1,
          1,
          1,
          1,
          1,
          1,
          1,
          1,
          1,
          1,
          1,
          1,
          1,
          1,
          1,
          1,
          1,
          1,
          1,
          1,
          1,
          1,
          1,
          1,
          1,
          1,
          1,
          1,
          1,
          1,
          1,
          1,
          1,
          1,
          1,
          1,
          1,
          1,
          1,
          1,
          1,
          1,
          1,
          1,
          1,
          1,
          1,
          1,
          1,
          1,
          1,
          1,
          1,
          1,
          1,
          1,
          1,
          1,
          1,
          1,
          1,
          1,
          1,
          1,
          1,
          1,
          1,
          1,
          1,
          1,
          1,
          1,
          1,
          1,
          1,
          1,
          1,
          1,
          1,
          1,
          1,
          1,
          1,
          1,
          1,
          1,
          1,
          1,
          1,
          1,
          1,
          1,
          1,
          1,
          1,
          1,
          1,
          1,
          1,
          1,
          1,
          1,
          1,
          1,
          1,
          1,
          1,
          1,
          1,
          1,
          1,
          1,
          1,
          1,
          1,
          1,
          1,
          1,
          1,
          1,
          1,
          1,
          1,
          1,
          1,
          1,
          1,
          1,
          1,
          1,
          1,
          1,
          1,
          1,
          1,
          1,
          1,
          1,
          1,
          1,
          1,
          1,
          1,
          1,
          1,
          1,
          1,
          1,
          1,
          1,
          1,
          1,
          1,
          1,
          1,
          1,
          1,
          1,
          1,
          1,
          1,
          1,
          1,
          1,
          1,
          1,
          1,
          1,
          1,
          1,
          1,
          1,
          1,
          1,
          1,
          1,
          1,
          1,
          1,
          1,
          1,
          1,
          1,
          1,
          1,
          1,
          1,
          1,
          1,
          1,
          1,
          1,
          1,
          1,
          1,
          1,
          1,
          1,
          1,
          1,
          1,
          1,
          1,
          1,
          1,
          1,
          1,
          1,
          1,
          1,
          1,
          1,
          1,
          1,
          1,
          1,
          1,
          1,
          1,
          1,
          1,
          1,
          1,
          1,
          1,
          1,
          1,
          1,
          1,
          1,
          1,
          1,
          1,
          1,
          1,
          1,
          1,
          1,
          1,
          1,
          1,
          1,
          1,
          1,
          1,
          1,
          1,
          1,
          1,
          1,
          1,
          1,
          1,
          1,
          1,
          1,
          1,
          1,
          1,
          1,
          1,
          1,
          1,
          1,
          1,
          1,
          1,
          1,
          1,
          1,
          1,
          1,
          1,
          1,
          1,
          1,
          1,
          1,
          1,
          1,
          1,
          1,
          1,
          1,
          1,
          1,
          1,
          1,
          1,
          1,
          1,
          1,
          1,
          1,
          1,
          1,
          1,
          1,
          1,
          1,
          1,
          1,
          1,
          1,
          1,
          1,
          1,
          1,
          1,
          1,
          1,
          1,
          1,
          1,
          1,
          1,
          1,
          1,
          1,
          1,
          1,
          1,
          1,
          1,
          1,
          1,
          1,
          1,
          1,
          1,
          1,
          1,
          1,
          1,
          1,
          1,
          1,
          1,
          1,
          1,
          1,
          1,
          1,
          1,
          1,
          1,
          1,
          1,
          1,
          1,
          1,
          1,
          1,
          1,
          1,
          1,
          1,
          1,
          1,
          1,
          1,
          1,
          1,
          1,
          1,
          1,
          1,
          1,
          1,
          1,
          1,
          1,
          1,
          1,
          1,
          1,
          1,
          1,
          1,
          1,
          1,
          1,
          1,
          1,
          1,
          1,
          1,
          1,
          1,
          1,
          1,
          1,
          1,
          1,
          1,
          1,
          1,
          1,
          1,
          1,
          1,
          1,
          1,
          1,
          1,
          1,
          1,
          1,
          1,
          1,
          1,
          1,
          1,
          1,
          1,
          1,
          1,
          1,
          1,
          1,
          1,
          1,
          1,
          1,
          1,
          1,
          1,
          1,
          1,
          1,
          1,
          1,
          1,
          1,
          1,
          1,
          1,
          1,
          1,
          1,
          1,
          1,
          1,
          1,
          1,
          1,
          1,
          1,
          1,
          1,
          1,
          1,
          1,
          1,
          1,
          1,
          1,
          1,
          1,
          1,
          1,
          1,
          1,
          1,
          1,
          1,
          1,
          1,
          1,
          1,
          1,
          1,
          1,
          1,
          1,
          1,
          1,
          1,
          1,
          1,
          1,
          1,
          1,
          1,
          1,
          1,
          1,
          1,
          1,
          1,
          1,
          1,
          1,
          1,
          1,
          1,
          1,
          1,
          1,
          1,
          1,
          1,
          1,
          1,
          1,
          1,
          1,
          1,
          1,
          1,
          1,
          1,
          1,
          1,
          1,
          1,
          1,
          1,
          1,
          1,
          1,
          1,
          1,
          1,
          1,
          1,
          1,
          1,
          1,
          1,
          1,
          1,
          1,
          1,
          1,
          1,
          1,
          1,
          1,
          1,
          1,
          1,
          1,
          1,
          1,
          1,
          1,
          1,
          1,
          1,
          1,
          1,
          1,
          1,
          1,
          1,
          1,
          1,
          1,
          1,
          1,
          1,
          1,
          1,
          1,
          1,
          1,
          1,
          1,
          1,
          1,
          1,
          1,
          1,
          1,
          1,
          1,
          1,
          1,
          1,
          1,
          1,
          1,
          1,
          1,
          1,
          1,
          1,
          1,
          1,
          1,
          1,
          1,
          1,
          1,
          1,
          1,
          1,
          1,
          1,
          1,
          1,
          1,
          1,
          1,
          1,
          1,
          1,
          1,
          1,
          1,
          1,
          1,
          1,
          1,
          1,
          1,
          1,
          1,
          1,
          1,
          1,
          1,
          1,
          1,
          1,
          1,
          1,
          1,
          1,
          1,
          1,
          1,
          1,
          1,
          1,
          1,
          1,
          1,
          1,
          1,
          1,
          1,
          1,
          1,
          1,
          1,
          1,
          1,
          1,
          1,
          1,
          1,
          1,
          1,
          1,
          1,
          1,
          1,
          1,
          1,
          1,
          1,
          1,
          1,
          1,
          1,
          1,
          1,
          1,
          1,
          1,
          1,
          1,
          1,
          1,
          1,
          1,
          1,
          1,
          1,
          1,
          1,
          1,
          1,
          1,
          1,
          1,
          1,
          1,
          1,
          1,
          1,
          1,
          1,
          1,
          1,
          1,
          1,
          1,
          1,
          1,
          1,
          1,
          1,
          1,
          1,
          1,
          1,
          1,
          1,
          1,
          1,
          1,
          1,
          1,
          1,
          1,
          1,
          1,
          1,
          1,
          1,
          1,
          1,
          1,
          1,
          1,
          1,
          1,
          1,
          1,
          1,
          1,
          1,
          1,
          1,
          1,
          1,
          1,
          1,
          1,
          1,
          1,
          1,
          1,
          1,
          1,
          1,
          1,
          1,
          1,
          1,
          1,
          1,
          1,
          1,
          1,
          1,
          1,
          1,
          1,
          1,
          1,
          1,
          1,
          1,
          1,
          1,
          1,
          1,
          1,
          1,
          1,
          1,
          1,
          1,
          1,
          1,
          1,
          1,
          1,
          1,
          1,
          1,
          1,
          1,
          1,
          1,
          1,
          1,
          1,
          1,
          1,
          1,
          1,
          1,
          1,
          1,
          1,
          1,
          1,
          1,
          1,
          1,
          1,
          1,
          1,
          1,
          1,
          1,
          1,
          1,
          1,
          1,
          1,
          1,
          1,
          1,
          1,
          1,
          1,
          1,
          1,
          1,
          1,
          1,
          1,
          1,
          1,
          1,
          1,
          1,
          1,
          1,
          1,
          1,
          1,
          1,
          1,
          1,
          1,
          1,
          1,
          1,
          1,
          1,
          1,
          1,
          1,
          1,
          1,
          1,
          1,
          1,
          1,
          1,
          1,
          1,
          1,
          1,
          1,
          1,
          1,
          1,
          1,
          1,
          1,
          1,
          1,
          1,
          1,
          1,
          1,
          1,
          1,
          1,
          1,
          1,
          1,
          1,
          1,
          1,
          1,
          1,
          1,
          1,
          1,
          1,
          1,
          1,
          1,
          1,
          1,
          1,
          1,
          1,
          1,
          1,
          1,
          1,
          1,
          1,
          1,
          1,
          1,
          1,
          1,
          1,
          1,
          1,
          1,
          1,
          1,
          1,
          1,
          1,
          1,
          1,
          1,
          1,
          1,
          1,
          1,
          1,
          1,
          1,
          1,
          1,
          1,
          1,
          1,
          1,
          1,
          1,
          1,
          1,
          1,
          1,
          1,
          1,
          1,
          1,
          1,
          1,
          1,
          1,
          1,
          1,
          1,
          1,
          1,
          1,
          1,
          1,
          1,
          1,
          1,
          1,
          1,
          1,
          1,
          1,
          1,
          1,
          1,
          1,
          1,
          1,
          1,
          1,
          1,
          1,
          1,
          1,
          1,
          1,
          1,
          1,
          1,
          1,
          1,
          1,
          1,
          1,
          1,
          1,
          1,
          1,
          1,
          1,
          1,
          1,
          1,
          1,
          1,
          1,
          1,
          1,
          1,
          1,
          1,
          1,
          1,
          1,
          1,
          1,
          1,
          1,
          1,
          1,
          1,
          1,
          1,
          1,
          1,
          1,
          1,
          1,
          1,
          1,
          1,
          1,
          1,
          1,
          1,
          1,
          1,
          1,
          1,
          1,
          1,
          1,
          1,
          1,
          1,
          1,
          1,
          1,
          1,
          1,
          1,
          1,
          1,
          1,
          1,
          1,
          1,
          1,
          1,
          1,
          1,
          1,
          1,
          1,
          1,
          1,
          1,
          1,
          1,
          1,
          1,
          1,
          1,
          1,
          1,
          1,
          1,
          1,
          1,
          1,
          1,
          1,
          1,
          1,
          1,
          1,
          1,
          1,
          1,
          1,
          1,
          1,
          1,
          1,
          1,
          1,
          1,
          1,
          1,
          1,
          1,
          1,
          1,
          1,
          1,
          1,
          1
         ],
         "xaxis": "x",
         "y": [
          4.45,
          2.15,
          1.5,
          1.25,
          1.25,
          1.69,
          3.99,
          2.95,
          1.25,
          2.95,
          2.95,
          2.39,
          1.25,
          1.09,
          2.39,
          1.09,
          2.39,
          6.49,
          2.95,
          1.09,
          8.75,
          6.49,
          1.09,
          8.75,
          1.09,
          2.39,
          1.09,
          1.25,
          8.75,
          8.75,
          8.75,
          8.75,
          11.25,
          1.09,
          8.75,
          8.75,
          8.75,
          8.99,
          8.75,
          11.25,
          8.75,
          8.49,
          8.75,
          8.75,
          8.75,
          8.49,
          11.25,
          8.75,
          8.75,
          8.75,
          11.25,
          3.39,
          3.39,
          8.49,
          9.25,
          3.39,
          8.75,
          11.25,
          8.49,
          8.75,
          3.39,
          8.75,
          11.25,
          9.25,
          8.75,
          11.25,
          11.25,
          9.25,
          8.49,
          8.49,
          11.25,
          11.25,
          8.75,
          9.25,
          9.25,
          3.89,
          11.75,
          9.25,
          8.75,
          3.39,
          8.75,
          8.99,
          8.75,
          11.75,
          11.08,
          11.75,
          9.25,
          8.49,
          8.75,
          8.49,
          9.25,
          8.75,
          8.75,
          11.25,
          8.49,
          11.25,
          3.39,
          11.25,
          11.25,
          11.25,
          6.49,
          8.75,
          8.75,
          11.75,
          11.25,
          8.99,
          8.75,
          11.75,
          8.75,
          11.25,
          11.25,
          8.75,
          8.75,
          8.49,
          8.99,
          8.99,
          8.75,
          11.25,
          8.99,
          11.25,
          11.75,
          10.98,
          9.25,
          8.75,
          11.75,
          9.25,
          9.25,
          8.75,
          11.25,
          11.75,
          10.98,
          9.25,
          8.75,
          8.75,
          9.25,
          8.75,
          3.39,
          8.49,
          11.25,
          8.49,
          8.69,
          8.75,
          8.75,
          8.49,
          9.25,
          8.75,
          9.25,
          8.75,
          8.99,
          8.49,
          11.75,
          11.25,
          11.25,
          8.49,
          11.25,
          8.75,
          8.49,
          8.75,
          10.98,
          8.75,
          8.49,
          8.75,
          8.49,
          8.49,
          11.25,
          8.75,
          8.75,
          8.99,
          8.75,
          8.75,
          8.75,
          8.75,
          8.49,
          11.25,
          11.25,
          8.75,
          11.25,
          8.75,
          8.75,
          11.25,
          11.25,
          8.75,
          8.49,
          8.75,
          8.75,
          8.49,
          8.49,
          8.75,
          8.75,
          10.98,
          8.75,
          8.75,
          11.25,
          8.75,
          8.75,
          8.75,
          8.75,
          8.75,
          8.75,
          8.75,
          11.25,
          8.75,
          11.25,
          11.25,
          8.49,
          8.75,
          8.49,
          9.25,
          11.25,
          9.25,
          8.49,
          8.75,
          9.25,
          8.75,
          11.25,
          10.98,
          8.75,
          11.25,
          11.25,
          11.25,
          9.25,
          7.4,
          9.25,
          11.75,
          8.69,
          11.75,
          9.25,
          9.25,
          9.25,
          9.25,
          9.25,
          11.75,
          9.25,
          9.25,
          11.75,
          11.75,
          9.25,
          8.99,
          8.99,
          8.75,
          11.25,
          8.75,
          8.75,
          11.25,
          11.25,
          8.49,
          11.25,
          11.25,
          8.75,
          8.49,
          11.75,
          11.75,
          11.25,
          8.75,
          11.75,
          2.29,
          8.75,
          8.99,
          8.99,
          8.49,
          10.98,
          10.98,
          8.75,
          11.25,
          8.5,
          8.99,
          8.49,
          8.99,
          10.98,
          8.99,
          8.49,
          9.25,
          8.99,
          8.99,
          11.48,
          8.99,
          9.25,
          11.75,
          11.25,
          10.98,
          8.49,
          9.25,
          8.49,
          11.75,
          9.39,
          8.99,
          9.25,
          8.49,
          9.25,
          9.25,
          9.25,
          11.75,
          11.25,
          8.49,
          11.75,
          8.49,
          8.49,
          9.25,
          10.98,
          9.25,
          11.75,
          11.75,
          8.75,
          8.75,
          9.25,
          11.75,
          9.25,
          10.98,
          8.75,
          11.25,
          8.49,
          8.49,
          10.98,
          8.75,
          8.75,
          8.49,
          11.25,
          8.75,
          8.75,
          11.25,
          11.25,
          11.25,
          11.25,
          8.75,
          8.75,
          11.25,
          11.25,
          11.25,
          8.75,
          11.25,
          11.25,
          11.25,
          11.25,
          11.25,
          8.49,
          8.49,
          8.49,
          11.25,
          8.75,
          8.75,
          8.49,
          11.25,
          8.75,
          8.75,
          11.89,
          11.89,
          8.99,
          11.25,
          11.75,
          8.75,
          8.99,
          11.48,
          8.49,
          8.49,
          8.49,
          11.25,
          8.75,
          8.49,
          11.25,
          8.49,
          8.49,
          8.75,
          11.25,
          11.25,
          11.25,
          11.25,
          10.98,
          8.49,
          11.08,
          9.25,
          8.99,
          8.99,
          11.25,
          8.75,
          11.25,
          11.25,
          11.25,
          8.75,
          8.75,
          8.75,
          8.75,
          11.25,
          8.99,
          8.75,
          11.75,
          9.25,
          11.25,
          11.25,
          11.75,
          9.25,
          8.75,
          11.25,
          9.25,
          9.25,
          11.75,
          11.75,
          11.25,
          9.25,
          10.98,
          8.75,
          11.25,
          8.75,
          11.25,
          11.25,
          8.49,
          8.49,
          8.19,
          4.25,
          8.19,
          9.25,
          11.75,
          9.25,
          8.75,
          4,
          10.98,
          8.75,
          10.98,
          10.98,
          11.75,
          9.25,
          11.75,
          8.75,
          9.25,
          11.25,
          8.75,
          11.75,
          8.75,
          8.75,
          9.25,
          9.25,
          9.25,
          9.25,
          11.75,
          8.75,
          9.25,
          8.75,
          11.25,
          9.25,
          11.75,
          8.99,
          9.25,
          8.75,
          11.25,
          11.25,
          8.49,
          9.25,
          8.49,
          11.75,
          11.75,
          8.75,
          8.75,
          8.75,
          8.75,
          8.75,
          11.75,
          11.25,
          8.49,
          11.75,
          8.49,
          10.98,
          9.25,
          11.75,
          8.49,
          11.25,
          8.75,
          10.98,
          9.25,
          8.99,
          8.99,
          11.25,
          8.99,
          11.25,
          11.25,
          11.25,
          8.99,
          8.99,
          11.48,
          11.25,
          8.99,
          8.75,
          10.98,
          9.25,
          9.25,
          11.75,
          8.75,
          10.98,
          11.75,
          9.25,
          11.75,
          11.25,
          9.25,
          9.25,
          8.99,
          11.25,
          11.25,
          9.25,
          11.25,
          9.25,
          11.25,
          8.69,
          11.48,
          11.25,
          8.49,
          8.99,
          8.75,
          9.25,
          9.25,
          11.25,
          11.75,
          9.25,
          8.75,
          9.39,
          9.25,
          8.75,
          10.98,
          9.25,
          9.25,
          10.98,
          10.98,
          9.25,
          11.25,
          11.25,
          11.75,
          11.25,
          9.25,
          9.25,
          8.99,
          8.49,
          11.75,
          8.49,
          11.75,
          11.08,
          11.48,
          8.75,
          11.48,
          6.49,
          11.75,
          11.75,
          9.25,
          8.75,
          6.49,
          11.25,
          11.25,
          9.25,
          11.25,
          8.99,
          8.99,
          8.49,
          8.75,
          11.75,
          8.99,
          11.08,
          11.75,
          8.99,
          8.99,
          8.69,
          9.25,
          9.25,
          11.08,
          9.25,
          8.99,
          8.99,
          11.75,
          11.75,
          11.75,
          9.25,
          11.75,
          9.25,
          11.75,
          9.25,
          9.25,
          8.99,
          8.99,
          11.75,
          8.99,
          8.99,
          8.99,
          8.99,
          11.48,
          8.99,
          8.99,
          11.48,
          8.99,
          9.25,
          11.48,
          11.48,
          11.48,
          11.48,
          8.99,
          8.99,
          11.75,
          11.48,
          8.99,
          11.48,
          8.99,
          11.75,
          8.99,
          9.25,
          11.75,
          11.75,
          11.75,
          8.69,
          8.99,
          11.75,
          8.99,
          8.49,
          11.75,
          11.75,
          11.75,
          9.25,
          9.25,
          9.25,
          9.25,
          11.75,
          11.75,
          11.75,
          11.75,
          11.75,
          9.25,
          11.75,
          11.75,
          11.75,
          8.99,
          8.99,
          8.99,
          11.48,
          8.99,
          11.75,
          11.75,
          8.99,
          9.25,
          9.25,
          9.25,
          11.75,
          9.25,
          11.75,
          9.25,
          11.75,
          11.75,
          9.25,
          11.75,
          11.75,
          11.75,
          11.75,
          11.75,
          9.25,
          9.25,
          9.25,
          9.25,
          9.25,
          9.25,
          11.75,
          11.75,
          11.75,
          9.25,
          9.25,
          9.25,
          9.25,
          9.25,
          11.75,
          8.99,
          9.25,
          11.75,
          9.25,
          9.25,
          11.75,
          11.75,
          9.25,
          9.25,
          11.75,
          11.75,
          9.25,
          11.75,
          8.99,
          8.99,
          11.48,
          8.99,
          9.25,
          8.99,
          8.99,
          8.99,
          8.99,
          8.99,
          8.99,
          9.25,
          8.99,
          8.99,
          8.99,
          8.69,
          8.99,
          11.75,
          9.25,
          11.75,
          11.48,
          9.25,
          8.99,
          7.4,
          11.48,
          9.25,
          8.99,
          7.4,
          7.4,
          9.25,
          11.75,
          11.75,
          9.25,
          11.75,
          9.25,
          11.75,
          11.75,
          11.75,
          11.75,
          9.25,
          11.75,
          9.25,
          11.75,
          9.25,
          8.99,
          9.25,
          9.25,
          11.75,
          11.75,
          11.75,
          11.75,
          11.75,
          11.75,
          9.25,
          11.75,
          11.75,
          9.25,
          9.25,
          11.75,
          11.75,
          11.75,
          9.25,
          11.75,
          7.4,
          11.75,
          8.99,
          7.4,
          7.4,
          7.4,
          11.48,
          8.99,
          8.99,
          9.25,
          9.25,
          7.4,
          9.25,
          11.75,
          11.75,
          9.25,
          9.25,
          9.25,
          3,
          9.25,
          11.75,
          9.25,
          11.08,
          7.4,
          8.69,
          8.69,
          11.75,
          11.75,
          9.25,
          11.75,
          7.4,
          11.75,
          8.99,
          11.48,
          8.99,
          7.4,
          11.48,
          8.99,
          8.99,
          8.99,
          8.99,
          8.99,
          8.99,
          8.99,
          9.25,
          11.75,
          11.75,
          9.25,
          9.25,
          9.25,
          11.75,
          11.75,
          9.25,
          11.75,
          9.25,
          11.75,
          8.99,
          11.75,
          11.75,
          9.25,
          11.75,
          8.99,
          11.75,
          11.75,
          8.99,
          11.75,
          9.25,
          11.75,
          9.25,
          8.99,
          8.99,
          8.99,
          8.99,
          11.75,
          11.48,
          8.99,
          8.99,
          11.48,
          11.48,
          8.99,
          8.99,
          8.99,
          8.99,
          9.25,
          8.99,
          8.99,
          11.75,
          9.25,
          11.48,
          9.25,
          11.75,
          9.25,
          9.25,
          11.75,
          9.25,
          11.75,
          11.75,
          9.25,
          9.25,
          9.25,
          11.48,
          8.99,
          8.99,
          9.25,
          8.99,
          8.99,
          11.48,
          9.25,
          11.75,
          9.25,
          11.89,
          9.25,
          9.25,
          11.75,
          11.75,
          11.89,
          9.25,
          11.89,
          9.39,
          9.25,
          9.25,
          9.25,
          11.75,
          9.25,
          11.89,
          9.39,
          9.39,
          11.89,
          9.25,
          8.69,
          11.75,
          11.75,
          11.25,
          11.25,
          8.75,
          8.75,
          9.25,
          11.25,
          11.25,
          11.25,
          8.75,
          8.75,
          11.25,
          11.75,
          11.25,
          11.75,
          8.75,
          11.75,
          8.75,
          11.25,
          11.75,
          11.25,
          8.75,
          8.49,
          8.49,
          8.49,
          8.49,
          8.49,
          10.98,
          11.25,
          9.25,
          8.75,
          11.25,
          11.25,
          8.75,
          11.25,
          11.25,
          8.75,
          8.75,
          8.75,
          8.75,
          8.75,
          8.49,
          8.99,
          9.25,
          9.25,
          9.25,
          11.75,
          9.25,
          9.25,
          9.25,
          11.75,
          11.75,
          9.25,
          9.25,
          9.25,
          9.25,
          9.25,
          8.99,
          8.99,
          9.25,
          9.25,
          8.99,
          11.25,
          8.99,
          11.25,
          11.75,
          8.75,
          11.25,
          11.25,
          11.25,
          11.75,
          11.75,
          10.98,
          8.99,
          8.99,
          11.48,
          9.25,
          8.99,
          8.99,
          8.99,
          8.99,
          8.49,
          8.49,
          11.75,
          8.75,
          11.25,
          11.25,
          8.49,
          10.98,
          10.98,
          8.49,
          8.49,
          8.49,
          8.49,
          8.49,
          10.98,
          8.49,
          8.49,
          11.25,
          9.25,
          8.75,
          11.25,
          8.75,
          11.25,
          11.25,
          8.75,
          8.75,
          8.49,
          11.25,
          8.75,
          8.49,
          8.49,
          8.69,
          8.49,
          8.69,
          11.25,
          8.75,
          8.75,
          8.75,
          11.25,
          8.75,
          8.75,
          11.25,
          11.75,
          8.75,
          10.98,
          9.25,
          8.75,
          9.25,
          11.25,
          8.75,
          8.49,
          11.75,
          9.25,
          8.49,
          11.49,
          8.49,
          8.49,
          8.49,
          8.49,
          8.49,
          8.49,
          8.49,
          10.98,
          9.25,
          8.75,
          11.25,
          9.25,
          11.25,
          11.25,
          8.75,
          11.25,
          11.25,
          8.75,
          8.49,
          10.98,
          8.49,
          11.75,
          11.25,
          11.25,
          8.75,
          8.75,
          11.25,
          11.25,
          11.25,
          9.25,
          9.25,
          9.25,
          8.99,
          8.99,
          8.99,
          8.99,
          11.48,
          8.99,
          8.99,
          9.25,
          8.99,
          9.25,
          11.48,
          8.99,
          8.99,
          8.99,
          8.99,
          9.25,
          9.25,
          9.25,
          11.48,
          8.99,
          11.75,
          8.99,
          11.48,
          8.99,
          8.99,
          11.48,
          8.99,
          11.48,
          8.99,
          11.48,
          8.99,
          11.75,
          9.25,
          8.99,
          11.75,
          8.99,
          8.99,
          9.25,
          11.75,
          9.25,
          9.25,
          9.25,
          11.75,
          11.75,
          11.75,
          9.25,
          9.25,
          11.75,
          9.25,
          9.25,
          9.25,
          11.75,
          11.75,
          11.75,
          11.75,
          9.25,
          11.75,
          9.25,
          9.25,
          11.75,
          9.25,
          9.25,
          9.25,
          9.25,
          9.25,
          9.25,
          9.25,
          9.25,
          11.75,
          9.25,
          8.99,
          9.25,
          11.75,
          11.75,
          8.99,
          11.75,
          11.75,
          9.25,
          9.25,
          8.69,
          11.75,
          11.48,
          8.99,
          11.48,
          11.89,
          9.39,
          11.89,
          11.89,
          11.89,
          11.89,
          11.89,
          11.89,
          11.89,
          11.89,
          9.39,
          11.89,
          11.89,
          9.39,
          9.39,
          11.89,
          9.39,
          8.99,
          9.39,
          9.39,
          11.08,
          11.89,
          9.25,
          9.25,
          11.75,
          9.25,
          9.25,
          9.25,
          11.75,
          9.25,
          8.99,
          8.69,
          9.25,
          8.99,
          11.89,
          11.89,
          9.39,
          11.89,
          11.89,
          8.99,
          8.69,
          8.99,
          8.99,
          8.99,
          8.99,
          8.69,
          8.99,
          8.99,
          8.99,
          8.99,
          8.99,
          8.99,
          8.99,
          8.69,
          11.48,
          8.99,
          11.48,
          8.99,
          8.99,
          8.99,
          11.75,
          9.25,
          9.25,
          11.48,
          9.25,
          9.25,
          9.25,
          9.25,
          9.25,
          8.99,
          11.75,
          9.25,
          9.25,
          8.99,
          9.25,
          9.25,
          11.75,
          11.48,
          9.25,
          11.75,
          11.75,
          8.99,
          11.75,
          11.25,
          11.25,
          11.25,
          10.98,
          8.49,
          11.25,
          8.49,
          8.75,
          8.75,
          11.25,
          8.19,
          11.25,
          8.49,
          8.75,
          10.98,
          10.98,
          8.75,
          11.25,
          11.25,
          11.25,
          11.25,
          8.75,
          10.98,
          8.19,
          8.49,
          8.49,
          11.25,
          10.98,
          8.49,
          10.98,
          10.98,
          11.25,
          11.25,
          11.25,
          8.75,
          10.98,
          8.49,
          8.49,
          10.98,
          11.25,
          8.75,
          8.75,
          11.25,
          8.75,
          8.49,
          10.98,
          10.98,
          8.19,
          10.58,
          10.58,
          10.58,
          10.58,
          8.19,
          8.49,
          8.49,
          10.98,
          10.98,
          8.49,
          10.98,
          8.49,
          8.49,
          8.49,
          11.25,
          8.75,
          8.49,
          11.25,
          8.75,
          11.25,
          8.75,
          8.75,
          11.25,
          8.75,
          11.25,
          8.49,
          11.25,
          11.25,
          10.98,
          8.49,
          8.49,
          10.98,
          8.49,
          10.98,
          8.19,
          8.75,
          8.49,
          11.25,
          11.25,
          8.75,
          8.99,
          8.75,
          11.25,
          9.25,
          11.25,
          9.25,
          9.25,
          10.58,
          8.75,
          11.25,
          8.75,
          8.75,
          11.25,
          8.75,
          8.75,
          8.75,
          8.99,
          8.99,
          8.99,
          8.75,
          11.25,
          8.75,
          8.75,
          8.75,
          11.89,
          11.25,
          8.75,
          8.75,
          8.75,
          8.75,
          8.75,
          11.25,
          11.25,
          11.89,
          9.39,
          8.75,
          8.99,
          11.25,
          9.25,
          8.75,
          8.75,
          11.25,
          11.25,
          11.25,
          8.75,
          8.75,
          9.25,
          9.25,
          8.75,
          8.75,
          9.25,
          9.25,
          11.25,
          11.75,
          9.25,
          8.99,
          8.75,
          8.75,
          9.25,
          8.19,
          8.75,
          8.19,
          11.75,
          9.25,
          8.49,
          8.99,
          10.98,
          8.49,
          8.49,
          11.75,
          10.98,
          8.49,
          8.49,
          8.49,
          9.25,
          9.25,
          9.25,
          10.98,
          10.98,
          8.49,
          8.75,
          9.25,
          11.25,
          8.75,
          11.25,
          8.75,
          8.75,
          11.25,
          8.75,
          8.75,
          11.25,
          8.75,
          8.75,
          11.25,
          8.75,
          11.25,
          8.75,
          8.75,
          11.25,
          11.25,
          8.75,
          11.25,
          8.75,
          11.25,
          8.75,
          8.75,
          8.75,
          11.25,
          11.25,
          8.75,
          11.25,
          11.25,
          8.75,
          11.25,
          11.25,
          11.25,
          11.25,
          11.25,
          8.75,
          11.25,
          8.75,
          11.25,
          8.75,
          8.49,
          11.25,
          8.75,
          11.25,
          8.75,
          11.25,
          8.75,
          8.75,
          8.75,
          11.25,
          11.25,
          11.25,
          8.75,
          8.75,
          8.75,
          11.25,
          8.75,
          8.75,
          11.25,
          11.25,
          11.25,
          11.25,
          10.98,
          8.49,
          10.98,
          11.25,
          8.75,
          10.98,
          11.25,
          10.98,
          8.75,
          10.98,
          8.49,
          11.25,
          8.75,
          8.75,
          8.49,
          11.25,
          8.75,
          11.25,
          8.75,
          8.75,
          8.75,
          8.49,
          8.49,
          8.75,
          11.25,
          8.49,
          11.25,
          11.25,
          8.75,
          11.25,
          11.25,
          8.75,
          11.25,
          8.49,
          10.98,
          8.49,
          11.25,
          8.49,
          8.49,
          8.49,
          8.49,
          8.49,
          8.49,
          8.49,
          10.98,
          8.49,
          8.75,
          10.98,
          8.49,
          10.98,
          8.75,
          11.25,
          11.25,
          8.49,
          10.98,
          10.98,
          11.25,
          8.49,
          8.49,
          10.98,
          11.25,
          10.98,
          8.49,
          8.49,
          8.49,
          8.75,
          8.75,
          11.25,
          8.75,
          11.25,
          11.25,
          11.25,
          11.25,
          8.75,
          8.75,
          8.75,
          11.25,
          8.75,
          8.75,
          8.75,
          8.75,
          8.75,
          11.25,
          8.75,
          11.25,
          8.49,
          11.25,
          10.98,
          11.25,
          8.49,
          8.75,
          8.75,
          11.25,
          11.25,
          11.25,
          8.75,
          8.75,
          8.75,
          11.25,
          8.75,
          11.25,
          11.25,
          11.25,
          8.75,
          11.89,
          8.75,
          8.19,
          8.75,
          8.75,
          8.75,
          8.75,
          11.25,
          8.75,
          11.25,
          11.25,
          11.25,
          11.25,
          8.49,
          8.99,
          8.75,
          8.75,
          8.75,
          8.99,
          8.75,
          8.75,
          8.75,
          8.75,
          11.25,
          11.25,
          8.75,
          8.49,
          8.99,
          8.75,
          8.75,
          11.25,
          8.99,
          8.75,
          8.99,
          8.75,
          8.75,
          8.75,
          8.75,
          8.99,
          11.25,
          8.99,
          8.75,
          8.75,
          8.99,
          11.48,
          11.25,
          8.99,
          11.25,
          8.99,
          11.75,
          11.25,
          9.25,
          8.75,
          11.25,
          9.25,
          11.25,
          11.25,
          8.75,
          9.25,
          8.49,
          11.75,
          8.75,
          8.75,
          9.25,
          11.25,
          8.99,
          8.75,
          11.25,
          11.48,
          11.25,
          8.75,
          8.75,
          11.25,
          11.48,
          11.08,
          8.75,
          11.25,
          11.25,
          11.25,
          8.75,
          11.25,
          11.25,
          11.25,
          8.75,
          8.75,
          8.49,
          8.19,
          11.25,
          9.25,
          8.75,
          11.48,
          8.75,
          9.25,
          11.25,
          8.75,
          8.75,
          11.25,
          11.25,
          10.98,
          9.25,
          8.75,
          11.75,
          8.75,
          11.25,
          9.25,
          8.75,
          8.75,
          8.75,
          8.75,
          8.75,
          8.49,
          9.25,
          11.75,
          1.99,
          10.98,
          11.48,
          8.49,
          10.98,
          8.49,
          8.49,
          8.49,
          8.49,
          8.49,
          8.49,
          11.48,
          8.49,
          8.49,
          8.75,
          8.75,
          8.75,
          8.75,
          11.75,
          11.25,
          9.25,
          11.25,
          11.75,
          9.25,
          8.49,
          10.98,
          8.49,
          8.49,
          11.75,
          11.75,
          8.49,
          9.25,
          9.25,
          8.49,
          8.49,
          10.98,
          11.25,
          8.75,
          11.25,
          11.25,
          8.75,
          8.49,
          8.49,
          8.75,
          9.25,
          9.25,
          8.75,
          8.75,
          8.75,
          9.25,
          8.75,
          8.75,
          8.75,
          9.25,
          8.75,
          11.25,
          11.25,
          9.25,
          8.75,
          11.25,
          9.25,
          8.75,
          11.25,
          8.75,
          11.25,
          8.75,
          11.75,
          11.25,
          11.75,
          8.75,
          8.75,
          8.75,
          9.25,
          9.25,
          8.99,
          8.99,
          8.99,
          8.99,
          11.25,
          11.75,
          9.25,
          8.75,
          8.75,
          8.49,
          10.98,
          11.75,
          8.49,
          11.75,
          9.25,
          10.98,
          8.49,
          8.49,
          8.49,
          8.49,
          8.49,
          10.98,
          10.98,
          8.49,
          8.49,
          8.75,
          8.75,
          11.25,
          11.25,
          11.25,
          8.99,
          11.89,
          9.39,
          11.25,
          8.75,
          11.25,
          8.75,
          8.75,
          8.75,
          11.25,
          8.75,
          11.25,
          8.75,
          8.75,
          8.75,
          8.75,
          11.25,
          11.25,
          8.75,
          8.75,
          8.75,
          11.25,
          8.99,
          11.25,
          11.75,
          8.75,
          8.75,
          9.25,
          8.75,
          8.19,
          8.75,
          9.25,
          11.75,
          8.99,
          8.75,
          8.75,
          8.75,
          8.75,
          8.49,
          11.75,
          8.49,
          8.75,
          11.25,
          11.25,
          11.25,
          8.75,
          8.75,
          8.75,
          8.75,
          9.25,
          8.49,
          8.49,
          8.49,
          10.98,
          8.49,
          8.49,
          8.49,
          8.49,
          10.98,
          8.75,
          11.25,
          10.98,
          8.75,
          11.25,
          11.25,
          11.25,
          8.75,
          11.75,
          8.75,
          9.25,
          8.75,
          8.75,
          8.75,
          8.75,
          11.75,
          8.49,
          8.75,
          8.75,
          8.75,
          8.75,
          10.98,
          8.49,
          8.49,
          8.49,
          10.98,
          8.49,
          10.98,
          10.98,
          8.49,
          8.49,
          8.49,
          10.98,
          10.98,
          8.99,
          8.49,
          8.49,
          8.49,
          11.75,
          9.25,
          9.25,
          11.75,
          8.49,
          8.49,
          10.98,
          8.49,
          8.49,
          10.98,
          10.98,
          8.49,
          10.98,
          9.25,
          8.19,
          8.19,
          10.98,
          8.49,
          8.49,
          8.49,
          8.49,
          8.49,
          8.49,
          8.49,
          8.49,
          11.25
         ],
         "yaxis": "y"
        }
       ],
       "layout": {
        "font": {
         "color": "gray",
         "family": "Courier New",
         "size": 18
        },
        "height": 600,
        "legend": {
         "tracegroupgap": 0
        },
        "margin": {
         "t": 60
        },
        "template": {
         "data": {
          "bar": [
           {
            "error_x": {
             "color": "#2a3f5f"
            },
            "error_y": {
             "color": "#2a3f5f"
            },
            "marker": {
             "line": {
              "color": "#E5ECF6",
              "width": 0.5
             },
             "pattern": {
              "fillmode": "overlay",
              "size": 10,
              "solidity": 0.2
             }
            },
            "type": "bar"
           }
          ],
          "barpolar": [
           {
            "marker": {
             "line": {
              "color": "#E5ECF6",
              "width": 0.5
             },
             "pattern": {
              "fillmode": "overlay",
              "size": 10,
              "solidity": 0.2
             }
            },
            "type": "barpolar"
           }
          ],
          "carpet": [
           {
            "aaxis": {
             "endlinecolor": "#2a3f5f",
             "gridcolor": "white",
             "linecolor": "white",
             "minorgridcolor": "white",
             "startlinecolor": "#2a3f5f"
            },
            "baxis": {
             "endlinecolor": "#2a3f5f",
             "gridcolor": "white",
             "linecolor": "white",
             "minorgridcolor": "white",
             "startlinecolor": "#2a3f5f"
            },
            "type": "carpet"
           }
          ],
          "choropleth": [
           {
            "colorbar": {
             "outlinewidth": 0,
             "ticks": ""
            },
            "type": "choropleth"
           }
          ],
          "contour": [
           {
            "colorbar": {
             "outlinewidth": 0,
             "ticks": ""
            },
            "colorscale": [
             [
              0,
              "#0d0887"
             ],
             [
              0.1111111111111111,
              "#46039f"
             ],
             [
              0.2222222222222222,
              "#7201a8"
             ],
             [
              0.3333333333333333,
              "#9c179e"
             ],
             [
              0.4444444444444444,
              "#bd3786"
             ],
             [
              0.5555555555555556,
              "#d8576b"
             ],
             [
              0.6666666666666666,
              "#ed7953"
             ],
             [
              0.7777777777777778,
              "#fb9f3a"
             ],
             [
              0.8888888888888888,
              "#fdca26"
             ],
             [
              1,
              "#f0f921"
             ]
            ],
            "type": "contour"
           }
          ],
          "contourcarpet": [
           {
            "colorbar": {
             "outlinewidth": 0,
             "ticks": ""
            },
            "type": "contourcarpet"
           }
          ],
          "heatmap": [
           {
            "colorbar": {
             "outlinewidth": 0,
             "ticks": ""
            },
            "colorscale": [
             [
              0,
              "#0d0887"
             ],
             [
              0.1111111111111111,
              "#46039f"
             ],
             [
              0.2222222222222222,
              "#7201a8"
             ],
             [
              0.3333333333333333,
              "#9c179e"
             ],
             [
              0.4444444444444444,
              "#bd3786"
             ],
             [
              0.5555555555555556,
              "#d8576b"
             ],
             [
              0.6666666666666666,
              "#ed7953"
             ],
             [
              0.7777777777777778,
              "#fb9f3a"
             ],
             [
              0.8888888888888888,
              "#fdca26"
             ],
             [
              1,
              "#f0f921"
             ]
            ],
            "type": "heatmap"
           }
          ],
          "heatmapgl": [
           {
            "colorbar": {
             "outlinewidth": 0,
             "ticks": ""
            },
            "colorscale": [
             [
              0,
              "#0d0887"
             ],
             [
              0.1111111111111111,
              "#46039f"
             ],
             [
              0.2222222222222222,
              "#7201a8"
             ],
             [
              0.3333333333333333,
              "#9c179e"
             ],
             [
              0.4444444444444444,
              "#bd3786"
             ],
             [
              0.5555555555555556,
              "#d8576b"
             ],
             [
              0.6666666666666666,
              "#ed7953"
             ],
             [
              0.7777777777777778,
              "#fb9f3a"
             ],
             [
              0.8888888888888888,
              "#fdca26"
             ],
             [
              1,
              "#f0f921"
             ]
            ],
            "type": "heatmapgl"
           }
          ],
          "histogram": [
           {
            "marker": {
             "pattern": {
              "fillmode": "overlay",
              "size": 10,
              "solidity": 0.2
             }
            },
            "type": "histogram"
           }
          ],
          "histogram2d": [
           {
            "colorbar": {
             "outlinewidth": 0,
             "ticks": ""
            },
            "colorscale": [
             [
              0,
              "#0d0887"
             ],
             [
              0.1111111111111111,
              "#46039f"
             ],
             [
              0.2222222222222222,
              "#7201a8"
             ],
             [
              0.3333333333333333,
              "#9c179e"
             ],
             [
              0.4444444444444444,
              "#bd3786"
             ],
             [
              0.5555555555555556,
              "#d8576b"
             ],
             [
              0.6666666666666666,
              "#ed7953"
             ],
             [
              0.7777777777777778,
              "#fb9f3a"
             ],
             [
              0.8888888888888888,
              "#fdca26"
             ],
             [
              1,
              "#f0f921"
             ]
            ],
            "type": "histogram2d"
           }
          ],
          "histogram2dcontour": [
           {
            "colorbar": {
             "outlinewidth": 0,
             "ticks": ""
            },
            "colorscale": [
             [
              0,
              "#0d0887"
             ],
             [
              0.1111111111111111,
              "#46039f"
             ],
             [
              0.2222222222222222,
              "#7201a8"
             ],
             [
              0.3333333333333333,
              "#9c179e"
             ],
             [
              0.4444444444444444,
              "#bd3786"
             ],
             [
              0.5555555555555556,
              "#d8576b"
             ],
             [
              0.6666666666666666,
              "#ed7953"
             ],
             [
              0.7777777777777778,
              "#fb9f3a"
             ],
             [
              0.8888888888888888,
              "#fdca26"
             ],
             [
              1,
              "#f0f921"
             ]
            ],
            "type": "histogram2dcontour"
           }
          ],
          "mesh3d": [
           {
            "colorbar": {
             "outlinewidth": 0,
             "ticks": ""
            },
            "type": "mesh3d"
           }
          ],
          "parcoords": [
           {
            "line": {
             "colorbar": {
              "outlinewidth": 0,
              "ticks": ""
             }
            },
            "type": "parcoords"
           }
          ],
          "pie": [
           {
            "automargin": true,
            "type": "pie"
           }
          ],
          "scatter": [
           {
            "fillpattern": {
             "fillmode": "overlay",
             "size": 10,
             "solidity": 0.2
            },
            "type": "scatter"
           }
          ],
          "scatter3d": [
           {
            "line": {
             "colorbar": {
              "outlinewidth": 0,
              "ticks": ""
             }
            },
            "marker": {
             "colorbar": {
              "outlinewidth": 0,
              "ticks": ""
             }
            },
            "type": "scatter3d"
           }
          ],
          "scattercarpet": [
           {
            "marker": {
             "colorbar": {
              "outlinewidth": 0,
              "ticks": ""
             }
            },
            "type": "scattercarpet"
           }
          ],
          "scattergeo": [
           {
            "marker": {
             "colorbar": {
              "outlinewidth": 0,
              "ticks": ""
             }
            },
            "type": "scattergeo"
           }
          ],
          "scattergl": [
           {
            "marker": {
             "colorbar": {
              "outlinewidth": 0,
              "ticks": ""
             }
            },
            "type": "scattergl"
           }
          ],
          "scattermapbox": [
           {
            "marker": {
             "colorbar": {
              "outlinewidth": 0,
              "ticks": ""
             }
            },
            "type": "scattermapbox"
           }
          ],
          "scatterpolar": [
           {
            "marker": {
             "colorbar": {
              "outlinewidth": 0,
              "ticks": ""
             }
            },
            "type": "scatterpolar"
           }
          ],
          "scatterpolargl": [
           {
            "marker": {
             "colorbar": {
              "outlinewidth": 0,
              "ticks": ""
             }
            },
            "type": "scatterpolargl"
           }
          ],
          "scatterternary": [
           {
            "marker": {
             "colorbar": {
              "outlinewidth": 0,
              "ticks": ""
             }
            },
            "type": "scatterternary"
           }
          ],
          "surface": [
           {
            "colorbar": {
             "outlinewidth": 0,
             "ticks": ""
            },
            "colorscale": [
             [
              0,
              "#0d0887"
             ],
             [
              0.1111111111111111,
              "#46039f"
             ],
             [
              0.2222222222222222,
              "#7201a8"
             ],
             [
              0.3333333333333333,
              "#9c179e"
             ],
             [
              0.4444444444444444,
              "#bd3786"
             ],
             [
              0.5555555555555556,
              "#d8576b"
             ],
             [
              0.6666666666666666,
              "#ed7953"
             ],
             [
              0.7777777777777778,
              "#fb9f3a"
             ],
             [
              0.8888888888888888,
              "#fdca26"
             ],
             [
              1,
              "#f0f921"
             ]
            ],
            "type": "surface"
           }
          ],
          "table": [
           {
            "cells": {
             "fill": {
              "color": "#EBF0F8"
             },
             "line": {
              "color": "white"
             }
            },
            "header": {
             "fill": {
              "color": "#C8D4E3"
             },
             "line": {
              "color": "white"
             }
            },
            "type": "table"
           }
          ]
         },
         "layout": {
          "annotationdefaults": {
           "arrowcolor": "#2a3f5f",
           "arrowhead": 0,
           "arrowwidth": 1
          },
          "autotypenumbers": "strict",
          "coloraxis": {
           "colorbar": {
            "outlinewidth": 0,
            "ticks": ""
           }
          },
          "colorscale": {
           "diverging": [
            [
             0,
             "#8e0152"
            ],
            [
             0.1,
             "#c51b7d"
            ],
            [
             0.2,
             "#de77ae"
            ],
            [
             0.3,
             "#f1b6da"
            ],
            [
             0.4,
             "#fde0ef"
            ],
            [
             0.5,
             "#f7f7f7"
            ],
            [
             0.6,
             "#e6f5d0"
            ],
            [
             0.7,
             "#b8e186"
            ],
            [
             0.8,
             "#7fbc41"
            ],
            [
             0.9,
             "#4d9221"
            ],
            [
             1,
             "#276419"
            ]
           ],
           "sequential": [
            [
             0,
             "#0d0887"
            ],
            [
             0.1111111111111111,
             "#46039f"
            ],
            [
             0.2222222222222222,
             "#7201a8"
            ],
            [
             0.3333333333333333,
             "#9c179e"
            ],
            [
             0.4444444444444444,
             "#bd3786"
            ],
            [
             0.5555555555555556,
             "#d8576b"
            ],
            [
             0.6666666666666666,
             "#ed7953"
            ],
            [
             0.7777777777777778,
             "#fb9f3a"
            ],
            [
             0.8888888888888888,
             "#fdca26"
            ],
            [
             1,
             "#f0f921"
            ]
           ],
           "sequentialminus": [
            [
             0,
             "#0d0887"
            ],
            [
             0.1111111111111111,
             "#46039f"
            ],
            [
             0.2222222222222222,
             "#7201a8"
            ],
            [
             0.3333333333333333,
             "#9c179e"
            ],
            [
             0.4444444444444444,
             "#bd3786"
            ],
            [
             0.5555555555555556,
             "#d8576b"
            ],
            [
             0.6666666666666666,
             "#ed7953"
            ],
            [
             0.7777777777777778,
             "#fb9f3a"
            ],
            [
             0.8888888888888888,
             "#fdca26"
            ],
            [
             1,
             "#f0f921"
            ]
           ]
          },
          "colorway": [
           "#636efa",
           "#EF553B",
           "#00cc96",
           "#ab63fa",
           "#FFA15A",
           "#19d3f3",
           "#FF6692",
           "#B6E880",
           "#FF97FF",
           "#FECB52"
          ],
          "font": {
           "color": "#2a3f5f"
          },
          "geo": {
           "bgcolor": "white",
           "lakecolor": "white",
           "landcolor": "#E5ECF6",
           "showlakes": true,
           "showland": true,
           "subunitcolor": "white"
          },
          "hoverlabel": {
           "align": "left"
          },
          "hovermode": "closest",
          "mapbox": {
           "style": "light"
          },
          "paper_bgcolor": "white",
          "plot_bgcolor": "#E5ECF6",
          "polar": {
           "angularaxis": {
            "gridcolor": "white",
            "linecolor": "white",
            "ticks": ""
           },
           "bgcolor": "#E5ECF6",
           "radialaxis": {
            "gridcolor": "white",
            "linecolor": "white",
            "ticks": ""
           }
          },
          "scene": {
           "xaxis": {
            "backgroundcolor": "#E5ECF6",
            "gridcolor": "white",
            "gridwidth": 2,
            "linecolor": "white",
            "showbackground": true,
            "ticks": "",
            "zerolinecolor": "white"
           },
           "yaxis": {
            "backgroundcolor": "#E5ECF6",
            "gridcolor": "white",
            "gridwidth": 2,
            "linecolor": "white",
            "showbackground": true,
            "ticks": "",
            "zerolinecolor": "white"
           },
           "zaxis": {
            "backgroundcolor": "#E5ECF6",
            "gridcolor": "white",
            "gridwidth": 2,
            "linecolor": "white",
            "showbackground": true,
            "ticks": "",
            "zerolinecolor": "white"
           }
          },
          "shapedefaults": {
           "line": {
            "color": "#2a3f5f"
           }
          },
          "ternary": {
           "aaxis": {
            "gridcolor": "white",
            "linecolor": "white",
            "ticks": ""
           },
           "baxis": {
            "gridcolor": "white",
            "linecolor": "white",
            "ticks": ""
           },
           "bgcolor": "#E5ECF6",
           "caxis": {
            "gridcolor": "white",
            "linecolor": "white",
            "ticks": ""
           }
          },
          "title": {
           "x": 0.05
          },
          "xaxis": {
           "automargin": true,
           "gridcolor": "white",
           "linecolor": "white",
           "ticks": "",
           "title": {
            "standoff": 15
           },
           "zerolinecolor": "white",
           "zerolinewidth": 2
          },
          "yaxis": {
           "automargin": true,
           "gridcolor": "white",
           "linecolor": "white",
           "ticks": "",
           "title": {
            "standoff": 15
           },
           "zerolinecolor": "white",
           "zerolinewidth": 2
          }
         }
        },
        "title": {
         "font": {
          "size": 30
         },
         "text": "Nº de vezes pedido vs. Preço"
        },
        "xaxis": {
         "anchor": "y",
         "domain": [
          0,
          1
         ],
         "title": {
          "text": "Vezes que foi pedido"
         },
         "type": "log"
        },
        "yaxis": {
         "anchor": "x",
         "domain": [
          0,
          1
         ],
         "title": {
          "text": "Preço (R$)"
         }
        }
       }
      }
     },
     "metadata": {},
     "output_type": "display_data"
    }
   ],
   "source": [
    "fig = px.scatter(table_aux, x='quantity', y='unit_price', hover_data='name_description')\n",
    "\n",
    "fig.update_layout(\n",
    "    title='Nº de vezes pedido vs. Preço', \n",
    "    yaxis_title='Preço (R$)',\n",
    "    xaxis_title='Vezes que foi pedido',\n",
    "    font={'color':'gray', 'size':18, 'family':'Courier New'},\n",
    "    title_font={'size':30},\n",
    "    height=600,\n",
    ")\n",
    "\n",
    "fig.update_xaxes(type='log')\n",
    "\n",
    "fig.update_traces(\n",
    "    hovertemplate='%{customdata[0]}<br>Vezes pedido: %{x}<br>Preço por unidade: R$%{y}',  # Personalize os nomes das colunas aqui\n",
    ")\n",
    "fig.show()"
   ]
  },
  {
   "cell_type": "markdown",
   "metadata": {},
   "source": [
    "### s)Baseado no gráfico gerado, os dois eixos estão correlacionados? Justifique.\n"
   ]
  },
  {
   "cell_type": "markdown",
   "metadata": {},
   "source": [
    "É possível observar que quanto menor o preço os produtos tendem a ser mais pedidos."
   ]
  },
  {
   "cell_type": "code",
   "execution_count": null,
   "metadata": {},
   "outputs": [],
   "source": []
  }
 ],
 "metadata": {
  "kernelspec": {
   "display_name": "Python 3 (ipykernel)",
   "language": "python",
   "name": "python3"
  },
  "language_info": {
   "codemirror_mode": {
    "name": "ipython",
    "version": 3
   },
   "file_extension": ".py",
   "mimetype": "text/x-python",
   "name": "python",
   "nbconvert_exporter": "python",
   "pygments_lexer": "ipython3",
   "version": "3.11.4"
  }
 },
 "nbformat": 4,
 "nbformat_minor": 2
}
